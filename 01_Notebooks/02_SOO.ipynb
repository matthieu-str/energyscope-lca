{
 "cells": [
  {
   "metadata": {},
   "cell_type": "markdown",
   "source": "# Single Objective Optimization runs of EnergyScope-LCA",
   "id": "a271c944c3b9f31d"
  },
  {
   "metadata": {
    "ExecuteTime": {
     "end_time": "2025-01-27T17:58:14.669271Z",
     "start_time": "2025-01-27T17:58:14.583196Z"
    }
   },
   "cell_type": "code",
   "source": [
    "%load_ext autoreload\n",
    "%autoreload 2"
   ],
   "id": "901e2f6abf207e4e",
   "outputs": [],
   "execution_count": 1
  },
  {
   "metadata": {
    "ExecuteTime": {
     "end_time": "2025-01-27T17:58:16.579360Z",
     "start_time": "2025-01-27T17:58:14.670407Z"
    }
   },
   "cell_type": "code",
   "source": [
    "import os\n",
    "from energyscope.models import Model\n",
    "from energyscope.energyscope import Energyscope\n",
    "from energyscope.result import postprocessing\n",
    "from utils import *\n",
    "from new_plots import plot_sankey\n",
    "import matplotlib.pyplot as plt\n",
    "import plotly.graph_objects as go\n",
    "import plotly.express as px"
   ],
   "id": "1f5da0d483c126fb",
   "outputs": [],
   "execution_count": 2
  },
  {
   "metadata": {
    "ExecuteTime": {
     "end_time": "2025-01-27T18:09:33.712529Z",
     "start_time": "2025-01-27T18:09:33.478853Z"
    }
   },
   "cell_type": "code",
   "source": "save_results = False",
   "id": "fce66f08cb92e5d4",
   "outputs": [],
   "execution_count": 39
  },
  {
   "metadata": {
    "ExecuteTime": {
     "end_time": "2025-01-27T17:58:16.787138Z",
     "start_time": "2025-01-27T17:58:16.685657Z"
    }
   },
   "cell_type": "code",
   "source": "N_capita_2050 = 9.9e6 # estimated number of inhabitants in Quebec in 2050 (https://statistique.quebec.ca/fr/document/projections-de-population-le-quebec/publication/population-observee-projetee-scenario)",
   "id": "dc1096f0cdfdf7b9",
   "outputs": [],
   "execution_count": 4
  },
  {
   "metadata": {
    "ExecuteTime": {
     "end_time": "2025-01-27T17:58:16.884522Z",
     "start_time": "2025-01-27T17:58:16.788179Z"
    }
   },
   "cell_type": "code",
   "source": "N_capita_2021 = 8.57e6 # observed number of people in Quebec in 2021 (https://statistique.quebec.ca/fr/document/projections-de-population-le-quebec/publication/population-observee-projetee-scenario)",
   "id": "fca769c6345d97d2",
   "outputs": [],
   "execution_count": 5
  },
  {
   "metadata": {
    "ExecuteTime": {
     "end_time": "2025-01-27T17:58:16.980235Z",
     "start_time": "2025-01-27T17:58:16.885587Z"
    }
   },
   "cell_type": "code",
   "source": [
    "path_inputs = '../01_Notebooks/Data/'\n",
    "path_model = '../02_Model/'\n",
    "path_results = '../03_Results/LCA/'"
   ],
   "id": "9b93c6a4d5b6f60d",
   "outputs": [],
   "execution_count": 6
  },
  {
   "metadata": {
    "ExecuteTime": {
     "end_time": "2025-01-27T17:58:17.075650Z",
     "start_time": "2025-01-27T17:58:16.981254Z"
    }
   },
   "cell_type": "code",
   "source": [
    "# AMPL licence \n",
    "path_to_ampl_licence = r'C:\\Users\\matth\\ampl' # path to your AMPL licence file\n",
    "os.environ['PATH'] = path_to_ampl_licence+':'+os.environ['PATH']"
   ],
   "id": "7b1bdeb5af38221e",
   "outputs": [],
   "execution_count": 7
  },
  {
   "metadata": {
    "ExecuteTime": {
     "end_time": "2025-01-27T17:58:17.390434Z",
     "start_time": "2025-01-27T17:58:17.077179Z"
    }
   },
   "cell_type": "code",
   "source": [
    "res_lcia_max_2020 = pd.read_csv(path_model+'QC_techs_lca_2020_max.csv')\n",
    "impact_scores_2020 = pd.read_csv(path_results+'2020/impact_scores.csv')\n",
    "impact_scores_2020_direct = pd.read_csv(path_results+'2020/impact_scores_direct_emissions.csv')\n",
    "res_lcia_max_2050 = pd.read_csv(path_model+'QC_techs_lca_2050_max.csv')\n",
    "impact_scores_2050 = pd.read_csv(path_results+'2050/impact_scores.csv')\n",
    "impact_scores_2050_direct = pd.read_csv(path_results+'2050/impact_scores_direct_emissions.csv')"
   ],
   "id": "d9f046018134c9c8",
   "outputs": [],
   "execution_count": 8
  },
  {
   "metadata": {
    "ExecuteTime": {
     "end_time": "2025-01-27T17:58:17.493151Z",
     "start_time": "2025-01-27T17:58:17.391502Z"
    }
   },
   "cell_type": "code",
   "source": [
    "# from [impact / kW(h) or pkm(/h) or tkm(/h)] to [impact / GW(h) or Mpkm(/h) or Mtkm(/h)]\n",
    "impact_scores_2020.Value = impact_scores_2020.Value * 1e6 \n",
    "impact_scores_2050.Value = impact_scores_2050.Value * 1e6\n",
    "impact_scores_2020_direct.Value = impact_scores_2020_direct.Value * 1e6 \n",
    "impact_scores_2050_direct.Value = impact_scores_2050_direct.Value * 1e6"
   ],
   "id": "21a48c41586fca9c",
   "outputs": [],
   "execution_count": 9
  },
  {
   "metadata": {
    "ExecuteTime": {
     "end_time": "2025-01-27T17:58:17.586531Z",
     "start_time": "2025-01-27T17:58:17.494165Z"
    }
   },
   "cell_type": "code",
   "source": [
    "# Define the solver options\n",
    "# solver_options = {\n",
    "#     'solver': 'cplex',\n",
    "#     'presolve_eps': 5e-9,\n",
    "#     'presolve_fixeps': 7e-10,\n",
    "#     'mipgap': 1e-10,\n",
    "#     'display_eps': 1e-10,\n",
    "#     'omit_zero_rows': 1,\n",
    "#     'omit_zero_cols': 1,\n",
    "#     'show_stats': 1,\n",
    "#     'solver_msg': 1,\n",
    "#     'cplex_options': 'integrality=5e-7'\n",
    "# }\n",
    "\n",
    "# Define the solver options\n",
    "solver_options = {\n",
    "    'solver': 'gurobi',\n",
    "    'solver_msg': 0,\n",
    "}"
   ],
   "id": "29098a54f5ea636e",
   "outputs": [],
   "execution_count": 10
  },
  {
   "metadata": {
    "ExecuteTime": {
     "end_time": "2025-01-27T17:58:17.711510Z",
     "start_time": "2025-01-27T17:58:17.588549Z"
    }
   },
   "cell_type": "code",
   "source": [
    "def run_model(validation=False, year=2050):\n",
    "    \n",
    "    mod_files=[\n",
    "        path_model + 'QC_es_main.mod',\n",
    "        path_model + f'QC_objectives_lca_{year}.mod',\n",
    "        path_model + 'QC_objective_function.mod',\n",
    "    ]\n",
    "    \n",
    "    dat_files=[\n",
    "        path_model + f'QC_data_{year}.dat',\n",
    "        path_model + f'QC_mob_techs_dist_B2D_{year}.dat',\n",
    "        path_model + f'QC_techs_B2D_{year}.dat',\n",
    "        path_model + f'QC_mob_params_{year}.dat',\n",
    "        path_model + f'QC_techs_lca_{year}.dat',\n",
    "    ]\n",
    "    \n",
    "    if validation:\n",
    "        dat_files.append(path_model + 'QC_validation.dat')\n",
    "    else:\n",
    "        dat_files.append(path_model + 'QC_scenarios.dat')\n",
    "    \n",
    "    # Initialize the QC model with .mod and .dat files\n",
    "    model = Model(mod_files=mod_files, dat_files=dat_files)\n",
    "    \n",
    "    # Initialize the EnergyScope model\n",
    "    es = Energyscope(model=model, solver_options=solver_options)\n",
    "    \n",
    "    # Solve the model and get results\n",
    "    res = postprocessing(es.calc())\n",
    "    \n",
    "    return res"
   ],
   "id": "3f09960d84746b42",
   "outputs": [],
   "execution_count": 11
  },
  {
   "metadata": {},
   "cell_type": "markdown",
   "source": "## Runs and results",
   "id": "c0d53398ac7143df"
  },
  {
   "metadata": {
    "ExecuteTime": {
     "end_time": "2025-01-27T17:58:52.234929Z",
     "start_time": "2025-01-27T17:58:17.716914Z"
    }
   },
   "cell_type": "code",
   "source": [
    "list_results = []\n",
    "\n",
    "for soo in ['Reference', 'TotalCost', 'TotalLCIA_m_CCS', 'TotalLCIA_TTHH', 'TotalLCIA_TTEQ']:\n",
    "    \n",
    "    if soo == 'Reference':\n",
    "        obj = 'TotalCost'\n",
    "        year = 2020\n",
    "        validation = True\n",
    "        impact_scores = impact_scores_2020\n",
    "        impact_scores_direct = impact_scores_2020_direct\n",
    "        N_capita = N_capita_2021\n",
    "    else:\n",
    "        obj = soo\n",
    "        year = 2050\n",
    "        validation = False\n",
    "        impact_scores = impact_scores_2050\n",
    "        impact_scores_direct = impact_scores_2050_direct\n",
    "        N_capita = N_capita_2050\n",
    "    \n",
    "    with open(path_model + 'QC_objective_function.mod', 'w') as f:\n",
    "        f.write(f'minimize obj: {obj};')\n",
    "    results = run_model(year=year, validation=validation)\n",
    "    \n",
    "    print(f\"\\n##### OBJECTIVE FUNCTION - {soo} #####\")\n",
    "    df_f_mult, df_annual_prod, df_annual_res = get_impact_scores(\n",
    "        impact_category=[\n",
    "            ('IMPACT World+ Midpoint 2.1_regionalized for ecoinvent v3.10', 'Midpoint', 'Climate change, short term'),\n",
    "            ('IMPACT World+ Damage 2.1_regionalized for ecoinvent v3.10', 'Ecosystem quality', 'Total ecosystem quality'),\n",
    "            ('IMPACT World+ Damage 2.1_regionalized for ecoinvent v3.10', 'Human health', 'Total human health'),\n",
    "        ],\n",
    "        df_impact_scores=impact_scores,\n",
    "        df_results=results,\n",
    "    )\n",
    "    \n",
    "    df_annual_prod_direct  = get_impact_scores(\n",
    "        impact_category=[\n",
    "            ('IMPACT World+ Midpoint 2.1_regionalized for ecoinvent v3.10', 'Midpoint', 'Climate change, short term'),\n",
    "            ('IMPACT World+ Damage 2.1_regionalized for ecoinvent v3.10', 'Ecosystem quality', 'Total ecosystem quality'),\n",
    "            ('IMPACT World+ Damage 2.1_regionalized for ecoinvent v3.10', 'Human health', 'Total human health'),\n",
    "        ],\n",
    "        df_impact_scores=impact_scores_direct,\n",
    "        df_results=results,\n",
    "        assessment_type='direct emissions',\n",
    "    )\n",
    "    \n",
    "    print('\\n##### TOTAL COST #####')\n",
    "    tc, mc, oc, ic = get_life_cycle_phase_cost_per_capita(\n",
    "        df_results=results,\n",
    "        N_capita=N_capita,\n",
    "    )\n",
    "    \n",
    "    print('\\n##### CLIMATE CHANGE, SHORT TERM #####')\n",
    "    ccst_tot, ccst_op, ccst_constr, ccst_res, ccst_direct = get_life_cycle_phase_impact_per_capita(\n",
    "        df_f_mult=df_f_mult,\n",
    "        df_annual_prod=df_annual_prod,\n",
    "        df_annual_res=df_annual_res,\n",
    "        df_annual_prod_direct=df_annual_prod_direct,\n",
    "        impact_category='Climate change, short term',\n",
    "        N_capita=N_capita,\n",
    "    )\n",
    "    \n",
    "    print('\\n##### DIRECT CARBON EMISSIONS #####')\n",
    "    tgwp = results.variables['TotalGWP'].TotalGWP.iloc[0] * 1e3 / N_capita  # [t CO2 / cap]\n",
    "    print(f\"Total GWP per capita from EnergyScope's carbon layers: {tgwp:.2f} t CO2 / capita\")\n",
    "    print(f\"Total GWP per capita from direct emissions: {ccst_direct:.2f} t CO2-eq / capita\")\n",
    "    \n",
    "    print('\\n##### HUMAN HEALTH #####')\n",
    "    tthh_tot, tthh_op, tthh_constr, tthh_res, tthh_direct = get_life_cycle_phase_impact_per_capita(\n",
    "        df_f_mult=df_f_mult,\n",
    "        df_annual_prod=df_annual_prod,\n",
    "        df_annual_res=df_annual_res,\n",
    "        df_annual_prod_direct=df_annual_prod_direct,\n",
    "        impact_category='Total human health',\n",
    "        N_capita=N_capita,\n",
    "    )\n",
    "    \n",
    "    print('\\n##### ECOSYSTEM QUALITY #####')\n",
    "    tteq_tot, tteq_op, tteq_constr, tteq_res, tteq_direct = get_life_cycle_phase_impact_per_capita(\n",
    "        df_f_mult=df_f_mult,\n",
    "        df_annual_prod=df_annual_prod,\n",
    "        df_annual_res=df_annual_res,\n",
    "        df_annual_prod_direct=df_annual_prod_direct,\n",
    "        impact_category='Total ecosystem quality',\n",
    "        N_capita=N_capita,\n",
    "    )\n",
    "    \n",
    "    # result tables\n",
    "    results_name = soo.replace('Total','').lower()\n",
    "    df_annual_prod_contrib = get_contribution_df(df_annual_prod, ['Climate change, short term', 'Total human health', 'Total ecosystem quality'])\n",
    "    df_annual_res_contrib = get_contribution_df(df_annual_res, ['Climate change, short term', 'Total human health', 'Total ecosystem quality'])\n",
    "    df_f_mult_contrib = get_contribution_df(df_f_mult, ['Climate change, short term', 'Total human health', 'Total ecosystem quality'])\n",
    "    \n",
    "    if save_results:\n",
    "        df_annual_prod_contrib.to_csv(f'../03_Results/Tables/soo_{results_name}/annual_production_contributions.csv', index=False)\n",
    "        df_annual_res_contrib.to_csv(f'../03_Results/Tables/soo_{results_name}/annual_resource_contributions.csv', index=False)\n",
    "        df_f_mult_contrib.to_csv(f'../03_Results/Tables/soo_{results_name}/installed_capacities_contributions.csv', index=False)\n",
    "    \n",
    "    # sankey \n",
    "    fig = plot_sankey(results)\n",
    "    \n",
    "    if save_results:\n",
    "        fig.write_html(f'../03_Results/Figures/soo_sankey_{results_name}.html')\n",
    "    \n",
    "    # save results in list\n",
    "    list_results.extend([\n",
    "        [soo, 'Total cost [CAD/cap]', tc, mc, ic, oc, None],\n",
    "        [soo, 'Climate change (short term) [t CO2-eq/cap]', ccst_tot, ccst_op, ccst_constr, ccst_res, ccst_direct],\n",
    "        [soo, 'Total human health [DALY/cap]', tthh_tot, tthh_op, tthh_constr, tthh_res, tthh_direct],\n",
    "        [soo, 'Total ecosystem quality [PDF.m2.yr/cap]', tteq_tot, tteq_op, tteq_constr, tteq_res, tteq_direct],\n",
    "    ])\n",
    "\n",
    "columns = ['Objective function', 'Metric', 'Total', 'Operation', 'Construction', 'Resources', 'Direct emissions (included in operation)']\n",
    "df_results = pd.DataFrame(data=list_results, columns=columns)"
   ],
   "id": "41139db3aca6c195",
   "outputs": [
    {
     "name": "stdout",
     "output_type": "stream",
     "text": [
      "Gurobi 12.0.0: \n",
      "##### OBJECTIVE FUNCTION - Reference #####\n",
      "\n",
      "##### TOTAL COST #####\n",
      "Total cost: 8772 CAD / cap / year\n",
      "Maintenance cost ratio: 23.799 %\n",
      "Operation cost ratio: 30.973 %\n",
      "Annualized investment cost ratio: 45.228 %\n",
      "\n",
      "##### CLIMATE CHANGE, SHORT TERM #####\n",
      "Life-cycle carbon footprint per capita: 10.39 t CO2-eq / capita\n",
      "Percentage due to operation: 68.484 %\n",
      "Including direct emissions: 52.199 %\n",
      "Percentage due to construction: 9.417 %\n",
      "Percentage due to resource: 22.098 %\n",
      "\n",
      "##### DIRECT CARBON EMISSIONS #####\n",
      "Total GWP per capita from EnergyScope's carbon layers: 7.66 t CO2 / capita\n",
      "Total GWP per capita from direct emissions: 5.42 t CO2-eq / capita\n",
      "\n",
      "##### HUMAN HEALTH #####\n",
      "Life-cycle carbon footprint per capita: 0.127 DALY / capita\n",
      "Percentage due to operation: 79.382 %\n",
      "Including direct emissions: 67.506 %\n",
      "Percentage due to construction: 6.954 %\n",
      "Percentage due to resource: 13.664 %\n",
      "\n",
      "##### ECOSYSTEM QUALITY #####\n",
      "Life-cycle carbon footprint per capita: 10010.906 PDF.m2.yr / capita\n",
      "Percentage due to operation: 64.414 %\n",
      "Including direct emissions: 47.152 %\n",
      "Percentage due to construction: 11.365 %\n",
      "Percentage due to resource: 24.221 %\n",
      "Gurobi 12.0.0: \n",
      "##### OBJECTIVE FUNCTION - TotalCost #####\n",
      "\n",
      "##### TOTAL COST #####\n",
      "Total cost: 4724 CAD / cap / year\n",
      "Maintenance cost ratio: 28.443 %\n",
      "Operation cost ratio: 3.06 %\n",
      "Annualized investment cost ratio: 68.497 %\n",
      "\n",
      "##### CLIMATE CHANGE, SHORT TERM #####\n",
      "Life-cycle carbon footprint per capita: 5.058 t CO2-eq / capita\n",
      "Percentage due to operation: 57.511 %\n",
      "Including direct emissions: 27.325 %\n",
      "Percentage due to construction: 30.682 %\n",
      "Percentage due to resource: 11.807 %\n",
      "\n",
      "##### DIRECT CARBON EMISSIONS #####\n",
      "Total GWP per capita from EnergyScope's carbon layers: 0.00 t CO2 / capita\n",
      "Total GWP per capita from direct emissions: 1.38 t CO2-eq / capita\n",
      "\n",
      "##### HUMAN HEALTH #####\n",
      "Life-cycle carbon footprint per capita: 0.044 DALY / capita\n",
      "Percentage due to operation: 60.361 %\n",
      "Including direct emissions: 29.383 %\n",
      "Percentage due to construction: 31.167 %\n",
      "Percentage due to resource: 8.472 %\n",
      "\n",
      "##### ECOSYSTEM QUALITY #####\n",
      "Life-cycle carbon footprint per capita: 6680.135 PDF.m2.yr / capita\n",
      "Percentage due to operation: 51.555 %\n",
      "Including direct emissions: 18.17 %\n",
      "Percentage due to construction: 28.032 %\n",
      "Percentage due to resource: 20.413 %\n",
      "Gurobi 12.0.0: \n",
      "##### OBJECTIVE FUNCTION - TotalLCIA_m_CCS #####\n",
      "\n",
      "##### TOTAL COST #####\n",
      "Total cost: 8453 CAD / cap / year\n",
      "Maintenance cost ratio: 20.49 %\n",
      "Operation cost ratio: 4.384 %\n",
      "Annualized investment cost ratio: 75.126 %\n",
      "\n",
      "##### CLIMATE CHANGE, SHORT TERM #####\n",
      "Life-cycle carbon footprint per capita: 2.121 t CO2-eq / capita\n",
      "Percentage due to operation: 51.541 %\n",
      "Including direct emissions: 22.153 %\n",
      "Percentage due to construction: 43.786 %\n",
      "Percentage due to resource: 4.673 %\n",
      "\n",
      "##### DIRECT CARBON EMISSIONS #####\n",
      "Total GWP per capita from EnergyScope's carbon layers: 0.00 t CO2 / capita\n",
      "Total GWP per capita from direct emissions: 0.47 t CO2-eq / capita\n",
      "\n",
      "##### HUMAN HEALTH #####\n",
      "Life-cycle carbon footprint per capita: 0.023 DALY / capita\n",
      "Percentage due to operation: 56.409 %\n",
      "Including direct emissions: 31.583 %\n",
      "Percentage due to construction: 38.191 %\n",
      "Percentage due to resource: 5.399 %\n",
      "\n",
      "##### ECOSYSTEM QUALITY #####\n",
      "Life-cycle carbon footprint per capita: 2711.972 PDF.m2.yr / capita\n",
      "Percentage due to operation: 42.293 %\n",
      "Including direct emissions: 13.9 %\n",
      "Percentage due to construction: 41.583 %\n",
      "Percentage due to resource: 16.124 %\n",
      "Gurobi 12.0.0: \n",
      "##### OBJECTIVE FUNCTION - TotalLCIA_TTHH #####\n",
      "\n",
      "##### TOTAL COST #####\n",
      "Total cost: 7528 CAD / cap / year\n",
      "Maintenance cost ratio: 20.297 %\n",
      "Operation cost ratio: 2.418 %\n",
      "Annualized investment cost ratio: 77.285 %\n",
      "\n",
      "##### CLIMATE CHANGE, SHORT TERM #####\n",
      "Life-cycle carbon footprint per capita: 2.207 t CO2-eq / capita\n",
      "Percentage due to operation: 53.466 %\n",
      "Including direct emissions: 25.748 %\n",
      "Percentage due to construction: 44.473 %\n",
      "Percentage due to resource: 2.061 %\n",
      "\n",
      "##### DIRECT CARBON EMISSIONS #####\n",
      "Total GWP per capita from EnergyScope's carbon layers: 0.00 t CO2 / capita\n",
      "Total GWP per capita from direct emissions: 0.57 t CO2-eq / capita\n",
      "\n",
      "##### HUMAN HEALTH #####\n",
      "Life-cycle carbon footprint per capita: 0.023 DALY / capita\n",
      "Percentage due to operation: 57.414 %\n",
      "Including direct emissions: 32.892 %\n",
      "Percentage due to construction: 40.759 %\n",
      "Percentage due to resource: 1.827 %\n",
      "\n",
      "##### ECOSYSTEM QUALITY #####\n",
      "Life-cycle carbon footprint per capita: 2415.579 PDF.m2.yr / capita\n",
      "Percentage due to operation: 47.634 %\n",
      "Including direct emissions: 16.316 %\n",
      "Percentage due to construction: 49.563 %\n",
      "Percentage due to resource: 2.803 %\n",
      "Gurobi 12.0.0: \n",
      "##### OBJECTIVE FUNCTION - TotalLCIA_TTEQ #####\n",
      "\n",
      "##### TOTAL COST #####\n",
      "Total cost: 18474 CAD / cap / year\n",
      "Maintenance cost ratio: 8.248 %\n",
      "Operation cost ratio: 0.993 %\n",
      "Annualized investment cost ratio: 90.759 %\n",
      "\n",
      "##### CLIMATE CHANGE, SHORT TERM #####\n",
      "Life-cycle carbon footprint per capita: 2.221 t CO2-eq / capita\n",
      "Percentage due to operation: 53.887 %\n",
      "Including direct emissions: 26.332 %\n",
      "Percentage due to construction: 44.052 %\n",
      "Percentage due to resource: 2.061 %\n",
      "\n",
      "##### DIRECT CARBON EMISSIONS #####\n",
      "Total GWP per capita from EnergyScope's carbon layers: 0.00 t CO2 / capita\n",
      "Total GWP per capita from direct emissions: 0.58 t CO2-eq / capita\n",
      "\n",
      "##### HUMAN HEALTH #####\n",
      "Life-cycle carbon footprint per capita: 0.023 DALY / capita\n",
      "Percentage due to operation: 57.602 %\n",
      "Including direct emissions: 33.083 %\n",
      "Percentage due to construction: 40.548 %\n",
      "Percentage due to resource: 1.85 %\n",
      "\n",
      "##### ECOSYSTEM QUALITY #####\n",
      "Life-cycle carbon footprint per capita: 2412.455 PDF.m2.yr / capita\n",
      "Percentage due to operation: 47.806 %\n",
      "Including direct emissions: 16.462 %\n",
      "Percentage due to construction: 49.346 %\n",
      "Percentage due to resource: 2.848 %\n"
     ]
    }
   ],
   "execution_count": 12
  },
  {
   "metadata": {},
   "cell_type": "markdown",
   "source": "## Summary tables",
   "id": "ea45720d2280e542"
  },
  {
   "metadata": {
    "ExecuteTime": {
     "end_time": "2025-01-27T17:58:52.342770Z",
     "start_time": "2025-01-27T17:58:52.236947Z"
    }
   },
   "cell_type": "code",
   "source": "df_results",
   "id": "71b66370378ab074",
   "outputs": [
    {
     "data": {
      "text/plain": [
       "   Objective function                                      Metric  \\\n",
       "0           Reference                        Total cost [CAD/cap]   \n",
       "1           Reference  Climate change (short term) [t CO2-eq/cap]   \n",
       "2           Reference               Total human health [DALY/cap]   \n",
       "3           Reference     Total ecosystem quality [PDF.m2.yr/cap]   \n",
       "4           TotalCost                        Total cost [CAD/cap]   \n",
       "5           TotalCost  Climate change (short term) [t CO2-eq/cap]   \n",
       "6           TotalCost               Total human health [DALY/cap]   \n",
       "7           TotalCost     Total ecosystem quality [PDF.m2.yr/cap]   \n",
       "8     TotalLCIA_m_CCS                        Total cost [CAD/cap]   \n",
       "9     TotalLCIA_m_CCS  Climate change (short term) [t CO2-eq/cap]   \n",
       "10    TotalLCIA_m_CCS               Total human health [DALY/cap]   \n",
       "11    TotalLCIA_m_CCS     Total ecosystem quality [PDF.m2.yr/cap]   \n",
       "12     TotalLCIA_TTHH                        Total cost [CAD/cap]   \n",
       "13     TotalLCIA_TTHH  Climate change (short term) [t CO2-eq/cap]   \n",
       "14     TotalLCIA_TTHH               Total human health [DALY/cap]   \n",
       "15     TotalLCIA_TTHH     Total ecosystem quality [PDF.m2.yr/cap]   \n",
       "16     TotalLCIA_TTEQ                        Total cost [CAD/cap]   \n",
       "17     TotalLCIA_TTEQ  Climate change (short term) [t CO2-eq/cap]   \n",
       "18     TotalLCIA_TTEQ               Total human health [DALY/cap]   \n",
       "19     TotalLCIA_TTEQ     Total ecosystem quality [PDF.m2.yr/cap]   \n",
       "\n",
       "           Total    Operation  Construction    Resources  \\\n",
       "0    8772.114246  2087.685619   3967.410249  2717.018378   \n",
       "1      10.389527     7.115201      0.978403     2.295924   \n",
       "2       0.127331     0.101078      0.008855     0.017398   \n",
       "3   10010.905792  6448.398962   1137.737133  2424.769697   \n",
       "4    4724.570034  1343.801609   3236.189437   144.578989   \n",
       "5       5.057678     2.908715      1.551803     0.597160   \n",
       "6       0.044177     0.026666      0.013769     0.003743   \n",
       "7    6680.135212  3443.953206   1872.581920  1363.600087   \n",
       "8    8453.818395  1732.160733   6351.033460   370.624202   \n",
       "9       2.121231     1.093305      0.928801     0.099125   \n",
       "10      0.023245     0.013112      0.008877     0.001255   \n",
       "11   2711.971988  1146.975413   1127.719916   437.276660   \n",
       "12   7528.542717  1528.062811   5818.412506   182.067400   \n",
       "13      2.206827     1.179905      0.981438     0.045483   \n",
       "14      0.022928     0.013164      0.009346     0.000419   \n",
       "15   2415.578896  1150.639346   1197.229333    67.710218   \n",
       "16  18474.052289  1523.829302  16766.775537   183.447450   \n",
       "17      2.220761     1.196700      0.978295     0.045767   \n",
       "18      0.022939     0.013213      0.009301     0.000424   \n",
       "19   2412.455463  1153.306256   1190.448297    68.700910   \n",
       "\n",
       "    Direct emissions (included in operation)  \n",
       "0                                        NaN  \n",
       "1                                   5.423179  \n",
       "2                                   0.085956  \n",
       "3                                4720.381064  \n",
       "4                                        NaN  \n",
       "5                                   1.382027  \n",
       "6                                   0.012981  \n",
       "7                                1213.767725  \n",
       "8                                        NaN  \n",
       "9                                   0.469908  \n",
       "10                                  0.007341  \n",
       "11                                376.960896  \n",
       "12                                       NaN  \n",
       "13                                  0.568204  \n",
       "14                                  0.007542  \n",
       "15                                394.122063  \n",
       "16                                       NaN  \n",
       "17                                  0.584779  \n",
       "18                                  0.007589  \n",
       "19                                397.131083  "
      ],
      "text/html": [
       "<div>\n",
       "<style scoped>\n",
       "    .dataframe tbody tr th:only-of-type {\n",
       "        vertical-align: middle;\n",
       "    }\n",
       "\n",
       "    .dataframe tbody tr th {\n",
       "        vertical-align: top;\n",
       "    }\n",
       "\n",
       "    .dataframe thead th {\n",
       "        text-align: right;\n",
       "    }\n",
       "</style>\n",
       "<table border=\"1\" class=\"dataframe\">\n",
       "  <thead>\n",
       "    <tr style=\"text-align: right;\">\n",
       "      <th></th>\n",
       "      <th>Objective function</th>\n",
       "      <th>Metric</th>\n",
       "      <th>Total</th>\n",
       "      <th>Operation</th>\n",
       "      <th>Construction</th>\n",
       "      <th>Resources</th>\n",
       "      <th>Direct emissions (included in operation)</th>\n",
       "    </tr>\n",
       "  </thead>\n",
       "  <tbody>\n",
       "    <tr>\n",
       "      <th>0</th>\n",
       "      <td>Reference</td>\n",
       "      <td>Total cost [CAD/cap]</td>\n",
       "      <td>8772.114246</td>\n",
       "      <td>2087.685619</td>\n",
       "      <td>3967.410249</td>\n",
       "      <td>2717.018378</td>\n",
       "      <td>NaN</td>\n",
       "    </tr>\n",
       "    <tr>\n",
       "      <th>1</th>\n",
       "      <td>Reference</td>\n",
       "      <td>Climate change (short term) [t CO2-eq/cap]</td>\n",
       "      <td>10.389527</td>\n",
       "      <td>7.115201</td>\n",
       "      <td>0.978403</td>\n",
       "      <td>2.295924</td>\n",
       "      <td>5.423179</td>\n",
       "    </tr>\n",
       "    <tr>\n",
       "      <th>2</th>\n",
       "      <td>Reference</td>\n",
       "      <td>Total human health [DALY/cap]</td>\n",
       "      <td>0.127331</td>\n",
       "      <td>0.101078</td>\n",
       "      <td>0.008855</td>\n",
       "      <td>0.017398</td>\n",
       "      <td>0.085956</td>\n",
       "    </tr>\n",
       "    <tr>\n",
       "      <th>3</th>\n",
       "      <td>Reference</td>\n",
       "      <td>Total ecosystem quality [PDF.m2.yr/cap]</td>\n",
       "      <td>10010.905792</td>\n",
       "      <td>6448.398962</td>\n",
       "      <td>1137.737133</td>\n",
       "      <td>2424.769697</td>\n",
       "      <td>4720.381064</td>\n",
       "    </tr>\n",
       "    <tr>\n",
       "      <th>4</th>\n",
       "      <td>TotalCost</td>\n",
       "      <td>Total cost [CAD/cap]</td>\n",
       "      <td>4724.570034</td>\n",
       "      <td>1343.801609</td>\n",
       "      <td>3236.189437</td>\n",
       "      <td>144.578989</td>\n",
       "      <td>NaN</td>\n",
       "    </tr>\n",
       "    <tr>\n",
       "      <th>5</th>\n",
       "      <td>TotalCost</td>\n",
       "      <td>Climate change (short term) [t CO2-eq/cap]</td>\n",
       "      <td>5.057678</td>\n",
       "      <td>2.908715</td>\n",
       "      <td>1.551803</td>\n",
       "      <td>0.597160</td>\n",
       "      <td>1.382027</td>\n",
       "    </tr>\n",
       "    <tr>\n",
       "      <th>6</th>\n",
       "      <td>TotalCost</td>\n",
       "      <td>Total human health [DALY/cap]</td>\n",
       "      <td>0.044177</td>\n",
       "      <td>0.026666</td>\n",
       "      <td>0.013769</td>\n",
       "      <td>0.003743</td>\n",
       "      <td>0.012981</td>\n",
       "    </tr>\n",
       "    <tr>\n",
       "      <th>7</th>\n",
       "      <td>TotalCost</td>\n",
       "      <td>Total ecosystem quality [PDF.m2.yr/cap]</td>\n",
       "      <td>6680.135212</td>\n",
       "      <td>3443.953206</td>\n",
       "      <td>1872.581920</td>\n",
       "      <td>1363.600087</td>\n",
       "      <td>1213.767725</td>\n",
       "    </tr>\n",
       "    <tr>\n",
       "      <th>8</th>\n",
       "      <td>TotalLCIA_m_CCS</td>\n",
       "      <td>Total cost [CAD/cap]</td>\n",
       "      <td>8453.818395</td>\n",
       "      <td>1732.160733</td>\n",
       "      <td>6351.033460</td>\n",
       "      <td>370.624202</td>\n",
       "      <td>NaN</td>\n",
       "    </tr>\n",
       "    <tr>\n",
       "      <th>9</th>\n",
       "      <td>TotalLCIA_m_CCS</td>\n",
       "      <td>Climate change (short term) [t CO2-eq/cap]</td>\n",
       "      <td>2.121231</td>\n",
       "      <td>1.093305</td>\n",
       "      <td>0.928801</td>\n",
       "      <td>0.099125</td>\n",
       "      <td>0.469908</td>\n",
       "    </tr>\n",
       "    <tr>\n",
       "      <th>10</th>\n",
       "      <td>TotalLCIA_m_CCS</td>\n",
       "      <td>Total human health [DALY/cap]</td>\n",
       "      <td>0.023245</td>\n",
       "      <td>0.013112</td>\n",
       "      <td>0.008877</td>\n",
       "      <td>0.001255</td>\n",
       "      <td>0.007341</td>\n",
       "    </tr>\n",
       "    <tr>\n",
       "      <th>11</th>\n",
       "      <td>TotalLCIA_m_CCS</td>\n",
       "      <td>Total ecosystem quality [PDF.m2.yr/cap]</td>\n",
       "      <td>2711.971988</td>\n",
       "      <td>1146.975413</td>\n",
       "      <td>1127.719916</td>\n",
       "      <td>437.276660</td>\n",
       "      <td>376.960896</td>\n",
       "    </tr>\n",
       "    <tr>\n",
       "      <th>12</th>\n",
       "      <td>TotalLCIA_TTHH</td>\n",
       "      <td>Total cost [CAD/cap]</td>\n",
       "      <td>7528.542717</td>\n",
       "      <td>1528.062811</td>\n",
       "      <td>5818.412506</td>\n",
       "      <td>182.067400</td>\n",
       "      <td>NaN</td>\n",
       "    </tr>\n",
       "    <tr>\n",
       "      <th>13</th>\n",
       "      <td>TotalLCIA_TTHH</td>\n",
       "      <td>Climate change (short term) [t CO2-eq/cap]</td>\n",
       "      <td>2.206827</td>\n",
       "      <td>1.179905</td>\n",
       "      <td>0.981438</td>\n",
       "      <td>0.045483</td>\n",
       "      <td>0.568204</td>\n",
       "    </tr>\n",
       "    <tr>\n",
       "      <th>14</th>\n",
       "      <td>TotalLCIA_TTHH</td>\n",
       "      <td>Total human health [DALY/cap]</td>\n",
       "      <td>0.022928</td>\n",
       "      <td>0.013164</td>\n",
       "      <td>0.009346</td>\n",
       "      <td>0.000419</td>\n",
       "      <td>0.007542</td>\n",
       "    </tr>\n",
       "    <tr>\n",
       "      <th>15</th>\n",
       "      <td>TotalLCIA_TTHH</td>\n",
       "      <td>Total ecosystem quality [PDF.m2.yr/cap]</td>\n",
       "      <td>2415.578896</td>\n",
       "      <td>1150.639346</td>\n",
       "      <td>1197.229333</td>\n",
       "      <td>67.710218</td>\n",
       "      <td>394.122063</td>\n",
       "    </tr>\n",
       "    <tr>\n",
       "      <th>16</th>\n",
       "      <td>TotalLCIA_TTEQ</td>\n",
       "      <td>Total cost [CAD/cap]</td>\n",
       "      <td>18474.052289</td>\n",
       "      <td>1523.829302</td>\n",
       "      <td>16766.775537</td>\n",
       "      <td>183.447450</td>\n",
       "      <td>NaN</td>\n",
       "    </tr>\n",
       "    <tr>\n",
       "      <th>17</th>\n",
       "      <td>TotalLCIA_TTEQ</td>\n",
       "      <td>Climate change (short term) [t CO2-eq/cap]</td>\n",
       "      <td>2.220761</td>\n",
       "      <td>1.196700</td>\n",
       "      <td>0.978295</td>\n",
       "      <td>0.045767</td>\n",
       "      <td>0.584779</td>\n",
       "    </tr>\n",
       "    <tr>\n",
       "      <th>18</th>\n",
       "      <td>TotalLCIA_TTEQ</td>\n",
       "      <td>Total human health [DALY/cap]</td>\n",
       "      <td>0.022939</td>\n",
       "      <td>0.013213</td>\n",
       "      <td>0.009301</td>\n",
       "      <td>0.000424</td>\n",
       "      <td>0.007589</td>\n",
       "    </tr>\n",
       "    <tr>\n",
       "      <th>19</th>\n",
       "      <td>TotalLCIA_TTEQ</td>\n",
       "      <td>Total ecosystem quality [PDF.m2.yr/cap]</td>\n",
       "      <td>2412.455463</td>\n",
       "      <td>1153.306256</td>\n",
       "      <td>1190.448297</td>\n",
       "      <td>68.700910</td>\n",
       "      <td>397.131083</td>\n",
       "    </tr>\n",
       "  </tbody>\n",
       "</table>\n",
       "</div>"
      ]
     },
     "execution_count": 13,
     "metadata": {},
     "output_type": "execute_result"
    }
   ],
   "execution_count": 13
  },
  {
   "metadata": {
    "ExecuteTime": {
     "end_time": "2025-01-27T17:58:52.435585Z",
     "start_time": "2025-01-27T17:58:52.343780Z"
    }
   },
   "cell_type": "code",
   "source": [
    "if save_results:\n",
    "    df_results.to_csv('../03_Results/Tables/soo_full_table.csv', index=False)"
   ],
   "id": "c9695f9fde8c792c",
   "outputs": [],
   "execution_count": 14
  },
  {
   "metadata": {
    "ExecuteTime": {
     "end_time": "2025-01-27T17:58:52.668840Z",
     "start_time": "2025-01-27T17:58:52.437606Z"
    }
   },
   "cell_type": "code",
   "source": "summary_table = df_results[['Objective function', 'Metric', 'Total']].pivot_table(index='Objective function', columns='Metric', values='Total').reset_index()",
   "id": "cd59bbd11c69dfb5",
   "outputs": [],
   "execution_count": 15
  },
  {
   "metadata": {
    "ExecuteTime": {
     "end_time": "2025-01-27T17:58:52.928942Z",
     "start_time": "2025-01-27T17:58:52.671900Z"
    }
   },
   "cell_type": "code",
   "source": [
    "if save_results:\n",
    "    summary_table.to_csv('../03_Results/Tables/soo_summary_table.csv', index=False)"
   ],
   "id": "29900d49f0687a2c",
   "outputs": [],
   "execution_count": 16
  },
  {
   "metadata": {},
   "cell_type": "markdown",
   "source": "## Plots",
   "id": "dda3948af0dd915f"
  },
  {
   "metadata": {},
   "cell_type": "markdown",
   "source": "### Bar plot",
   "id": "95865c96e8d0c467"
  },
  {
   "metadata": {
    "ExecuteTime": {
     "end_time": "2025-01-27T17:58:53.277459Z",
     "start_time": "2025-01-27T17:58:52.934831Z"
    }
   },
   "cell_type": "code",
   "source": [
    "def normalize_df_results(row, col, df_results=df_results):\n",
    "    metric = row['Metric']\n",
    "    obj = row['Objective function']\n",
    "    if obj == 'Reference' and col == 'Total':\n",
    "        return 100\n",
    "    else:\n",
    "        return 100 * row[col] / df_results[(df_results['Objective function'] == 'Reference') & (df_results['Metric'] == metric)]['Total'].values[0]"
   ],
   "id": "6cf29a78326ed622",
   "outputs": [],
   "execution_count": 17
  },
  {
   "metadata": {
    "ExecuteTime": {
     "end_time": "2025-01-27T17:58:53.757750Z",
     "start_time": "2025-01-27T17:58:53.285135Z"
    }
   },
   "cell_type": "code",
   "source": [
    "df_results_normalized = df_results.copy()\n",
    "df_results_normalized['Operation'] = df_results_normalized.apply(normalize_df_results, args=('Operation',), axis=1)\n",
    "df_results_normalized['Construction'] = df_results_normalized.apply(normalize_df_results, args=('Construction',), axis=1)\n",
    "df_results_normalized['Resources'] = df_results_normalized.apply(normalize_df_results, args=('Resources',), axis=1)\n",
    "df_results_normalized['Total'] = df_results_normalized.apply(normalize_df_results, args=('Total',), axis=1)\n",
    "df_results_normalized['Direct emissions (included in operation)'] = df_results_normalized.apply(normalize_df_results, args=('Direct emissions (included in operation)',), axis=1)\n",
    "df_results_normalized['Metric'] = df_results_normalized['Metric'].apply(lambda x: x.split(' [')[0])"
   ],
   "id": "372f995ccbebe331",
   "outputs": [],
   "execution_count": 18
  },
  {
   "metadata": {
    "ExecuteTime": {
     "end_time": "2025-01-27T17:58:53.902233Z",
     "start_time": "2025-01-27T17:58:53.762775Z"
    }
   },
   "cell_type": "code",
   "source": [
    "obj_new_names = {\n",
    "    'Reference': 'Reference',\n",
    "    'TotalCost': 'Total cost',\n",
    "    'TotalLCIA_m_CCS': 'Climate change (short term)',\n",
    "    'TotalLCIA_TTHH': 'Total human health',\n",
    "    'TotalLCIA_TTEQ': 'Total ecosystem quality',\n",
    "}\n",
    "df_results_normalized['Objective function'] = df_results_normalized['Objective function'].apply(lambda x: obj_new_names[x])"
   ],
   "id": "9fa1f2e4c35705d8",
   "outputs": [],
   "execution_count": 19
  },
  {
   "metadata": {
    "ExecuteTime": {
     "end_time": "2025-01-27T17:58:54.030029Z",
     "start_time": "2025-01-27T17:58:53.903334Z"
    }
   },
   "cell_type": "code",
   "source": "df_results_normalized.drop(df_results_normalized[df_results_normalized['Objective function'] == 'Reference'].index, inplace=True)",
   "id": "5221253fce4393d7",
   "outputs": [],
   "execution_count": 20
  },
  {
   "metadata": {
    "ExecuteTime": {
     "end_time": "2025-01-27T17:58:54.171043Z",
     "start_time": "2025-01-27T17:58:54.032686Z"
    }
   },
   "cell_type": "code",
   "source": [
    "data = []\n",
    "for obj in df_results_normalized['Objective function'].unique():\n",
    "    data.append(go.Bar(\n",
    "        name=obj, \n",
    "        x=df_results_normalized[df_results_normalized['Objective function'] == obj]['Metric'], \n",
    "        y=df_results_normalized[df_results_normalized['Objective function'] == obj]['Total'],\n",
    "    ))"
   ],
   "id": "14b6cb945cb1f517",
   "outputs": [],
   "execution_count": 21
  },
  {
   "metadata": {
    "ExecuteTime": {
     "end_time": "2025-01-27T18:09:39.734360Z",
     "start_time": "2025-01-27T18:09:39.506294Z"
    }
   },
   "cell_type": "code",
   "source": [
    "fig = go.Figure(data)\n",
    "fig.update_layout(\n",
    "    barmode='group', \n",
    "    template='plotly_white', \n",
    "    legend_title_text='Objective function',\n",
    "    legend=dict(\n",
    "        yanchor=\"top\",\n",
    "        y=0.99,\n",
    "        xanchor=\"right\",\n",
    "        x=0.98,\n",
    "    )\n",
    ")\n",
    "fig.update_yaxes(title_text='Cost or impact relative to 2021 [%]')\n",
    "fig.show()\n",
    "\n",
    "if save_results:\n",
    "    fig.write_html('../03_Results/Figures/soo_relative_bar_plot.html')"
   ],
   "id": "a22110ac19610a4e",
   "outputs": [
    {
     "data": {
      "application/vnd.plotly.v1+json": {
       "data": [
        {
         "name": "Total cost",
         "x": [
          "Total cost",
          "Climate change (short term)",
          "Total human health",
          "Total ecosystem quality"
         ],
         "y": [
          53.858966060903725,
          48.68054212060932,
          34.69440754777386,
          66.72857932207997
         ],
         "type": "bar"
        },
        {
         "name": "Climate change (short term)",
         "x": [
          "Total cost",
          "Climate change (short term)",
          "Total human health",
          "Total ecosystem quality"
         ],
         "y": [
          96.37150358307846,
          20.417009583599746,
          18.25526933426262,
          27.090175898354268
         ],
         "type": "bar"
        },
        {
         "name": "Total human health",
         "x": [
          "Total cost",
          "Climate change (short term)",
          "Total human health",
          "Total ecosystem quality"
         ],
         "y": [
          85.8235826217252,
          21.240876454645406,
          18.006951759347224,
          24.12947386073531
         ],
         "type": "bar"
        },
        {
         "name": "Total ecosystem quality",
         "x": [
          "Total cost",
          "Climate change (short term)",
          "Total human health",
          "Total ecosystem quality"
         ],
         "y": [
          210.59976844630248,
          21.374999090980793,
          18.015396634919206,
          24.098273552788665
         ],
         "type": "bar"
        }
       ],
       "layout": {
        "template": {
         "data": {
          "barpolar": [
           {
            "marker": {
             "line": {
              "color": "white",
              "width": 0.5
             },
             "pattern": {
              "fillmode": "overlay",
              "size": 10,
              "solidity": 0.2
             }
            },
            "type": "barpolar"
           }
          ],
          "bar": [
           {
            "error_x": {
             "color": "#2a3f5f"
            },
            "error_y": {
             "color": "#2a3f5f"
            },
            "marker": {
             "line": {
              "color": "white",
              "width": 0.5
             },
             "pattern": {
              "fillmode": "overlay",
              "size": 10,
              "solidity": 0.2
             }
            },
            "type": "bar"
           }
          ],
          "carpet": [
           {
            "aaxis": {
             "endlinecolor": "#2a3f5f",
             "gridcolor": "#C8D4E3",
             "linecolor": "#C8D4E3",
             "minorgridcolor": "#C8D4E3",
             "startlinecolor": "#2a3f5f"
            },
            "baxis": {
             "endlinecolor": "#2a3f5f",
             "gridcolor": "#C8D4E3",
             "linecolor": "#C8D4E3",
             "minorgridcolor": "#C8D4E3",
             "startlinecolor": "#2a3f5f"
            },
            "type": "carpet"
           }
          ],
          "choropleth": [
           {
            "colorbar": {
             "outlinewidth": 0,
             "ticks": ""
            },
            "type": "choropleth"
           }
          ],
          "contourcarpet": [
           {
            "colorbar": {
             "outlinewidth": 0,
             "ticks": ""
            },
            "type": "contourcarpet"
           }
          ],
          "contour": [
           {
            "colorbar": {
             "outlinewidth": 0,
             "ticks": ""
            },
            "colorscale": [
             [
              0.0,
              "#0d0887"
             ],
             [
              0.1111111111111111,
              "#46039f"
             ],
             [
              0.2222222222222222,
              "#7201a8"
             ],
             [
              0.3333333333333333,
              "#9c179e"
             ],
             [
              0.4444444444444444,
              "#bd3786"
             ],
             [
              0.5555555555555556,
              "#d8576b"
             ],
             [
              0.6666666666666666,
              "#ed7953"
             ],
             [
              0.7777777777777778,
              "#fb9f3a"
             ],
             [
              0.8888888888888888,
              "#fdca26"
             ],
             [
              1.0,
              "#f0f921"
             ]
            ],
            "type": "contour"
           }
          ],
          "heatmapgl": [
           {
            "colorbar": {
             "outlinewidth": 0,
             "ticks": ""
            },
            "colorscale": [
             [
              0.0,
              "#0d0887"
             ],
             [
              0.1111111111111111,
              "#46039f"
             ],
             [
              0.2222222222222222,
              "#7201a8"
             ],
             [
              0.3333333333333333,
              "#9c179e"
             ],
             [
              0.4444444444444444,
              "#bd3786"
             ],
             [
              0.5555555555555556,
              "#d8576b"
             ],
             [
              0.6666666666666666,
              "#ed7953"
             ],
             [
              0.7777777777777778,
              "#fb9f3a"
             ],
             [
              0.8888888888888888,
              "#fdca26"
             ],
             [
              1.0,
              "#f0f921"
             ]
            ],
            "type": "heatmapgl"
           }
          ],
          "heatmap": [
           {
            "colorbar": {
             "outlinewidth": 0,
             "ticks": ""
            },
            "colorscale": [
             [
              0.0,
              "#0d0887"
             ],
             [
              0.1111111111111111,
              "#46039f"
             ],
             [
              0.2222222222222222,
              "#7201a8"
             ],
             [
              0.3333333333333333,
              "#9c179e"
             ],
             [
              0.4444444444444444,
              "#bd3786"
             ],
             [
              0.5555555555555556,
              "#d8576b"
             ],
             [
              0.6666666666666666,
              "#ed7953"
             ],
             [
              0.7777777777777778,
              "#fb9f3a"
             ],
             [
              0.8888888888888888,
              "#fdca26"
             ],
             [
              1.0,
              "#f0f921"
             ]
            ],
            "type": "heatmap"
           }
          ],
          "histogram2dcontour": [
           {
            "colorbar": {
             "outlinewidth": 0,
             "ticks": ""
            },
            "colorscale": [
             [
              0.0,
              "#0d0887"
             ],
             [
              0.1111111111111111,
              "#46039f"
             ],
             [
              0.2222222222222222,
              "#7201a8"
             ],
             [
              0.3333333333333333,
              "#9c179e"
             ],
             [
              0.4444444444444444,
              "#bd3786"
             ],
             [
              0.5555555555555556,
              "#d8576b"
             ],
             [
              0.6666666666666666,
              "#ed7953"
             ],
             [
              0.7777777777777778,
              "#fb9f3a"
             ],
             [
              0.8888888888888888,
              "#fdca26"
             ],
             [
              1.0,
              "#f0f921"
             ]
            ],
            "type": "histogram2dcontour"
           }
          ],
          "histogram2d": [
           {
            "colorbar": {
             "outlinewidth": 0,
             "ticks": ""
            },
            "colorscale": [
             [
              0.0,
              "#0d0887"
             ],
             [
              0.1111111111111111,
              "#46039f"
             ],
             [
              0.2222222222222222,
              "#7201a8"
             ],
             [
              0.3333333333333333,
              "#9c179e"
             ],
             [
              0.4444444444444444,
              "#bd3786"
             ],
             [
              0.5555555555555556,
              "#d8576b"
             ],
             [
              0.6666666666666666,
              "#ed7953"
             ],
             [
              0.7777777777777778,
              "#fb9f3a"
             ],
             [
              0.8888888888888888,
              "#fdca26"
             ],
             [
              1.0,
              "#f0f921"
             ]
            ],
            "type": "histogram2d"
           }
          ],
          "histogram": [
           {
            "marker": {
             "pattern": {
              "fillmode": "overlay",
              "size": 10,
              "solidity": 0.2
             }
            },
            "type": "histogram"
           }
          ],
          "mesh3d": [
           {
            "colorbar": {
             "outlinewidth": 0,
             "ticks": ""
            },
            "type": "mesh3d"
           }
          ],
          "parcoords": [
           {
            "line": {
             "colorbar": {
              "outlinewidth": 0,
              "ticks": ""
             }
            },
            "type": "parcoords"
           }
          ],
          "pie": [
           {
            "automargin": true,
            "type": "pie"
           }
          ],
          "scatter3d": [
           {
            "line": {
             "colorbar": {
              "outlinewidth": 0,
              "ticks": ""
             }
            },
            "marker": {
             "colorbar": {
              "outlinewidth": 0,
              "ticks": ""
             }
            },
            "type": "scatter3d"
           }
          ],
          "scattercarpet": [
           {
            "marker": {
             "colorbar": {
              "outlinewidth": 0,
              "ticks": ""
             }
            },
            "type": "scattercarpet"
           }
          ],
          "scattergeo": [
           {
            "marker": {
             "colorbar": {
              "outlinewidth": 0,
              "ticks": ""
             }
            },
            "type": "scattergeo"
           }
          ],
          "scattergl": [
           {
            "marker": {
             "colorbar": {
              "outlinewidth": 0,
              "ticks": ""
             }
            },
            "type": "scattergl"
           }
          ],
          "scattermapbox": [
           {
            "marker": {
             "colorbar": {
              "outlinewidth": 0,
              "ticks": ""
             }
            },
            "type": "scattermapbox"
           }
          ],
          "scatterpolargl": [
           {
            "marker": {
             "colorbar": {
              "outlinewidth": 0,
              "ticks": ""
             }
            },
            "type": "scatterpolargl"
           }
          ],
          "scatterpolar": [
           {
            "marker": {
             "colorbar": {
              "outlinewidth": 0,
              "ticks": ""
             }
            },
            "type": "scatterpolar"
           }
          ],
          "scatter": [
           {
            "fillpattern": {
             "fillmode": "overlay",
             "size": 10,
             "solidity": 0.2
            },
            "type": "scatter"
           }
          ],
          "scatterternary": [
           {
            "marker": {
             "colorbar": {
              "outlinewidth": 0,
              "ticks": ""
             }
            },
            "type": "scatterternary"
           }
          ],
          "surface": [
           {
            "colorbar": {
             "outlinewidth": 0,
             "ticks": ""
            },
            "colorscale": [
             [
              0.0,
              "#0d0887"
             ],
             [
              0.1111111111111111,
              "#46039f"
             ],
             [
              0.2222222222222222,
              "#7201a8"
             ],
             [
              0.3333333333333333,
              "#9c179e"
             ],
             [
              0.4444444444444444,
              "#bd3786"
             ],
             [
              0.5555555555555556,
              "#d8576b"
             ],
             [
              0.6666666666666666,
              "#ed7953"
             ],
             [
              0.7777777777777778,
              "#fb9f3a"
             ],
             [
              0.8888888888888888,
              "#fdca26"
             ],
             [
              1.0,
              "#f0f921"
             ]
            ],
            "type": "surface"
           }
          ],
          "table": [
           {
            "cells": {
             "fill": {
              "color": "#EBF0F8"
             },
             "line": {
              "color": "white"
             }
            },
            "header": {
             "fill": {
              "color": "#C8D4E3"
             },
             "line": {
              "color": "white"
             }
            },
            "type": "table"
           }
          ]
         },
         "layout": {
          "annotationdefaults": {
           "arrowcolor": "#2a3f5f",
           "arrowhead": 0,
           "arrowwidth": 1
          },
          "autotypenumbers": "strict",
          "coloraxis": {
           "colorbar": {
            "outlinewidth": 0,
            "ticks": ""
           }
          },
          "colorscale": {
           "diverging": [
            [
             0,
             "#8e0152"
            ],
            [
             0.1,
             "#c51b7d"
            ],
            [
             0.2,
             "#de77ae"
            ],
            [
             0.3,
             "#f1b6da"
            ],
            [
             0.4,
             "#fde0ef"
            ],
            [
             0.5,
             "#f7f7f7"
            ],
            [
             0.6,
             "#e6f5d0"
            ],
            [
             0.7,
             "#b8e186"
            ],
            [
             0.8,
             "#7fbc41"
            ],
            [
             0.9,
             "#4d9221"
            ],
            [
             1,
             "#276419"
            ]
           ],
           "sequential": [
            [
             0.0,
             "#0d0887"
            ],
            [
             0.1111111111111111,
             "#46039f"
            ],
            [
             0.2222222222222222,
             "#7201a8"
            ],
            [
             0.3333333333333333,
             "#9c179e"
            ],
            [
             0.4444444444444444,
             "#bd3786"
            ],
            [
             0.5555555555555556,
             "#d8576b"
            ],
            [
             0.6666666666666666,
             "#ed7953"
            ],
            [
             0.7777777777777778,
             "#fb9f3a"
            ],
            [
             0.8888888888888888,
             "#fdca26"
            ],
            [
             1.0,
             "#f0f921"
            ]
           ],
           "sequentialminus": [
            [
             0.0,
             "#0d0887"
            ],
            [
             0.1111111111111111,
             "#46039f"
            ],
            [
             0.2222222222222222,
             "#7201a8"
            ],
            [
             0.3333333333333333,
             "#9c179e"
            ],
            [
             0.4444444444444444,
             "#bd3786"
            ],
            [
             0.5555555555555556,
             "#d8576b"
            ],
            [
             0.6666666666666666,
             "#ed7953"
            ],
            [
             0.7777777777777778,
             "#fb9f3a"
            ],
            [
             0.8888888888888888,
             "#fdca26"
            ],
            [
             1.0,
             "#f0f921"
            ]
           ]
          },
          "colorway": [
           "#636efa",
           "#EF553B",
           "#00cc96",
           "#ab63fa",
           "#FFA15A",
           "#19d3f3",
           "#FF6692",
           "#B6E880",
           "#FF97FF",
           "#FECB52"
          ],
          "font": {
           "color": "#2a3f5f"
          },
          "geo": {
           "bgcolor": "white",
           "lakecolor": "white",
           "landcolor": "white",
           "showlakes": true,
           "showland": true,
           "subunitcolor": "#C8D4E3"
          },
          "hoverlabel": {
           "align": "left"
          },
          "hovermode": "closest",
          "mapbox": {
           "style": "light"
          },
          "paper_bgcolor": "white",
          "plot_bgcolor": "white",
          "polar": {
           "angularaxis": {
            "gridcolor": "#EBF0F8",
            "linecolor": "#EBF0F8",
            "ticks": ""
           },
           "bgcolor": "white",
           "radialaxis": {
            "gridcolor": "#EBF0F8",
            "linecolor": "#EBF0F8",
            "ticks": ""
           }
          },
          "scene": {
           "xaxis": {
            "backgroundcolor": "white",
            "gridcolor": "#DFE8F3",
            "gridwidth": 2,
            "linecolor": "#EBF0F8",
            "showbackground": true,
            "ticks": "",
            "zerolinecolor": "#EBF0F8"
           },
           "yaxis": {
            "backgroundcolor": "white",
            "gridcolor": "#DFE8F3",
            "gridwidth": 2,
            "linecolor": "#EBF0F8",
            "showbackground": true,
            "ticks": "",
            "zerolinecolor": "#EBF0F8"
           },
           "zaxis": {
            "backgroundcolor": "white",
            "gridcolor": "#DFE8F3",
            "gridwidth": 2,
            "linecolor": "#EBF0F8",
            "showbackground": true,
            "ticks": "",
            "zerolinecolor": "#EBF0F8"
           }
          },
          "shapedefaults": {
           "line": {
            "color": "#2a3f5f"
           }
          },
          "ternary": {
           "aaxis": {
            "gridcolor": "#DFE8F3",
            "linecolor": "#A2B1C6",
            "ticks": ""
           },
           "baxis": {
            "gridcolor": "#DFE8F3",
            "linecolor": "#A2B1C6",
            "ticks": ""
           },
           "bgcolor": "white",
           "caxis": {
            "gridcolor": "#DFE8F3",
            "linecolor": "#A2B1C6",
            "ticks": ""
           }
          },
          "title": {
           "x": 0.05
          },
          "xaxis": {
           "automargin": true,
           "gridcolor": "#EBF0F8",
           "linecolor": "#EBF0F8",
           "ticks": "",
           "title": {
            "standoff": 15
           },
           "zerolinecolor": "#EBF0F8",
           "zerolinewidth": 2
          },
          "yaxis": {
           "automargin": true,
           "gridcolor": "#EBF0F8",
           "linecolor": "#EBF0F8",
           "ticks": "",
           "title": {
            "standoff": 15
           },
           "zerolinecolor": "#EBF0F8",
           "zerolinewidth": 2
          }
         }
        },
        "legend": {
         "title": {
          "text": "Objective function"
         },
         "yanchor": "top",
         "y": 0.99,
         "xanchor": "right",
         "x": 0.98
        },
        "barmode": "group",
        "yaxis": {
         "title": {
          "text": "Cost or impact relative to 2021 [%]"
         }
        }
       },
       "config": {
        "plotlyServerURL": "https://plot.ly"
       }
      },
      "text/html": [
       "<div>                            <div id=\"a21ccb2b-46c1-4e53-98b8-9ecfa84f0198\" class=\"plotly-graph-div\" style=\"height:525px; width:100%;\"></div>            <script type=\"text/javascript\">                require([\"plotly\"], function(Plotly) {                    window.PLOTLYENV=window.PLOTLYENV || {};                                    if (document.getElementById(\"a21ccb2b-46c1-4e53-98b8-9ecfa84f0198\")) {                    Plotly.newPlot(                        \"a21ccb2b-46c1-4e53-98b8-9ecfa84f0198\",                        [{\"name\":\"Total cost\",\"x\":[\"Total cost\",\"Climate change (short term)\",\"Total human health\",\"Total ecosystem quality\"],\"y\":[53.858966060903725,48.68054212060932,34.69440754777386,66.72857932207997],\"type\":\"bar\"},{\"name\":\"Climate change (short term)\",\"x\":[\"Total cost\",\"Climate change (short term)\",\"Total human health\",\"Total ecosystem quality\"],\"y\":[96.37150358307846,20.417009583599746,18.25526933426262,27.090175898354268],\"type\":\"bar\"},{\"name\":\"Total human health\",\"x\":[\"Total cost\",\"Climate change (short term)\",\"Total human health\",\"Total ecosystem quality\"],\"y\":[85.8235826217252,21.240876454645406,18.006951759347224,24.12947386073531],\"type\":\"bar\"},{\"name\":\"Total ecosystem quality\",\"x\":[\"Total cost\",\"Climate change (short term)\",\"Total human health\",\"Total ecosystem quality\"],\"y\":[210.59976844630248,21.374999090980793,18.015396634919206,24.098273552788665],\"type\":\"bar\"}],                        {\"template\":{\"data\":{\"barpolar\":[{\"marker\":{\"line\":{\"color\":\"white\",\"width\":0.5},\"pattern\":{\"fillmode\":\"overlay\",\"size\":10,\"solidity\":0.2}},\"type\":\"barpolar\"}],\"bar\":[{\"error_x\":{\"color\":\"#2a3f5f\"},\"error_y\":{\"color\":\"#2a3f5f\"},\"marker\":{\"line\":{\"color\":\"white\",\"width\":0.5},\"pattern\":{\"fillmode\":\"overlay\",\"size\":10,\"solidity\":0.2}},\"type\":\"bar\"}],\"carpet\":[{\"aaxis\":{\"endlinecolor\":\"#2a3f5f\",\"gridcolor\":\"#C8D4E3\",\"linecolor\":\"#C8D4E3\",\"minorgridcolor\":\"#C8D4E3\",\"startlinecolor\":\"#2a3f5f\"},\"baxis\":{\"endlinecolor\":\"#2a3f5f\",\"gridcolor\":\"#C8D4E3\",\"linecolor\":\"#C8D4E3\",\"minorgridcolor\":\"#C8D4E3\",\"startlinecolor\":\"#2a3f5f\"},\"type\":\"carpet\"}],\"choropleth\":[{\"colorbar\":{\"outlinewidth\":0,\"ticks\":\"\"},\"type\":\"choropleth\"}],\"contourcarpet\":[{\"colorbar\":{\"outlinewidth\":0,\"ticks\":\"\"},\"type\":\"contourcarpet\"}],\"contour\":[{\"colorbar\":{\"outlinewidth\":0,\"ticks\":\"\"},\"colorscale\":[[0.0,\"#0d0887\"],[0.1111111111111111,\"#46039f\"],[0.2222222222222222,\"#7201a8\"],[0.3333333333333333,\"#9c179e\"],[0.4444444444444444,\"#bd3786\"],[0.5555555555555556,\"#d8576b\"],[0.6666666666666666,\"#ed7953\"],[0.7777777777777778,\"#fb9f3a\"],[0.8888888888888888,\"#fdca26\"],[1.0,\"#f0f921\"]],\"type\":\"contour\"}],\"heatmapgl\":[{\"colorbar\":{\"outlinewidth\":0,\"ticks\":\"\"},\"colorscale\":[[0.0,\"#0d0887\"],[0.1111111111111111,\"#46039f\"],[0.2222222222222222,\"#7201a8\"],[0.3333333333333333,\"#9c179e\"],[0.4444444444444444,\"#bd3786\"],[0.5555555555555556,\"#d8576b\"],[0.6666666666666666,\"#ed7953\"],[0.7777777777777778,\"#fb9f3a\"],[0.8888888888888888,\"#fdca26\"],[1.0,\"#f0f921\"]],\"type\":\"heatmapgl\"}],\"heatmap\":[{\"colorbar\":{\"outlinewidth\":0,\"ticks\":\"\"},\"colorscale\":[[0.0,\"#0d0887\"],[0.1111111111111111,\"#46039f\"],[0.2222222222222222,\"#7201a8\"],[0.3333333333333333,\"#9c179e\"],[0.4444444444444444,\"#bd3786\"],[0.5555555555555556,\"#d8576b\"],[0.6666666666666666,\"#ed7953\"],[0.7777777777777778,\"#fb9f3a\"],[0.8888888888888888,\"#fdca26\"],[1.0,\"#f0f921\"]],\"type\":\"heatmap\"}],\"histogram2dcontour\":[{\"colorbar\":{\"outlinewidth\":0,\"ticks\":\"\"},\"colorscale\":[[0.0,\"#0d0887\"],[0.1111111111111111,\"#46039f\"],[0.2222222222222222,\"#7201a8\"],[0.3333333333333333,\"#9c179e\"],[0.4444444444444444,\"#bd3786\"],[0.5555555555555556,\"#d8576b\"],[0.6666666666666666,\"#ed7953\"],[0.7777777777777778,\"#fb9f3a\"],[0.8888888888888888,\"#fdca26\"],[1.0,\"#f0f921\"]],\"type\":\"histogram2dcontour\"}],\"histogram2d\":[{\"colorbar\":{\"outlinewidth\":0,\"ticks\":\"\"},\"colorscale\":[[0.0,\"#0d0887\"],[0.1111111111111111,\"#46039f\"],[0.2222222222222222,\"#7201a8\"],[0.3333333333333333,\"#9c179e\"],[0.4444444444444444,\"#bd3786\"],[0.5555555555555556,\"#d8576b\"],[0.6666666666666666,\"#ed7953\"],[0.7777777777777778,\"#fb9f3a\"],[0.8888888888888888,\"#fdca26\"],[1.0,\"#f0f921\"]],\"type\":\"histogram2d\"}],\"histogram\":[{\"marker\":{\"pattern\":{\"fillmode\":\"overlay\",\"size\":10,\"solidity\":0.2}},\"type\":\"histogram\"}],\"mesh3d\":[{\"colorbar\":{\"outlinewidth\":0,\"ticks\":\"\"},\"type\":\"mesh3d\"}],\"parcoords\":[{\"line\":{\"colorbar\":{\"outlinewidth\":0,\"ticks\":\"\"}},\"type\":\"parcoords\"}],\"pie\":[{\"automargin\":true,\"type\":\"pie\"}],\"scatter3d\":[{\"line\":{\"colorbar\":{\"outlinewidth\":0,\"ticks\":\"\"}},\"marker\":{\"colorbar\":{\"outlinewidth\":0,\"ticks\":\"\"}},\"type\":\"scatter3d\"}],\"scattercarpet\":[{\"marker\":{\"colorbar\":{\"outlinewidth\":0,\"ticks\":\"\"}},\"type\":\"scattercarpet\"}],\"scattergeo\":[{\"marker\":{\"colorbar\":{\"outlinewidth\":0,\"ticks\":\"\"}},\"type\":\"scattergeo\"}],\"scattergl\":[{\"marker\":{\"colorbar\":{\"outlinewidth\":0,\"ticks\":\"\"}},\"type\":\"scattergl\"}],\"scattermapbox\":[{\"marker\":{\"colorbar\":{\"outlinewidth\":0,\"ticks\":\"\"}},\"type\":\"scattermapbox\"}],\"scatterpolargl\":[{\"marker\":{\"colorbar\":{\"outlinewidth\":0,\"ticks\":\"\"}},\"type\":\"scatterpolargl\"}],\"scatterpolar\":[{\"marker\":{\"colorbar\":{\"outlinewidth\":0,\"ticks\":\"\"}},\"type\":\"scatterpolar\"}],\"scatter\":[{\"fillpattern\":{\"fillmode\":\"overlay\",\"size\":10,\"solidity\":0.2},\"type\":\"scatter\"}],\"scatterternary\":[{\"marker\":{\"colorbar\":{\"outlinewidth\":0,\"ticks\":\"\"}},\"type\":\"scatterternary\"}],\"surface\":[{\"colorbar\":{\"outlinewidth\":0,\"ticks\":\"\"},\"colorscale\":[[0.0,\"#0d0887\"],[0.1111111111111111,\"#46039f\"],[0.2222222222222222,\"#7201a8\"],[0.3333333333333333,\"#9c179e\"],[0.4444444444444444,\"#bd3786\"],[0.5555555555555556,\"#d8576b\"],[0.6666666666666666,\"#ed7953\"],[0.7777777777777778,\"#fb9f3a\"],[0.8888888888888888,\"#fdca26\"],[1.0,\"#f0f921\"]],\"type\":\"surface\"}],\"table\":[{\"cells\":{\"fill\":{\"color\":\"#EBF0F8\"},\"line\":{\"color\":\"white\"}},\"header\":{\"fill\":{\"color\":\"#C8D4E3\"},\"line\":{\"color\":\"white\"}},\"type\":\"table\"}]},\"layout\":{\"annotationdefaults\":{\"arrowcolor\":\"#2a3f5f\",\"arrowhead\":0,\"arrowwidth\":1},\"autotypenumbers\":\"strict\",\"coloraxis\":{\"colorbar\":{\"outlinewidth\":0,\"ticks\":\"\"}},\"colorscale\":{\"diverging\":[[0,\"#8e0152\"],[0.1,\"#c51b7d\"],[0.2,\"#de77ae\"],[0.3,\"#f1b6da\"],[0.4,\"#fde0ef\"],[0.5,\"#f7f7f7\"],[0.6,\"#e6f5d0\"],[0.7,\"#b8e186\"],[0.8,\"#7fbc41\"],[0.9,\"#4d9221\"],[1,\"#276419\"]],\"sequential\":[[0.0,\"#0d0887\"],[0.1111111111111111,\"#46039f\"],[0.2222222222222222,\"#7201a8\"],[0.3333333333333333,\"#9c179e\"],[0.4444444444444444,\"#bd3786\"],[0.5555555555555556,\"#d8576b\"],[0.6666666666666666,\"#ed7953\"],[0.7777777777777778,\"#fb9f3a\"],[0.8888888888888888,\"#fdca26\"],[1.0,\"#f0f921\"]],\"sequentialminus\":[[0.0,\"#0d0887\"],[0.1111111111111111,\"#46039f\"],[0.2222222222222222,\"#7201a8\"],[0.3333333333333333,\"#9c179e\"],[0.4444444444444444,\"#bd3786\"],[0.5555555555555556,\"#d8576b\"],[0.6666666666666666,\"#ed7953\"],[0.7777777777777778,\"#fb9f3a\"],[0.8888888888888888,\"#fdca26\"],[1.0,\"#f0f921\"]]},\"colorway\":[\"#636efa\",\"#EF553B\",\"#00cc96\",\"#ab63fa\",\"#FFA15A\",\"#19d3f3\",\"#FF6692\",\"#B6E880\",\"#FF97FF\",\"#FECB52\"],\"font\":{\"color\":\"#2a3f5f\"},\"geo\":{\"bgcolor\":\"white\",\"lakecolor\":\"white\",\"landcolor\":\"white\",\"showlakes\":true,\"showland\":true,\"subunitcolor\":\"#C8D4E3\"},\"hoverlabel\":{\"align\":\"left\"},\"hovermode\":\"closest\",\"mapbox\":{\"style\":\"light\"},\"paper_bgcolor\":\"white\",\"plot_bgcolor\":\"white\",\"polar\":{\"angularaxis\":{\"gridcolor\":\"#EBF0F8\",\"linecolor\":\"#EBF0F8\",\"ticks\":\"\"},\"bgcolor\":\"white\",\"radialaxis\":{\"gridcolor\":\"#EBF0F8\",\"linecolor\":\"#EBF0F8\",\"ticks\":\"\"}},\"scene\":{\"xaxis\":{\"backgroundcolor\":\"white\",\"gridcolor\":\"#DFE8F3\",\"gridwidth\":2,\"linecolor\":\"#EBF0F8\",\"showbackground\":true,\"ticks\":\"\",\"zerolinecolor\":\"#EBF0F8\"},\"yaxis\":{\"backgroundcolor\":\"white\",\"gridcolor\":\"#DFE8F3\",\"gridwidth\":2,\"linecolor\":\"#EBF0F8\",\"showbackground\":true,\"ticks\":\"\",\"zerolinecolor\":\"#EBF0F8\"},\"zaxis\":{\"backgroundcolor\":\"white\",\"gridcolor\":\"#DFE8F3\",\"gridwidth\":2,\"linecolor\":\"#EBF0F8\",\"showbackground\":true,\"ticks\":\"\",\"zerolinecolor\":\"#EBF0F8\"}},\"shapedefaults\":{\"line\":{\"color\":\"#2a3f5f\"}},\"ternary\":{\"aaxis\":{\"gridcolor\":\"#DFE8F3\",\"linecolor\":\"#A2B1C6\",\"ticks\":\"\"},\"baxis\":{\"gridcolor\":\"#DFE8F3\",\"linecolor\":\"#A2B1C6\",\"ticks\":\"\"},\"bgcolor\":\"white\",\"caxis\":{\"gridcolor\":\"#DFE8F3\",\"linecolor\":\"#A2B1C6\",\"ticks\":\"\"}},\"title\":{\"x\":0.05},\"xaxis\":{\"automargin\":true,\"gridcolor\":\"#EBF0F8\",\"linecolor\":\"#EBF0F8\",\"ticks\":\"\",\"title\":{\"standoff\":15},\"zerolinecolor\":\"#EBF0F8\",\"zerolinewidth\":2},\"yaxis\":{\"automargin\":true,\"gridcolor\":\"#EBF0F8\",\"linecolor\":\"#EBF0F8\",\"ticks\":\"\",\"title\":{\"standoff\":15},\"zerolinecolor\":\"#EBF0F8\",\"zerolinewidth\":2}}},\"legend\":{\"title\":{\"text\":\"Objective function\"},\"yanchor\":\"top\",\"y\":0.99,\"xanchor\":\"right\",\"x\":0.98},\"barmode\":\"group\",\"yaxis\":{\"title\":{\"text\":\"Cost or impact relative to 2021 [%]\"}}},                        {\"responsive\": true}                    ).then(function(){\n",
       "                            \n",
       "var gd = document.getElementById('a21ccb2b-46c1-4e53-98b8-9ecfa84f0198');\n",
       "var x = new MutationObserver(function (mutations, observer) {{\n",
       "        var display = window.getComputedStyle(gd).display;\n",
       "        if (!display || display === 'none') {{\n",
       "            console.log([gd, 'removed!']);\n",
       "            Plotly.purge(gd);\n",
       "            observer.disconnect();\n",
       "        }}\n",
       "}});\n",
       "\n",
       "// Listen for the removal of the full notebook cells\n",
       "var notebookContainer = gd.closest('#notebook-container');\n",
       "if (notebookContainer) {{\n",
       "    x.observe(notebookContainer, {childList: true});\n",
       "}}\n",
       "\n",
       "// Listen for the clearing of the current output cell\n",
       "var outputEl = gd.closest('.output');\n",
       "if (outputEl) {{\n",
       "    x.observe(outputEl, {childList: true});\n",
       "}}\n",
       "\n",
       "                        })                };                });            </script>        </div>"
      ]
     },
     "metadata": {},
     "output_type": "display_data"
    }
   ],
   "execution_count": 40
  },
  {
   "metadata": {
    "ExecuteTime": {
     "end_time": "2025-01-27T18:09:40.885710Z",
     "start_time": "2025-01-27T18:09:40.737241Z"
    }
   },
   "cell_type": "code",
   "source": "df_results_normalized_melted = df_results_normalized[['Objective function', 'Metric', 'Construction', 'Operation', 'Resources']].melt(id_vars=['Objective function', 'Metric'], value_vars=['Construction', 'Operation', 'Resources'])",
   "id": "a6dc5d1d0ab06a60",
   "outputs": [],
   "execution_count": 41
  },
  {
   "metadata": {
    "ExecuteTime": {
     "end_time": "2025-01-27T18:09:45.013900Z",
     "start_time": "2025-01-27T18:09:44.375715Z"
    }
   },
   "cell_type": "code",
   "source": [
    "for obj in df_results_normalized_melted['Objective function'].unique():\n",
    "    fig = px.bar(\n",
    "        df_results_normalized_melted[df_results_normalized_melted['Metric'] == obj], \n",
    "        x='Objective function', \n",
    "        y='value',\n",
    "        color='Objective function',\n",
    "        pattern_shape='variable',\n",
    "        pattern_shape_sequence=['', '/', '.'],\n",
    "    )\n",
    "    fig.update_xaxes(title_text='')\n",
    "    fig.update_layout(showlegend=False, template='plotly_white')\n",
    "    fig.update_yaxes(title_text=f'{obj} relative to 2021 [%]')\n",
    "    \n",
    "    fig.show()\n",
    "    \n",
    "    if save_results:\n",
    "        fig.write_html('../03_Results/Figures/soo_relative_bar_plot_w_phases_contrib_for_'+obj+'.html')"
   ],
   "id": "3e405e3646b69128",
   "outputs": [
    {
     "data": {
      "application/vnd.plotly.v1+json": {
       "data": [
        {
         "alignmentgroup": "True",
         "hovertemplate": "Objective function=%{x}<br>variable=Construction<br>value=%{y}<extra></extra>",
         "legendgroup": "Total cost, Construction",
         "marker": {
          "color": "#636efa",
          "pattern": {
           "shape": ""
          }
         },
         "name": "Total cost, Construction",
         "offsetgroup": "Total cost, Construction",
         "orientation": "v",
         "showlegend": true,
         "textposition": "auto",
         "x": [
          "Total cost"
         ],
         "xaxis": "x",
         "y": [
          36.89178396420381
         ],
         "yaxis": "y",
         "type": "bar"
        },
        {
         "alignmentgroup": "True",
         "hovertemplate": "Objective function=%{x}<br>variable=Operation<br>value=%{y}<extra></extra>",
         "legendgroup": "Total cost, Operation",
         "marker": {
          "color": "#636efa",
          "pattern": {
           "shape": "/"
          }
         },
         "name": "Total cost, Operation",
         "offsetgroup": "Total cost, Operation",
         "orientation": "v",
         "showlegend": true,
         "textposition": "auto",
         "x": [
          "Total cost"
         ],
         "xaxis": "x",
         "y": [
          15.319016275932368
         ],
         "yaxis": "y",
         "type": "bar"
        },
        {
         "alignmentgroup": "True",
         "hovertemplate": "Objective function=%{x}<br>variable=Resources<br>value=%{y}<extra></extra>",
         "legendgroup": "Total cost, Resources",
         "marker": {
          "color": "#636efa",
          "pattern": {
           "shape": "."
          }
         },
         "name": "Total cost, Resources",
         "offsetgroup": "Total cost, Resources",
         "orientation": "v",
         "showlegend": true,
         "textposition": "auto",
         "x": [
          "Total cost"
         ],
         "xaxis": "x",
         "y": [
          1.6481658206915581
         ],
         "yaxis": "y",
         "type": "bar"
        },
        {
         "alignmentgroup": "True",
         "hovertemplate": "Objective function=%{x}<br>variable=Construction<br>value=%{y}<extra></extra>",
         "legendgroup": "Climate change (short term), Construction",
         "marker": {
          "color": "#EF553B",
          "pattern": {
           "shape": ""
          }
         },
         "name": "Climate change (short term), Construction",
         "offsetgroup": "Climate change (short term), Construction",
         "orientation": "v",
         "showlegend": true,
         "textposition": "auto",
         "x": [
          "Climate change (short term)"
         ],
         "xaxis": "x",
         "y": [
          72.4002592968373
         ],
         "yaxis": "y",
         "type": "bar"
        },
        {
         "alignmentgroup": "True",
         "hovertemplate": "Objective function=%{x}<br>variable=Operation<br>value=%{y}<extra></extra>",
         "legendgroup": "Climate change (short term), Operation",
         "marker": {
          "color": "#EF553B",
          "pattern": {
           "shape": "/"
          }
         },
         "name": "Climate change (short term), Operation",
         "offsetgroup": "Climate change (short term), Operation",
         "orientation": "v",
         "showlegend": true,
         "textposition": "auto",
         "x": [
          "Climate change (short term)"
         ],
         "xaxis": "x",
         "y": [
          19.74621720911411
         ],
         "yaxis": "y",
         "type": "bar"
        },
        {
         "alignmentgroup": "True",
         "hovertemplate": "Objective function=%{x}<br>variable=Resources<br>value=%{y}<extra></extra>",
         "legendgroup": "Climate change (short term), Resources",
         "marker": {
          "color": "#EF553B",
          "pattern": {
           "shape": "."
          }
         },
         "name": "Climate change (short term), Resources",
         "offsetgroup": "Climate change (short term), Resources",
         "orientation": "v",
         "showlegend": true,
         "textposition": "auto",
         "x": [
          "Climate change (short term)"
         ],
         "xaxis": "x",
         "y": [
          4.225027077099993
         ],
         "yaxis": "y",
         "type": "bar"
        },
        {
         "alignmentgroup": "True",
         "hovertemplate": "Objective function=%{x}<br>variable=Construction<br>value=%{y}<extra></extra>",
         "legendgroup": "Total human health, Construction",
         "marker": {
          "color": "#00cc96",
          "pattern": {
           "shape": ""
          }
         },
         "name": "Total human health, Construction",
         "offsetgroup": "Total human health, Construction",
         "orientation": "v",
         "showlegend": true,
         "textposition": "auto",
         "x": [
          "Total human health"
         ],
         "xaxis": "x",
         "y": [
          66.32850807584668
         ],
         "yaxis": "y",
         "type": "bar"
        },
        {
         "alignmentgroup": "True",
         "hovertemplate": "Objective function=%{x}<br>variable=Operation<br>value=%{y}<extra></extra>",
         "legendgroup": "Total human health, Operation",
         "marker": {
          "color": "#00cc96",
          "pattern": {
           "shape": "/"
          }
         },
         "name": "Total human health, Operation",
         "offsetgroup": "Total human health, Operation",
         "orientation": "v",
         "showlegend": true,
         "textposition": "auto",
         "x": [
          "Total human health"
         ],
         "xaxis": "x",
         "y": [
          17.41954981801766
         ],
         "yaxis": "y",
         "type": "bar"
        },
        {
         "alignmentgroup": "True",
         "hovertemplate": "Objective function=%{x}<br>variable=Resources<br>value=%{y}<extra></extra>",
         "legendgroup": "Total human health, Resources",
         "marker": {
          "color": "#00cc96",
          "pattern": {
           "shape": "."
          }
         },
         "name": "Total human health, Resources",
         "offsetgroup": "Total human health, Resources",
         "orientation": "v",
         "showlegend": true,
         "textposition": "auto",
         "x": [
          "Total human health"
         ],
         "xaxis": "x",
         "y": [
          2.0755247278338187
         ],
         "yaxis": "y",
         "type": "bar"
        },
        {
         "alignmentgroup": "True",
         "hovertemplate": "Objective function=%{x}<br>variable=Construction<br>value=%{y}<extra></extra>",
         "legendgroup": "Total ecosystem quality, Construction",
         "marker": {
          "color": "#ab63fa",
          "pattern": {
           "shape": ""
          }
         },
         "name": "Total ecosystem quality, Construction",
         "offsetgroup": "Total ecosystem quality, Construction",
         "orientation": "v",
         "showlegend": true,
         "textposition": "auto",
         "x": [
          "Total ecosystem quality"
         ],
         "xaxis": "x",
         "y": [
          191.13722265000516
         ],
         "yaxis": "y",
         "type": "bar"
        },
        {
         "alignmentgroup": "True",
         "hovertemplate": "Objective function=%{x}<br>variable=Operation<br>value=%{y}<extra></extra>",
         "legendgroup": "Total ecosystem quality, Operation",
         "marker": {
          "color": "#ab63fa",
          "pattern": {
           "shape": "/"
          }
         },
         "name": "Total ecosystem quality, Operation",
         "offsetgroup": "Total ecosystem quality, Operation",
         "orientation": "v",
         "showlegend": true,
         "textposition": "auto",
         "x": [
          "Total ecosystem quality"
         ],
         "xaxis": "x",
         "y": [
          17.371288831005007
         ],
         "yaxis": "y",
         "type": "bar"
        },
        {
         "alignmentgroup": "True",
         "hovertemplate": "Objective function=%{x}<br>variable=Resources<br>value=%{y}<extra></extra>",
         "legendgroup": "Total ecosystem quality, Resources",
         "marker": {
          "color": "#ab63fa",
          "pattern": {
           "shape": "."
          }
         },
         "name": "Total ecosystem quality, Resources",
         "offsetgroup": "Total ecosystem quality, Resources",
         "orientation": "v",
         "showlegend": true,
         "textposition": "auto",
         "x": [
          "Total ecosystem quality"
         ],
         "xaxis": "x",
         "y": [
          2.091256965265275
         ],
         "yaxis": "y",
         "type": "bar"
        }
       ],
       "layout": {
        "template": {
         "data": {
          "barpolar": [
           {
            "marker": {
             "line": {
              "color": "white",
              "width": 0.5
             },
             "pattern": {
              "fillmode": "overlay",
              "size": 10,
              "solidity": 0.2
             }
            },
            "type": "barpolar"
           }
          ],
          "bar": [
           {
            "error_x": {
             "color": "#2a3f5f"
            },
            "error_y": {
             "color": "#2a3f5f"
            },
            "marker": {
             "line": {
              "color": "white",
              "width": 0.5
             },
             "pattern": {
              "fillmode": "overlay",
              "size": 10,
              "solidity": 0.2
             }
            },
            "type": "bar"
           }
          ],
          "carpet": [
           {
            "aaxis": {
             "endlinecolor": "#2a3f5f",
             "gridcolor": "#C8D4E3",
             "linecolor": "#C8D4E3",
             "minorgridcolor": "#C8D4E3",
             "startlinecolor": "#2a3f5f"
            },
            "baxis": {
             "endlinecolor": "#2a3f5f",
             "gridcolor": "#C8D4E3",
             "linecolor": "#C8D4E3",
             "minorgridcolor": "#C8D4E3",
             "startlinecolor": "#2a3f5f"
            },
            "type": "carpet"
           }
          ],
          "choropleth": [
           {
            "colorbar": {
             "outlinewidth": 0,
             "ticks": ""
            },
            "type": "choropleth"
           }
          ],
          "contourcarpet": [
           {
            "colorbar": {
             "outlinewidth": 0,
             "ticks": ""
            },
            "type": "contourcarpet"
           }
          ],
          "contour": [
           {
            "colorbar": {
             "outlinewidth": 0,
             "ticks": ""
            },
            "colorscale": [
             [
              0.0,
              "#0d0887"
             ],
             [
              0.1111111111111111,
              "#46039f"
             ],
             [
              0.2222222222222222,
              "#7201a8"
             ],
             [
              0.3333333333333333,
              "#9c179e"
             ],
             [
              0.4444444444444444,
              "#bd3786"
             ],
             [
              0.5555555555555556,
              "#d8576b"
             ],
             [
              0.6666666666666666,
              "#ed7953"
             ],
             [
              0.7777777777777778,
              "#fb9f3a"
             ],
             [
              0.8888888888888888,
              "#fdca26"
             ],
             [
              1.0,
              "#f0f921"
             ]
            ],
            "type": "contour"
           }
          ],
          "heatmapgl": [
           {
            "colorbar": {
             "outlinewidth": 0,
             "ticks": ""
            },
            "colorscale": [
             [
              0.0,
              "#0d0887"
             ],
             [
              0.1111111111111111,
              "#46039f"
             ],
             [
              0.2222222222222222,
              "#7201a8"
             ],
             [
              0.3333333333333333,
              "#9c179e"
             ],
             [
              0.4444444444444444,
              "#bd3786"
             ],
             [
              0.5555555555555556,
              "#d8576b"
             ],
             [
              0.6666666666666666,
              "#ed7953"
             ],
             [
              0.7777777777777778,
              "#fb9f3a"
             ],
             [
              0.8888888888888888,
              "#fdca26"
             ],
             [
              1.0,
              "#f0f921"
             ]
            ],
            "type": "heatmapgl"
           }
          ],
          "heatmap": [
           {
            "colorbar": {
             "outlinewidth": 0,
             "ticks": ""
            },
            "colorscale": [
             [
              0.0,
              "#0d0887"
             ],
             [
              0.1111111111111111,
              "#46039f"
             ],
             [
              0.2222222222222222,
              "#7201a8"
             ],
             [
              0.3333333333333333,
              "#9c179e"
             ],
             [
              0.4444444444444444,
              "#bd3786"
             ],
             [
              0.5555555555555556,
              "#d8576b"
             ],
             [
              0.6666666666666666,
              "#ed7953"
             ],
             [
              0.7777777777777778,
              "#fb9f3a"
             ],
             [
              0.8888888888888888,
              "#fdca26"
             ],
             [
              1.0,
              "#f0f921"
             ]
            ],
            "type": "heatmap"
           }
          ],
          "histogram2dcontour": [
           {
            "colorbar": {
             "outlinewidth": 0,
             "ticks": ""
            },
            "colorscale": [
             [
              0.0,
              "#0d0887"
             ],
             [
              0.1111111111111111,
              "#46039f"
             ],
             [
              0.2222222222222222,
              "#7201a8"
             ],
             [
              0.3333333333333333,
              "#9c179e"
             ],
             [
              0.4444444444444444,
              "#bd3786"
             ],
             [
              0.5555555555555556,
              "#d8576b"
             ],
             [
              0.6666666666666666,
              "#ed7953"
             ],
             [
              0.7777777777777778,
              "#fb9f3a"
             ],
             [
              0.8888888888888888,
              "#fdca26"
             ],
             [
              1.0,
              "#f0f921"
             ]
            ],
            "type": "histogram2dcontour"
           }
          ],
          "histogram2d": [
           {
            "colorbar": {
             "outlinewidth": 0,
             "ticks": ""
            },
            "colorscale": [
             [
              0.0,
              "#0d0887"
             ],
             [
              0.1111111111111111,
              "#46039f"
             ],
             [
              0.2222222222222222,
              "#7201a8"
             ],
             [
              0.3333333333333333,
              "#9c179e"
             ],
             [
              0.4444444444444444,
              "#bd3786"
             ],
             [
              0.5555555555555556,
              "#d8576b"
             ],
             [
              0.6666666666666666,
              "#ed7953"
             ],
             [
              0.7777777777777778,
              "#fb9f3a"
             ],
             [
              0.8888888888888888,
              "#fdca26"
             ],
             [
              1.0,
              "#f0f921"
             ]
            ],
            "type": "histogram2d"
           }
          ],
          "histogram": [
           {
            "marker": {
             "pattern": {
              "fillmode": "overlay",
              "size": 10,
              "solidity": 0.2
             }
            },
            "type": "histogram"
           }
          ],
          "mesh3d": [
           {
            "colorbar": {
             "outlinewidth": 0,
             "ticks": ""
            },
            "type": "mesh3d"
           }
          ],
          "parcoords": [
           {
            "line": {
             "colorbar": {
              "outlinewidth": 0,
              "ticks": ""
             }
            },
            "type": "parcoords"
           }
          ],
          "pie": [
           {
            "automargin": true,
            "type": "pie"
           }
          ],
          "scatter3d": [
           {
            "line": {
             "colorbar": {
              "outlinewidth": 0,
              "ticks": ""
             }
            },
            "marker": {
             "colorbar": {
              "outlinewidth": 0,
              "ticks": ""
             }
            },
            "type": "scatter3d"
           }
          ],
          "scattercarpet": [
           {
            "marker": {
             "colorbar": {
              "outlinewidth": 0,
              "ticks": ""
             }
            },
            "type": "scattercarpet"
           }
          ],
          "scattergeo": [
           {
            "marker": {
             "colorbar": {
              "outlinewidth": 0,
              "ticks": ""
             }
            },
            "type": "scattergeo"
           }
          ],
          "scattergl": [
           {
            "marker": {
             "colorbar": {
              "outlinewidth": 0,
              "ticks": ""
             }
            },
            "type": "scattergl"
           }
          ],
          "scattermapbox": [
           {
            "marker": {
             "colorbar": {
              "outlinewidth": 0,
              "ticks": ""
             }
            },
            "type": "scattermapbox"
           }
          ],
          "scatterpolargl": [
           {
            "marker": {
             "colorbar": {
              "outlinewidth": 0,
              "ticks": ""
             }
            },
            "type": "scatterpolargl"
           }
          ],
          "scatterpolar": [
           {
            "marker": {
             "colorbar": {
              "outlinewidth": 0,
              "ticks": ""
             }
            },
            "type": "scatterpolar"
           }
          ],
          "scatter": [
           {
            "fillpattern": {
             "fillmode": "overlay",
             "size": 10,
             "solidity": 0.2
            },
            "type": "scatter"
           }
          ],
          "scatterternary": [
           {
            "marker": {
             "colorbar": {
              "outlinewidth": 0,
              "ticks": ""
             }
            },
            "type": "scatterternary"
           }
          ],
          "surface": [
           {
            "colorbar": {
             "outlinewidth": 0,
             "ticks": ""
            },
            "colorscale": [
             [
              0.0,
              "#0d0887"
             ],
             [
              0.1111111111111111,
              "#46039f"
             ],
             [
              0.2222222222222222,
              "#7201a8"
             ],
             [
              0.3333333333333333,
              "#9c179e"
             ],
             [
              0.4444444444444444,
              "#bd3786"
             ],
             [
              0.5555555555555556,
              "#d8576b"
             ],
             [
              0.6666666666666666,
              "#ed7953"
             ],
             [
              0.7777777777777778,
              "#fb9f3a"
             ],
             [
              0.8888888888888888,
              "#fdca26"
             ],
             [
              1.0,
              "#f0f921"
             ]
            ],
            "type": "surface"
           }
          ],
          "table": [
           {
            "cells": {
             "fill": {
              "color": "#EBF0F8"
             },
             "line": {
              "color": "white"
             }
            },
            "header": {
             "fill": {
              "color": "#C8D4E3"
             },
             "line": {
              "color": "white"
             }
            },
            "type": "table"
           }
          ]
         },
         "layout": {
          "annotationdefaults": {
           "arrowcolor": "#2a3f5f",
           "arrowhead": 0,
           "arrowwidth": 1
          },
          "autotypenumbers": "strict",
          "coloraxis": {
           "colorbar": {
            "outlinewidth": 0,
            "ticks": ""
           }
          },
          "colorscale": {
           "diverging": [
            [
             0,
             "#8e0152"
            ],
            [
             0.1,
             "#c51b7d"
            ],
            [
             0.2,
             "#de77ae"
            ],
            [
             0.3,
             "#f1b6da"
            ],
            [
             0.4,
             "#fde0ef"
            ],
            [
             0.5,
             "#f7f7f7"
            ],
            [
             0.6,
             "#e6f5d0"
            ],
            [
             0.7,
             "#b8e186"
            ],
            [
             0.8,
             "#7fbc41"
            ],
            [
             0.9,
             "#4d9221"
            ],
            [
             1,
             "#276419"
            ]
           ],
           "sequential": [
            [
             0.0,
             "#0d0887"
            ],
            [
             0.1111111111111111,
             "#46039f"
            ],
            [
             0.2222222222222222,
             "#7201a8"
            ],
            [
             0.3333333333333333,
             "#9c179e"
            ],
            [
             0.4444444444444444,
             "#bd3786"
            ],
            [
             0.5555555555555556,
             "#d8576b"
            ],
            [
             0.6666666666666666,
             "#ed7953"
            ],
            [
             0.7777777777777778,
             "#fb9f3a"
            ],
            [
             0.8888888888888888,
             "#fdca26"
            ],
            [
             1.0,
             "#f0f921"
            ]
           ],
           "sequentialminus": [
            [
             0.0,
             "#0d0887"
            ],
            [
             0.1111111111111111,
             "#46039f"
            ],
            [
             0.2222222222222222,
             "#7201a8"
            ],
            [
             0.3333333333333333,
             "#9c179e"
            ],
            [
             0.4444444444444444,
             "#bd3786"
            ],
            [
             0.5555555555555556,
             "#d8576b"
            ],
            [
             0.6666666666666666,
             "#ed7953"
            ],
            [
             0.7777777777777778,
             "#fb9f3a"
            ],
            [
             0.8888888888888888,
             "#fdca26"
            ],
            [
             1.0,
             "#f0f921"
            ]
           ]
          },
          "colorway": [
           "#636efa",
           "#EF553B",
           "#00cc96",
           "#ab63fa",
           "#FFA15A",
           "#19d3f3",
           "#FF6692",
           "#B6E880",
           "#FF97FF",
           "#FECB52"
          ],
          "font": {
           "color": "#2a3f5f"
          },
          "geo": {
           "bgcolor": "white",
           "lakecolor": "white",
           "landcolor": "white",
           "showlakes": true,
           "showland": true,
           "subunitcolor": "#C8D4E3"
          },
          "hoverlabel": {
           "align": "left"
          },
          "hovermode": "closest",
          "mapbox": {
           "style": "light"
          },
          "paper_bgcolor": "white",
          "plot_bgcolor": "white",
          "polar": {
           "angularaxis": {
            "gridcolor": "#EBF0F8",
            "linecolor": "#EBF0F8",
            "ticks": ""
           },
           "bgcolor": "white",
           "radialaxis": {
            "gridcolor": "#EBF0F8",
            "linecolor": "#EBF0F8",
            "ticks": ""
           }
          },
          "scene": {
           "xaxis": {
            "backgroundcolor": "white",
            "gridcolor": "#DFE8F3",
            "gridwidth": 2,
            "linecolor": "#EBF0F8",
            "showbackground": true,
            "ticks": "",
            "zerolinecolor": "#EBF0F8"
           },
           "yaxis": {
            "backgroundcolor": "white",
            "gridcolor": "#DFE8F3",
            "gridwidth": 2,
            "linecolor": "#EBF0F8",
            "showbackground": true,
            "ticks": "",
            "zerolinecolor": "#EBF0F8"
           },
           "zaxis": {
            "backgroundcolor": "white",
            "gridcolor": "#DFE8F3",
            "gridwidth": 2,
            "linecolor": "#EBF0F8",
            "showbackground": true,
            "ticks": "",
            "zerolinecolor": "#EBF0F8"
           }
          },
          "shapedefaults": {
           "line": {
            "color": "#2a3f5f"
           }
          },
          "ternary": {
           "aaxis": {
            "gridcolor": "#DFE8F3",
            "linecolor": "#A2B1C6",
            "ticks": ""
           },
           "baxis": {
            "gridcolor": "#DFE8F3",
            "linecolor": "#A2B1C6",
            "ticks": ""
           },
           "bgcolor": "white",
           "caxis": {
            "gridcolor": "#DFE8F3",
            "linecolor": "#A2B1C6",
            "ticks": ""
           }
          },
          "title": {
           "x": 0.05
          },
          "xaxis": {
           "automargin": true,
           "gridcolor": "#EBF0F8",
           "linecolor": "#EBF0F8",
           "ticks": "",
           "title": {
            "standoff": 15
           },
           "zerolinecolor": "#EBF0F8",
           "zerolinewidth": 2
          },
          "yaxis": {
           "automargin": true,
           "gridcolor": "#EBF0F8",
           "linecolor": "#EBF0F8",
           "ticks": "",
           "title": {
            "standoff": 15
           },
           "zerolinecolor": "#EBF0F8",
           "zerolinewidth": 2
          }
         }
        },
        "xaxis": {
         "anchor": "y",
         "domain": [
          0.0,
          1.0
         ],
         "title": {
          "text": ""
         },
         "categoryorder": "array",
         "categoryarray": [
          "Total cost",
          "Climate change (short term)",
          "Total human health",
          "Total ecosystem quality"
         ]
        },
        "yaxis": {
         "anchor": "x",
         "domain": [
          0.0,
          1.0
         ],
         "title": {
          "text": "Total cost relative to 2021 [%]"
         }
        },
        "legend": {
         "title": {
          "text": "Objective function, variable"
         },
         "tracegroupgap": 0
        },
        "margin": {
         "t": 60
        },
        "barmode": "relative",
        "showlegend": false
       },
       "config": {
        "plotlyServerURL": "https://plot.ly"
       }
      },
      "text/html": [
       "<div>                            <div id=\"8758fec6-060e-45fe-9760-075a01b0faf3\" class=\"plotly-graph-div\" style=\"height:525px; width:100%;\"></div>            <script type=\"text/javascript\">                require([\"plotly\"], function(Plotly) {                    window.PLOTLYENV=window.PLOTLYENV || {};                                    if (document.getElementById(\"8758fec6-060e-45fe-9760-075a01b0faf3\")) {                    Plotly.newPlot(                        \"8758fec6-060e-45fe-9760-075a01b0faf3\",                        [{\"alignmentgroup\":\"True\",\"hovertemplate\":\"Objective function=%{x}\\u003cbr\\u003evariable=Construction\\u003cbr\\u003evalue=%{y}\\u003cextra\\u003e\\u003c\\u002fextra\\u003e\",\"legendgroup\":\"Total cost, Construction\",\"marker\":{\"color\":\"#636efa\",\"pattern\":{\"shape\":\"\"}},\"name\":\"Total cost, Construction\",\"offsetgroup\":\"Total cost, Construction\",\"orientation\":\"v\",\"showlegend\":true,\"textposition\":\"auto\",\"x\":[\"Total cost\"],\"xaxis\":\"x\",\"y\":[36.89178396420381],\"yaxis\":\"y\",\"type\":\"bar\"},{\"alignmentgroup\":\"True\",\"hovertemplate\":\"Objective function=%{x}\\u003cbr\\u003evariable=Operation\\u003cbr\\u003evalue=%{y}\\u003cextra\\u003e\\u003c\\u002fextra\\u003e\",\"legendgroup\":\"Total cost, Operation\",\"marker\":{\"color\":\"#636efa\",\"pattern\":{\"shape\":\"\\u002f\"}},\"name\":\"Total cost, Operation\",\"offsetgroup\":\"Total cost, Operation\",\"orientation\":\"v\",\"showlegend\":true,\"textposition\":\"auto\",\"x\":[\"Total cost\"],\"xaxis\":\"x\",\"y\":[15.319016275932368],\"yaxis\":\"y\",\"type\":\"bar\"},{\"alignmentgroup\":\"True\",\"hovertemplate\":\"Objective function=%{x}\\u003cbr\\u003evariable=Resources\\u003cbr\\u003evalue=%{y}\\u003cextra\\u003e\\u003c\\u002fextra\\u003e\",\"legendgroup\":\"Total cost, Resources\",\"marker\":{\"color\":\"#636efa\",\"pattern\":{\"shape\":\".\"}},\"name\":\"Total cost, Resources\",\"offsetgroup\":\"Total cost, Resources\",\"orientation\":\"v\",\"showlegend\":true,\"textposition\":\"auto\",\"x\":[\"Total cost\"],\"xaxis\":\"x\",\"y\":[1.6481658206915581],\"yaxis\":\"y\",\"type\":\"bar\"},{\"alignmentgroup\":\"True\",\"hovertemplate\":\"Objective function=%{x}\\u003cbr\\u003evariable=Construction\\u003cbr\\u003evalue=%{y}\\u003cextra\\u003e\\u003c\\u002fextra\\u003e\",\"legendgroup\":\"Climate change (short term), Construction\",\"marker\":{\"color\":\"#EF553B\",\"pattern\":{\"shape\":\"\"}},\"name\":\"Climate change (short term), Construction\",\"offsetgroup\":\"Climate change (short term), Construction\",\"orientation\":\"v\",\"showlegend\":true,\"textposition\":\"auto\",\"x\":[\"Climate change (short term)\"],\"xaxis\":\"x\",\"y\":[72.4002592968373],\"yaxis\":\"y\",\"type\":\"bar\"},{\"alignmentgroup\":\"True\",\"hovertemplate\":\"Objective function=%{x}\\u003cbr\\u003evariable=Operation\\u003cbr\\u003evalue=%{y}\\u003cextra\\u003e\\u003c\\u002fextra\\u003e\",\"legendgroup\":\"Climate change (short term), Operation\",\"marker\":{\"color\":\"#EF553B\",\"pattern\":{\"shape\":\"\\u002f\"}},\"name\":\"Climate change (short term), Operation\",\"offsetgroup\":\"Climate change (short term), Operation\",\"orientation\":\"v\",\"showlegend\":true,\"textposition\":\"auto\",\"x\":[\"Climate change (short term)\"],\"xaxis\":\"x\",\"y\":[19.74621720911411],\"yaxis\":\"y\",\"type\":\"bar\"},{\"alignmentgroup\":\"True\",\"hovertemplate\":\"Objective function=%{x}\\u003cbr\\u003evariable=Resources\\u003cbr\\u003evalue=%{y}\\u003cextra\\u003e\\u003c\\u002fextra\\u003e\",\"legendgroup\":\"Climate change (short term), Resources\",\"marker\":{\"color\":\"#EF553B\",\"pattern\":{\"shape\":\".\"}},\"name\":\"Climate change (short term), Resources\",\"offsetgroup\":\"Climate change (short term), Resources\",\"orientation\":\"v\",\"showlegend\":true,\"textposition\":\"auto\",\"x\":[\"Climate change (short term)\"],\"xaxis\":\"x\",\"y\":[4.225027077099993],\"yaxis\":\"y\",\"type\":\"bar\"},{\"alignmentgroup\":\"True\",\"hovertemplate\":\"Objective function=%{x}\\u003cbr\\u003evariable=Construction\\u003cbr\\u003evalue=%{y}\\u003cextra\\u003e\\u003c\\u002fextra\\u003e\",\"legendgroup\":\"Total human health, Construction\",\"marker\":{\"color\":\"#00cc96\",\"pattern\":{\"shape\":\"\"}},\"name\":\"Total human health, Construction\",\"offsetgroup\":\"Total human health, Construction\",\"orientation\":\"v\",\"showlegend\":true,\"textposition\":\"auto\",\"x\":[\"Total human health\"],\"xaxis\":\"x\",\"y\":[66.32850807584668],\"yaxis\":\"y\",\"type\":\"bar\"},{\"alignmentgroup\":\"True\",\"hovertemplate\":\"Objective function=%{x}\\u003cbr\\u003evariable=Operation\\u003cbr\\u003evalue=%{y}\\u003cextra\\u003e\\u003c\\u002fextra\\u003e\",\"legendgroup\":\"Total human health, Operation\",\"marker\":{\"color\":\"#00cc96\",\"pattern\":{\"shape\":\"\\u002f\"}},\"name\":\"Total human health, Operation\",\"offsetgroup\":\"Total human health, Operation\",\"orientation\":\"v\",\"showlegend\":true,\"textposition\":\"auto\",\"x\":[\"Total human health\"],\"xaxis\":\"x\",\"y\":[17.41954981801766],\"yaxis\":\"y\",\"type\":\"bar\"},{\"alignmentgroup\":\"True\",\"hovertemplate\":\"Objective function=%{x}\\u003cbr\\u003evariable=Resources\\u003cbr\\u003evalue=%{y}\\u003cextra\\u003e\\u003c\\u002fextra\\u003e\",\"legendgroup\":\"Total human health, Resources\",\"marker\":{\"color\":\"#00cc96\",\"pattern\":{\"shape\":\".\"}},\"name\":\"Total human health, Resources\",\"offsetgroup\":\"Total human health, Resources\",\"orientation\":\"v\",\"showlegend\":true,\"textposition\":\"auto\",\"x\":[\"Total human health\"],\"xaxis\":\"x\",\"y\":[2.0755247278338187],\"yaxis\":\"y\",\"type\":\"bar\"},{\"alignmentgroup\":\"True\",\"hovertemplate\":\"Objective function=%{x}\\u003cbr\\u003evariable=Construction\\u003cbr\\u003evalue=%{y}\\u003cextra\\u003e\\u003c\\u002fextra\\u003e\",\"legendgroup\":\"Total ecosystem quality, Construction\",\"marker\":{\"color\":\"#ab63fa\",\"pattern\":{\"shape\":\"\"}},\"name\":\"Total ecosystem quality, Construction\",\"offsetgroup\":\"Total ecosystem quality, Construction\",\"orientation\":\"v\",\"showlegend\":true,\"textposition\":\"auto\",\"x\":[\"Total ecosystem quality\"],\"xaxis\":\"x\",\"y\":[191.13722265000516],\"yaxis\":\"y\",\"type\":\"bar\"},{\"alignmentgroup\":\"True\",\"hovertemplate\":\"Objective function=%{x}\\u003cbr\\u003evariable=Operation\\u003cbr\\u003evalue=%{y}\\u003cextra\\u003e\\u003c\\u002fextra\\u003e\",\"legendgroup\":\"Total ecosystem quality, Operation\",\"marker\":{\"color\":\"#ab63fa\",\"pattern\":{\"shape\":\"\\u002f\"}},\"name\":\"Total ecosystem quality, Operation\",\"offsetgroup\":\"Total ecosystem quality, Operation\",\"orientation\":\"v\",\"showlegend\":true,\"textposition\":\"auto\",\"x\":[\"Total ecosystem quality\"],\"xaxis\":\"x\",\"y\":[17.371288831005007],\"yaxis\":\"y\",\"type\":\"bar\"},{\"alignmentgroup\":\"True\",\"hovertemplate\":\"Objective function=%{x}\\u003cbr\\u003evariable=Resources\\u003cbr\\u003evalue=%{y}\\u003cextra\\u003e\\u003c\\u002fextra\\u003e\",\"legendgroup\":\"Total ecosystem quality, Resources\",\"marker\":{\"color\":\"#ab63fa\",\"pattern\":{\"shape\":\".\"}},\"name\":\"Total ecosystem quality, Resources\",\"offsetgroup\":\"Total ecosystem quality, Resources\",\"orientation\":\"v\",\"showlegend\":true,\"textposition\":\"auto\",\"x\":[\"Total ecosystem quality\"],\"xaxis\":\"x\",\"y\":[2.091256965265275],\"yaxis\":\"y\",\"type\":\"bar\"}],                        {\"template\":{\"data\":{\"barpolar\":[{\"marker\":{\"line\":{\"color\":\"white\",\"width\":0.5},\"pattern\":{\"fillmode\":\"overlay\",\"size\":10,\"solidity\":0.2}},\"type\":\"barpolar\"}],\"bar\":[{\"error_x\":{\"color\":\"#2a3f5f\"},\"error_y\":{\"color\":\"#2a3f5f\"},\"marker\":{\"line\":{\"color\":\"white\",\"width\":0.5},\"pattern\":{\"fillmode\":\"overlay\",\"size\":10,\"solidity\":0.2}},\"type\":\"bar\"}],\"carpet\":[{\"aaxis\":{\"endlinecolor\":\"#2a3f5f\",\"gridcolor\":\"#C8D4E3\",\"linecolor\":\"#C8D4E3\",\"minorgridcolor\":\"#C8D4E3\",\"startlinecolor\":\"#2a3f5f\"},\"baxis\":{\"endlinecolor\":\"#2a3f5f\",\"gridcolor\":\"#C8D4E3\",\"linecolor\":\"#C8D4E3\",\"minorgridcolor\":\"#C8D4E3\",\"startlinecolor\":\"#2a3f5f\"},\"type\":\"carpet\"}],\"choropleth\":[{\"colorbar\":{\"outlinewidth\":0,\"ticks\":\"\"},\"type\":\"choropleth\"}],\"contourcarpet\":[{\"colorbar\":{\"outlinewidth\":0,\"ticks\":\"\"},\"type\":\"contourcarpet\"}],\"contour\":[{\"colorbar\":{\"outlinewidth\":0,\"ticks\":\"\"},\"colorscale\":[[0.0,\"#0d0887\"],[0.1111111111111111,\"#46039f\"],[0.2222222222222222,\"#7201a8\"],[0.3333333333333333,\"#9c179e\"],[0.4444444444444444,\"#bd3786\"],[0.5555555555555556,\"#d8576b\"],[0.6666666666666666,\"#ed7953\"],[0.7777777777777778,\"#fb9f3a\"],[0.8888888888888888,\"#fdca26\"],[1.0,\"#f0f921\"]],\"type\":\"contour\"}],\"heatmapgl\":[{\"colorbar\":{\"outlinewidth\":0,\"ticks\":\"\"},\"colorscale\":[[0.0,\"#0d0887\"],[0.1111111111111111,\"#46039f\"],[0.2222222222222222,\"#7201a8\"],[0.3333333333333333,\"#9c179e\"],[0.4444444444444444,\"#bd3786\"],[0.5555555555555556,\"#d8576b\"],[0.6666666666666666,\"#ed7953\"],[0.7777777777777778,\"#fb9f3a\"],[0.8888888888888888,\"#fdca26\"],[1.0,\"#f0f921\"]],\"type\":\"heatmapgl\"}],\"heatmap\":[{\"colorbar\":{\"outlinewidth\":0,\"ticks\":\"\"},\"colorscale\":[[0.0,\"#0d0887\"],[0.1111111111111111,\"#46039f\"],[0.2222222222222222,\"#7201a8\"],[0.3333333333333333,\"#9c179e\"],[0.4444444444444444,\"#bd3786\"],[0.5555555555555556,\"#d8576b\"],[0.6666666666666666,\"#ed7953\"],[0.7777777777777778,\"#fb9f3a\"],[0.8888888888888888,\"#fdca26\"],[1.0,\"#f0f921\"]],\"type\":\"heatmap\"}],\"histogram2dcontour\":[{\"colorbar\":{\"outlinewidth\":0,\"ticks\":\"\"},\"colorscale\":[[0.0,\"#0d0887\"],[0.1111111111111111,\"#46039f\"],[0.2222222222222222,\"#7201a8\"],[0.3333333333333333,\"#9c179e\"],[0.4444444444444444,\"#bd3786\"],[0.5555555555555556,\"#d8576b\"],[0.6666666666666666,\"#ed7953\"],[0.7777777777777778,\"#fb9f3a\"],[0.8888888888888888,\"#fdca26\"],[1.0,\"#f0f921\"]],\"type\":\"histogram2dcontour\"}],\"histogram2d\":[{\"colorbar\":{\"outlinewidth\":0,\"ticks\":\"\"},\"colorscale\":[[0.0,\"#0d0887\"],[0.1111111111111111,\"#46039f\"],[0.2222222222222222,\"#7201a8\"],[0.3333333333333333,\"#9c179e\"],[0.4444444444444444,\"#bd3786\"],[0.5555555555555556,\"#d8576b\"],[0.6666666666666666,\"#ed7953\"],[0.7777777777777778,\"#fb9f3a\"],[0.8888888888888888,\"#fdca26\"],[1.0,\"#f0f921\"]],\"type\":\"histogram2d\"}],\"histogram\":[{\"marker\":{\"pattern\":{\"fillmode\":\"overlay\",\"size\":10,\"solidity\":0.2}},\"type\":\"histogram\"}],\"mesh3d\":[{\"colorbar\":{\"outlinewidth\":0,\"ticks\":\"\"},\"type\":\"mesh3d\"}],\"parcoords\":[{\"line\":{\"colorbar\":{\"outlinewidth\":0,\"ticks\":\"\"}},\"type\":\"parcoords\"}],\"pie\":[{\"automargin\":true,\"type\":\"pie\"}],\"scatter3d\":[{\"line\":{\"colorbar\":{\"outlinewidth\":0,\"ticks\":\"\"}},\"marker\":{\"colorbar\":{\"outlinewidth\":0,\"ticks\":\"\"}},\"type\":\"scatter3d\"}],\"scattercarpet\":[{\"marker\":{\"colorbar\":{\"outlinewidth\":0,\"ticks\":\"\"}},\"type\":\"scattercarpet\"}],\"scattergeo\":[{\"marker\":{\"colorbar\":{\"outlinewidth\":0,\"ticks\":\"\"}},\"type\":\"scattergeo\"}],\"scattergl\":[{\"marker\":{\"colorbar\":{\"outlinewidth\":0,\"ticks\":\"\"}},\"type\":\"scattergl\"}],\"scattermapbox\":[{\"marker\":{\"colorbar\":{\"outlinewidth\":0,\"ticks\":\"\"}},\"type\":\"scattermapbox\"}],\"scatterpolargl\":[{\"marker\":{\"colorbar\":{\"outlinewidth\":0,\"ticks\":\"\"}},\"type\":\"scatterpolargl\"}],\"scatterpolar\":[{\"marker\":{\"colorbar\":{\"outlinewidth\":0,\"ticks\":\"\"}},\"type\":\"scatterpolar\"}],\"scatter\":[{\"fillpattern\":{\"fillmode\":\"overlay\",\"size\":10,\"solidity\":0.2},\"type\":\"scatter\"}],\"scatterternary\":[{\"marker\":{\"colorbar\":{\"outlinewidth\":0,\"ticks\":\"\"}},\"type\":\"scatterternary\"}],\"surface\":[{\"colorbar\":{\"outlinewidth\":0,\"ticks\":\"\"},\"colorscale\":[[0.0,\"#0d0887\"],[0.1111111111111111,\"#46039f\"],[0.2222222222222222,\"#7201a8\"],[0.3333333333333333,\"#9c179e\"],[0.4444444444444444,\"#bd3786\"],[0.5555555555555556,\"#d8576b\"],[0.6666666666666666,\"#ed7953\"],[0.7777777777777778,\"#fb9f3a\"],[0.8888888888888888,\"#fdca26\"],[1.0,\"#f0f921\"]],\"type\":\"surface\"}],\"table\":[{\"cells\":{\"fill\":{\"color\":\"#EBF0F8\"},\"line\":{\"color\":\"white\"}},\"header\":{\"fill\":{\"color\":\"#C8D4E3\"},\"line\":{\"color\":\"white\"}},\"type\":\"table\"}]},\"layout\":{\"annotationdefaults\":{\"arrowcolor\":\"#2a3f5f\",\"arrowhead\":0,\"arrowwidth\":1},\"autotypenumbers\":\"strict\",\"coloraxis\":{\"colorbar\":{\"outlinewidth\":0,\"ticks\":\"\"}},\"colorscale\":{\"diverging\":[[0,\"#8e0152\"],[0.1,\"#c51b7d\"],[0.2,\"#de77ae\"],[0.3,\"#f1b6da\"],[0.4,\"#fde0ef\"],[0.5,\"#f7f7f7\"],[0.6,\"#e6f5d0\"],[0.7,\"#b8e186\"],[0.8,\"#7fbc41\"],[0.9,\"#4d9221\"],[1,\"#276419\"]],\"sequential\":[[0.0,\"#0d0887\"],[0.1111111111111111,\"#46039f\"],[0.2222222222222222,\"#7201a8\"],[0.3333333333333333,\"#9c179e\"],[0.4444444444444444,\"#bd3786\"],[0.5555555555555556,\"#d8576b\"],[0.6666666666666666,\"#ed7953\"],[0.7777777777777778,\"#fb9f3a\"],[0.8888888888888888,\"#fdca26\"],[1.0,\"#f0f921\"]],\"sequentialminus\":[[0.0,\"#0d0887\"],[0.1111111111111111,\"#46039f\"],[0.2222222222222222,\"#7201a8\"],[0.3333333333333333,\"#9c179e\"],[0.4444444444444444,\"#bd3786\"],[0.5555555555555556,\"#d8576b\"],[0.6666666666666666,\"#ed7953\"],[0.7777777777777778,\"#fb9f3a\"],[0.8888888888888888,\"#fdca26\"],[1.0,\"#f0f921\"]]},\"colorway\":[\"#636efa\",\"#EF553B\",\"#00cc96\",\"#ab63fa\",\"#FFA15A\",\"#19d3f3\",\"#FF6692\",\"#B6E880\",\"#FF97FF\",\"#FECB52\"],\"font\":{\"color\":\"#2a3f5f\"},\"geo\":{\"bgcolor\":\"white\",\"lakecolor\":\"white\",\"landcolor\":\"white\",\"showlakes\":true,\"showland\":true,\"subunitcolor\":\"#C8D4E3\"},\"hoverlabel\":{\"align\":\"left\"},\"hovermode\":\"closest\",\"mapbox\":{\"style\":\"light\"},\"paper_bgcolor\":\"white\",\"plot_bgcolor\":\"white\",\"polar\":{\"angularaxis\":{\"gridcolor\":\"#EBF0F8\",\"linecolor\":\"#EBF0F8\",\"ticks\":\"\"},\"bgcolor\":\"white\",\"radialaxis\":{\"gridcolor\":\"#EBF0F8\",\"linecolor\":\"#EBF0F8\",\"ticks\":\"\"}},\"scene\":{\"xaxis\":{\"backgroundcolor\":\"white\",\"gridcolor\":\"#DFE8F3\",\"gridwidth\":2,\"linecolor\":\"#EBF0F8\",\"showbackground\":true,\"ticks\":\"\",\"zerolinecolor\":\"#EBF0F8\"},\"yaxis\":{\"backgroundcolor\":\"white\",\"gridcolor\":\"#DFE8F3\",\"gridwidth\":2,\"linecolor\":\"#EBF0F8\",\"showbackground\":true,\"ticks\":\"\",\"zerolinecolor\":\"#EBF0F8\"},\"zaxis\":{\"backgroundcolor\":\"white\",\"gridcolor\":\"#DFE8F3\",\"gridwidth\":2,\"linecolor\":\"#EBF0F8\",\"showbackground\":true,\"ticks\":\"\",\"zerolinecolor\":\"#EBF0F8\"}},\"shapedefaults\":{\"line\":{\"color\":\"#2a3f5f\"}},\"ternary\":{\"aaxis\":{\"gridcolor\":\"#DFE8F3\",\"linecolor\":\"#A2B1C6\",\"ticks\":\"\"},\"baxis\":{\"gridcolor\":\"#DFE8F3\",\"linecolor\":\"#A2B1C6\",\"ticks\":\"\"},\"bgcolor\":\"white\",\"caxis\":{\"gridcolor\":\"#DFE8F3\",\"linecolor\":\"#A2B1C6\",\"ticks\":\"\"}},\"title\":{\"x\":0.05},\"xaxis\":{\"automargin\":true,\"gridcolor\":\"#EBF0F8\",\"linecolor\":\"#EBF0F8\",\"ticks\":\"\",\"title\":{\"standoff\":15},\"zerolinecolor\":\"#EBF0F8\",\"zerolinewidth\":2},\"yaxis\":{\"automargin\":true,\"gridcolor\":\"#EBF0F8\",\"linecolor\":\"#EBF0F8\",\"ticks\":\"\",\"title\":{\"standoff\":15},\"zerolinecolor\":\"#EBF0F8\",\"zerolinewidth\":2}}},\"xaxis\":{\"anchor\":\"y\",\"domain\":[0.0,1.0],\"title\":{\"text\":\"\"},\"categoryorder\":\"array\",\"categoryarray\":[\"Total cost\",\"Climate change (short term)\",\"Total human health\",\"Total ecosystem quality\"]},\"yaxis\":{\"anchor\":\"x\",\"domain\":[0.0,1.0],\"title\":{\"text\":\"Total cost relative to 2021 [%]\"}},\"legend\":{\"title\":{\"text\":\"Objective function, variable\"},\"tracegroupgap\":0},\"margin\":{\"t\":60},\"barmode\":\"relative\",\"showlegend\":false},                        {\"responsive\": true}                    ).then(function(){\n",
       "                            \n",
       "var gd = document.getElementById('8758fec6-060e-45fe-9760-075a01b0faf3');\n",
       "var x = new MutationObserver(function (mutations, observer) {{\n",
       "        var display = window.getComputedStyle(gd).display;\n",
       "        if (!display || display === 'none') {{\n",
       "            console.log([gd, 'removed!']);\n",
       "            Plotly.purge(gd);\n",
       "            observer.disconnect();\n",
       "        }}\n",
       "}});\n",
       "\n",
       "// Listen for the removal of the full notebook cells\n",
       "var notebookContainer = gd.closest('#notebook-container');\n",
       "if (notebookContainer) {{\n",
       "    x.observe(notebookContainer, {childList: true});\n",
       "}}\n",
       "\n",
       "// Listen for the clearing of the current output cell\n",
       "var outputEl = gd.closest('.output');\n",
       "if (outputEl) {{\n",
       "    x.observe(outputEl, {childList: true});\n",
       "}}\n",
       "\n",
       "                        })                };                });            </script>        </div>"
      ]
     },
     "metadata": {},
     "output_type": "display_data"
    },
    {
     "data": {
      "application/vnd.plotly.v1+json": {
       "data": [
        {
         "alignmentgroup": "True",
         "hovertemplate": "Objective function=%{x}<br>variable=Construction<br>value=%{y}<extra></extra>",
         "legendgroup": "Total cost, Construction",
         "marker": {
          "color": "#636efa",
          "pattern": {
           "shape": ""
          }
         },
         "name": "Total cost, Construction",
         "offsetgroup": "Total cost, Construction",
         "orientation": "v",
         "showlegend": true,
         "textposition": "auto",
         "x": [
          "Total cost"
         ],
         "xaxis": "x",
         "y": [
          14.93621849596625
         ],
         "yaxis": "y",
         "type": "bar"
        },
        {
         "alignmentgroup": "True",
         "hovertemplate": "Objective function=%{x}<br>variable=Operation<br>value=%{y}<extra></extra>",
         "legendgroup": "Total cost, Operation",
         "marker": {
          "color": "#636efa",
          "pattern": {
           "shape": "/"
          }
         },
         "name": "Total cost, Operation",
         "offsetgroup": "Total cost, Operation",
         "orientation": "v",
         "showlegend": true,
         "textposition": "auto",
         "x": [
          "Total cost"
         ],
         "xaxis": "x",
         "y": [
          27.996608762209963
         ],
         "yaxis": "y",
         "type": "bar"
        },
        {
         "alignmentgroup": "True",
         "hovertemplate": "Objective function=%{x}<br>variable=Resources<br>value=%{y}<extra></extra>",
         "legendgroup": "Total cost, Resources",
         "marker": {
          "color": "#636efa",
          "pattern": {
           "shape": "."
          }
         },
         "name": "Total cost, Resources",
         "offsetgroup": "Total cost, Resources",
         "orientation": "v",
         "showlegend": true,
         "textposition": "auto",
         "x": [
          "Total cost"
         ],
         "xaxis": "x",
         "y": [
          5.7477148624331065
         ],
         "yaxis": "y",
         "type": "bar"
        },
        {
         "alignmentgroup": "True",
         "hovertemplate": "Objective function=%{x}<br>variable=Construction<br>value=%{y}<extra></extra>",
         "legendgroup": "Climate change (short term), Construction",
         "marker": {
          "color": "#EF553B",
          "pattern": {
           "shape": ""
          }
         },
         "name": "Climate change (short term), Construction",
         "offsetgroup": "Climate change (short term), Construction",
         "orientation": "v",
         "showlegend": true,
         "textposition": "auto",
         "x": [
          "Climate change (short term)"
         ],
         "xaxis": "x",
         "y": [
          8.939780191794018
         ],
         "yaxis": "y",
         "type": "bar"
        },
        {
         "alignmentgroup": "True",
         "hovertemplate": "Objective function=%{x}<br>variable=Operation<br>value=%{y}<extra></extra>",
         "legendgroup": "Climate change (short term), Operation",
         "marker": {
          "color": "#EF553B",
          "pattern": {
           "shape": "/"
          }
         },
         "name": "Climate change (short term), Operation",
         "offsetgroup": "Climate change (short term), Operation",
         "orientation": "v",
         "showlegend": true,
         "textposition": "auto",
         "x": [
          "Climate change (short term)"
         ],
         "xaxis": "x",
         "y": [
          10.523145037372043
         ],
         "yaxis": "y",
         "type": "bar"
        },
        {
         "alignmentgroup": "True",
         "hovertemplate": "Objective function=%{x}<br>variable=Resources<br>value=%{y}<extra></extra>",
         "legendgroup": "Climate change (short term), Resources",
         "marker": {
          "color": "#EF553B",
          "pattern": {
           "shape": "."
          }
         },
         "name": "Climate change (short term), Resources",
         "offsetgroup": "Climate change (short term), Resources",
         "orientation": "v",
         "showlegend": true,
         "textposition": "auto",
         "x": [
          "Climate change (short term)"
         ],
         "xaxis": "x",
         "y": [
          0.954084354433688
         ],
         "yaxis": "y",
         "type": "bar"
        },
        {
         "alignmentgroup": "True",
         "hovertemplate": "Objective function=%{x}<br>variable=Construction<br>value=%{y}<extra></extra>",
         "legendgroup": "Total human health, Construction",
         "marker": {
          "color": "#00cc96",
          "pattern": {
           "shape": ""
          }
         },
         "name": "Total human health, Construction",
         "offsetgroup": "Total human health, Construction",
         "orientation": "v",
         "showlegend": true,
         "textposition": "auto",
         "x": [
          "Total human health"
         ],
         "xaxis": "x",
         "y": [
          9.446419327496853
         ],
         "yaxis": "y",
         "type": "bar"
        },
        {
         "alignmentgroup": "True",
         "hovertemplate": "Objective function=%{x}<br>variable=Operation<br>value=%{y}<extra></extra>",
         "legendgroup": "Total human health, Operation",
         "marker": {
          "color": "#00cc96",
          "pattern": {
           "shape": "/"
          }
         },
         "name": "Total human health, Operation",
         "offsetgroup": "Total human health, Operation",
         "orientation": "v",
         "showlegend": true,
         "textposition": "auto",
         "x": [
          "Total human health"
         ],
         "xaxis": "x",
         "y": [
          11.356675044636368
         ],
         "yaxis": "y",
         "type": "bar"
        },
        {
         "alignmentgroup": "True",
         "hovertemplate": "Objective function=%{x}<br>variable=Resources<br>value=%{y}<extra></extra>",
         "legendgroup": "Total human health, Resources",
         "marker": {
          "color": "#00cc96",
          "pattern": {
           "shape": "."
          }
         },
         "name": "Total human health, Resources",
         "offsetgroup": "Total human health, Resources",
         "orientation": "v",
         "showlegend": true,
         "textposition": "auto",
         "x": [
          "Total human health"
         ],
         "xaxis": "x",
         "y": [
          0.43778208251218304
         ],
         "yaxis": "y",
         "type": "bar"
        },
        {
         "alignmentgroup": "True",
         "hovertemplate": "Objective function=%{x}<br>variable=Construction<br>value=%{y}<extra></extra>",
         "legendgroup": "Total ecosystem quality, Construction",
         "marker": {
          "color": "#ab63fa",
          "pattern": {
           "shape": ""
          }
         },
         "name": "Total ecosystem quality, Construction",
         "offsetgroup": "Total ecosystem quality, Construction",
         "orientation": "v",
         "showlegend": true,
         "textposition": "auto",
         "x": [
          "Total ecosystem quality"
         ],
         "xaxis": "x",
         "y": [
          9.416162109604343
         ],
         "yaxis": "y",
         "type": "bar"
        },
        {
         "alignmentgroup": "True",
         "hovertemplate": "Objective function=%{x}<br>variable=Operation<br>value=%{y}<extra></extra>",
         "legendgroup": "Total ecosystem quality, Operation",
         "marker": {
          "color": "#ab63fa",
          "pattern": {
           "shape": "/"
          }
         },
         "name": "Total ecosystem quality, Operation",
         "offsetgroup": "Total ecosystem quality, Operation",
         "orientation": "v",
         "showlegend": true,
         "textposition": "auto",
         "x": [
          "Total ecosystem quality"
         ],
         "xaxis": "x",
         "y": [
          11.518329141203898
         ],
         "yaxis": "y",
         "type": "bar"
        },
        {
         "alignmentgroup": "True",
         "hovertemplate": "Objective function=%{x}<br>variable=Resources<br>value=%{y}<extra></extra>",
         "legendgroup": "Total ecosystem quality, Resources",
         "marker": {
          "color": "#ab63fa",
          "pattern": {
           "shape": "."
          }
         },
         "name": "Total ecosystem quality, Resources",
         "offsetgroup": "Total ecosystem quality, Resources",
         "orientation": "v",
         "showlegend": true,
         "textposition": "auto",
         "x": [
          "Total ecosystem quality"
         ],
         "xaxis": "x",
         "y": [
          0.44050784017254774
         ],
         "yaxis": "y",
         "type": "bar"
        }
       ],
       "layout": {
        "template": {
         "data": {
          "barpolar": [
           {
            "marker": {
             "line": {
              "color": "white",
              "width": 0.5
             },
             "pattern": {
              "fillmode": "overlay",
              "size": 10,
              "solidity": 0.2
             }
            },
            "type": "barpolar"
           }
          ],
          "bar": [
           {
            "error_x": {
             "color": "#2a3f5f"
            },
            "error_y": {
             "color": "#2a3f5f"
            },
            "marker": {
             "line": {
              "color": "white",
              "width": 0.5
             },
             "pattern": {
              "fillmode": "overlay",
              "size": 10,
              "solidity": 0.2
             }
            },
            "type": "bar"
           }
          ],
          "carpet": [
           {
            "aaxis": {
             "endlinecolor": "#2a3f5f",
             "gridcolor": "#C8D4E3",
             "linecolor": "#C8D4E3",
             "minorgridcolor": "#C8D4E3",
             "startlinecolor": "#2a3f5f"
            },
            "baxis": {
             "endlinecolor": "#2a3f5f",
             "gridcolor": "#C8D4E3",
             "linecolor": "#C8D4E3",
             "minorgridcolor": "#C8D4E3",
             "startlinecolor": "#2a3f5f"
            },
            "type": "carpet"
           }
          ],
          "choropleth": [
           {
            "colorbar": {
             "outlinewidth": 0,
             "ticks": ""
            },
            "type": "choropleth"
           }
          ],
          "contourcarpet": [
           {
            "colorbar": {
             "outlinewidth": 0,
             "ticks": ""
            },
            "type": "contourcarpet"
           }
          ],
          "contour": [
           {
            "colorbar": {
             "outlinewidth": 0,
             "ticks": ""
            },
            "colorscale": [
             [
              0.0,
              "#0d0887"
             ],
             [
              0.1111111111111111,
              "#46039f"
             ],
             [
              0.2222222222222222,
              "#7201a8"
             ],
             [
              0.3333333333333333,
              "#9c179e"
             ],
             [
              0.4444444444444444,
              "#bd3786"
             ],
             [
              0.5555555555555556,
              "#d8576b"
             ],
             [
              0.6666666666666666,
              "#ed7953"
             ],
             [
              0.7777777777777778,
              "#fb9f3a"
             ],
             [
              0.8888888888888888,
              "#fdca26"
             ],
             [
              1.0,
              "#f0f921"
             ]
            ],
            "type": "contour"
           }
          ],
          "heatmapgl": [
           {
            "colorbar": {
             "outlinewidth": 0,
             "ticks": ""
            },
            "colorscale": [
             [
              0.0,
              "#0d0887"
             ],
             [
              0.1111111111111111,
              "#46039f"
             ],
             [
              0.2222222222222222,
              "#7201a8"
             ],
             [
              0.3333333333333333,
              "#9c179e"
             ],
             [
              0.4444444444444444,
              "#bd3786"
             ],
             [
              0.5555555555555556,
              "#d8576b"
             ],
             [
              0.6666666666666666,
              "#ed7953"
             ],
             [
              0.7777777777777778,
              "#fb9f3a"
             ],
             [
              0.8888888888888888,
              "#fdca26"
             ],
             [
              1.0,
              "#f0f921"
             ]
            ],
            "type": "heatmapgl"
           }
          ],
          "heatmap": [
           {
            "colorbar": {
             "outlinewidth": 0,
             "ticks": ""
            },
            "colorscale": [
             [
              0.0,
              "#0d0887"
             ],
             [
              0.1111111111111111,
              "#46039f"
             ],
             [
              0.2222222222222222,
              "#7201a8"
             ],
             [
              0.3333333333333333,
              "#9c179e"
             ],
             [
              0.4444444444444444,
              "#bd3786"
             ],
             [
              0.5555555555555556,
              "#d8576b"
             ],
             [
              0.6666666666666666,
              "#ed7953"
             ],
             [
              0.7777777777777778,
              "#fb9f3a"
             ],
             [
              0.8888888888888888,
              "#fdca26"
             ],
             [
              1.0,
              "#f0f921"
             ]
            ],
            "type": "heatmap"
           }
          ],
          "histogram2dcontour": [
           {
            "colorbar": {
             "outlinewidth": 0,
             "ticks": ""
            },
            "colorscale": [
             [
              0.0,
              "#0d0887"
             ],
             [
              0.1111111111111111,
              "#46039f"
             ],
             [
              0.2222222222222222,
              "#7201a8"
             ],
             [
              0.3333333333333333,
              "#9c179e"
             ],
             [
              0.4444444444444444,
              "#bd3786"
             ],
             [
              0.5555555555555556,
              "#d8576b"
             ],
             [
              0.6666666666666666,
              "#ed7953"
             ],
             [
              0.7777777777777778,
              "#fb9f3a"
             ],
             [
              0.8888888888888888,
              "#fdca26"
             ],
             [
              1.0,
              "#f0f921"
             ]
            ],
            "type": "histogram2dcontour"
           }
          ],
          "histogram2d": [
           {
            "colorbar": {
             "outlinewidth": 0,
             "ticks": ""
            },
            "colorscale": [
             [
              0.0,
              "#0d0887"
             ],
             [
              0.1111111111111111,
              "#46039f"
             ],
             [
              0.2222222222222222,
              "#7201a8"
             ],
             [
              0.3333333333333333,
              "#9c179e"
             ],
             [
              0.4444444444444444,
              "#bd3786"
             ],
             [
              0.5555555555555556,
              "#d8576b"
             ],
             [
              0.6666666666666666,
              "#ed7953"
             ],
             [
              0.7777777777777778,
              "#fb9f3a"
             ],
             [
              0.8888888888888888,
              "#fdca26"
             ],
             [
              1.0,
              "#f0f921"
             ]
            ],
            "type": "histogram2d"
           }
          ],
          "histogram": [
           {
            "marker": {
             "pattern": {
              "fillmode": "overlay",
              "size": 10,
              "solidity": 0.2
             }
            },
            "type": "histogram"
           }
          ],
          "mesh3d": [
           {
            "colorbar": {
             "outlinewidth": 0,
             "ticks": ""
            },
            "type": "mesh3d"
           }
          ],
          "parcoords": [
           {
            "line": {
             "colorbar": {
              "outlinewidth": 0,
              "ticks": ""
             }
            },
            "type": "parcoords"
           }
          ],
          "pie": [
           {
            "automargin": true,
            "type": "pie"
           }
          ],
          "scatter3d": [
           {
            "line": {
             "colorbar": {
              "outlinewidth": 0,
              "ticks": ""
             }
            },
            "marker": {
             "colorbar": {
              "outlinewidth": 0,
              "ticks": ""
             }
            },
            "type": "scatter3d"
           }
          ],
          "scattercarpet": [
           {
            "marker": {
             "colorbar": {
              "outlinewidth": 0,
              "ticks": ""
             }
            },
            "type": "scattercarpet"
           }
          ],
          "scattergeo": [
           {
            "marker": {
             "colorbar": {
              "outlinewidth": 0,
              "ticks": ""
             }
            },
            "type": "scattergeo"
           }
          ],
          "scattergl": [
           {
            "marker": {
             "colorbar": {
              "outlinewidth": 0,
              "ticks": ""
             }
            },
            "type": "scattergl"
           }
          ],
          "scattermapbox": [
           {
            "marker": {
             "colorbar": {
              "outlinewidth": 0,
              "ticks": ""
             }
            },
            "type": "scattermapbox"
           }
          ],
          "scatterpolargl": [
           {
            "marker": {
             "colorbar": {
              "outlinewidth": 0,
              "ticks": ""
             }
            },
            "type": "scatterpolargl"
           }
          ],
          "scatterpolar": [
           {
            "marker": {
             "colorbar": {
              "outlinewidth": 0,
              "ticks": ""
             }
            },
            "type": "scatterpolar"
           }
          ],
          "scatter": [
           {
            "fillpattern": {
             "fillmode": "overlay",
             "size": 10,
             "solidity": 0.2
            },
            "type": "scatter"
           }
          ],
          "scatterternary": [
           {
            "marker": {
             "colorbar": {
              "outlinewidth": 0,
              "ticks": ""
             }
            },
            "type": "scatterternary"
           }
          ],
          "surface": [
           {
            "colorbar": {
             "outlinewidth": 0,
             "ticks": ""
            },
            "colorscale": [
             [
              0.0,
              "#0d0887"
             ],
             [
              0.1111111111111111,
              "#46039f"
             ],
             [
              0.2222222222222222,
              "#7201a8"
             ],
             [
              0.3333333333333333,
              "#9c179e"
             ],
             [
              0.4444444444444444,
              "#bd3786"
             ],
             [
              0.5555555555555556,
              "#d8576b"
             ],
             [
              0.6666666666666666,
              "#ed7953"
             ],
             [
              0.7777777777777778,
              "#fb9f3a"
             ],
             [
              0.8888888888888888,
              "#fdca26"
             ],
             [
              1.0,
              "#f0f921"
             ]
            ],
            "type": "surface"
           }
          ],
          "table": [
           {
            "cells": {
             "fill": {
              "color": "#EBF0F8"
             },
             "line": {
              "color": "white"
             }
            },
            "header": {
             "fill": {
              "color": "#C8D4E3"
             },
             "line": {
              "color": "white"
             }
            },
            "type": "table"
           }
          ]
         },
         "layout": {
          "annotationdefaults": {
           "arrowcolor": "#2a3f5f",
           "arrowhead": 0,
           "arrowwidth": 1
          },
          "autotypenumbers": "strict",
          "coloraxis": {
           "colorbar": {
            "outlinewidth": 0,
            "ticks": ""
           }
          },
          "colorscale": {
           "diverging": [
            [
             0,
             "#8e0152"
            ],
            [
             0.1,
             "#c51b7d"
            ],
            [
             0.2,
             "#de77ae"
            ],
            [
             0.3,
             "#f1b6da"
            ],
            [
             0.4,
             "#fde0ef"
            ],
            [
             0.5,
             "#f7f7f7"
            ],
            [
             0.6,
             "#e6f5d0"
            ],
            [
             0.7,
             "#b8e186"
            ],
            [
             0.8,
             "#7fbc41"
            ],
            [
             0.9,
             "#4d9221"
            ],
            [
             1,
             "#276419"
            ]
           ],
           "sequential": [
            [
             0.0,
             "#0d0887"
            ],
            [
             0.1111111111111111,
             "#46039f"
            ],
            [
             0.2222222222222222,
             "#7201a8"
            ],
            [
             0.3333333333333333,
             "#9c179e"
            ],
            [
             0.4444444444444444,
             "#bd3786"
            ],
            [
             0.5555555555555556,
             "#d8576b"
            ],
            [
             0.6666666666666666,
             "#ed7953"
            ],
            [
             0.7777777777777778,
             "#fb9f3a"
            ],
            [
             0.8888888888888888,
             "#fdca26"
            ],
            [
             1.0,
             "#f0f921"
            ]
           ],
           "sequentialminus": [
            [
             0.0,
             "#0d0887"
            ],
            [
             0.1111111111111111,
             "#46039f"
            ],
            [
             0.2222222222222222,
             "#7201a8"
            ],
            [
             0.3333333333333333,
             "#9c179e"
            ],
            [
             0.4444444444444444,
             "#bd3786"
            ],
            [
             0.5555555555555556,
             "#d8576b"
            ],
            [
             0.6666666666666666,
             "#ed7953"
            ],
            [
             0.7777777777777778,
             "#fb9f3a"
            ],
            [
             0.8888888888888888,
             "#fdca26"
            ],
            [
             1.0,
             "#f0f921"
            ]
           ]
          },
          "colorway": [
           "#636efa",
           "#EF553B",
           "#00cc96",
           "#ab63fa",
           "#FFA15A",
           "#19d3f3",
           "#FF6692",
           "#B6E880",
           "#FF97FF",
           "#FECB52"
          ],
          "font": {
           "color": "#2a3f5f"
          },
          "geo": {
           "bgcolor": "white",
           "lakecolor": "white",
           "landcolor": "white",
           "showlakes": true,
           "showland": true,
           "subunitcolor": "#C8D4E3"
          },
          "hoverlabel": {
           "align": "left"
          },
          "hovermode": "closest",
          "mapbox": {
           "style": "light"
          },
          "paper_bgcolor": "white",
          "plot_bgcolor": "white",
          "polar": {
           "angularaxis": {
            "gridcolor": "#EBF0F8",
            "linecolor": "#EBF0F8",
            "ticks": ""
           },
           "bgcolor": "white",
           "radialaxis": {
            "gridcolor": "#EBF0F8",
            "linecolor": "#EBF0F8",
            "ticks": ""
           }
          },
          "scene": {
           "xaxis": {
            "backgroundcolor": "white",
            "gridcolor": "#DFE8F3",
            "gridwidth": 2,
            "linecolor": "#EBF0F8",
            "showbackground": true,
            "ticks": "",
            "zerolinecolor": "#EBF0F8"
           },
           "yaxis": {
            "backgroundcolor": "white",
            "gridcolor": "#DFE8F3",
            "gridwidth": 2,
            "linecolor": "#EBF0F8",
            "showbackground": true,
            "ticks": "",
            "zerolinecolor": "#EBF0F8"
           },
           "zaxis": {
            "backgroundcolor": "white",
            "gridcolor": "#DFE8F3",
            "gridwidth": 2,
            "linecolor": "#EBF0F8",
            "showbackground": true,
            "ticks": "",
            "zerolinecolor": "#EBF0F8"
           }
          },
          "shapedefaults": {
           "line": {
            "color": "#2a3f5f"
           }
          },
          "ternary": {
           "aaxis": {
            "gridcolor": "#DFE8F3",
            "linecolor": "#A2B1C6",
            "ticks": ""
           },
           "baxis": {
            "gridcolor": "#DFE8F3",
            "linecolor": "#A2B1C6",
            "ticks": ""
           },
           "bgcolor": "white",
           "caxis": {
            "gridcolor": "#DFE8F3",
            "linecolor": "#A2B1C6",
            "ticks": ""
           }
          },
          "title": {
           "x": 0.05
          },
          "xaxis": {
           "automargin": true,
           "gridcolor": "#EBF0F8",
           "linecolor": "#EBF0F8",
           "ticks": "",
           "title": {
            "standoff": 15
           },
           "zerolinecolor": "#EBF0F8",
           "zerolinewidth": 2
          },
          "yaxis": {
           "automargin": true,
           "gridcolor": "#EBF0F8",
           "linecolor": "#EBF0F8",
           "ticks": "",
           "title": {
            "standoff": 15
           },
           "zerolinecolor": "#EBF0F8",
           "zerolinewidth": 2
          }
         }
        },
        "xaxis": {
         "anchor": "y",
         "domain": [
          0.0,
          1.0
         ],
         "title": {
          "text": ""
         },
         "categoryorder": "array",
         "categoryarray": [
          "Total cost",
          "Climate change (short term)",
          "Total human health",
          "Total ecosystem quality"
         ]
        },
        "yaxis": {
         "anchor": "x",
         "domain": [
          0.0,
          1.0
         ],
         "title": {
          "text": "Climate change (short term) relative to 2021 [%]"
         }
        },
        "legend": {
         "title": {
          "text": "Objective function, variable"
         },
         "tracegroupgap": 0
        },
        "margin": {
         "t": 60
        },
        "barmode": "relative",
        "showlegend": false
       },
       "config": {
        "plotlyServerURL": "https://plot.ly"
       }
      },
      "text/html": [
       "<div>                            <div id=\"3df19415-a2f9-4154-b953-c6d2a73a5051\" class=\"plotly-graph-div\" style=\"height:525px; width:100%;\"></div>            <script type=\"text/javascript\">                require([\"plotly\"], function(Plotly) {                    window.PLOTLYENV=window.PLOTLYENV || {};                                    if (document.getElementById(\"3df19415-a2f9-4154-b953-c6d2a73a5051\")) {                    Plotly.newPlot(                        \"3df19415-a2f9-4154-b953-c6d2a73a5051\",                        [{\"alignmentgroup\":\"True\",\"hovertemplate\":\"Objective function=%{x}\\u003cbr\\u003evariable=Construction\\u003cbr\\u003evalue=%{y}\\u003cextra\\u003e\\u003c\\u002fextra\\u003e\",\"legendgroup\":\"Total cost, Construction\",\"marker\":{\"color\":\"#636efa\",\"pattern\":{\"shape\":\"\"}},\"name\":\"Total cost, Construction\",\"offsetgroup\":\"Total cost, Construction\",\"orientation\":\"v\",\"showlegend\":true,\"textposition\":\"auto\",\"x\":[\"Total cost\"],\"xaxis\":\"x\",\"y\":[14.93621849596625],\"yaxis\":\"y\",\"type\":\"bar\"},{\"alignmentgroup\":\"True\",\"hovertemplate\":\"Objective function=%{x}\\u003cbr\\u003evariable=Operation\\u003cbr\\u003evalue=%{y}\\u003cextra\\u003e\\u003c\\u002fextra\\u003e\",\"legendgroup\":\"Total cost, Operation\",\"marker\":{\"color\":\"#636efa\",\"pattern\":{\"shape\":\"\\u002f\"}},\"name\":\"Total cost, Operation\",\"offsetgroup\":\"Total cost, Operation\",\"orientation\":\"v\",\"showlegend\":true,\"textposition\":\"auto\",\"x\":[\"Total cost\"],\"xaxis\":\"x\",\"y\":[27.996608762209963],\"yaxis\":\"y\",\"type\":\"bar\"},{\"alignmentgroup\":\"True\",\"hovertemplate\":\"Objective function=%{x}\\u003cbr\\u003evariable=Resources\\u003cbr\\u003evalue=%{y}\\u003cextra\\u003e\\u003c\\u002fextra\\u003e\",\"legendgroup\":\"Total cost, Resources\",\"marker\":{\"color\":\"#636efa\",\"pattern\":{\"shape\":\".\"}},\"name\":\"Total cost, Resources\",\"offsetgroup\":\"Total cost, Resources\",\"orientation\":\"v\",\"showlegend\":true,\"textposition\":\"auto\",\"x\":[\"Total cost\"],\"xaxis\":\"x\",\"y\":[5.7477148624331065],\"yaxis\":\"y\",\"type\":\"bar\"},{\"alignmentgroup\":\"True\",\"hovertemplate\":\"Objective function=%{x}\\u003cbr\\u003evariable=Construction\\u003cbr\\u003evalue=%{y}\\u003cextra\\u003e\\u003c\\u002fextra\\u003e\",\"legendgroup\":\"Climate change (short term), Construction\",\"marker\":{\"color\":\"#EF553B\",\"pattern\":{\"shape\":\"\"}},\"name\":\"Climate change (short term), Construction\",\"offsetgroup\":\"Climate change (short term), Construction\",\"orientation\":\"v\",\"showlegend\":true,\"textposition\":\"auto\",\"x\":[\"Climate change (short term)\"],\"xaxis\":\"x\",\"y\":[8.939780191794018],\"yaxis\":\"y\",\"type\":\"bar\"},{\"alignmentgroup\":\"True\",\"hovertemplate\":\"Objective function=%{x}\\u003cbr\\u003evariable=Operation\\u003cbr\\u003evalue=%{y}\\u003cextra\\u003e\\u003c\\u002fextra\\u003e\",\"legendgroup\":\"Climate change (short term), Operation\",\"marker\":{\"color\":\"#EF553B\",\"pattern\":{\"shape\":\"\\u002f\"}},\"name\":\"Climate change (short term), Operation\",\"offsetgroup\":\"Climate change (short term), Operation\",\"orientation\":\"v\",\"showlegend\":true,\"textposition\":\"auto\",\"x\":[\"Climate change (short term)\"],\"xaxis\":\"x\",\"y\":[10.523145037372043],\"yaxis\":\"y\",\"type\":\"bar\"},{\"alignmentgroup\":\"True\",\"hovertemplate\":\"Objective function=%{x}\\u003cbr\\u003evariable=Resources\\u003cbr\\u003evalue=%{y}\\u003cextra\\u003e\\u003c\\u002fextra\\u003e\",\"legendgroup\":\"Climate change (short term), Resources\",\"marker\":{\"color\":\"#EF553B\",\"pattern\":{\"shape\":\".\"}},\"name\":\"Climate change (short term), Resources\",\"offsetgroup\":\"Climate change (short term), Resources\",\"orientation\":\"v\",\"showlegend\":true,\"textposition\":\"auto\",\"x\":[\"Climate change (short term)\"],\"xaxis\":\"x\",\"y\":[0.954084354433688],\"yaxis\":\"y\",\"type\":\"bar\"},{\"alignmentgroup\":\"True\",\"hovertemplate\":\"Objective function=%{x}\\u003cbr\\u003evariable=Construction\\u003cbr\\u003evalue=%{y}\\u003cextra\\u003e\\u003c\\u002fextra\\u003e\",\"legendgroup\":\"Total human health, Construction\",\"marker\":{\"color\":\"#00cc96\",\"pattern\":{\"shape\":\"\"}},\"name\":\"Total human health, Construction\",\"offsetgroup\":\"Total human health, Construction\",\"orientation\":\"v\",\"showlegend\":true,\"textposition\":\"auto\",\"x\":[\"Total human health\"],\"xaxis\":\"x\",\"y\":[9.446419327496853],\"yaxis\":\"y\",\"type\":\"bar\"},{\"alignmentgroup\":\"True\",\"hovertemplate\":\"Objective function=%{x}\\u003cbr\\u003evariable=Operation\\u003cbr\\u003evalue=%{y}\\u003cextra\\u003e\\u003c\\u002fextra\\u003e\",\"legendgroup\":\"Total human health, Operation\",\"marker\":{\"color\":\"#00cc96\",\"pattern\":{\"shape\":\"\\u002f\"}},\"name\":\"Total human health, Operation\",\"offsetgroup\":\"Total human health, Operation\",\"orientation\":\"v\",\"showlegend\":true,\"textposition\":\"auto\",\"x\":[\"Total human health\"],\"xaxis\":\"x\",\"y\":[11.356675044636368],\"yaxis\":\"y\",\"type\":\"bar\"},{\"alignmentgroup\":\"True\",\"hovertemplate\":\"Objective function=%{x}\\u003cbr\\u003evariable=Resources\\u003cbr\\u003evalue=%{y}\\u003cextra\\u003e\\u003c\\u002fextra\\u003e\",\"legendgroup\":\"Total human health, Resources\",\"marker\":{\"color\":\"#00cc96\",\"pattern\":{\"shape\":\".\"}},\"name\":\"Total human health, Resources\",\"offsetgroup\":\"Total human health, Resources\",\"orientation\":\"v\",\"showlegend\":true,\"textposition\":\"auto\",\"x\":[\"Total human health\"],\"xaxis\":\"x\",\"y\":[0.43778208251218304],\"yaxis\":\"y\",\"type\":\"bar\"},{\"alignmentgroup\":\"True\",\"hovertemplate\":\"Objective function=%{x}\\u003cbr\\u003evariable=Construction\\u003cbr\\u003evalue=%{y}\\u003cextra\\u003e\\u003c\\u002fextra\\u003e\",\"legendgroup\":\"Total ecosystem quality, Construction\",\"marker\":{\"color\":\"#ab63fa\",\"pattern\":{\"shape\":\"\"}},\"name\":\"Total ecosystem quality, Construction\",\"offsetgroup\":\"Total ecosystem quality, Construction\",\"orientation\":\"v\",\"showlegend\":true,\"textposition\":\"auto\",\"x\":[\"Total ecosystem quality\"],\"xaxis\":\"x\",\"y\":[9.416162109604343],\"yaxis\":\"y\",\"type\":\"bar\"},{\"alignmentgroup\":\"True\",\"hovertemplate\":\"Objective function=%{x}\\u003cbr\\u003evariable=Operation\\u003cbr\\u003evalue=%{y}\\u003cextra\\u003e\\u003c\\u002fextra\\u003e\",\"legendgroup\":\"Total ecosystem quality, Operation\",\"marker\":{\"color\":\"#ab63fa\",\"pattern\":{\"shape\":\"\\u002f\"}},\"name\":\"Total ecosystem quality, Operation\",\"offsetgroup\":\"Total ecosystem quality, Operation\",\"orientation\":\"v\",\"showlegend\":true,\"textposition\":\"auto\",\"x\":[\"Total ecosystem quality\"],\"xaxis\":\"x\",\"y\":[11.518329141203898],\"yaxis\":\"y\",\"type\":\"bar\"},{\"alignmentgroup\":\"True\",\"hovertemplate\":\"Objective function=%{x}\\u003cbr\\u003evariable=Resources\\u003cbr\\u003evalue=%{y}\\u003cextra\\u003e\\u003c\\u002fextra\\u003e\",\"legendgroup\":\"Total ecosystem quality, Resources\",\"marker\":{\"color\":\"#ab63fa\",\"pattern\":{\"shape\":\".\"}},\"name\":\"Total ecosystem quality, Resources\",\"offsetgroup\":\"Total ecosystem quality, Resources\",\"orientation\":\"v\",\"showlegend\":true,\"textposition\":\"auto\",\"x\":[\"Total ecosystem quality\"],\"xaxis\":\"x\",\"y\":[0.44050784017254774],\"yaxis\":\"y\",\"type\":\"bar\"}],                        {\"template\":{\"data\":{\"barpolar\":[{\"marker\":{\"line\":{\"color\":\"white\",\"width\":0.5},\"pattern\":{\"fillmode\":\"overlay\",\"size\":10,\"solidity\":0.2}},\"type\":\"barpolar\"}],\"bar\":[{\"error_x\":{\"color\":\"#2a3f5f\"},\"error_y\":{\"color\":\"#2a3f5f\"},\"marker\":{\"line\":{\"color\":\"white\",\"width\":0.5},\"pattern\":{\"fillmode\":\"overlay\",\"size\":10,\"solidity\":0.2}},\"type\":\"bar\"}],\"carpet\":[{\"aaxis\":{\"endlinecolor\":\"#2a3f5f\",\"gridcolor\":\"#C8D4E3\",\"linecolor\":\"#C8D4E3\",\"minorgridcolor\":\"#C8D4E3\",\"startlinecolor\":\"#2a3f5f\"},\"baxis\":{\"endlinecolor\":\"#2a3f5f\",\"gridcolor\":\"#C8D4E3\",\"linecolor\":\"#C8D4E3\",\"minorgridcolor\":\"#C8D4E3\",\"startlinecolor\":\"#2a3f5f\"},\"type\":\"carpet\"}],\"choropleth\":[{\"colorbar\":{\"outlinewidth\":0,\"ticks\":\"\"},\"type\":\"choropleth\"}],\"contourcarpet\":[{\"colorbar\":{\"outlinewidth\":0,\"ticks\":\"\"},\"type\":\"contourcarpet\"}],\"contour\":[{\"colorbar\":{\"outlinewidth\":0,\"ticks\":\"\"},\"colorscale\":[[0.0,\"#0d0887\"],[0.1111111111111111,\"#46039f\"],[0.2222222222222222,\"#7201a8\"],[0.3333333333333333,\"#9c179e\"],[0.4444444444444444,\"#bd3786\"],[0.5555555555555556,\"#d8576b\"],[0.6666666666666666,\"#ed7953\"],[0.7777777777777778,\"#fb9f3a\"],[0.8888888888888888,\"#fdca26\"],[1.0,\"#f0f921\"]],\"type\":\"contour\"}],\"heatmapgl\":[{\"colorbar\":{\"outlinewidth\":0,\"ticks\":\"\"},\"colorscale\":[[0.0,\"#0d0887\"],[0.1111111111111111,\"#46039f\"],[0.2222222222222222,\"#7201a8\"],[0.3333333333333333,\"#9c179e\"],[0.4444444444444444,\"#bd3786\"],[0.5555555555555556,\"#d8576b\"],[0.6666666666666666,\"#ed7953\"],[0.7777777777777778,\"#fb9f3a\"],[0.8888888888888888,\"#fdca26\"],[1.0,\"#f0f921\"]],\"type\":\"heatmapgl\"}],\"heatmap\":[{\"colorbar\":{\"outlinewidth\":0,\"ticks\":\"\"},\"colorscale\":[[0.0,\"#0d0887\"],[0.1111111111111111,\"#46039f\"],[0.2222222222222222,\"#7201a8\"],[0.3333333333333333,\"#9c179e\"],[0.4444444444444444,\"#bd3786\"],[0.5555555555555556,\"#d8576b\"],[0.6666666666666666,\"#ed7953\"],[0.7777777777777778,\"#fb9f3a\"],[0.8888888888888888,\"#fdca26\"],[1.0,\"#f0f921\"]],\"type\":\"heatmap\"}],\"histogram2dcontour\":[{\"colorbar\":{\"outlinewidth\":0,\"ticks\":\"\"},\"colorscale\":[[0.0,\"#0d0887\"],[0.1111111111111111,\"#46039f\"],[0.2222222222222222,\"#7201a8\"],[0.3333333333333333,\"#9c179e\"],[0.4444444444444444,\"#bd3786\"],[0.5555555555555556,\"#d8576b\"],[0.6666666666666666,\"#ed7953\"],[0.7777777777777778,\"#fb9f3a\"],[0.8888888888888888,\"#fdca26\"],[1.0,\"#f0f921\"]],\"type\":\"histogram2dcontour\"}],\"histogram2d\":[{\"colorbar\":{\"outlinewidth\":0,\"ticks\":\"\"},\"colorscale\":[[0.0,\"#0d0887\"],[0.1111111111111111,\"#46039f\"],[0.2222222222222222,\"#7201a8\"],[0.3333333333333333,\"#9c179e\"],[0.4444444444444444,\"#bd3786\"],[0.5555555555555556,\"#d8576b\"],[0.6666666666666666,\"#ed7953\"],[0.7777777777777778,\"#fb9f3a\"],[0.8888888888888888,\"#fdca26\"],[1.0,\"#f0f921\"]],\"type\":\"histogram2d\"}],\"histogram\":[{\"marker\":{\"pattern\":{\"fillmode\":\"overlay\",\"size\":10,\"solidity\":0.2}},\"type\":\"histogram\"}],\"mesh3d\":[{\"colorbar\":{\"outlinewidth\":0,\"ticks\":\"\"},\"type\":\"mesh3d\"}],\"parcoords\":[{\"line\":{\"colorbar\":{\"outlinewidth\":0,\"ticks\":\"\"}},\"type\":\"parcoords\"}],\"pie\":[{\"automargin\":true,\"type\":\"pie\"}],\"scatter3d\":[{\"line\":{\"colorbar\":{\"outlinewidth\":0,\"ticks\":\"\"}},\"marker\":{\"colorbar\":{\"outlinewidth\":0,\"ticks\":\"\"}},\"type\":\"scatter3d\"}],\"scattercarpet\":[{\"marker\":{\"colorbar\":{\"outlinewidth\":0,\"ticks\":\"\"}},\"type\":\"scattercarpet\"}],\"scattergeo\":[{\"marker\":{\"colorbar\":{\"outlinewidth\":0,\"ticks\":\"\"}},\"type\":\"scattergeo\"}],\"scattergl\":[{\"marker\":{\"colorbar\":{\"outlinewidth\":0,\"ticks\":\"\"}},\"type\":\"scattergl\"}],\"scattermapbox\":[{\"marker\":{\"colorbar\":{\"outlinewidth\":0,\"ticks\":\"\"}},\"type\":\"scattermapbox\"}],\"scatterpolargl\":[{\"marker\":{\"colorbar\":{\"outlinewidth\":0,\"ticks\":\"\"}},\"type\":\"scatterpolargl\"}],\"scatterpolar\":[{\"marker\":{\"colorbar\":{\"outlinewidth\":0,\"ticks\":\"\"}},\"type\":\"scatterpolar\"}],\"scatter\":[{\"fillpattern\":{\"fillmode\":\"overlay\",\"size\":10,\"solidity\":0.2},\"type\":\"scatter\"}],\"scatterternary\":[{\"marker\":{\"colorbar\":{\"outlinewidth\":0,\"ticks\":\"\"}},\"type\":\"scatterternary\"}],\"surface\":[{\"colorbar\":{\"outlinewidth\":0,\"ticks\":\"\"},\"colorscale\":[[0.0,\"#0d0887\"],[0.1111111111111111,\"#46039f\"],[0.2222222222222222,\"#7201a8\"],[0.3333333333333333,\"#9c179e\"],[0.4444444444444444,\"#bd3786\"],[0.5555555555555556,\"#d8576b\"],[0.6666666666666666,\"#ed7953\"],[0.7777777777777778,\"#fb9f3a\"],[0.8888888888888888,\"#fdca26\"],[1.0,\"#f0f921\"]],\"type\":\"surface\"}],\"table\":[{\"cells\":{\"fill\":{\"color\":\"#EBF0F8\"},\"line\":{\"color\":\"white\"}},\"header\":{\"fill\":{\"color\":\"#C8D4E3\"},\"line\":{\"color\":\"white\"}},\"type\":\"table\"}]},\"layout\":{\"annotationdefaults\":{\"arrowcolor\":\"#2a3f5f\",\"arrowhead\":0,\"arrowwidth\":1},\"autotypenumbers\":\"strict\",\"coloraxis\":{\"colorbar\":{\"outlinewidth\":0,\"ticks\":\"\"}},\"colorscale\":{\"diverging\":[[0,\"#8e0152\"],[0.1,\"#c51b7d\"],[0.2,\"#de77ae\"],[0.3,\"#f1b6da\"],[0.4,\"#fde0ef\"],[0.5,\"#f7f7f7\"],[0.6,\"#e6f5d0\"],[0.7,\"#b8e186\"],[0.8,\"#7fbc41\"],[0.9,\"#4d9221\"],[1,\"#276419\"]],\"sequential\":[[0.0,\"#0d0887\"],[0.1111111111111111,\"#46039f\"],[0.2222222222222222,\"#7201a8\"],[0.3333333333333333,\"#9c179e\"],[0.4444444444444444,\"#bd3786\"],[0.5555555555555556,\"#d8576b\"],[0.6666666666666666,\"#ed7953\"],[0.7777777777777778,\"#fb9f3a\"],[0.8888888888888888,\"#fdca26\"],[1.0,\"#f0f921\"]],\"sequentialminus\":[[0.0,\"#0d0887\"],[0.1111111111111111,\"#46039f\"],[0.2222222222222222,\"#7201a8\"],[0.3333333333333333,\"#9c179e\"],[0.4444444444444444,\"#bd3786\"],[0.5555555555555556,\"#d8576b\"],[0.6666666666666666,\"#ed7953\"],[0.7777777777777778,\"#fb9f3a\"],[0.8888888888888888,\"#fdca26\"],[1.0,\"#f0f921\"]]},\"colorway\":[\"#636efa\",\"#EF553B\",\"#00cc96\",\"#ab63fa\",\"#FFA15A\",\"#19d3f3\",\"#FF6692\",\"#B6E880\",\"#FF97FF\",\"#FECB52\"],\"font\":{\"color\":\"#2a3f5f\"},\"geo\":{\"bgcolor\":\"white\",\"lakecolor\":\"white\",\"landcolor\":\"white\",\"showlakes\":true,\"showland\":true,\"subunitcolor\":\"#C8D4E3\"},\"hoverlabel\":{\"align\":\"left\"},\"hovermode\":\"closest\",\"mapbox\":{\"style\":\"light\"},\"paper_bgcolor\":\"white\",\"plot_bgcolor\":\"white\",\"polar\":{\"angularaxis\":{\"gridcolor\":\"#EBF0F8\",\"linecolor\":\"#EBF0F8\",\"ticks\":\"\"},\"bgcolor\":\"white\",\"radialaxis\":{\"gridcolor\":\"#EBF0F8\",\"linecolor\":\"#EBF0F8\",\"ticks\":\"\"}},\"scene\":{\"xaxis\":{\"backgroundcolor\":\"white\",\"gridcolor\":\"#DFE8F3\",\"gridwidth\":2,\"linecolor\":\"#EBF0F8\",\"showbackground\":true,\"ticks\":\"\",\"zerolinecolor\":\"#EBF0F8\"},\"yaxis\":{\"backgroundcolor\":\"white\",\"gridcolor\":\"#DFE8F3\",\"gridwidth\":2,\"linecolor\":\"#EBF0F8\",\"showbackground\":true,\"ticks\":\"\",\"zerolinecolor\":\"#EBF0F8\"},\"zaxis\":{\"backgroundcolor\":\"white\",\"gridcolor\":\"#DFE8F3\",\"gridwidth\":2,\"linecolor\":\"#EBF0F8\",\"showbackground\":true,\"ticks\":\"\",\"zerolinecolor\":\"#EBF0F8\"}},\"shapedefaults\":{\"line\":{\"color\":\"#2a3f5f\"}},\"ternary\":{\"aaxis\":{\"gridcolor\":\"#DFE8F3\",\"linecolor\":\"#A2B1C6\",\"ticks\":\"\"},\"baxis\":{\"gridcolor\":\"#DFE8F3\",\"linecolor\":\"#A2B1C6\",\"ticks\":\"\"},\"bgcolor\":\"white\",\"caxis\":{\"gridcolor\":\"#DFE8F3\",\"linecolor\":\"#A2B1C6\",\"ticks\":\"\"}},\"title\":{\"x\":0.05},\"xaxis\":{\"automargin\":true,\"gridcolor\":\"#EBF0F8\",\"linecolor\":\"#EBF0F8\",\"ticks\":\"\",\"title\":{\"standoff\":15},\"zerolinecolor\":\"#EBF0F8\",\"zerolinewidth\":2},\"yaxis\":{\"automargin\":true,\"gridcolor\":\"#EBF0F8\",\"linecolor\":\"#EBF0F8\",\"ticks\":\"\",\"title\":{\"standoff\":15},\"zerolinecolor\":\"#EBF0F8\",\"zerolinewidth\":2}}},\"xaxis\":{\"anchor\":\"y\",\"domain\":[0.0,1.0],\"title\":{\"text\":\"\"},\"categoryorder\":\"array\",\"categoryarray\":[\"Total cost\",\"Climate change (short term)\",\"Total human health\",\"Total ecosystem quality\"]},\"yaxis\":{\"anchor\":\"x\",\"domain\":[0.0,1.0],\"title\":{\"text\":\"Climate change (short term) relative to 2021 [%]\"}},\"legend\":{\"title\":{\"text\":\"Objective function, variable\"},\"tracegroupgap\":0},\"margin\":{\"t\":60},\"barmode\":\"relative\",\"showlegend\":false},                        {\"responsive\": true}                    ).then(function(){\n",
       "                            \n",
       "var gd = document.getElementById('3df19415-a2f9-4154-b953-c6d2a73a5051');\n",
       "var x = new MutationObserver(function (mutations, observer) {{\n",
       "        var display = window.getComputedStyle(gd).display;\n",
       "        if (!display || display === 'none') {{\n",
       "            console.log([gd, 'removed!']);\n",
       "            Plotly.purge(gd);\n",
       "            observer.disconnect();\n",
       "        }}\n",
       "}});\n",
       "\n",
       "// Listen for the removal of the full notebook cells\n",
       "var notebookContainer = gd.closest('#notebook-container');\n",
       "if (notebookContainer) {{\n",
       "    x.observe(notebookContainer, {childList: true});\n",
       "}}\n",
       "\n",
       "// Listen for the clearing of the current output cell\n",
       "var outputEl = gd.closest('.output');\n",
       "if (outputEl) {{\n",
       "    x.observe(outputEl, {childList: true});\n",
       "}}\n",
       "\n",
       "                        })                };                });            </script>        </div>"
      ]
     },
     "metadata": {},
     "output_type": "display_data"
    },
    {
     "data": {
      "application/vnd.plotly.v1+json": {
       "data": [
        {
         "alignmentgroup": "True",
         "hovertemplate": "Objective function=%{x}<br>variable=Construction<br>value=%{y}<extra></extra>",
         "legendgroup": "Total cost, Construction",
         "marker": {
          "color": "#636efa",
          "pattern": {
           "shape": ""
          }
         },
         "name": "Total cost, Construction",
         "offsetgroup": "Total cost, Construction",
         "orientation": "v",
         "showlegend": true,
         "textposition": "auto",
         "x": [
          "Total cost"
         ],
         "xaxis": "x",
         "y": [
          10.813141867955737
         ],
         "yaxis": "y",
         "type": "bar"
        },
        {
         "alignmentgroup": "True",
         "hovertemplate": "Objective function=%{x}<br>variable=Operation<br>value=%{y}<extra></extra>",
         "legendgroup": "Total cost, Operation",
         "marker": {
          "color": "#636efa",
          "pattern": {
           "shape": "/"
          }
         },
         "name": "Total cost, Operation",
         "offsetgroup": "Total cost, Operation",
         "orientation": "v",
         "showlegend": true,
         "textposition": "auto",
         "x": [
          "Total cost"
         ],
         "xaxis": "x",
         "y": [
          20.94196034196347
         ],
         "yaxis": "y",
         "type": "bar"
        },
        {
         "alignmentgroup": "True",
         "hovertemplate": "Objective function=%{x}<br>variable=Resources<br>value=%{y}<extra></extra>",
         "legendgroup": "Total cost, Resources",
         "marker": {
          "color": "#636efa",
          "pattern": {
           "shape": "."
          }
         },
         "name": "Total cost, Resources",
         "offsetgroup": "Total cost, Resources",
         "orientation": "v",
         "showlegend": true,
         "textposition": "auto",
         "x": [
          "Total cost"
         ],
         "xaxis": "x",
         "y": [
          2.939305337854655
         ],
         "yaxis": "y",
         "type": "bar"
        },
        {
         "alignmentgroup": "True",
         "hovertemplate": "Objective function=%{x}<br>variable=Construction<br>value=%{y}<extra></extra>",
         "legendgroup": "Climate change (short term), Construction",
         "marker": {
          "color": "#EF553B",
          "pattern": {
           "shape": ""
          }
         },
         "name": "Climate change (short term), Construction",
         "offsetgroup": "Climate change (short term), Construction",
         "orientation": "v",
         "showlegend": true,
         "textposition": "auto",
         "x": [
          "Climate change (short term)"
         ],
         "xaxis": "x",
         "y": [
          6.971953932898028
         ],
         "yaxis": "y",
         "type": "bar"
        },
        {
         "alignmentgroup": "True",
         "hovertemplate": "Objective function=%{x}<br>variable=Operation<br>value=%{y}<extra></extra>",
         "legendgroup": "Climate change (short term), Operation",
         "marker": {
          "color": "#EF553B",
          "pattern": {
           "shape": "/"
          }
         },
         "name": "Climate change (short term), Operation",
         "offsetgroup": "Climate change (short term), Operation",
         "orientation": "v",
         "showlegend": true,
         "textposition": "auto",
         "x": [
          "Climate change (short term)"
         ],
         "xaxis": "x",
         "y": [
          10.297647280897122
         ],
         "yaxis": "y",
         "type": "bar"
        },
        {
         "alignmentgroup": "True",
         "hovertemplate": "Objective function=%{x}<br>variable=Resources<br>value=%{y}<extra></extra>",
         "legendgroup": "Climate change (short term), Resources",
         "marker": {
          "color": "#EF553B",
          "pattern": {
           "shape": "."
          }
         },
         "name": "Climate change (short term), Resources",
         "offsetgroup": "Climate change (short term), Resources",
         "orientation": "v",
         "showlegend": true,
         "textposition": "auto",
         "x": [
          "Climate change (short term)"
         ],
         "xaxis": "x",
         "y": [
          0.9856681204674669
         ],
         "yaxis": "y",
         "type": "bar"
        },
        {
         "alignmentgroup": "True",
         "hovertemplate": "Objective function=%{x}<br>variable=Construction<br>value=%{y}<extra></extra>",
         "legendgroup": "Total human health, Construction",
         "marker": {
          "color": "#00cc96",
          "pattern": {
           "shape": ""
          }
         },
         "name": "Total human health, Construction",
         "offsetgroup": "Total human health, Construction",
         "orientation": "v",
         "showlegend": true,
         "textposition": "auto",
         "x": [
          "Total human health"
         ],
         "xaxis": "x",
         "y": [
          7.339542688871292
         ],
         "yaxis": "y",
         "type": "bar"
        },
        {
         "alignmentgroup": "True",
         "hovertemplate": "Objective function=%{x}<br>variable=Operation<br>value=%{y}<extra></extra>",
         "legendgroup": "Total human health, Operation",
         "marker": {
          "color": "#00cc96",
          "pattern": {
           "shape": "/"
          }
         },
         "name": "Total human health, Operation",
         "offsetgroup": "Total human health, Operation",
         "orientation": "v",
         "showlegend": true,
         "textposition": "auto",
         "x": [
          "Total human health"
         ],
         "xaxis": "x",
         "y": [
          10.338453756458655
         ],
         "yaxis": "y",
         "type": "bar"
        },
        {
         "alignmentgroup": "True",
         "hovertemplate": "Objective function=%{x}<br>variable=Resources<br>value=%{y}<extra></extra>",
         "legendgroup": "Total human health, Resources",
         "marker": {
          "color": "#00cc96",
          "pattern": {
           "shape": "."
          }
         },
         "name": "Total human health, Resources",
         "offsetgroup": "Total human health, Resources",
         "orientation": "v",
         "showlegend": true,
         "textposition": "auto",
         "x": [
          "Total human health"
         ],
         "xaxis": "x",
         "y": [
          0.32895531401727524
         ],
         "yaxis": "y",
         "type": "bar"
        },
        {
         "alignmentgroup": "True",
         "hovertemplate": "Objective function=%{x}<br>variable=Construction<br>value=%{y}<extra></extra>",
         "legendgroup": "Total ecosystem quality, Construction",
         "marker": {
          "color": "#ab63fa",
          "pattern": {
           "shape": ""
          }
         },
         "name": "Total ecosystem quality, Construction",
         "offsetgroup": "Total ecosystem quality, Construction",
         "orientation": "v",
         "showlegend": true,
         "textposition": "auto",
         "x": [
          "Total ecosystem quality"
         ],
         "xaxis": "x",
         "y": [
          7.30488225650745
         ],
         "yaxis": "y",
         "type": "bar"
        },
        {
         "alignmentgroup": "True",
         "hovertemplate": "Objective function=%{x}<br>variable=Operation<br>value=%{y}<extra></extra>",
         "legendgroup": "Total ecosystem quality, Operation",
         "marker": {
          "color": "#ab63fa",
          "pattern": {
           "shape": "/"
          }
         },
         "name": "Total ecosystem quality, Operation",
         "offsetgroup": "Total ecosystem quality, Operation",
         "orientation": "v",
         "showlegend": true,
         "textposition": "auto",
         "x": [
          "Total ecosystem quality"
         ],
         "xaxis": "x",
         "y": [
          10.377263207429902
         ],
         "yaxis": "y",
         "type": "bar"
        },
        {
         "alignmentgroup": "True",
         "hovertemplate": "Objective function=%{x}<br>variable=Resources<br>value=%{y}<extra></extra>",
         "legendgroup": "Total ecosystem quality, Resources",
         "marker": {
          "color": "#ab63fa",
          "pattern": {
           "shape": "."
          }
         },
         "name": "Total ecosystem quality, Resources",
         "offsetgroup": "Total ecosystem quality, Resources",
         "orientation": "v",
         "showlegend": true,
         "textposition": "auto",
         "x": [
          "Total ecosystem quality"
         ],
         "xaxis": "x",
         "y": [
          0.33325117098185614
         ],
         "yaxis": "y",
         "type": "bar"
        }
       ],
       "layout": {
        "template": {
         "data": {
          "barpolar": [
           {
            "marker": {
             "line": {
              "color": "white",
              "width": 0.5
             },
             "pattern": {
              "fillmode": "overlay",
              "size": 10,
              "solidity": 0.2
             }
            },
            "type": "barpolar"
           }
          ],
          "bar": [
           {
            "error_x": {
             "color": "#2a3f5f"
            },
            "error_y": {
             "color": "#2a3f5f"
            },
            "marker": {
             "line": {
              "color": "white",
              "width": 0.5
             },
             "pattern": {
              "fillmode": "overlay",
              "size": 10,
              "solidity": 0.2
             }
            },
            "type": "bar"
           }
          ],
          "carpet": [
           {
            "aaxis": {
             "endlinecolor": "#2a3f5f",
             "gridcolor": "#C8D4E3",
             "linecolor": "#C8D4E3",
             "minorgridcolor": "#C8D4E3",
             "startlinecolor": "#2a3f5f"
            },
            "baxis": {
             "endlinecolor": "#2a3f5f",
             "gridcolor": "#C8D4E3",
             "linecolor": "#C8D4E3",
             "minorgridcolor": "#C8D4E3",
             "startlinecolor": "#2a3f5f"
            },
            "type": "carpet"
           }
          ],
          "choropleth": [
           {
            "colorbar": {
             "outlinewidth": 0,
             "ticks": ""
            },
            "type": "choropleth"
           }
          ],
          "contourcarpet": [
           {
            "colorbar": {
             "outlinewidth": 0,
             "ticks": ""
            },
            "type": "contourcarpet"
           }
          ],
          "contour": [
           {
            "colorbar": {
             "outlinewidth": 0,
             "ticks": ""
            },
            "colorscale": [
             [
              0.0,
              "#0d0887"
             ],
             [
              0.1111111111111111,
              "#46039f"
             ],
             [
              0.2222222222222222,
              "#7201a8"
             ],
             [
              0.3333333333333333,
              "#9c179e"
             ],
             [
              0.4444444444444444,
              "#bd3786"
             ],
             [
              0.5555555555555556,
              "#d8576b"
             ],
             [
              0.6666666666666666,
              "#ed7953"
             ],
             [
              0.7777777777777778,
              "#fb9f3a"
             ],
             [
              0.8888888888888888,
              "#fdca26"
             ],
             [
              1.0,
              "#f0f921"
             ]
            ],
            "type": "contour"
           }
          ],
          "heatmapgl": [
           {
            "colorbar": {
             "outlinewidth": 0,
             "ticks": ""
            },
            "colorscale": [
             [
              0.0,
              "#0d0887"
             ],
             [
              0.1111111111111111,
              "#46039f"
             ],
             [
              0.2222222222222222,
              "#7201a8"
             ],
             [
              0.3333333333333333,
              "#9c179e"
             ],
             [
              0.4444444444444444,
              "#bd3786"
             ],
             [
              0.5555555555555556,
              "#d8576b"
             ],
             [
              0.6666666666666666,
              "#ed7953"
             ],
             [
              0.7777777777777778,
              "#fb9f3a"
             ],
             [
              0.8888888888888888,
              "#fdca26"
             ],
             [
              1.0,
              "#f0f921"
             ]
            ],
            "type": "heatmapgl"
           }
          ],
          "heatmap": [
           {
            "colorbar": {
             "outlinewidth": 0,
             "ticks": ""
            },
            "colorscale": [
             [
              0.0,
              "#0d0887"
             ],
             [
              0.1111111111111111,
              "#46039f"
             ],
             [
              0.2222222222222222,
              "#7201a8"
             ],
             [
              0.3333333333333333,
              "#9c179e"
             ],
             [
              0.4444444444444444,
              "#bd3786"
             ],
             [
              0.5555555555555556,
              "#d8576b"
             ],
             [
              0.6666666666666666,
              "#ed7953"
             ],
             [
              0.7777777777777778,
              "#fb9f3a"
             ],
             [
              0.8888888888888888,
              "#fdca26"
             ],
             [
              1.0,
              "#f0f921"
             ]
            ],
            "type": "heatmap"
           }
          ],
          "histogram2dcontour": [
           {
            "colorbar": {
             "outlinewidth": 0,
             "ticks": ""
            },
            "colorscale": [
             [
              0.0,
              "#0d0887"
             ],
             [
              0.1111111111111111,
              "#46039f"
             ],
             [
              0.2222222222222222,
              "#7201a8"
             ],
             [
              0.3333333333333333,
              "#9c179e"
             ],
             [
              0.4444444444444444,
              "#bd3786"
             ],
             [
              0.5555555555555556,
              "#d8576b"
             ],
             [
              0.6666666666666666,
              "#ed7953"
             ],
             [
              0.7777777777777778,
              "#fb9f3a"
             ],
             [
              0.8888888888888888,
              "#fdca26"
             ],
             [
              1.0,
              "#f0f921"
             ]
            ],
            "type": "histogram2dcontour"
           }
          ],
          "histogram2d": [
           {
            "colorbar": {
             "outlinewidth": 0,
             "ticks": ""
            },
            "colorscale": [
             [
              0.0,
              "#0d0887"
             ],
             [
              0.1111111111111111,
              "#46039f"
             ],
             [
              0.2222222222222222,
              "#7201a8"
             ],
             [
              0.3333333333333333,
              "#9c179e"
             ],
             [
              0.4444444444444444,
              "#bd3786"
             ],
             [
              0.5555555555555556,
              "#d8576b"
             ],
             [
              0.6666666666666666,
              "#ed7953"
             ],
             [
              0.7777777777777778,
              "#fb9f3a"
             ],
             [
              0.8888888888888888,
              "#fdca26"
             ],
             [
              1.0,
              "#f0f921"
             ]
            ],
            "type": "histogram2d"
           }
          ],
          "histogram": [
           {
            "marker": {
             "pattern": {
              "fillmode": "overlay",
              "size": 10,
              "solidity": 0.2
             }
            },
            "type": "histogram"
           }
          ],
          "mesh3d": [
           {
            "colorbar": {
             "outlinewidth": 0,
             "ticks": ""
            },
            "type": "mesh3d"
           }
          ],
          "parcoords": [
           {
            "line": {
             "colorbar": {
              "outlinewidth": 0,
              "ticks": ""
             }
            },
            "type": "parcoords"
           }
          ],
          "pie": [
           {
            "automargin": true,
            "type": "pie"
           }
          ],
          "scatter3d": [
           {
            "line": {
             "colorbar": {
              "outlinewidth": 0,
              "ticks": ""
             }
            },
            "marker": {
             "colorbar": {
              "outlinewidth": 0,
              "ticks": ""
             }
            },
            "type": "scatter3d"
           }
          ],
          "scattercarpet": [
           {
            "marker": {
             "colorbar": {
              "outlinewidth": 0,
              "ticks": ""
             }
            },
            "type": "scattercarpet"
           }
          ],
          "scattergeo": [
           {
            "marker": {
             "colorbar": {
              "outlinewidth": 0,
              "ticks": ""
             }
            },
            "type": "scattergeo"
           }
          ],
          "scattergl": [
           {
            "marker": {
             "colorbar": {
              "outlinewidth": 0,
              "ticks": ""
             }
            },
            "type": "scattergl"
           }
          ],
          "scattermapbox": [
           {
            "marker": {
             "colorbar": {
              "outlinewidth": 0,
              "ticks": ""
             }
            },
            "type": "scattermapbox"
           }
          ],
          "scatterpolargl": [
           {
            "marker": {
             "colorbar": {
              "outlinewidth": 0,
              "ticks": ""
             }
            },
            "type": "scatterpolargl"
           }
          ],
          "scatterpolar": [
           {
            "marker": {
             "colorbar": {
              "outlinewidth": 0,
              "ticks": ""
             }
            },
            "type": "scatterpolar"
           }
          ],
          "scatter": [
           {
            "fillpattern": {
             "fillmode": "overlay",
             "size": 10,
             "solidity": 0.2
            },
            "type": "scatter"
           }
          ],
          "scatterternary": [
           {
            "marker": {
             "colorbar": {
              "outlinewidth": 0,
              "ticks": ""
             }
            },
            "type": "scatterternary"
           }
          ],
          "surface": [
           {
            "colorbar": {
             "outlinewidth": 0,
             "ticks": ""
            },
            "colorscale": [
             [
              0.0,
              "#0d0887"
             ],
             [
              0.1111111111111111,
              "#46039f"
             ],
             [
              0.2222222222222222,
              "#7201a8"
             ],
             [
              0.3333333333333333,
              "#9c179e"
             ],
             [
              0.4444444444444444,
              "#bd3786"
             ],
             [
              0.5555555555555556,
              "#d8576b"
             ],
             [
              0.6666666666666666,
              "#ed7953"
             ],
             [
              0.7777777777777778,
              "#fb9f3a"
             ],
             [
              0.8888888888888888,
              "#fdca26"
             ],
             [
              1.0,
              "#f0f921"
             ]
            ],
            "type": "surface"
           }
          ],
          "table": [
           {
            "cells": {
             "fill": {
              "color": "#EBF0F8"
             },
             "line": {
              "color": "white"
             }
            },
            "header": {
             "fill": {
              "color": "#C8D4E3"
             },
             "line": {
              "color": "white"
             }
            },
            "type": "table"
           }
          ]
         },
         "layout": {
          "annotationdefaults": {
           "arrowcolor": "#2a3f5f",
           "arrowhead": 0,
           "arrowwidth": 1
          },
          "autotypenumbers": "strict",
          "coloraxis": {
           "colorbar": {
            "outlinewidth": 0,
            "ticks": ""
           }
          },
          "colorscale": {
           "diverging": [
            [
             0,
             "#8e0152"
            ],
            [
             0.1,
             "#c51b7d"
            ],
            [
             0.2,
             "#de77ae"
            ],
            [
             0.3,
             "#f1b6da"
            ],
            [
             0.4,
             "#fde0ef"
            ],
            [
             0.5,
             "#f7f7f7"
            ],
            [
             0.6,
             "#e6f5d0"
            ],
            [
             0.7,
             "#b8e186"
            ],
            [
             0.8,
             "#7fbc41"
            ],
            [
             0.9,
             "#4d9221"
            ],
            [
             1,
             "#276419"
            ]
           ],
           "sequential": [
            [
             0.0,
             "#0d0887"
            ],
            [
             0.1111111111111111,
             "#46039f"
            ],
            [
             0.2222222222222222,
             "#7201a8"
            ],
            [
             0.3333333333333333,
             "#9c179e"
            ],
            [
             0.4444444444444444,
             "#bd3786"
            ],
            [
             0.5555555555555556,
             "#d8576b"
            ],
            [
             0.6666666666666666,
             "#ed7953"
            ],
            [
             0.7777777777777778,
             "#fb9f3a"
            ],
            [
             0.8888888888888888,
             "#fdca26"
            ],
            [
             1.0,
             "#f0f921"
            ]
           ],
           "sequentialminus": [
            [
             0.0,
             "#0d0887"
            ],
            [
             0.1111111111111111,
             "#46039f"
            ],
            [
             0.2222222222222222,
             "#7201a8"
            ],
            [
             0.3333333333333333,
             "#9c179e"
            ],
            [
             0.4444444444444444,
             "#bd3786"
            ],
            [
             0.5555555555555556,
             "#d8576b"
            ],
            [
             0.6666666666666666,
             "#ed7953"
            ],
            [
             0.7777777777777778,
             "#fb9f3a"
            ],
            [
             0.8888888888888888,
             "#fdca26"
            ],
            [
             1.0,
             "#f0f921"
            ]
           ]
          },
          "colorway": [
           "#636efa",
           "#EF553B",
           "#00cc96",
           "#ab63fa",
           "#FFA15A",
           "#19d3f3",
           "#FF6692",
           "#B6E880",
           "#FF97FF",
           "#FECB52"
          ],
          "font": {
           "color": "#2a3f5f"
          },
          "geo": {
           "bgcolor": "white",
           "lakecolor": "white",
           "landcolor": "white",
           "showlakes": true,
           "showland": true,
           "subunitcolor": "#C8D4E3"
          },
          "hoverlabel": {
           "align": "left"
          },
          "hovermode": "closest",
          "mapbox": {
           "style": "light"
          },
          "paper_bgcolor": "white",
          "plot_bgcolor": "white",
          "polar": {
           "angularaxis": {
            "gridcolor": "#EBF0F8",
            "linecolor": "#EBF0F8",
            "ticks": ""
           },
           "bgcolor": "white",
           "radialaxis": {
            "gridcolor": "#EBF0F8",
            "linecolor": "#EBF0F8",
            "ticks": ""
           }
          },
          "scene": {
           "xaxis": {
            "backgroundcolor": "white",
            "gridcolor": "#DFE8F3",
            "gridwidth": 2,
            "linecolor": "#EBF0F8",
            "showbackground": true,
            "ticks": "",
            "zerolinecolor": "#EBF0F8"
           },
           "yaxis": {
            "backgroundcolor": "white",
            "gridcolor": "#DFE8F3",
            "gridwidth": 2,
            "linecolor": "#EBF0F8",
            "showbackground": true,
            "ticks": "",
            "zerolinecolor": "#EBF0F8"
           },
           "zaxis": {
            "backgroundcolor": "white",
            "gridcolor": "#DFE8F3",
            "gridwidth": 2,
            "linecolor": "#EBF0F8",
            "showbackground": true,
            "ticks": "",
            "zerolinecolor": "#EBF0F8"
           }
          },
          "shapedefaults": {
           "line": {
            "color": "#2a3f5f"
           }
          },
          "ternary": {
           "aaxis": {
            "gridcolor": "#DFE8F3",
            "linecolor": "#A2B1C6",
            "ticks": ""
           },
           "baxis": {
            "gridcolor": "#DFE8F3",
            "linecolor": "#A2B1C6",
            "ticks": ""
           },
           "bgcolor": "white",
           "caxis": {
            "gridcolor": "#DFE8F3",
            "linecolor": "#A2B1C6",
            "ticks": ""
           }
          },
          "title": {
           "x": 0.05
          },
          "xaxis": {
           "automargin": true,
           "gridcolor": "#EBF0F8",
           "linecolor": "#EBF0F8",
           "ticks": "",
           "title": {
            "standoff": 15
           },
           "zerolinecolor": "#EBF0F8",
           "zerolinewidth": 2
          },
          "yaxis": {
           "automargin": true,
           "gridcolor": "#EBF0F8",
           "linecolor": "#EBF0F8",
           "ticks": "",
           "title": {
            "standoff": 15
           },
           "zerolinecolor": "#EBF0F8",
           "zerolinewidth": 2
          }
         }
        },
        "xaxis": {
         "anchor": "y",
         "domain": [
          0.0,
          1.0
         ],
         "title": {
          "text": ""
         },
         "categoryorder": "array",
         "categoryarray": [
          "Total cost",
          "Climate change (short term)",
          "Total human health",
          "Total ecosystem quality"
         ]
        },
        "yaxis": {
         "anchor": "x",
         "domain": [
          0.0,
          1.0
         ],
         "title": {
          "text": "Total human health relative to 2021 [%]"
         }
        },
        "legend": {
         "title": {
          "text": "Objective function, variable"
         },
         "tracegroupgap": 0
        },
        "margin": {
         "t": 60
        },
        "barmode": "relative",
        "showlegend": false
       },
       "config": {
        "plotlyServerURL": "https://plot.ly"
       }
      },
      "text/html": [
       "<div>                            <div id=\"11656e57-5e8e-4d77-8720-8bcf38b329ec\" class=\"plotly-graph-div\" style=\"height:525px; width:100%;\"></div>            <script type=\"text/javascript\">                require([\"plotly\"], function(Plotly) {                    window.PLOTLYENV=window.PLOTLYENV || {};                                    if (document.getElementById(\"11656e57-5e8e-4d77-8720-8bcf38b329ec\")) {                    Plotly.newPlot(                        \"11656e57-5e8e-4d77-8720-8bcf38b329ec\",                        [{\"alignmentgroup\":\"True\",\"hovertemplate\":\"Objective function=%{x}\\u003cbr\\u003evariable=Construction\\u003cbr\\u003evalue=%{y}\\u003cextra\\u003e\\u003c\\u002fextra\\u003e\",\"legendgroup\":\"Total cost, Construction\",\"marker\":{\"color\":\"#636efa\",\"pattern\":{\"shape\":\"\"}},\"name\":\"Total cost, Construction\",\"offsetgroup\":\"Total cost, Construction\",\"orientation\":\"v\",\"showlegend\":true,\"textposition\":\"auto\",\"x\":[\"Total cost\"],\"xaxis\":\"x\",\"y\":[10.813141867955737],\"yaxis\":\"y\",\"type\":\"bar\"},{\"alignmentgroup\":\"True\",\"hovertemplate\":\"Objective function=%{x}\\u003cbr\\u003evariable=Operation\\u003cbr\\u003evalue=%{y}\\u003cextra\\u003e\\u003c\\u002fextra\\u003e\",\"legendgroup\":\"Total cost, Operation\",\"marker\":{\"color\":\"#636efa\",\"pattern\":{\"shape\":\"\\u002f\"}},\"name\":\"Total cost, Operation\",\"offsetgroup\":\"Total cost, Operation\",\"orientation\":\"v\",\"showlegend\":true,\"textposition\":\"auto\",\"x\":[\"Total cost\"],\"xaxis\":\"x\",\"y\":[20.94196034196347],\"yaxis\":\"y\",\"type\":\"bar\"},{\"alignmentgroup\":\"True\",\"hovertemplate\":\"Objective function=%{x}\\u003cbr\\u003evariable=Resources\\u003cbr\\u003evalue=%{y}\\u003cextra\\u003e\\u003c\\u002fextra\\u003e\",\"legendgroup\":\"Total cost, Resources\",\"marker\":{\"color\":\"#636efa\",\"pattern\":{\"shape\":\".\"}},\"name\":\"Total cost, Resources\",\"offsetgroup\":\"Total cost, Resources\",\"orientation\":\"v\",\"showlegend\":true,\"textposition\":\"auto\",\"x\":[\"Total cost\"],\"xaxis\":\"x\",\"y\":[2.939305337854655],\"yaxis\":\"y\",\"type\":\"bar\"},{\"alignmentgroup\":\"True\",\"hovertemplate\":\"Objective function=%{x}\\u003cbr\\u003evariable=Construction\\u003cbr\\u003evalue=%{y}\\u003cextra\\u003e\\u003c\\u002fextra\\u003e\",\"legendgroup\":\"Climate change (short term), Construction\",\"marker\":{\"color\":\"#EF553B\",\"pattern\":{\"shape\":\"\"}},\"name\":\"Climate change (short term), Construction\",\"offsetgroup\":\"Climate change (short term), Construction\",\"orientation\":\"v\",\"showlegend\":true,\"textposition\":\"auto\",\"x\":[\"Climate change (short term)\"],\"xaxis\":\"x\",\"y\":[6.971953932898028],\"yaxis\":\"y\",\"type\":\"bar\"},{\"alignmentgroup\":\"True\",\"hovertemplate\":\"Objective function=%{x}\\u003cbr\\u003evariable=Operation\\u003cbr\\u003evalue=%{y}\\u003cextra\\u003e\\u003c\\u002fextra\\u003e\",\"legendgroup\":\"Climate change (short term), Operation\",\"marker\":{\"color\":\"#EF553B\",\"pattern\":{\"shape\":\"\\u002f\"}},\"name\":\"Climate change (short term), Operation\",\"offsetgroup\":\"Climate change (short term), Operation\",\"orientation\":\"v\",\"showlegend\":true,\"textposition\":\"auto\",\"x\":[\"Climate change (short term)\"],\"xaxis\":\"x\",\"y\":[10.297647280897122],\"yaxis\":\"y\",\"type\":\"bar\"},{\"alignmentgroup\":\"True\",\"hovertemplate\":\"Objective function=%{x}\\u003cbr\\u003evariable=Resources\\u003cbr\\u003evalue=%{y}\\u003cextra\\u003e\\u003c\\u002fextra\\u003e\",\"legendgroup\":\"Climate change (short term), Resources\",\"marker\":{\"color\":\"#EF553B\",\"pattern\":{\"shape\":\".\"}},\"name\":\"Climate change (short term), Resources\",\"offsetgroup\":\"Climate change (short term), Resources\",\"orientation\":\"v\",\"showlegend\":true,\"textposition\":\"auto\",\"x\":[\"Climate change (short term)\"],\"xaxis\":\"x\",\"y\":[0.9856681204674669],\"yaxis\":\"y\",\"type\":\"bar\"},{\"alignmentgroup\":\"True\",\"hovertemplate\":\"Objective function=%{x}\\u003cbr\\u003evariable=Construction\\u003cbr\\u003evalue=%{y}\\u003cextra\\u003e\\u003c\\u002fextra\\u003e\",\"legendgroup\":\"Total human health, Construction\",\"marker\":{\"color\":\"#00cc96\",\"pattern\":{\"shape\":\"\"}},\"name\":\"Total human health, Construction\",\"offsetgroup\":\"Total human health, Construction\",\"orientation\":\"v\",\"showlegend\":true,\"textposition\":\"auto\",\"x\":[\"Total human health\"],\"xaxis\":\"x\",\"y\":[7.339542688871292],\"yaxis\":\"y\",\"type\":\"bar\"},{\"alignmentgroup\":\"True\",\"hovertemplate\":\"Objective function=%{x}\\u003cbr\\u003evariable=Operation\\u003cbr\\u003evalue=%{y}\\u003cextra\\u003e\\u003c\\u002fextra\\u003e\",\"legendgroup\":\"Total human health, Operation\",\"marker\":{\"color\":\"#00cc96\",\"pattern\":{\"shape\":\"\\u002f\"}},\"name\":\"Total human health, Operation\",\"offsetgroup\":\"Total human health, Operation\",\"orientation\":\"v\",\"showlegend\":true,\"textposition\":\"auto\",\"x\":[\"Total human health\"],\"xaxis\":\"x\",\"y\":[10.338453756458655],\"yaxis\":\"y\",\"type\":\"bar\"},{\"alignmentgroup\":\"True\",\"hovertemplate\":\"Objective function=%{x}\\u003cbr\\u003evariable=Resources\\u003cbr\\u003evalue=%{y}\\u003cextra\\u003e\\u003c\\u002fextra\\u003e\",\"legendgroup\":\"Total human health, Resources\",\"marker\":{\"color\":\"#00cc96\",\"pattern\":{\"shape\":\".\"}},\"name\":\"Total human health, Resources\",\"offsetgroup\":\"Total human health, Resources\",\"orientation\":\"v\",\"showlegend\":true,\"textposition\":\"auto\",\"x\":[\"Total human health\"],\"xaxis\":\"x\",\"y\":[0.32895531401727524],\"yaxis\":\"y\",\"type\":\"bar\"},{\"alignmentgroup\":\"True\",\"hovertemplate\":\"Objective function=%{x}\\u003cbr\\u003evariable=Construction\\u003cbr\\u003evalue=%{y}\\u003cextra\\u003e\\u003c\\u002fextra\\u003e\",\"legendgroup\":\"Total ecosystem quality, Construction\",\"marker\":{\"color\":\"#ab63fa\",\"pattern\":{\"shape\":\"\"}},\"name\":\"Total ecosystem quality, Construction\",\"offsetgroup\":\"Total ecosystem quality, Construction\",\"orientation\":\"v\",\"showlegend\":true,\"textposition\":\"auto\",\"x\":[\"Total ecosystem quality\"],\"xaxis\":\"x\",\"y\":[7.30488225650745],\"yaxis\":\"y\",\"type\":\"bar\"},{\"alignmentgroup\":\"True\",\"hovertemplate\":\"Objective function=%{x}\\u003cbr\\u003evariable=Operation\\u003cbr\\u003evalue=%{y}\\u003cextra\\u003e\\u003c\\u002fextra\\u003e\",\"legendgroup\":\"Total ecosystem quality, Operation\",\"marker\":{\"color\":\"#ab63fa\",\"pattern\":{\"shape\":\"\\u002f\"}},\"name\":\"Total ecosystem quality, Operation\",\"offsetgroup\":\"Total ecosystem quality, Operation\",\"orientation\":\"v\",\"showlegend\":true,\"textposition\":\"auto\",\"x\":[\"Total ecosystem quality\"],\"xaxis\":\"x\",\"y\":[10.377263207429902],\"yaxis\":\"y\",\"type\":\"bar\"},{\"alignmentgroup\":\"True\",\"hovertemplate\":\"Objective function=%{x}\\u003cbr\\u003evariable=Resources\\u003cbr\\u003evalue=%{y}\\u003cextra\\u003e\\u003c\\u002fextra\\u003e\",\"legendgroup\":\"Total ecosystem quality, Resources\",\"marker\":{\"color\":\"#ab63fa\",\"pattern\":{\"shape\":\".\"}},\"name\":\"Total ecosystem quality, Resources\",\"offsetgroup\":\"Total ecosystem quality, Resources\",\"orientation\":\"v\",\"showlegend\":true,\"textposition\":\"auto\",\"x\":[\"Total ecosystem quality\"],\"xaxis\":\"x\",\"y\":[0.33325117098185614],\"yaxis\":\"y\",\"type\":\"bar\"}],                        {\"template\":{\"data\":{\"barpolar\":[{\"marker\":{\"line\":{\"color\":\"white\",\"width\":0.5},\"pattern\":{\"fillmode\":\"overlay\",\"size\":10,\"solidity\":0.2}},\"type\":\"barpolar\"}],\"bar\":[{\"error_x\":{\"color\":\"#2a3f5f\"},\"error_y\":{\"color\":\"#2a3f5f\"},\"marker\":{\"line\":{\"color\":\"white\",\"width\":0.5},\"pattern\":{\"fillmode\":\"overlay\",\"size\":10,\"solidity\":0.2}},\"type\":\"bar\"}],\"carpet\":[{\"aaxis\":{\"endlinecolor\":\"#2a3f5f\",\"gridcolor\":\"#C8D4E3\",\"linecolor\":\"#C8D4E3\",\"minorgridcolor\":\"#C8D4E3\",\"startlinecolor\":\"#2a3f5f\"},\"baxis\":{\"endlinecolor\":\"#2a3f5f\",\"gridcolor\":\"#C8D4E3\",\"linecolor\":\"#C8D4E3\",\"minorgridcolor\":\"#C8D4E3\",\"startlinecolor\":\"#2a3f5f\"},\"type\":\"carpet\"}],\"choropleth\":[{\"colorbar\":{\"outlinewidth\":0,\"ticks\":\"\"},\"type\":\"choropleth\"}],\"contourcarpet\":[{\"colorbar\":{\"outlinewidth\":0,\"ticks\":\"\"},\"type\":\"contourcarpet\"}],\"contour\":[{\"colorbar\":{\"outlinewidth\":0,\"ticks\":\"\"},\"colorscale\":[[0.0,\"#0d0887\"],[0.1111111111111111,\"#46039f\"],[0.2222222222222222,\"#7201a8\"],[0.3333333333333333,\"#9c179e\"],[0.4444444444444444,\"#bd3786\"],[0.5555555555555556,\"#d8576b\"],[0.6666666666666666,\"#ed7953\"],[0.7777777777777778,\"#fb9f3a\"],[0.8888888888888888,\"#fdca26\"],[1.0,\"#f0f921\"]],\"type\":\"contour\"}],\"heatmapgl\":[{\"colorbar\":{\"outlinewidth\":0,\"ticks\":\"\"},\"colorscale\":[[0.0,\"#0d0887\"],[0.1111111111111111,\"#46039f\"],[0.2222222222222222,\"#7201a8\"],[0.3333333333333333,\"#9c179e\"],[0.4444444444444444,\"#bd3786\"],[0.5555555555555556,\"#d8576b\"],[0.6666666666666666,\"#ed7953\"],[0.7777777777777778,\"#fb9f3a\"],[0.8888888888888888,\"#fdca26\"],[1.0,\"#f0f921\"]],\"type\":\"heatmapgl\"}],\"heatmap\":[{\"colorbar\":{\"outlinewidth\":0,\"ticks\":\"\"},\"colorscale\":[[0.0,\"#0d0887\"],[0.1111111111111111,\"#46039f\"],[0.2222222222222222,\"#7201a8\"],[0.3333333333333333,\"#9c179e\"],[0.4444444444444444,\"#bd3786\"],[0.5555555555555556,\"#d8576b\"],[0.6666666666666666,\"#ed7953\"],[0.7777777777777778,\"#fb9f3a\"],[0.8888888888888888,\"#fdca26\"],[1.0,\"#f0f921\"]],\"type\":\"heatmap\"}],\"histogram2dcontour\":[{\"colorbar\":{\"outlinewidth\":0,\"ticks\":\"\"},\"colorscale\":[[0.0,\"#0d0887\"],[0.1111111111111111,\"#46039f\"],[0.2222222222222222,\"#7201a8\"],[0.3333333333333333,\"#9c179e\"],[0.4444444444444444,\"#bd3786\"],[0.5555555555555556,\"#d8576b\"],[0.6666666666666666,\"#ed7953\"],[0.7777777777777778,\"#fb9f3a\"],[0.8888888888888888,\"#fdca26\"],[1.0,\"#f0f921\"]],\"type\":\"histogram2dcontour\"}],\"histogram2d\":[{\"colorbar\":{\"outlinewidth\":0,\"ticks\":\"\"},\"colorscale\":[[0.0,\"#0d0887\"],[0.1111111111111111,\"#46039f\"],[0.2222222222222222,\"#7201a8\"],[0.3333333333333333,\"#9c179e\"],[0.4444444444444444,\"#bd3786\"],[0.5555555555555556,\"#d8576b\"],[0.6666666666666666,\"#ed7953\"],[0.7777777777777778,\"#fb9f3a\"],[0.8888888888888888,\"#fdca26\"],[1.0,\"#f0f921\"]],\"type\":\"histogram2d\"}],\"histogram\":[{\"marker\":{\"pattern\":{\"fillmode\":\"overlay\",\"size\":10,\"solidity\":0.2}},\"type\":\"histogram\"}],\"mesh3d\":[{\"colorbar\":{\"outlinewidth\":0,\"ticks\":\"\"},\"type\":\"mesh3d\"}],\"parcoords\":[{\"line\":{\"colorbar\":{\"outlinewidth\":0,\"ticks\":\"\"}},\"type\":\"parcoords\"}],\"pie\":[{\"automargin\":true,\"type\":\"pie\"}],\"scatter3d\":[{\"line\":{\"colorbar\":{\"outlinewidth\":0,\"ticks\":\"\"}},\"marker\":{\"colorbar\":{\"outlinewidth\":0,\"ticks\":\"\"}},\"type\":\"scatter3d\"}],\"scattercarpet\":[{\"marker\":{\"colorbar\":{\"outlinewidth\":0,\"ticks\":\"\"}},\"type\":\"scattercarpet\"}],\"scattergeo\":[{\"marker\":{\"colorbar\":{\"outlinewidth\":0,\"ticks\":\"\"}},\"type\":\"scattergeo\"}],\"scattergl\":[{\"marker\":{\"colorbar\":{\"outlinewidth\":0,\"ticks\":\"\"}},\"type\":\"scattergl\"}],\"scattermapbox\":[{\"marker\":{\"colorbar\":{\"outlinewidth\":0,\"ticks\":\"\"}},\"type\":\"scattermapbox\"}],\"scatterpolargl\":[{\"marker\":{\"colorbar\":{\"outlinewidth\":0,\"ticks\":\"\"}},\"type\":\"scatterpolargl\"}],\"scatterpolar\":[{\"marker\":{\"colorbar\":{\"outlinewidth\":0,\"ticks\":\"\"}},\"type\":\"scatterpolar\"}],\"scatter\":[{\"fillpattern\":{\"fillmode\":\"overlay\",\"size\":10,\"solidity\":0.2},\"type\":\"scatter\"}],\"scatterternary\":[{\"marker\":{\"colorbar\":{\"outlinewidth\":0,\"ticks\":\"\"}},\"type\":\"scatterternary\"}],\"surface\":[{\"colorbar\":{\"outlinewidth\":0,\"ticks\":\"\"},\"colorscale\":[[0.0,\"#0d0887\"],[0.1111111111111111,\"#46039f\"],[0.2222222222222222,\"#7201a8\"],[0.3333333333333333,\"#9c179e\"],[0.4444444444444444,\"#bd3786\"],[0.5555555555555556,\"#d8576b\"],[0.6666666666666666,\"#ed7953\"],[0.7777777777777778,\"#fb9f3a\"],[0.8888888888888888,\"#fdca26\"],[1.0,\"#f0f921\"]],\"type\":\"surface\"}],\"table\":[{\"cells\":{\"fill\":{\"color\":\"#EBF0F8\"},\"line\":{\"color\":\"white\"}},\"header\":{\"fill\":{\"color\":\"#C8D4E3\"},\"line\":{\"color\":\"white\"}},\"type\":\"table\"}]},\"layout\":{\"annotationdefaults\":{\"arrowcolor\":\"#2a3f5f\",\"arrowhead\":0,\"arrowwidth\":1},\"autotypenumbers\":\"strict\",\"coloraxis\":{\"colorbar\":{\"outlinewidth\":0,\"ticks\":\"\"}},\"colorscale\":{\"diverging\":[[0,\"#8e0152\"],[0.1,\"#c51b7d\"],[0.2,\"#de77ae\"],[0.3,\"#f1b6da\"],[0.4,\"#fde0ef\"],[0.5,\"#f7f7f7\"],[0.6,\"#e6f5d0\"],[0.7,\"#b8e186\"],[0.8,\"#7fbc41\"],[0.9,\"#4d9221\"],[1,\"#276419\"]],\"sequential\":[[0.0,\"#0d0887\"],[0.1111111111111111,\"#46039f\"],[0.2222222222222222,\"#7201a8\"],[0.3333333333333333,\"#9c179e\"],[0.4444444444444444,\"#bd3786\"],[0.5555555555555556,\"#d8576b\"],[0.6666666666666666,\"#ed7953\"],[0.7777777777777778,\"#fb9f3a\"],[0.8888888888888888,\"#fdca26\"],[1.0,\"#f0f921\"]],\"sequentialminus\":[[0.0,\"#0d0887\"],[0.1111111111111111,\"#46039f\"],[0.2222222222222222,\"#7201a8\"],[0.3333333333333333,\"#9c179e\"],[0.4444444444444444,\"#bd3786\"],[0.5555555555555556,\"#d8576b\"],[0.6666666666666666,\"#ed7953\"],[0.7777777777777778,\"#fb9f3a\"],[0.8888888888888888,\"#fdca26\"],[1.0,\"#f0f921\"]]},\"colorway\":[\"#636efa\",\"#EF553B\",\"#00cc96\",\"#ab63fa\",\"#FFA15A\",\"#19d3f3\",\"#FF6692\",\"#B6E880\",\"#FF97FF\",\"#FECB52\"],\"font\":{\"color\":\"#2a3f5f\"},\"geo\":{\"bgcolor\":\"white\",\"lakecolor\":\"white\",\"landcolor\":\"white\",\"showlakes\":true,\"showland\":true,\"subunitcolor\":\"#C8D4E3\"},\"hoverlabel\":{\"align\":\"left\"},\"hovermode\":\"closest\",\"mapbox\":{\"style\":\"light\"},\"paper_bgcolor\":\"white\",\"plot_bgcolor\":\"white\",\"polar\":{\"angularaxis\":{\"gridcolor\":\"#EBF0F8\",\"linecolor\":\"#EBF0F8\",\"ticks\":\"\"},\"bgcolor\":\"white\",\"radialaxis\":{\"gridcolor\":\"#EBF0F8\",\"linecolor\":\"#EBF0F8\",\"ticks\":\"\"}},\"scene\":{\"xaxis\":{\"backgroundcolor\":\"white\",\"gridcolor\":\"#DFE8F3\",\"gridwidth\":2,\"linecolor\":\"#EBF0F8\",\"showbackground\":true,\"ticks\":\"\",\"zerolinecolor\":\"#EBF0F8\"},\"yaxis\":{\"backgroundcolor\":\"white\",\"gridcolor\":\"#DFE8F3\",\"gridwidth\":2,\"linecolor\":\"#EBF0F8\",\"showbackground\":true,\"ticks\":\"\",\"zerolinecolor\":\"#EBF0F8\"},\"zaxis\":{\"backgroundcolor\":\"white\",\"gridcolor\":\"#DFE8F3\",\"gridwidth\":2,\"linecolor\":\"#EBF0F8\",\"showbackground\":true,\"ticks\":\"\",\"zerolinecolor\":\"#EBF0F8\"}},\"shapedefaults\":{\"line\":{\"color\":\"#2a3f5f\"}},\"ternary\":{\"aaxis\":{\"gridcolor\":\"#DFE8F3\",\"linecolor\":\"#A2B1C6\",\"ticks\":\"\"},\"baxis\":{\"gridcolor\":\"#DFE8F3\",\"linecolor\":\"#A2B1C6\",\"ticks\":\"\"},\"bgcolor\":\"white\",\"caxis\":{\"gridcolor\":\"#DFE8F3\",\"linecolor\":\"#A2B1C6\",\"ticks\":\"\"}},\"title\":{\"x\":0.05},\"xaxis\":{\"automargin\":true,\"gridcolor\":\"#EBF0F8\",\"linecolor\":\"#EBF0F8\",\"ticks\":\"\",\"title\":{\"standoff\":15},\"zerolinecolor\":\"#EBF0F8\",\"zerolinewidth\":2},\"yaxis\":{\"automargin\":true,\"gridcolor\":\"#EBF0F8\",\"linecolor\":\"#EBF0F8\",\"ticks\":\"\",\"title\":{\"standoff\":15},\"zerolinecolor\":\"#EBF0F8\",\"zerolinewidth\":2}}},\"xaxis\":{\"anchor\":\"y\",\"domain\":[0.0,1.0],\"title\":{\"text\":\"\"},\"categoryorder\":\"array\",\"categoryarray\":[\"Total cost\",\"Climate change (short term)\",\"Total human health\",\"Total ecosystem quality\"]},\"yaxis\":{\"anchor\":\"x\",\"domain\":[0.0,1.0],\"title\":{\"text\":\"Total human health relative to 2021 [%]\"}},\"legend\":{\"title\":{\"text\":\"Objective function, variable\"},\"tracegroupgap\":0},\"margin\":{\"t\":60},\"barmode\":\"relative\",\"showlegend\":false},                        {\"responsive\": true}                    ).then(function(){\n",
       "                            \n",
       "var gd = document.getElementById('11656e57-5e8e-4d77-8720-8bcf38b329ec');\n",
       "var x = new MutationObserver(function (mutations, observer) {{\n",
       "        var display = window.getComputedStyle(gd).display;\n",
       "        if (!display || display === 'none') {{\n",
       "            console.log([gd, 'removed!']);\n",
       "            Plotly.purge(gd);\n",
       "            observer.disconnect();\n",
       "        }}\n",
       "}});\n",
       "\n",
       "// Listen for the removal of the full notebook cells\n",
       "var notebookContainer = gd.closest('#notebook-container');\n",
       "if (notebookContainer) {{\n",
       "    x.observe(notebookContainer, {childList: true});\n",
       "}}\n",
       "\n",
       "// Listen for the clearing of the current output cell\n",
       "var outputEl = gd.closest('.output');\n",
       "if (outputEl) {{\n",
       "    x.observe(outputEl, {childList: true});\n",
       "}}\n",
       "\n",
       "                        })                };                });            </script>        </div>"
      ]
     },
     "metadata": {},
     "output_type": "display_data"
    },
    {
     "data": {
      "application/vnd.plotly.v1+json": {
       "data": [
        {
         "alignmentgroup": "True",
         "hovertemplate": "Objective function=%{x}<br>variable=Construction<br>value=%{y}<extra></extra>",
         "legendgroup": "Total cost, Construction",
         "marker": {
          "color": "#636efa",
          "pattern": {
           "shape": ""
          }
         },
         "name": "Total cost, Construction",
         "offsetgroup": "Total cost, Construction",
         "orientation": "v",
         "showlegend": true,
         "textposition": "auto",
         "x": [
          "Total cost"
         ],
         "xaxis": "x",
         "y": [
          18.705419456980817
         ],
         "yaxis": "y",
         "type": "bar"
        },
        {
         "alignmentgroup": "True",
         "hovertemplate": "Objective function=%{x}<br>variable=Operation<br>value=%{y}<extra></extra>",
         "legendgroup": "Total cost, Operation",
         "marker": {
          "color": "#636efa",
          "pattern": {
           "shape": "/"
          }
         },
         "name": "Total cost, Operation",
         "offsetgroup": "Total cost, Operation",
         "orientation": "v",
         "showlegend": true,
         "textposition": "auto",
         "x": [
          "Total cost"
         ],
         "xaxis": "x",
         "y": [
          34.40201393456324
         ],
         "yaxis": "y",
         "type": "bar"
        },
        {
         "alignmentgroup": "True",
         "hovertemplate": "Objective function=%{x}<br>variable=Resources<br>value=%{y}<extra></extra>",
         "legendgroup": "Total cost, Resources",
         "marker": {
          "color": "#636efa",
          "pattern": {
           "shape": "."
          }
         },
         "name": "Total cost, Resources",
         "offsetgroup": "Total cost, Resources",
         "orientation": "v",
         "showlegend": true,
         "textposition": "auto",
         "x": [
          "Total cost"
         ],
         "xaxis": "x",
         "y": [
          13.621145930535894
         ],
         "yaxis": "y",
         "type": "bar"
        },
        {
         "alignmentgroup": "True",
         "hovertemplate": "Objective function=%{x}<br>variable=Construction<br>value=%{y}<extra></extra>",
         "legendgroup": "Climate change (short term), Construction",
         "marker": {
          "color": "#EF553B",
          "pattern": {
           "shape": ""
          }
         },
         "name": "Climate change (short term), Construction",
         "offsetgroup": "Climate change (short term), Construction",
         "orientation": "v",
         "showlegend": true,
         "textposition": "auto",
         "x": [
          "Climate change (short term)"
         ],
         "xaxis": "x",
         "y": [
          11.264913875691422
         ],
         "yaxis": "y",
         "type": "bar"
        },
        {
         "alignmentgroup": "True",
         "hovertemplate": "Objective function=%{x}<br>variable=Operation<br>value=%{y}<extra></extra>",
         "legendgroup": "Climate change (short term), Operation",
         "marker": {
          "color": "#EF553B",
          "pattern": {
           "shape": "/"
          }
         },
         "name": "Climate change (short term), Operation",
         "offsetgroup": "Climate change (short term), Operation",
         "orientation": "v",
         "showlegend": true,
         "textposition": "auto",
         "x": [
          "Climate change (short term)"
         ],
         "xaxis": "x",
         "y": [
          11.457259078460138
         ],
         "yaxis": "y",
         "type": "bar"
        },
        {
         "alignmentgroup": "True",
         "hovertemplate": "Objective function=%{x}<br>variable=Resources<br>value=%{y}<extra></extra>",
         "legendgroup": "Climate change (short term), Resources",
         "marker": {
          "color": "#EF553B",
          "pattern": {
           "shape": "."
          }
         },
         "name": "Climate change (short term), Resources",
         "offsetgroup": "Climate change (short term), Resources",
         "orientation": "v",
         "showlegend": true,
         "textposition": "auto",
         "x": [
          "Climate change (short term)"
         ],
         "xaxis": "x",
         "y": [
          4.368002944202704
         ],
         "yaxis": "y",
         "type": "bar"
        },
        {
         "alignmentgroup": "True",
         "hovertemplate": "Objective function=%{x}<br>variable=Construction<br>value=%{y}<extra></extra>",
         "legendgroup": "Total human health, Construction",
         "marker": {
          "color": "#00cc96",
          "pattern": {
           "shape": ""
          }
         },
         "name": "Total human health, Construction",
         "offsetgroup": "Total human health, Construction",
         "orientation": "v",
         "showlegend": true,
         "textposition": "auto",
         "x": [
          "Total human health"
         ],
         "xaxis": "x",
         "y": [
          11.95925081935214
         ],
         "yaxis": "y",
         "type": "bar"
        },
        {
         "alignmentgroup": "True",
         "hovertemplate": "Objective function=%{x}<br>variable=Operation<br>value=%{y}<extra></extra>",
         "legendgroup": "Total human health, Operation",
         "marker": {
          "color": "#00cc96",
          "pattern": {
           "shape": "/"
          }
         },
         "name": "Total human health, Operation",
         "offsetgroup": "Total human health, Operation",
         "orientation": "v",
         "showlegend": true,
         "textposition": "auto",
         "x": [
          "Total human health"
         ],
         "xaxis": "x",
         "y": [
          11.493858495490244
         ],
         "yaxis": "y",
         "type": "bar"
        },
        {
         "alignmentgroup": "True",
         "hovertemplate": "Objective function=%{x}<br>variable=Resources<br>value=%{y}<extra></extra>",
         "legendgroup": "Total human health, Resources",
         "marker": {
          "color": "#00cc96",
          "pattern": {
           "shape": "."
          }
         },
         "name": "Total human health, Resources",
         "offsetgroup": "Total human health, Resources",
         "orientation": "v",
         "showlegend": true,
         "textposition": "auto",
         "x": [
          "Total human health"
         ],
         "xaxis": "x",
         "y": [
          0.6763645458929202
         ],
         "yaxis": "y",
         "type": "bar"
        },
        {
         "alignmentgroup": "True",
         "hovertemplate": "Objective function=%{x}<br>variable=Construction<br>value=%{y}<extra></extra>",
         "legendgroup": "Total ecosystem quality, Construction",
         "marker": {
          "color": "#ab63fa",
          "pattern": {
           "shape": ""
          }
         },
         "name": "Total ecosystem quality, Construction",
         "offsetgroup": "Total ecosystem quality, Construction",
         "orientation": "v",
         "showlegend": true,
         "textposition": "auto",
         "x": [
          "Total ecosystem quality"
         ],
         "xaxis": "x",
         "y": [
          11.891514327769727
         ],
         "yaxis": "y",
         "type": "bar"
        },
        {
         "alignmentgroup": "True",
         "hovertemplate": "Objective function=%{x}<br>variable=Operation<br>value=%{y}<extra></extra>",
         "legendgroup": "Total ecosystem quality, Operation",
         "marker": {
          "color": "#ab63fa",
          "pattern": {
           "shape": "/"
          }
         },
         "name": "Total ecosystem quality, Operation",
         "offsetgroup": "Total ecosystem quality, Operation",
         "orientation": "v",
         "showlegend": true,
         "textposition": "auto",
         "x": [
          "Total ecosystem quality"
         ],
         "xaxis": "x",
         "y": [
          11.520498548567895
         ],
         "yaxis": "y",
         "type": "bar"
        },
        {
         "alignmentgroup": "True",
         "hovertemplate": "Objective function=%{x}<br>variable=Resources<br>value=%{y}<extra></extra>",
         "legendgroup": "Total ecosystem quality, Resources",
         "marker": {
          "color": "#ab63fa",
          "pattern": {
           "shape": "."
          }
         },
         "name": "Total ecosystem quality, Resources",
         "offsetgroup": "Total ecosystem quality, Resources",
         "orientation": "v",
         "showlegend": true,
         "textposition": "auto",
         "x": [
          "Total ecosystem quality"
         ],
         "xaxis": "x",
         "y": [
          0.6862606764510412
         ],
         "yaxis": "y",
         "type": "bar"
        }
       ],
       "layout": {
        "template": {
         "data": {
          "barpolar": [
           {
            "marker": {
             "line": {
              "color": "white",
              "width": 0.5
             },
             "pattern": {
              "fillmode": "overlay",
              "size": 10,
              "solidity": 0.2
             }
            },
            "type": "barpolar"
           }
          ],
          "bar": [
           {
            "error_x": {
             "color": "#2a3f5f"
            },
            "error_y": {
             "color": "#2a3f5f"
            },
            "marker": {
             "line": {
              "color": "white",
              "width": 0.5
             },
             "pattern": {
              "fillmode": "overlay",
              "size": 10,
              "solidity": 0.2
             }
            },
            "type": "bar"
           }
          ],
          "carpet": [
           {
            "aaxis": {
             "endlinecolor": "#2a3f5f",
             "gridcolor": "#C8D4E3",
             "linecolor": "#C8D4E3",
             "minorgridcolor": "#C8D4E3",
             "startlinecolor": "#2a3f5f"
            },
            "baxis": {
             "endlinecolor": "#2a3f5f",
             "gridcolor": "#C8D4E3",
             "linecolor": "#C8D4E3",
             "minorgridcolor": "#C8D4E3",
             "startlinecolor": "#2a3f5f"
            },
            "type": "carpet"
           }
          ],
          "choropleth": [
           {
            "colorbar": {
             "outlinewidth": 0,
             "ticks": ""
            },
            "type": "choropleth"
           }
          ],
          "contourcarpet": [
           {
            "colorbar": {
             "outlinewidth": 0,
             "ticks": ""
            },
            "type": "contourcarpet"
           }
          ],
          "contour": [
           {
            "colorbar": {
             "outlinewidth": 0,
             "ticks": ""
            },
            "colorscale": [
             [
              0.0,
              "#0d0887"
             ],
             [
              0.1111111111111111,
              "#46039f"
             ],
             [
              0.2222222222222222,
              "#7201a8"
             ],
             [
              0.3333333333333333,
              "#9c179e"
             ],
             [
              0.4444444444444444,
              "#bd3786"
             ],
             [
              0.5555555555555556,
              "#d8576b"
             ],
             [
              0.6666666666666666,
              "#ed7953"
             ],
             [
              0.7777777777777778,
              "#fb9f3a"
             ],
             [
              0.8888888888888888,
              "#fdca26"
             ],
             [
              1.0,
              "#f0f921"
             ]
            ],
            "type": "contour"
           }
          ],
          "heatmapgl": [
           {
            "colorbar": {
             "outlinewidth": 0,
             "ticks": ""
            },
            "colorscale": [
             [
              0.0,
              "#0d0887"
             ],
             [
              0.1111111111111111,
              "#46039f"
             ],
             [
              0.2222222222222222,
              "#7201a8"
             ],
             [
              0.3333333333333333,
              "#9c179e"
             ],
             [
              0.4444444444444444,
              "#bd3786"
             ],
             [
              0.5555555555555556,
              "#d8576b"
             ],
             [
              0.6666666666666666,
              "#ed7953"
             ],
             [
              0.7777777777777778,
              "#fb9f3a"
             ],
             [
              0.8888888888888888,
              "#fdca26"
             ],
             [
              1.0,
              "#f0f921"
             ]
            ],
            "type": "heatmapgl"
           }
          ],
          "heatmap": [
           {
            "colorbar": {
             "outlinewidth": 0,
             "ticks": ""
            },
            "colorscale": [
             [
              0.0,
              "#0d0887"
             ],
             [
              0.1111111111111111,
              "#46039f"
             ],
             [
              0.2222222222222222,
              "#7201a8"
             ],
             [
              0.3333333333333333,
              "#9c179e"
             ],
             [
              0.4444444444444444,
              "#bd3786"
             ],
             [
              0.5555555555555556,
              "#d8576b"
             ],
             [
              0.6666666666666666,
              "#ed7953"
             ],
             [
              0.7777777777777778,
              "#fb9f3a"
             ],
             [
              0.8888888888888888,
              "#fdca26"
             ],
             [
              1.0,
              "#f0f921"
             ]
            ],
            "type": "heatmap"
           }
          ],
          "histogram2dcontour": [
           {
            "colorbar": {
             "outlinewidth": 0,
             "ticks": ""
            },
            "colorscale": [
             [
              0.0,
              "#0d0887"
             ],
             [
              0.1111111111111111,
              "#46039f"
             ],
             [
              0.2222222222222222,
              "#7201a8"
             ],
             [
              0.3333333333333333,
              "#9c179e"
             ],
             [
              0.4444444444444444,
              "#bd3786"
             ],
             [
              0.5555555555555556,
              "#d8576b"
             ],
             [
              0.6666666666666666,
              "#ed7953"
             ],
             [
              0.7777777777777778,
              "#fb9f3a"
             ],
             [
              0.8888888888888888,
              "#fdca26"
             ],
             [
              1.0,
              "#f0f921"
             ]
            ],
            "type": "histogram2dcontour"
           }
          ],
          "histogram2d": [
           {
            "colorbar": {
             "outlinewidth": 0,
             "ticks": ""
            },
            "colorscale": [
             [
              0.0,
              "#0d0887"
             ],
             [
              0.1111111111111111,
              "#46039f"
             ],
             [
              0.2222222222222222,
              "#7201a8"
             ],
             [
              0.3333333333333333,
              "#9c179e"
             ],
             [
              0.4444444444444444,
              "#bd3786"
             ],
             [
              0.5555555555555556,
              "#d8576b"
             ],
             [
              0.6666666666666666,
              "#ed7953"
             ],
             [
              0.7777777777777778,
              "#fb9f3a"
             ],
             [
              0.8888888888888888,
              "#fdca26"
             ],
             [
              1.0,
              "#f0f921"
             ]
            ],
            "type": "histogram2d"
           }
          ],
          "histogram": [
           {
            "marker": {
             "pattern": {
              "fillmode": "overlay",
              "size": 10,
              "solidity": 0.2
             }
            },
            "type": "histogram"
           }
          ],
          "mesh3d": [
           {
            "colorbar": {
             "outlinewidth": 0,
             "ticks": ""
            },
            "type": "mesh3d"
           }
          ],
          "parcoords": [
           {
            "line": {
             "colorbar": {
              "outlinewidth": 0,
              "ticks": ""
             }
            },
            "type": "parcoords"
           }
          ],
          "pie": [
           {
            "automargin": true,
            "type": "pie"
           }
          ],
          "scatter3d": [
           {
            "line": {
             "colorbar": {
              "outlinewidth": 0,
              "ticks": ""
             }
            },
            "marker": {
             "colorbar": {
              "outlinewidth": 0,
              "ticks": ""
             }
            },
            "type": "scatter3d"
           }
          ],
          "scattercarpet": [
           {
            "marker": {
             "colorbar": {
              "outlinewidth": 0,
              "ticks": ""
             }
            },
            "type": "scattercarpet"
           }
          ],
          "scattergeo": [
           {
            "marker": {
             "colorbar": {
              "outlinewidth": 0,
              "ticks": ""
             }
            },
            "type": "scattergeo"
           }
          ],
          "scattergl": [
           {
            "marker": {
             "colorbar": {
              "outlinewidth": 0,
              "ticks": ""
             }
            },
            "type": "scattergl"
           }
          ],
          "scattermapbox": [
           {
            "marker": {
             "colorbar": {
              "outlinewidth": 0,
              "ticks": ""
             }
            },
            "type": "scattermapbox"
           }
          ],
          "scatterpolargl": [
           {
            "marker": {
             "colorbar": {
              "outlinewidth": 0,
              "ticks": ""
             }
            },
            "type": "scatterpolargl"
           }
          ],
          "scatterpolar": [
           {
            "marker": {
             "colorbar": {
              "outlinewidth": 0,
              "ticks": ""
             }
            },
            "type": "scatterpolar"
           }
          ],
          "scatter": [
           {
            "fillpattern": {
             "fillmode": "overlay",
             "size": 10,
             "solidity": 0.2
            },
            "type": "scatter"
           }
          ],
          "scatterternary": [
           {
            "marker": {
             "colorbar": {
              "outlinewidth": 0,
              "ticks": ""
             }
            },
            "type": "scatterternary"
           }
          ],
          "surface": [
           {
            "colorbar": {
             "outlinewidth": 0,
             "ticks": ""
            },
            "colorscale": [
             [
              0.0,
              "#0d0887"
             ],
             [
              0.1111111111111111,
              "#46039f"
             ],
             [
              0.2222222222222222,
              "#7201a8"
             ],
             [
              0.3333333333333333,
              "#9c179e"
             ],
             [
              0.4444444444444444,
              "#bd3786"
             ],
             [
              0.5555555555555556,
              "#d8576b"
             ],
             [
              0.6666666666666666,
              "#ed7953"
             ],
             [
              0.7777777777777778,
              "#fb9f3a"
             ],
             [
              0.8888888888888888,
              "#fdca26"
             ],
             [
              1.0,
              "#f0f921"
             ]
            ],
            "type": "surface"
           }
          ],
          "table": [
           {
            "cells": {
             "fill": {
              "color": "#EBF0F8"
             },
             "line": {
              "color": "white"
             }
            },
            "header": {
             "fill": {
              "color": "#C8D4E3"
             },
             "line": {
              "color": "white"
             }
            },
            "type": "table"
           }
          ]
         },
         "layout": {
          "annotationdefaults": {
           "arrowcolor": "#2a3f5f",
           "arrowhead": 0,
           "arrowwidth": 1
          },
          "autotypenumbers": "strict",
          "coloraxis": {
           "colorbar": {
            "outlinewidth": 0,
            "ticks": ""
           }
          },
          "colorscale": {
           "diverging": [
            [
             0,
             "#8e0152"
            ],
            [
             0.1,
             "#c51b7d"
            ],
            [
             0.2,
             "#de77ae"
            ],
            [
             0.3,
             "#f1b6da"
            ],
            [
             0.4,
             "#fde0ef"
            ],
            [
             0.5,
             "#f7f7f7"
            ],
            [
             0.6,
             "#e6f5d0"
            ],
            [
             0.7,
             "#b8e186"
            ],
            [
             0.8,
             "#7fbc41"
            ],
            [
             0.9,
             "#4d9221"
            ],
            [
             1,
             "#276419"
            ]
           ],
           "sequential": [
            [
             0.0,
             "#0d0887"
            ],
            [
             0.1111111111111111,
             "#46039f"
            ],
            [
             0.2222222222222222,
             "#7201a8"
            ],
            [
             0.3333333333333333,
             "#9c179e"
            ],
            [
             0.4444444444444444,
             "#bd3786"
            ],
            [
             0.5555555555555556,
             "#d8576b"
            ],
            [
             0.6666666666666666,
             "#ed7953"
            ],
            [
             0.7777777777777778,
             "#fb9f3a"
            ],
            [
             0.8888888888888888,
             "#fdca26"
            ],
            [
             1.0,
             "#f0f921"
            ]
           ],
           "sequentialminus": [
            [
             0.0,
             "#0d0887"
            ],
            [
             0.1111111111111111,
             "#46039f"
            ],
            [
             0.2222222222222222,
             "#7201a8"
            ],
            [
             0.3333333333333333,
             "#9c179e"
            ],
            [
             0.4444444444444444,
             "#bd3786"
            ],
            [
             0.5555555555555556,
             "#d8576b"
            ],
            [
             0.6666666666666666,
             "#ed7953"
            ],
            [
             0.7777777777777778,
             "#fb9f3a"
            ],
            [
             0.8888888888888888,
             "#fdca26"
            ],
            [
             1.0,
             "#f0f921"
            ]
           ]
          },
          "colorway": [
           "#636efa",
           "#EF553B",
           "#00cc96",
           "#ab63fa",
           "#FFA15A",
           "#19d3f3",
           "#FF6692",
           "#B6E880",
           "#FF97FF",
           "#FECB52"
          ],
          "font": {
           "color": "#2a3f5f"
          },
          "geo": {
           "bgcolor": "white",
           "lakecolor": "white",
           "landcolor": "white",
           "showlakes": true,
           "showland": true,
           "subunitcolor": "#C8D4E3"
          },
          "hoverlabel": {
           "align": "left"
          },
          "hovermode": "closest",
          "mapbox": {
           "style": "light"
          },
          "paper_bgcolor": "white",
          "plot_bgcolor": "white",
          "polar": {
           "angularaxis": {
            "gridcolor": "#EBF0F8",
            "linecolor": "#EBF0F8",
            "ticks": ""
           },
           "bgcolor": "white",
           "radialaxis": {
            "gridcolor": "#EBF0F8",
            "linecolor": "#EBF0F8",
            "ticks": ""
           }
          },
          "scene": {
           "xaxis": {
            "backgroundcolor": "white",
            "gridcolor": "#DFE8F3",
            "gridwidth": 2,
            "linecolor": "#EBF0F8",
            "showbackground": true,
            "ticks": "",
            "zerolinecolor": "#EBF0F8"
           },
           "yaxis": {
            "backgroundcolor": "white",
            "gridcolor": "#DFE8F3",
            "gridwidth": 2,
            "linecolor": "#EBF0F8",
            "showbackground": true,
            "ticks": "",
            "zerolinecolor": "#EBF0F8"
           },
           "zaxis": {
            "backgroundcolor": "white",
            "gridcolor": "#DFE8F3",
            "gridwidth": 2,
            "linecolor": "#EBF0F8",
            "showbackground": true,
            "ticks": "",
            "zerolinecolor": "#EBF0F8"
           }
          },
          "shapedefaults": {
           "line": {
            "color": "#2a3f5f"
           }
          },
          "ternary": {
           "aaxis": {
            "gridcolor": "#DFE8F3",
            "linecolor": "#A2B1C6",
            "ticks": ""
           },
           "baxis": {
            "gridcolor": "#DFE8F3",
            "linecolor": "#A2B1C6",
            "ticks": ""
           },
           "bgcolor": "white",
           "caxis": {
            "gridcolor": "#DFE8F3",
            "linecolor": "#A2B1C6",
            "ticks": ""
           }
          },
          "title": {
           "x": 0.05
          },
          "xaxis": {
           "automargin": true,
           "gridcolor": "#EBF0F8",
           "linecolor": "#EBF0F8",
           "ticks": "",
           "title": {
            "standoff": 15
           },
           "zerolinecolor": "#EBF0F8",
           "zerolinewidth": 2
          },
          "yaxis": {
           "automargin": true,
           "gridcolor": "#EBF0F8",
           "linecolor": "#EBF0F8",
           "ticks": "",
           "title": {
            "standoff": 15
           },
           "zerolinecolor": "#EBF0F8",
           "zerolinewidth": 2
          }
         }
        },
        "xaxis": {
         "anchor": "y",
         "domain": [
          0.0,
          1.0
         ],
         "title": {
          "text": ""
         },
         "categoryorder": "array",
         "categoryarray": [
          "Total cost",
          "Climate change (short term)",
          "Total human health",
          "Total ecosystem quality"
         ]
        },
        "yaxis": {
         "anchor": "x",
         "domain": [
          0.0,
          1.0
         ],
         "title": {
          "text": "Total ecosystem quality relative to 2021 [%]"
         }
        },
        "legend": {
         "title": {
          "text": "Objective function, variable"
         },
         "tracegroupgap": 0
        },
        "margin": {
         "t": 60
        },
        "barmode": "relative",
        "showlegend": false
       },
       "config": {
        "plotlyServerURL": "https://plot.ly"
       }
      },
      "text/html": [
       "<div>                            <div id=\"e78d9b9d-72a9-4a44-850e-0ffe11704120\" class=\"plotly-graph-div\" style=\"height:525px; width:100%;\"></div>            <script type=\"text/javascript\">                require([\"plotly\"], function(Plotly) {                    window.PLOTLYENV=window.PLOTLYENV || {};                                    if (document.getElementById(\"e78d9b9d-72a9-4a44-850e-0ffe11704120\")) {                    Plotly.newPlot(                        \"e78d9b9d-72a9-4a44-850e-0ffe11704120\",                        [{\"alignmentgroup\":\"True\",\"hovertemplate\":\"Objective function=%{x}\\u003cbr\\u003evariable=Construction\\u003cbr\\u003evalue=%{y}\\u003cextra\\u003e\\u003c\\u002fextra\\u003e\",\"legendgroup\":\"Total cost, Construction\",\"marker\":{\"color\":\"#636efa\",\"pattern\":{\"shape\":\"\"}},\"name\":\"Total cost, Construction\",\"offsetgroup\":\"Total cost, Construction\",\"orientation\":\"v\",\"showlegend\":true,\"textposition\":\"auto\",\"x\":[\"Total cost\"],\"xaxis\":\"x\",\"y\":[18.705419456980817],\"yaxis\":\"y\",\"type\":\"bar\"},{\"alignmentgroup\":\"True\",\"hovertemplate\":\"Objective function=%{x}\\u003cbr\\u003evariable=Operation\\u003cbr\\u003evalue=%{y}\\u003cextra\\u003e\\u003c\\u002fextra\\u003e\",\"legendgroup\":\"Total cost, Operation\",\"marker\":{\"color\":\"#636efa\",\"pattern\":{\"shape\":\"\\u002f\"}},\"name\":\"Total cost, Operation\",\"offsetgroup\":\"Total cost, Operation\",\"orientation\":\"v\",\"showlegend\":true,\"textposition\":\"auto\",\"x\":[\"Total cost\"],\"xaxis\":\"x\",\"y\":[34.40201393456324],\"yaxis\":\"y\",\"type\":\"bar\"},{\"alignmentgroup\":\"True\",\"hovertemplate\":\"Objective function=%{x}\\u003cbr\\u003evariable=Resources\\u003cbr\\u003evalue=%{y}\\u003cextra\\u003e\\u003c\\u002fextra\\u003e\",\"legendgroup\":\"Total cost, Resources\",\"marker\":{\"color\":\"#636efa\",\"pattern\":{\"shape\":\".\"}},\"name\":\"Total cost, Resources\",\"offsetgroup\":\"Total cost, Resources\",\"orientation\":\"v\",\"showlegend\":true,\"textposition\":\"auto\",\"x\":[\"Total cost\"],\"xaxis\":\"x\",\"y\":[13.621145930535894],\"yaxis\":\"y\",\"type\":\"bar\"},{\"alignmentgroup\":\"True\",\"hovertemplate\":\"Objective function=%{x}\\u003cbr\\u003evariable=Construction\\u003cbr\\u003evalue=%{y}\\u003cextra\\u003e\\u003c\\u002fextra\\u003e\",\"legendgroup\":\"Climate change (short term), Construction\",\"marker\":{\"color\":\"#EF553B\",\"pattern\":{\"shape\":\"\"}},\"name\":\"Climate change (short term), Construction\",\"offsetgroup\":\"Climate change (short term), Construction\",\"orientation\":\"v\",\"showlegend\":true,\"textposition\":\"auto\",\"x\":[\"Climate change (short term)\"],\"xaxis\":\"x\",\"y\":[11.264913875691422],\"yaxis\":\"y\",\"type\":\"bar\"},{\"alignmentgroup\":\"True\",\"hovertemplate\":\"Objective function=%{x}\\u003cbr\\u003evariable=Operation\\u003cbr\\u003evalue=%{y}\\u003cextra\\u003e\\u003c\\u002fextra\\u003e\",\"legendgroup\":\"Climate change (short term), Operation\",\"marker\":{\"color\":\"#EF553B\",\"pattern\":{\"shape\":\"\\u002f\"}},\"name\":\"Climate change (short term), Operation\",\"offsetgroup\":\"Climate change (short term), Operation\",\"orientation\":\"v\",\"showlegend\":true,\"textposition\":\"auto\",\"x\":[\"Climate change (short term)\"],\"xaxis\":\"x\",\"y\":[11.457259078460138],\"yaxis\":\"y\",\"type\":\"bar\"},{\"alignmentgroup\":\"True\",\"hovertemplate\":\"Objective function=%{x}\\u003cbr\\u003evariable=Resources\\u003cbr\\u003evalue=%{y}\\u003cextra\\u003e\\u003c\\u002fextra\\u003e\",\"legendgroup\":\"Climate change (short term), Resources\",\"marker\":{\"color\":\"#EF553B\",\"pattern\":{\"shape\":\".\"}},\"name\":\"Climate change (short term), Resources\",\"offsetgroup\":\"Climate change (short term), Resources\",\"orientation\":\"v\",\"showlegend\":true,\"textposition\":\"auto\",\"x\":[\"Climate change (short term)\"],\"xaxis\":\"x\",\"y\":[4.368002944202704],\"yaxis\":\"y\",\"type\":\"bar\"},{\"alignmentgroup\":\"True\",\"hovertemplate\":\"Objective function=%{x}\\u003cbr\\u003evariable=Construction\\u003cbr\\u003evalue=%{y}\\u003cextra\\u003e\\u003c\\u002fextra\\u003e\",\"legendgroup\":\"Total human health, Construction\",\"marker\":{\"color\":\"#00cc96\",\"pattern\":{\"shape\":\"\"}},\"name\":\"Total human health, Construction\",\"offsetgroup\":\"Total human health, Construction\",\"orientation\":\"v\",\"showlegend\":true,\"textposition\":\"auto\",\"x\":[\"Total human health\"],\"xaxis\":\"x\",\"y\":[11.95925081935214],\"yaxis\":\"y\",\"type\":\"bar\"},{\"alignmentgroup\":\"True\",\"hovertemplate\":\"Objective function=%{x}\\u003cbr\\u003evariable=Operation\\u003cbr\\u003evalue=%{y}\\u003cextra\\u003e\\u003c\\u002fextra\\u003e\",\"legendgroup\":\"Total human health, Operation\",\"marker\":{\"color\":\"#00cc96\",\"pattern\":{\"shape\":\"\\u002f\"}},\"name\":\"Total human health, Operation\",\"offsetgroup\":\"Total human health, Operation\",\"orientation\":\"v\",\"showlegend\":true,\"textposition\":\"auto\",\"x\":[\"Total human health\"],\"xaxis\":\"x\",\"y\":[11.493858495490244],\"yaxis\":\"y\",\"type\":\"bar\"},{\"alignmentgroup\":\"True\",\"hovertemplate\":\"Objective function=%{x}\\u003cbr\\u003evariable=Resources\\u003cbr\\u003evalue=%{y}\\u003cextra\\u003e\\u003c\\u002fextra\\u003e\",\"legendgroup\":\"Total human health, Resources\",\"marker\":{\"color\":\"#00cc96\",\"pattern\":{\"shape\":\".\"}},\"name\":\"Total human health, Resources\",\"offsetgroup\":\"Total human health, Resources\",\"orientation\":\"v\",\"showlegend\":true,\"textposition\":\"auto\",\"x\":[\"Total human health\"],\"xaxis\":\"x\",\"y\":[0.6763645458929202],\"yaxis\":\"y\",\"type\":\"bar\"},{\"alignmentgroup\":\"True\",\"hovertemplate\":\"Objective function=%{x}\\u003cbr\\u003evariable=Construction\\u003cbr\\u003evalue=%{y}\\u003cextra\\u003e\\u003c\\u002fextra\\u003e\",\"legendgroup\":\"Total ecosystem quality, Construction\",\"marker\":{\"color\":\"#ab63fa\",\"pattern\":{\"shape\":\"\"}},\"name\":\"Total ecosystem quality, Construction\",\"offsetgroup\":\"Total ecosystem quality, Construction\",\"orientation\":\"v\",\"showlegend\":true,\"textposition\":\"auto\",\"x\":[\"Total ecosystem quality\"],\"xaxis\":\"x\",\"y\":[11.891514327769727],\"yaxis\":\"y\",\"type\":\"bar\"},{\"alignmentgroup\":\"True\",\"hovertemplate\":\"Objective function=%{x}\\u003cbr\\u003evariable=Operation\\u003cbr\\u003evalue=%{y}\\u003cextra\\u003e\\u003c\\u002fextra\\u003e\",\"legendgroup\":\"Total ecosystem quality, Operation\",\"marker\":{\"color\":\"#ab63fa\",\"pattern\":{\"shape\":\"\\u002f\"}},\"name\":\"Total ecosystem quality, Operation\",\"offsetgroup\":\"Total ecosystem quality, Operation\",\"orientation\":\"v\",\"showlegend\":true,\"textposition\":\"auto\",\"x\":[\"Total ecosystem quality\"],\"xaxis\":\"x\",\"y\":[11.520498548567895],\"yaxis\":\"y\",\"type\":\"bar\"},{\"alignmentgroup\":\"True\",\"hovertemplate\":\"Objective function=%{x}\\u003cbr\\u003evariable=Resources\\u003cbr\\u003evalue=%{y}\\u003cextra\\u003e\\u003c\\u002fextra\\u003e\",\"legendgroup\":\"Total ecosystem quality, Resources\",\"marker\":{\"color\":\"#ab63fa\",\"pattern\":{\"shape\":\".\"}},\"name\":\"Total ecosystem quality, Resources\",\"offsetgroup\":\"Total ecosystem quality, Resources\",\"orientation\":\"v\",\"showlegend\":true,\"textposition\":\"auto\",\"x\":[\"Total ecosystem quality\"],\"xaxis\":\"x\",\"y\":[0.6862606764510412],\"yaxis\":\"y\",\"type\":\"bar\"}],                        {\"template\":{\"data\":{\"barpolar\":[{\"marker\":{\"line\":{\"color\":\"white\",\"width\":0.5},\"pattern\":{\"fillmode\":\"overlay\",\"size\":10,\"solidity\":0.2}},\"type\":\"barpolar\"}],\"bar\":[{\"error_x\":{\"color\":\"#2a3f5f\"},\"error_y\":{\"color\":\"#2a3f5f\"},\"marker\":{\"line\":{\"color\":\"white\",\"width\":0.5},\"pattern\":{\"fillmode\":\"overlay\",\"size\":10,\"solidity\":0.2}},\"type\":\"bar\"}],\"carpet\":[{\"aaxis\":{\"endlinecolor\":\"#2a3f5f\",\"gridcolor\":\"#C8D4E3\",\"linecolor\":\"#C8D4E3\",\"minorgridcolor\":\"#C8D4E3\",\"startlinecolor\":\"#2a3f5f\"},\"baxis\":{\"endlinecolor\":\"#2a3f5f\",\"gridcolor\":\"#C8D4E3\",\"linecolor\":\"#C8D4E3\",\"minorgridcolor\":\"#C8D4E3\",\"startlinecolor\":\"#2a3f5f\"},\"type\":\"carpet\"}],\"choropleth\":[{\"colorbar\":{\"outlinewidth\":0,\"ticks\":\"\"},\"type\":\"choropleth\"}],\"contourcarpet\":[{\"colorbar\":{\"outlinewidth\":0,\"ticks\":\"\"},\"type\":\"contourcarpet\"}],\"contour\":[{\"colorbar\":{\"outlinewidth\":0,\"ticks\":\"\"},\"colorscale\":[[0.0,\"#0d0887\"],[0.1111111111111111,\"#46039f\"],[0.2222222222222222,\"#7201a8\"],[0.3333333333333333,\"#9c179e\"],[0.4444444444444444,\"#bd3786\"],[0.5555555555555556,\"#d8576b\"],[0.6666666666666666,\"#ed7953\"],[0.7777777777777778,\"#fb9f3a\"],[0.8888888888888888,\"#fdca26\"],[1.0,\"#f0f921\"]],\"type\":\"contour\"}],\"heatmapgl\":[{\"colorbar\":{\"outlinewidth\":0,\"ticks\":\"\"},\"colorscale\":[[0.0,\"#0d0887\"],[0.1111111111111111,\"#46039f\"],[0.2222222222222222,\"#7201a8\"],[0.3333333333333333,\"#9c179e\"],[0.4444444444444444,\"#bd3786\"],[0.5555555555555556,\"#d8576b\"],[0.6666666666666666,\"#ed7953\"],[0.7777777777777778,\"#fb9f3a\"],[0.8888888888888888,\"#fdca26\"],[1.0,\"#f0f921\"]],\"type\":\"heatmapgl\"}],\"heatmap\":[{\"colorbar\":{\"outlinewidth\":0,\"ticks\":\"\"},\"colorscale\":[[0.0,\"#0d0887\"],[0.1111111111111111,\"#46039f\"],[0.2222222222222222,\"#7201a8\"],[0.3333333333333333,\"#9c179e\"],[0.4444444444444444,\"#bd3786\"],[0.5555555555555556,\"#d8576b\"],[0.6666666666666666,\"#ed7953\"],[0.7777777777777778,\"#fb9f3a\"],[0.8888888888888888,\"#fdca26\"],[1.0,\"#f0f921\"]],\"type\":\"heatmap\"}],\"histogram2dcontour\":[{\"colorbar\":{\"outlinewidth\":0,\"ticks\":\"\"},\"colorscale\":[[0.0,\"#0d0887\"],[0.1111111111111111,\"#46039f\"],[0.2222222222222222,\"#7201a8\"],[0.3333333333333333,\"#9c179e\"],[0.4444444444444444,\"#bd3786\"],[0.5555555555555556,\"#d8576b\"],[0.6666666666666666,\"#ed7953\"],[0.7777777777777778,\"#fb9f3a\"],[0.8888888888888888,\"#fdca26\"],[1.0,\"#f0f921\"]],\"type\":\"histogram2dcontour\"}],\"histogram2d\":[{\"colorbar\":{\"outlinewidth\":0,\"ticks\":\"\"},\"colorscale\":[[0.0,\"#0d0887\"],[0.1111111111111111,\"#46039f\"],[0.2222222222222222,\"#7201a8\"],[0.3333333333333333,\"#9c179e\"],[0.4444444444444444,\"#bd3786\"],[0.5555555555555556,\"#d8576b\"],[0.6666666666666666,\"#ed7953\"],[0.7777777777777778,\"#fb9f3a\"],[0.8888888888888888,\"#fdca26\"],[1.0,\"#f0f921\"]],\"type\":\"histogram2d\"}],\"histogram\":[{\"marker\":{\"pattern\":{\"fillmode\":\"overlay\",\"size\":10,\"solidity\":0.2}},\"type\":\"histogram\"}],\"mesh3d\":[{\"colorbar\":{\"outlinewidth\":0,\"ticks\":\"\"},\"type\":\"mesh3d\"}],\"parcoords\":[{\"line\":{\"colorbar\":{\"outlinewidth\":0,\"ticks\":\"\"}},\"type\":\"parcoords\"}],\"pie\":[{\"automargin\":true,\"type\":\"pie\"}],\"scatter3d\":[{\"line\":{\"colorbar\":{\"outlinewidth\":0,\"ticks\":\"\"}},\"marker\":{\"colorbar\":{\"outlinewidth\":0,\"ticks\":\"\"}},\"type\":\"scatter3d\"}],\"scattercarpet\":[{\"marker\":{\"colorbar\":{\"outlinewidth\":0,\"ticks\":\"\"}},\"type\":\"scattercarpet\"}],\"scattergeo\":[{\"marker\":{\"colorbar\":{\"outlinewidth\":0,\"ticks\":\"\"}},\"type\":\"scattergeo\"}],\"scattergl\":[{\"marker\":{\"colorbar\":{\"outlinewidth\":0,\"ticks\":\"\"}},\"type\":\"scattergl\"}],\"scattermapbox\":[{\"marker\":{\"colorbar\":{\"outlinewidth\":0,\"ticks\":\"\"}},\"type\":\"scattermapbox\"}],\"scatterpolargl\":[{\"marker\":{\"colorbar\":{\"outlinewidth\":0,\"ticks\":\"\"}},\"type\":\"scatterpolargl\"}],\"scatterpolar\":[{\"marker\":{\"colorbar\":{\"outlinewidth\":0,\"ticks\":\"\"}},\"type\":\"scatterpolar\"}],\"scatter\":[{\"fillpattern\":{\"fillmode\":\"overlay\",\"size\":10,\"solidity\":0.2},\"type\":\"scatter\"}],\"scatterternary\":[{\"marker\":{\"colorbar\":{\"outlinewidth\":0,\"ticks\":\"\"}},\"type\":\"scatterternary\"}],\"surface\":[{\"colorbar\":{\"outlinewidth\":0,\"ticks\":\"\"},\"colorscale\":[[0.0,\"#0d0887\"],[0.1111111111111111,\"#46039f\"],[0.2222222222222222,\"#7201a8\"],[0.3333333333333333,\"#9c179e\"],[0.4444444444444444,\"#bd3786\"],[0.5555555555555556,\"#d8576b\"],[0.6666666666666666,\"#ed7953\"],[0.7777777777777778,\"#fb9f3a\"],[0.8888888888888888,\"#fdca26\"],[1.0,\"#f0f921\"]],\"type\":\"surface\"}],\"table\":[{\"cells\":{\"fill\":{\"color\":\"#EBF0F8\"},\"line\":{\"color\":\"white\"}},\"header\":{\"fill\":{\"color\":\"#C8D4E3\"},\"line\":{\"color\":\"white\"}},\"type\":\"table\"}]},\"layout\":{\"annotationdefaults\":{\"arrowcolor\":\"#2a3f5f\",\"arrowhead\":0,\"arrowwidth\":1},\"autotypenumbers\":\"strict\",\"coloraxis\":{\"colorbar\":{\"outlinewidth\":0,\"ticks\":\"\"}},\"colorscale\":{\"diverging\":[[0,\"#8e0152\"],[0.1,\"#c51b7d\"],[0.2,\"#de77ae\"],[0.3,\"#f1b6da\"],[0.4,\"#fde0ef\"],[0.5,\"#f7f7f7\"],[0.6,\"#e6f5d0\"],[0.7,\"#b8e186\"],[0.8,\"#7fbc41\"],[0.9,\"#4d9221\"],[1,\"#276419\"]],\"sequential\":[[0.0,\"#0d0887\"],[0.1111111111111111,\"#46039f\"],[0.2222222222222222,\"#7201a8\"],[0.3333333333333333,\"#9c179e\"],[0.4444444444444444,\"#bd3786\"],[0.5555555555555556,\"#d8576b\"],[0.6666666666666666,\"#ed7953\"],[0.7777777777777778,\"#fb9f3a\"],[0.8888888888888888,\"#fdca26\"],[1.0,\"#f0f921\"]],\"sequentialminus\":[[0.0,\"#0d0887\"],[0.1111111111111111,\"#46039f\"],[0.2222222222222222,\"#7201a8\"],[0.3333333333333333,\"#9c179e\"],[0.4444444444444444,\"#bd3786\"],[0.5555555555555556,\"#d8576b\"],[0.6666666666666666,\"#ed7953\"],[0.7777777777777778,\"#fb9f3a\"],[0.8888888888888888,\"#fdca26\"],[1.0,\"#f0f921\"]]},\"colorway\":[\"#636efa\",\"#EF553B\",\"#00cc96\",\"#ab63fa\",\"#FFA15A\",\"#19d3f3\",\"#FF6692\",\"#B6E880\",\"#FF97FF\",\"#FECB52\"],\"font\":{\"color\":\"#2a3f5f\"},\"geo\":{\"bgcolor\":\"white\",\"lakecolor\":\"white\",\"landcolor\":\"white\",\"showlakes\":true,\"showland\":true,\"subunitcolor\":\"#C8D4E3\"},\"hoverlabel\":{\"align\":\"left\"},\"hovermode\":\"closest\",\"mapbox\":{\"style\":\"light\"},\"paper_bgcolor\":\"white\",\"plot_bgcolor\":\"white\",\"polar\":{\"angularaxis\":{\"gridcolor\":\"#EBF0F8\",\"linecolor\":\"#EBF0F8\",\"ticks\":\"\"},\"bgcolor\":\"white\",\"radialaxis\":{\"gridcolor\":\"#EBF0F8\",\"linecolor\":\"#EBF0F8\",\"ticks\":\"\"}},\"scene\":{\"xaxis\":{\"backgroundcolor\":\"white\",\"gridcolor\":\"#DFE8F3\",\"gridwidth\":2,\"linecolor\":\"#EBF0F8\",\"showbackground\":true,\"ticks\":\"\",\"zerolinecolor\":\"#EBF0F8\"},\"yaxis\":{\"backgroundcolor\":\"white\",\"gridcolor\":\"#DFE8F3\",\"gridwidth\":2,\"linecolor\":\"#EBF0F8\",\"showbackground\":true,\"ticks\":\"\",\"zerolinecolor\":\"#EBF0F8\"},\"zaxis\":{\"backgroundcolor\":\"white\",\"gridcolor\":\"#DFE8F3\",\"gridwidth\":2,\"linecolor\":\"#EBF0F8\",\"showbackground\":true,\"ticks\":\"\",\"zerolinecolor\":\"#EBF0F8\"}},\"shapedefaults\":{\"line\":{\"color\":\"#2a3f5f\"}},\"ternary\":{\"aaxis\":{\"gridcolor\":\"#DFE8F3\",\"linecolor\":\"#A2B1C6\",\"ticks\":\"\"},\"baxis\":{\"gridcolor\":\"#DFE8F3\",\"linecolor\":\"#A2B1C6\",\"ticks\":\"\"},\"bgcolor\":\"white\",\"caxis\":{\"gridcolor\":\"#DFE8F3\",\"linecolor\":\"#A2B1C6\",\"ticks\":\"\"}},\"title\":{\"x\":0.05},\"xaxis\":{\"automargin\":true,\"gridcolor\":\"#EBF0F8\",\"linecolor\":\"#EBF0F8\",\"ticks\":\"\",\"title\":{\"standoff\":15},\"zerolinecolor\":\"#EBF0F8\",\"zerolinewidth\":2},\"yaxis\":{\"automargin\":true,\"gridcolor\":\"#EBF0F8\",\"linecolor\":\"#EBF0F8\",\"ticks\":\"\",\"title\":{\"standoff\":15},\"zerolinecolor\":\"#EBF0F8\",\"zerolinewidth\":2}}},\"xaxis\":{\"anchor\":\"y\",\"domain\":[0.0,1.0],\"title\":{\"text\":\"\"},\"categoryorder\":\"array\",\"categoryarray\":[\"Total cost\",\"Climate change (short term)\",\"Total human health\",\"Total ecosystem quality\"]},\"yaxis\":{\"anchor\":\"x\",\"domain\":[0.0,1.0],\"title\":{\"text\":\"Total ecosystem quality relative to 2021 [%]\"}},\"legend\":{\"title\":{\"text\":\"Objective function, variable\"},\"tracegroupgap\":0},\"margin\":{\"t\":60},\"barmode\":\"relative\",\"showlegend\":false},                        {\"responsive\": true}                    ).then(function(){\n",
       "                            \n",
       "var gd = document.getElementById('e78d9b9d-72a9-4a44-850e-0ffe11704120');\n",
       "var x = new MutationObserver(function (mutations, observer) {{\n",
       "        var display = window.getComputedStyle(gd).display;\n",
       "        if (!display || display === 'none') {{\n",
       "            console.log([gd, 'removed!']);\n",
       "            Plotly.purge(gd);\n",
       "            observer.disconnect();\n",
       "        }}\n",
       "}});\n",
       "\n",
       "// Listen for the removal of the full notebook cells\n",
       "var notebookContainer = gd.closest('#notebook-container');\n",
       "if (notebookContainer) {{\n",
       "    x.observe(notebookContainer, {childList: true});\n",
       "}}\n",
       "\n",
       "// Listen for the clearing of the current output cell\n",
       "var outputEl = gd.closest('.output');\n",
       "if (outputEl) {{\n",
       "    x.observe(outputEl, {childList: true});\n",
       "}}\n",
       "\n",
       "                        })                };                });            </script>        </div>"
      ]
     },
     "metadata": {},
     "output_type": "display_data"
    }
   ],
   "execution_count": 42
  },
  {
   "metadata": {},
   "cell_type": "markdown",
   "source": "### Scatter plot",
   "id": "73595cade4197c41"
  },
  {
   "metadata": {
    "ExecuteTime": {
     "end_time": "2025-01-27T18:02:25.536601Z",
     "start_time": "2025-01-27T18:02:25.433327Z"
    }
   },
   "cell_type": "code",
   "source": [
    "validation_tc = summary_table[summary_table['Objective function'] == 'Reference']['Total cost [CAD/cap]'].values[0]\n",
    "validation_ccst_tot = summary_table[summary_table['Objective function'] == 'Reference']['Climate change (short term) [t CO2-eq/cap]'].values[0]\n",
    "validation_tthh_tot = summary_table[summary_table['Objective function'] == 'Reference']['Total human health [DALY/cap]'].values[0]\n",
    "validation_tteq_tot = summary_table[summary_table['Objective function'] == 'Reference']['Total ecosystem quality [PDF.m2.yr/cap]'].values[0]"
   ],
   "id": "50730e76ff2fa4f6",
   "outputs": [],
   "execution_count": 29
  },
  {
   "metadata": {
    "ExecuteTime": {
     "end_time": "2025-01-27T18:02:31.417494Z",
     "start_time": "2025-01-27T18:02:31.164736Z"
    }
   },
   "cell_type": "code",
   "source": [
    "# Normalizing with respect to 2020 reference \n",
    "summary_table['Total cost [CAD/cap]'] = summary_table['Total cost [CAD/cap]'] / validation_tc\n",
    "summary_table['Climate change (short term) impact [t CO2-eq/cap]'] = summary_table['Climate change (short term) [t CO2-eq/cap]'] / validation_ccst_tot\n",
    "summary_table['Total human health [DALY/cap]'] = summary_table['Total human health [DALY/cap]'] / validation_tthh_tot\n",
    "summary_table['Total ecosystem quality [PDF.m2.yr/cap]'] = summary_table['Total ecosystem quality [PDF.m2.yr/cap]'] / validation_tteq_tot"
   ],
   "id": "282884594eb9ffd3",
   "outputs": [],
   "execution_count": 31
  },
  {
   "metadata": {
    "ExecuteTime": {
     "end_time": "2025-01-27T18:02:32.825063Z",
     "start_time": "2025-01-27T18:02:32.244309Z"
    }
   },
   "cell_type": "code",
   "source": [
    "# Create the scatter plot\n",
    "plt.figure(figsize=(10, 6))\n",
    "scatter = plt.scatter(\n",
    "    x=summary_table['Total human health [DALY/cap]'],\n",
    "    y=summary_table['Total ecosystem quality [PDF.m2.yr/cap]'],\n",
    "    c=summary_table['Total cost [CAD/cap]'],\n",
    "    s=summary_table['Climate change (short term) impact [t CO2-eq/cap]']*1000,\n",
    "    cmap='viridis',\n",
    "    alpha=0.7,\n",
    "    edgecolors=\"w\",\n",
    ")\n",
    "\n",
    "# Add text labels for each point\n",
    "for i in range(len(summary_table)):\n",
    "    plt.text(\n",
    "        x=summary_table['Total human health [DALY/cap]'][i],\n",
    "        y=summary_table[\"Total ecosystem quality [PDF.m2.yr/cap]\"][i],\n",
    "        s=summary_table[\"Objective function\"][i],\n",
    "        fontsize=8,  # Font size for labels\n",
    "        ha=\"right\",  # Horizontal alignment\n",
    "        va=\"bottom\",  # Vertical alignment\n",
    "        color=\"black\",  # Text color\n",
    "    )\n",
    "\n",
    "# Add a colorbar\n",
    "cbar = plt.colorbar(scatter)\n",
    "cbar.set_label(\"Carbon Footprint\")\n",
    "\n",
    "# Labels and title\n",
    "plt.xlabel(\"Ecosystem Quality Damage\")\n",
    "plt.ylabel(\"Human Health Damage\")\n",
    "plt.title(\"Scatter Plot: Ecosystem vs Human Health Damage\\n(Size ∝ Cost, Color ∝ Carbon Footprint)\")\n",
    "\n",
    "# Show the plot\n",
    "plt.grid(True, alpha=0.3)\n",
    "plt.show()"
   ],
   "id": "c66d33f4b8b2fe5d",
   "outputs": [
    {
     "data": {
      "text/plain": [
       "<Figure size 1000x600 with 2 Axes>"
      ],
      "image/png": "[encoded data removed]"
     },
     "metadata": {},
     "output_type": "display_data"
    }
   ],
   "execution_count": 32
  },
  {
   "metadata": {},
   "cell_type": "code",
   "outputs": [],
   "execution_count": null,
   "source": "",
   "id": "20579b64b09daece"
  }
 ],
 "metadata": {
  "kernelspec": {
   "display_name": "Python 3",
   "language": "python",
   "name": "python3"
  },
  "language_info": {
   "codemirror_mode": {
    "name": "ipython",
    "version": 2
   },
   "file_extension": ".py",
   "mimetype": "text/x-python",
   "name": "python",
   "nbconvert_exporter": "python",
   "pygments_lexer": "ipython2",
   "version": "2.7.6"
  }
 },
 "nbformat": 4,
 "nbformat_minor": 5
}
