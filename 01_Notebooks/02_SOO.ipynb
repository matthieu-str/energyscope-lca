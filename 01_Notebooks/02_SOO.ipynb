{
 "cells": [
  {
   "metadata": {},
   "cell_type": "markdown",
   "source": "# Basic run of EnergyScope-LCA",
   "id": "a271c944c3b9f31d"
  },
  {
   "metadata": {
    "ExecuteTime": {
     "end_time": "2024-10-29T19:21:55.753275Z",
     "start_time": "2024-10-29T19:21:52.632328Z"
    }
   },
   "cell_type": "code",
   "source": [
    "import os\n",
    "import pandas as pd\n",
    "from energyscope.models import Model\n",
    "from energyscope.energyscope import Energyscope\n",
    "from energyscope.result import postprocessing\n",
    "from utils import get_impact_scores\n",
    "from new_plots import plot_sankey"
   ],
   "id": "1f5da0d483c126fb",
   "outputs": [],
   "execution_count": 1
  },
  {
   "metadata": {
    "ExecuteTime": {
     "end_time": "2024-10-29T19:21:55.865450Z",
     "start_time": "2024-10-29T19:21:55.755788Z"
    }
   },
   "cell_type": "code",
   "source": [
    "res_lcia_max = pd.read_csv('..//02_Model//res_lcia_max.csv')\n",
    "impact_scores = pd.read_csv('..//03_Results//impact_scores.csv')"
   ],
   "id": "d9f046018134c9c8",
   "outputs": [],
   "execution_count": 2
  },
  {
   "metadata": {
    "ExecuteTime": {
     "end_time": "2024-10-29T19:21:55.872449Z",
     "start_time": "2024-10-29T19:21:55.866963Z"
    }
   },
   "cell_type": "code",
   "source": [
    "# AMPL licence \n",
    "path_to_ampl_licence = r'C:\\Users\\matth\\ampl' # Path to the AMPL licence file\n",
    "os.environ['PATH'] = path_to_ampl_licence+':'+os.environ['PATH']"
   ],
   "id": "7b1bdeb5af38221e",
   "outputs": [],
   "execution_count": 3
  },
  {
   "metadata": {
    "ExecuteTime": {
     "end_time": "2024-10-29T19:21:55.892974Z",
     "start_time": "2024-10-29T19:21:55.884330Z"
    }
   },
   "cell_type": "code",
   "source": [
    "# Define the solver options\n",
    "solver_options = {\n",
    "    'solver': 'gurobi',\n",
    "    'solver_msg': 0,\n",
    "}\n",
    "\n",
    "# solver_options = {\n",
    "#     'solver': 'cplex',\n",
    "#     'presolve_eps': 5e-9,\n",
    "#     'presolve_fixeps': 7e-10,\n",
    "#     'mipgap': 1e-10,\n",
    "#     'display_eps': 1e-10,\n",
    "#     'omit_zero_rows': 1,\n",
    "#     'omit_zero_cols': 1,\n",
    "#     'show_stats': 1,\n",
    "#     'solver_msg': 1,\n",
    "#     'cplex_options': 'integrality=5e-7'\n",
    "# }"
   ],
   "id": "29098a54f5ea636e",
   "outputs": [],
   "execution_count": 5
  },
  {
   "metadata": {},
   "cell_type": "markdown",
   "source": "## Total cost optimization",
   "id": "39cba9ff83f16970"
  },
  {
   "metadata": {},
   "cell_type": "code",
   "outputs": [],
   "execution_count": 4,
   "source": [
    "# Initialize the QC model with .mod and .dat files\n",
    "model = Model(\n",
    "    mod_files=[\n",
    "        '..//01_Model//07_Quebec_v1//QC_es_main.mod',\n",
    "    ],\n",
    "    dat_files=[\n",
    "        '..//01_Model//07_Quebec_v1//QC_data.dat',\n",
    "        '..//01_Model//07_Quebec_v1//QC_mob_techs_dist_B2D.dat',\n",
    "        '..//01_Model//07_Quebec_v1//QC_techs_B2D.dat',\n",
    "        '..//01_Model//07_Quebec_v1//QC_mob_params.dat',\n",
    "        '..//01_Model//07_Quebec_v1//QC_scenarios.dat',\n",
    "    ],\n",
    ")"
   ],
   "id": "8cf222c17462b50"
  },
  {
   "metadata": {
    "ExecuteTime": {
     "end_time": "2024-10-29T19:21:55.902023Z",
     "start_time": "2024-10-29T19:21:55.892974Z"
    }
   },
   "cell_type": "code",
   "source": [
    "# Initialize the EnergyScope model\n",
    "es = Energyscope(model=model, solver_options=solver_options)"
   ],
   "id": "ed54f9b5db10a9fb",
   "outputs": [],
   "execution_count": 6
  },
  {
   "metadata": {
    "ExecuteTime": {
     "end_time": "2024-10-29T19:22:10.730778Z",
     "start_time": "2024-10-29T19:21:55.902023Z"
    }
   },
   "cell_type": "code",
   "source": [
    "# Solve the model and get results\n",
    "results = postprocessing(es.calc())"
   ],
   "id": "fa0cc1d3d45a62ab",
   "outputs": [
    {
     "name": "stdout",
     "output_type": "stream",
     "text": [
      "\n",
      "Presolve eliminates 23937 constraints and 16142 variables.\n",
      "Adjusted problem:\n",
      "14121 variables:\n",
      "\t813 binary variables\n",
      "\t13308 linear variables\n",
      "15870 constraints, all linear; 105218 nonzeros\n",
      "\t6500 equality constraints\n",
      "\t9370 inequality constraints\n",
      "1 linear objective; 3 nonzeros.\n",
      "\n",
      "Setting $presolve_fixeps < 4.41e-10 or >= 8.22e-09\n",
      "could change presolve results.\n",
      "\n",
      "CPLEX 20.1.0.0: integrality=5e-7\r\n",
      "CPLEX solution status 5 with fixed integers:\r\n",
      "\toptimal with unscaled infeasibilities\r\n",
      "CPLEX 20.1.0.0: optimal integer solution; objective 0.6119438245\n",
      "63 MIP simplex iterations\n",
      "0 branch-and-bound nodes\n"
     ]
    }
   ],
   "execution_count": 7
  },
  {
   "metadata": {},
   "cell_type": "markdown",
   "source": "### Carbon footprint",
   "id": "45c9a05a8d8b2e93"
  },
  {
   "metadata": {},
   "cell_type": "code",
   "outputs": [],
   "execution_count": null,
   "source": [
    "df_f_mult, df_annual_prod, df_annual_res = get_impact_scores(\n",
    "    impact_category=('IMPACT World+ Midpoint 2.0.1_regionalized', 'Midpoint', 'Climate change, short term'),\n",
    "    df_impact_scores=impact_scores,\n",
    "    df_results=results,\n",
    ")"
   ],
   "id": "f0fd03a42731dffb"
  },
  {
   "metadata": {},
   "cell_type": "code",
   "outputs": [],
   "execution_count": null,
   "source": [
    "operation_CF = df_annual_prod['Climate change, short term'].sum()\n",
    "construction_CF = df_f_mult['Climate change, short term'].sum()\n",
    "resource_CF = df_annual_res['Climate change, short term'].sum()\n",
    "Total_CF_from_impact_scores = operation_CF + construction_CF + resource_CF\n",
    "print(f'Life-cycle carbon footprint per capita: {round(Total_CF_from_impact_scores / 8874683 / 1e3, 3)} t CO2-eq / capita')\n",
    "print(f'Percentage due to operation: {round(operation_CF / Total_CF_from_impact_scores * 100, 2)} %')\n",
    "print(f'Percentage due to construction: {round(construction_CF / Total_CF_from_impact_scores * 100, 2)} %')\n",
    "print(f'Percentage due to resource: {round(resource_CF / Total_CF_from_impact_scores * 100, 2)} %')"
   ],
   "id": "6a266ff9ffeabaa9"
  },
  {
   "metadata": {},
   "cell_type": "code",
   "outputs": [],
   "execution_count": null,
   "source": "",
   "id": "c7f9b630b3a8b86d"
  },
  {
   "metadata": {},
   "cell_type": "code",
   "outputs": [],
   "execution_count": null,
   "source": "",
   "id": "9b163361b98d09c8"
  },
  {
   "metadata": {},
   "cell_type": "code",
   "outputs": [],
   "execution_count": null,
   "source": "",
   "id": "987856a509bdef1b"
  }
 ],
 "metadata": {
  "kernelspec": {
   "display_name": "Python 3",
   "language": "python",
   "name": "python3"
  },
  "language_info": {
   "codemirror_mode": {
    "name": "ipython",
    "version": 2
   },
   "file_extension": ".py",
   "mimetype": "text/x-python",
   "name": "python",
   "nbconvert_exporter": "python",
   "pygments_lexer": "ipython2",
   "version": "2.7.6"
  }
 },
 "nbformat": 4,
 "nbformat_minor": 5
}
