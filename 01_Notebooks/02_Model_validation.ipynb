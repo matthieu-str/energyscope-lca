{
 "cells": [
  {
   "metadata": {},
   "cell_type": "markdown",
   "source": "# Validation of ES-QC for the year 2021",
   "id": "3433eb3257d74c0f"
  },
  {
   "metadata": {
    "ExecuteTime": {
     "end_time": "2025-02-27T16:01:13.911803Z",
     "start_time": "2025-02-27T16:01:13.191908Z"
    }
   },
   "cell_type": "code",
   "source": [
    "import pandas as pd\n",
    "import os\n",
    "from energyscope.models import Model\n",
    "from energyscope.energyscope import Energyscope\n",
    "from energyscope.result import postprocessing"
   ],
   "id": "6b33fa52a1dac7aa",
   "outputs": [],
   "execution_count": 1
  },
  {
   "metadata": {
    "ExecuteTime": {
     "end_time": "2025-02-27T16:01:13.917125Z",
     "start_time": "2025-02-27T16:01:13.911803Z"
    }
   },
   "cell_type": "code",
   "source": [
    "# AMPL licence \n",
    "path_to_ampl_licence = r'C:\\Users\\matth\\ampl' # Path to the AMPL licence file\n",
    "os.environ['PATH'] = path_to_ampl_licence+':'+os.environ['PATH']"
   ],
   "id": "d871c9ece14e9ef7",
   "outputs": [],
   "execution_count": 2
  },
  {
   "metadata": {
    "ExecuteTime": {
     "end_time": "2025-02-27T16:01:13.931118Z",
     "start_time": "2025-02-27T16:01:13.919134Z"
    }
   },
   "cell_type": "code",
   "source": [
    "path_model = '../02_Model/'\n",
    "path_data = '../02_Model/2020/'"
   ],
   "id": "49cb8e05fbba0bca",
   "outputs": [],
   "execution_count": 3
  },
  {
   "metadata": {
    "ExecuteTime": {
     "end_time": "2025-02-27T16:01:13.941718Z",
     "start_time": "2025-02-27T16:01:13.931118Z"
    }
   },
   "cell_type": "code",
   "source": "max_indicator = pd.read_csv('../02_Model/2020/QC_techs_lca_max.csv')",
   "id": "a21672b93b0dd3d",
   "outputs": [],
   "execution_count": 4
  },
  {
   "metadata": {},
   "cell_type": "markdown",
   "source": "## Initialize the model",
   "id": "1472cc3d785474b6"
  },
  {
   "metadata": {
    "ExecuteTime": {
     "end_time": "2025-02-27T16:01:13.949852Z",
     "start_time": "2025-02-27T16:01:13.942724Z"
    }
   },
   "cell_type": "code",
   "source": [
    "with open(path_model + 'QC_objective_function.mod', 'w') as f:\n",
    "        f.write('minimize obj: TotalCost;')"
   ],
   "id": "a5d72c993c2fc7ce",
   "outputs": [],
   "execution_count": 5
  },
  {
   "metadata": {
    "ExecuteTime": {
     "end_time": "2025-02-27T16:01:13.958077Z",
     "start_time": "2025-02-27T16:01:13.949852Z"
    }
   },
   "cell_type": "code",
   "source": [
    "# Initialize the 2021 QC model with .mod and .dat files\n",
    "model = Model(\n",
    "    mod_files=[\n",
    "        path_model+'QC_es_main.mod',\n",
    "        path_model+'QC_objective_function.mod',\n",
    "        path_data+'QC_objectives_lca.mod',\n",
    "        path_data+'QC_objectives_lca_direct.mod',\n",
    "    ],\n",
    "    dat_files=[\n",
    "        path_data+'QC_data.dat',\n",
    "        path_data+'QC_mob_techs_dist_B2D.dat',\n",
    "        path_data+'QC_techs_B2D.dat',\n",
    "        path_data+'QC_mob_params.dat',\n",
    "        path_data+'QC_validation.dat',\n",
    "        path_data+'QC_techs_lca.dat',\n",
    "        path_data+'QC_techs_lca_direct.dat',\n",
    "    ],\n",
    ")"
   ],
   "id": "ce6efe49a0ca40a5",
   "outputs": [],
   "execution_count": 6
  },
  {
   "metadata": {
    "ExecuteTime": {
     "end_time": "2025-02-27T16:01:13.965119Z",
     "start_time": "2025-02-27T16:01:13.960088Z"
    }
   },
   "cell_type": "code",
   "source": [
    "# Define the solver options\n",
    "solver_options = {\n",
    "    'solver': 'gurobi',\n",
    "    'solver_msg': 0,\n",
    "}"
   ],
   "id": "1e2b07a3d838be91",
   "outputs": [],
   "execution_count": 7
  },
  {
   "metadata": {
    "ExecuteTime": {
     "end_time": "2025-02-27T16:01:13.971320Z",
     "start_time": "2025-02-27T16:01:13.965119Z"
    }
   },
   "cell_type": "code",
   "source": [
    "# Initialize the EnergyScope model\n",
    "es = Energyscope(model=model, solver_options=solver_options)"
   ],
   "id": "81fe32dfc47c4ee9",
   "outputs": [],
   "execution_count": 8
  },
  {
   "metadata": {
    "ExecuteTime": {
     "end_time": "2025-02-27T16:01:16.083640Z",
     "start_time": "2025-02-27T16:01:13.973329Z"
    }
   },
   "cell_type": "code",
   "source": [
    "# Solve the model and get results\n",
    "results = postprocessing(es.calc())"
   ],
   "id": "f042ca923dbda757",
   "outputs": [
    {
     "name": "stdout",
     "output_type": "stream",
     "text": [
      "Gurobi 12.0.0: "
     ]
    }
   ],
   "execution_count": 9
  },
  {
   "metadata": {},
   "cell_type": "markdown",
   "source": "## Validation",
   "id": "f0da62c7001a4e92"
  },
  {
   "metadata": {
    "ExecuteTime": {
     "end_time": "2025-02-27T16:01:16.089658Z",
     "start_time": "2025-02-27T16:01:16.083640Z"
    }
   },
   "cell_type": "code",
   "source": [
    "# Annual production\n",
    "annual_prod = results.variables['Annual_Prod']"
   ],
   "id": "1d8465c7172ec54b",
   "outputs": [],
   "execution_count": 10
  },
  {
   "metadata": {
    "ExecuteTime": {
     "end_time": "2025-02-27T16:01:16.095857Z",
     "start_time": "2025-02-27T16:01:16.089658Z"
    }
   },
   "cell_type": "code",
   "source": [
    "# Installed capacities \n",
    "installed_capacities = results.variables['F_Mult']"
   ],
   "id": "6fe0a0707d0b5345",
   "outputs": [],
   "execution_count": 11
  },
  {
   "metadata": {
    "ExecuteTime": {
     "end_time": "2025-02-27T16:01:16.103494Z",
     "start_time": "2025-02-27T16:01:16.095857Z"
    }
   },
   "cell_type": "code",
   "source": [
    "# Annual resources\n",
    "annual_ressources = results.variables['Annual_Res']"
   ],
   "id": "8deb396ab74366a3",
   "outputs": [],
   "execution_count": 12
  },
  {
   "metadata": {
    "ExecuteTime": {
     "end_time": "2025-02-27T16:01:16.110819Z",
     "start_time": "2025-02-27T16:01:16.103494Z"
    }
   },
   "cell_type": "code",
   "source": [
    "# Validation metrics extracted from StatCan and \"État de l'énergie au Québec 2024\" (data for 2020)\n",
    "validation_dict = {\n",
    "    'WIND_ONSHORE': 11122, # onshore wind production [GWh]\n",
    "    'HYDRO': 201250, # hydro production [GWh]\n",
    "    'PV': 14, # PV production [GWh]\n",
    "    'ELECTRICITY_EHV': 32778, # electricity imports [GWh]\n",
    "    'NG_EHP': 59867, # natural gas imports [GWh]\n",
    "    'COAL': 3991, # coal and coke imports [GWh]\n",
    "    'LFO': 28663, # oil imports for agriculture, industry and buildings [GWh]\n",
    "    'DIESEL': 34046, # diesel imports [GWh]\n",
    "    'GASOLINE': 69019, # gasoline imports [GWh]\n",
    "    'TotalGWP': 48980, # total GWP [kt CO2]\n",
    "    'JETFUEL': 8470, # jet fuel imports [GWh]\n",
    "    'WOOD': 29587, # wood production [GWh]\n",
    "}"
   ],
   "id": "2319266486d2b2",
   "outputs": [],
   "execution_count": 13
  },
  {
   "metadata": {
    "ExecuteTime": {
     "end_time": "2025-02-27T16:01:16.119618Z",
     "start_time": "2025-02-27T16:01:16.110819Z"
    }
   },
   "cell_type": "code",
   "source": [
    "def compare(\n",
    "        tech = None, \n",
    "        res = None, \n",
    "        emissions = None,\n",
    "        n_digits = 3,\n",
    "):\n",
    "    if tech is not None:\n",
    "        data_type = tech\n",
    "        if tech == 'HYDRO':\n",
    "            annual = annual_prod.loc['HYDRO_DAM'].Annual_Prod + annual_prod.loc['HYDRO_RIVER'].Annual_Prod # sum of hydro production from dams and rivers\n",
    "        else:\n",
    "            annual = annual_prod.loc[tech].Annual_Prod\n",
    "    \n",
    "    elif res is not None:\n",
    "        data_type = res\n",
    "        annual = annual_ressources.loc[res].Annual_Res\n",
    "    \n",
    "    elif emissions is not None:\n",
    "        data_type = emissions\n",
    "        direct_emissions = results.variables['DIRECT_op'].reset_index()\n",
    "        direct_emissions = direct_emissions[direct_emissions.index0 == 'm_CCS']\n",
    "        annual = direct_emissions.DIRECT_op.sum() * max_indicator[max_indicator.Abbrev == 'm_CCS'].max_AoP.iloc[0]\n",
    "    \n",
    "    else:\n",
    "        raise ValueError(\"Provide either a technology or a resource to calculate the percentage difference\")\n",
    "    \n",
    "    return [\n",
    "        data_type, # technology or resource\n",
    "        round(validation_dict[data_type]/1000, n_digits), # reference value in TWh or Mt CO2\n",
    "        round(float(annual)/1000, n_digits), # model value in TWh or Mt CO2\n",
    "        round(validation_dict[data_type]/1000 - float(annual)/1000, n_digits), # absolute difference in TWh or Mt CO2\n",
    "        round((validation_dict[data_type] - float(annual)) / validation_dict[data_type], n_digits), # relative difference\n",
    "    ]"
   ],
   "id": "ed0170fb87ee487c",
   "outputs": [],
   "execution_count": 14
  },
  {
   "metadata": {
    "ExecuteTime": {
     "end_time": "2025-02-27T16:01:16.130219Z",
     "start_time": "2025-02-27T16:01:16.119618Z"
    }
   },
   "cell_type": "code",
   "source": [
    "data = []\n",
    "for res in ['NG_EHP', 'LFO', 'COAL', 'DIESEL', 'GASOLINE', 'JETFUEL', 'WOOD', 'ELECTRICITY_EHV']:\n",
    "    data.append(compare(res=res))\n",
    "# Technologies\n",
    "for tech in ['HYDRO', 'WIND_ONSHORE', 'PV']:\n",
    "    data.append(compare(tech=tech))\n",
    "# Emissions\n",
    "for emissions in ['TotalGWP']:\n",
    "    data.append(compare(emissions=emissions))\n",
    "\n",
    "df = pd.DataFrame(data, columns=['TECH', 'REF', 'ES', 'DELTA', 'RELATIVE_DELTA'])"
   ],
   "id": "6773fd7f19677b7e",
   "outputs": [],
   "execution_count": 15
  },
  {
   "metadata": {
    "ExecuteTime": {
     "end_time": "2025-02-27T16:01:16.138489Z",
     "start_time": "2025-02-27T16:01:16.130219Z"
    }
   },
   "cell_type": "code",
   "source": "df.to_csv('../03_Results/Tables/soo_reference/validation_table.csv', index=False)",
   "id": "48d98196146aa41a",
   "outputs": [],
   "execution_count": 16
  },
  {
   "metadata": {
    "ExecuteTime": {
     "end_time": "2025-02-27T16:01:16.155056Z",
     "start_time": "2025-02-27T16:01:16.140613Z"
    }
   },
   "cell_type": "code",
   "source": "df",
   "id": "4f4701180ba69946",
   "outputs": [
    {
     "data": {
      "text/plain": [
       "               TECH      REF       ES  DELTA  RELATIVE_DELTA\n",
       "0            NG_EHP   59.867   59.209  0.658           0.011\n",
       "1               LFO   28.663   28.570  0.093           0.003\n",
       "2              COAL    3.991    4.015 -0.024          -0.006\n",
       "3            DIESEL   34.046   31.763  2.283           0.067\n",
       "4          GASOLINE   69.019   69.153 -0.134          -0.002\n",
       "5           JETFUEL    8.470    7.655  0.815           0.096\n",
       "6              WOOD   29.587   26.835  2.752           0.093\n",
       "7   ELECTRICITY_EHV   32.778   35.211 -2.433          -0.074\n",
       "8             HYDRO  201.250  201.492 -0.242          -0.001\n",
       "9      WIND_ONSHORE   11.122   11.456 -0.334          -0.030\n",
       "10               PV    0.014    0.014  0.000           0.029\n",
       "11         TotalGWP   48.980   50.944 -1.964          -0.040"
      ],
      "text/html": [
       "<div>\n",
       "<style scoped>\n",
       "    .dataframe tbody tr th:only-of-type {\n",
       "        vertical-align: middle;\n",
       "    }\n",
       "\n",
       "    .dataframe tbody tr th {\n",
       "        vertical-align: top;\n",
       "    }\n",
       "\n",
       "    .dataframe thead th {\n",
       "        text-align: right;\n",
       "    }\n",
       "</style>\n",
       "<table border=\"1\" class=\"dataframe\">\n",
       "  <thead>\n",
       "    <tr style=\"text-align: right;\">\n",
       "      <th></th>\n",
       "      <th>TECH</th>\n",
       "      <th>REF</th>\n",
       "      <th>ES</th>\n",
       "      <th>DELTA</th>\n",
       "      <th>RELATIVE_DELTA</th>\n",
       "    </tr>\n",
       "  </thead>\n",
       "  <tbody>\n",
       "    <tr>\n",
       "      <th>0</th>\n",
       "      <td>NG_EHP</td>\n",
       "      <td>59.867</td>\n",
       "      <td>59.209</td>\n",
       "      <td>0.658</td>\n",
       "      <td>0.011</td>\n",
       "    </tr>\n",
       "    <tr>\n",
       "      <th>1</th>\n",
       "      <td>LFO</td>\n",
       "      <td>28.663</td>\n",
       "      <td>28.570</td>\n",
       "      <td>0.093</td>\n",
       "      <td>0.003</td>\n",
       "    </tr>\n",
       "    <tr>\n",
       "      <th>2</th>\n",
       "      <td>COAL</td>\n",
       "      <td>3.991</td>\n",
       "      <td>4.015</td>\n",
       "      <td>-0.024</td>\n",
       "      <td>-0.006</td>\n",
       "    </tr>\n",
       "    <tr>\n",
       "      <th>3</th>\n",
       "      <td>DIESEL</td>\n",
       "      <td>34.046</td>\n",
       "      <td>31.763</td>\n",
       "      <td>2.283</td>\n",
       "      <td>0.067</td>\n",
       "    </tr>\n",
       "    <tr>\n",
       "      <th>4</th>\n",
       "      <td>GASOLINE</td>\n",
       "      <td>69.019</td>\n",
       "      <td>69.153</td>\n",
       "      <td>-0.134</td>\n",
       "      <td>-0.002</td>\n",
       "    </tr>\n",
       "    <tr>\n",
       "      <th>5</th>\n",
       "      <td>JETFUEL</td>\n",
       "      <td>8.470</td>\n",
       "      <td>7.655</td>\n",
       "      <td>0.815</td>\n",
       "      <td>0.096</td>\n",
       "    </tr>\n",
       "    <tr>\n",
       "      <th>6</th>\n",
       "      <td>WOOD</td>\n",
       "      <td>29.587</td>\n",
       "      <td>26.835</td>\n",
       "      <td>2.752</td>\n",
       "      <td>0.093</td>\n",
       "    </tr>\n",
       "    <tr>\n",
       "      <th>7</th>\n",
       "      <td>ELECTRICITY_EHV</td>\n",
       "      <td>32.778</td>\n",
       "      <td>35.211</td>\n",
       "      <td>-2.433</td>\n",
       "      <td>-0.074</td>\n",
       "    </tr>\n",
       "    <tr>\n",
       "      <th>8</th>\n",
       "      <td>HYDRO</td>\n",
       "      <td>201.250</td>\n",
       "      <td>201.492</td>\n",
       "      <td>-0.242</td>\n",
       "      <td>-0.001</td>\n",
       "    </tr>\n",
       "    <tr>\n",
       "      <th>9</th>\n",
       "      <td>WIND_ONSHORE</td>\n",
       "      <td>11.122</td>\n",
       "      <td>11.456</td>\n",
       "      <td>-0.334</td>\n",
       "      <td>-0.030</td>\n",
       "    </tr>\n",
       "    <tr>\n",
       "      <th>10</th>\n",
       "      <td>PV</td>\n",
       "      <td>0.014</td>\n",
       "      <td>0.014</td>\n",
       "      <td>0.000</td>\n",
       "      <td>0.029</td>\n",
       "    </tr>\n",
       "    <tr>\n",
       "      <th>11</th>\n",
       "      <td>TotalGWP</td>\n",
       "      <td>48.980</td>\n",
       "      <td>50.944</td>\n",
       "      <td>-1.964</td>\n",
       "      <td>-0.040</td>\n",
       "    </tr>\n",
       "  </tbody>\n",
       "</table>\n",
       "</div>"
      ]
     },
     "execution_count": 17,
     "metadata": {},
     "output_type": "execute_result"
    }
   ],
   "execution_count": 17
  }
 ],
 "metadata": {
  "kernelspec": {
   "display_name": "Python 3",
   "language": "python",
   "name": "python3"
  },
  "language_info": {
   "codemirror_mode": {
    "name": "ipython",
    "version": 2
   },
   "file_extension": ".py",
   "mimetype": "text/x-python",
   "name": "python",
   "nbconvert_exporter": "python",
   "pygments_lexer": "ipython2",
   "version": "2.7.6"
  }
 },
 "nbformat": 4,
 "nbformat_minor": 5
}
