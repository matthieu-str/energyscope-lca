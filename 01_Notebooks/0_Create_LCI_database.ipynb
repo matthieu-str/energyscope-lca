{
 "cells": [
  {
   "metadata": {},
   "cell_type": "markdown",
   "source": "# Create the main life-cycle inventory database in your brightway project",
   "id": "5ddc2c4becb2cf1b"
  },
  {
   "metadata": {
    "ExecuteTime": {
     "end_time": "2025-01-31T21:27:09.563591Z",
     "start_time": "2025-01-31T21:26:58.433198Z"
    }
   },
   "cell_type": "code",
   "source": [
    "import bw2data as bd\n",
    "from premise import *\n",
    "from mescal import *\n",
    "from carculator_truck import *\n",
    "from datetime import datetime"
   ],
   "id": "38a2b893c7e6ac12",
   "outputs": [],
   "execution_count": 1
  },
  {
   "metadata": {},
   "cell_type": "markdown",
   "source": "## Import premise databases",
   "id": "6783aa47df5c170a"
  },
  {
   "metadata": {
    "ExecuteTime": {
     "end_time": "2025-01-31T21:27:09.646045Z",
     "start_time": "2025-01-31T21:27:09.572493Z"
    }
   },
   "cell_type": "code",
   "source": [
    "ei_version = '3.10.1' # version of the ecoinvent database. Careful: carculator_truck v0.5.0 is compatible with ecoinvent 3.10 only\n",
    "ei_db_name = f\"ecoinvent-{ei_version}-cutoff\" # name of the ecoinvent database in the brightway project\n",
    "bd.projects.set_current(f'ecoinvent{ei_version}') # set the current brightway project\n",
    "model = 'image' # IAM used to create the database\n",
    "pathway = 'SSP2-Base' # SSP-RCP scenario used to create the database\n",
    "years = [2020, 2050] # years of the database"
   ],
   "id": "2a5b6581cff92b37",
   "outputs": [],
   "execution_count": 2
  },
  {
   "metadata": {
    "ExecuteTime": {
     "end_time": "2025-01-31T21:27:09.658822Z",
     "start_time": "2025-01-31T21:27:09.647554Z"
    }
   },
   "cell_type": "code",
   "source": [
    "if ei_version == '3.10.1':\n",
    "    ei_version_premise = '3.10'\n",
    "else:\n",
    "    ei_version_premise = ei_version "
   ],
   "id": "2f3769274b3a7b54",
   "outputs": [],
   "execution_count": 3
  },
  {
   "metadata": {
    "ExecuteTime": {
     "end_time": "2025-01-31T21:27:09.683297Z",
     "start_time": "2025-01-31T21:27:09.673140Z"
    }
   },
   "cell_type": "code",
   "source": [
    "# Clear cache is encouraged if updating premise or if encountering issues with inventories\n",
    "clear_cache()"
   ],
   "id": "d6e4f524d2c8952b",
   "outputs": [
    {
     "name": "stdout",
     "output_type": "stream",
     "text": [
      "Cache folder cleared!\n"
     ]
    }
   ],
   "execution_count": 4
  },
  {
   "metadata": {
    "ExecuteTime": {
     "end_time": "2025-01-31T21:30:29.225099Z",
     "start_time": "2025-01-31T21:27:09.687701Z"
    }
   },
   "cell_type": "code",
   "source": [
    "# Initialize the premise database\n",
    "ndb = NewDatabase(\n",
    "    scenarios=[{\"model\": model, \"pathway\": pathway, \"year\": year} for year in years],\n",
    "    source_db=ei_db_name,\n",
    "    source_version=ei_version_premise,\n",
    "    key='xxx', # ask a key to Romain Sacchi (romain.sacchi@psi.ch)\n",
    "    biosphere_name='biosphere3',\n",
    ")"
   ],
   "id": "9b61e9d66b1e2344",
   "outputs": [
    {
     "name": "stdout",
     "output_type": "stream",
     "text": [
      "premise v.(2, 2, 6)\n",
      "+------------------------------------------------------------------+\n",
      "| Warning                                                          |\n",
      "+------------------------------------------------------------------+\n",
      "| Because some of the scenarios can yield LCI databases            |\n",
      "| containing net negative emission technologies (NET),             |\n",
      "| it is advised to account for biogenic CO2 flows when calculating |\n",
      "| Global Warming potential indicators.                             |\n",
      "| `premise_gwp` provides characterization factors for such flows.  |\n",
      "| It also provides factors for hydrogen emissions to air.          |\n",
      "|                                                                  |\n",
      "| Within your bw2 project:                                         |\n",
      "| from premise_gwp import add_premise_gwp                          |\n",
      "| add_premise_gwp()                                                |\n",
      "+------------------------------------------------------------------+\n",
      "+--------------------------------+----------------------------------+\n",
      "| Utils functions                | Description                      |\n",
      "+--------------------------------+----------------------------------+\n",
      "| clear_cache()                  | Clears the cache folder. Useful  |\n",
      "|                                | when updating `premise`or        |\n",
      "|                                | encountering issues with         |\n",
      "|                                | inventories.                     |\n",
      "+--------------------------------+----------------------------------+\n",
      "| get_regions_definition(model)  | Retrieves the list of countries  |\n",
      "|                                | for each region of the model.    |\n",
      "+--------------------------------+----------------------------------+\n",
      "| ndb.NewDatabase(...)           | Generates a summary of the most  |\n",
      "| ndb.generate_scenario_report() | important scenarios' variables.  |\n",
      "+--------------------------------+----------------------------------+\n",
      "Keep uncertainty data?\n",
      "NewDatabase(..., keep_source_db_uncertainty=True), keep_imports_uncertainty=True)\n",
      "\n",
      "Hide these messages?\n",
      "NewDatabase(..., quiet=True)\n",
      "- Extracting source database\n",
      "Cannot find cached database. Will create one now for next time...\n",
      "Getting activity data\n"
     ]
    },
    {
     "name": "stderr",
     "output_type": "stream",
     "text": [
      "100%|██████████| 23523/23523 [00:00<00:00, 81626.31it/s]\n"
     ]
    },
    {
     "name": "stdout",
     "output_type": "stream",
     "text": [
      "Adding exchange data to activities\n"
     ]
    },
    {
     "name": "stderr",
     "output_type": "stream",
     "text": [
      "100%|██████████| 743409/743409 [01:17<00:00, 9560.19it/s] \n"
     ]
    },
    {
     "name": "stdout",
     "output_type": "stream",
     "text": [
      "Filling out exchange data\n"
     ]
    },
    {
     "name": "stderr",
     "output_type": "stream",
     "text": [
      "100%|██████████| 23523/23523 [00:05<00:00, 4207.00it/s] \n"
     ]
    },
    {
     "name": "stdout",
     "output_type": "stream",
     "text": [
      "Set missing location of datasets to global scope.\n",
      "Set missing location of production exchanges to scope of dataset.\n",
      "Correct missing location of technosphere exchanges.\n",
      "Correct missing flow categories for biosphere exchanges\n",
      "Remove empty exchanges.\n",
      "Remove uncertainty data.\n",
      "- Extracting inventories\n",
      "Cannot find cached inventories. Will create them now for next time...\n",
      "Importing default inventories...\n",
      "\n",
      "Extracted 1 worksheets in 0.61 seconds\n",
      "Migrating to 3.8 first\n",
      "Applying strategy: migrate_datasets\n",
      "Applying strategy: migrate_exchanges\n",
      "Applying strategy: migrate_datasets\n",
      "Applying strategy: migrate_exchanges\n",
      "Applying strategy: migrate_datasets\n",
      "Applying strategy: migrate_exchanges\n",
      "Remove uncertainty data.\n",
      "Extracted 1 worksheets in 0.07 seconds\n",
      "Migrating to 3.8 first\n",
      "Applying strategy: migrate_datasets\n",
      "Applying strategy: migrate_exchanges\n",
      "Applying strategy: migrate_datasets\n",
      "Applying strategy: migrate_exchanges\n",
      "Applying strategy: migrate_datasets\n",
      "Applying strategy: migrate_exchanges\n",
      "Remove uncertainty data.\n",
      "Extracted 1 worksheets in 0.03 seconds\n",
      "Migrating to 3.8 first\n",
      "Applying strategy: migrate_datasets\n",
      "Applying strategy: migrate_exchanges\n",
      "Applying strategy: migrate_datasets\n",
      "Applying strategy: migrate_exchanges\n",
      "Applying strategy: migrate_datasets\n",
      "Applying strategy: migrate_exchanges\n",
      "Remove uncertainty data.\n",
      "Extracted 1 worksheets in 0.09 seconds\n",
      "Applying strategy: migrate_datasets\n",
      "Applying strategy: migrate_exchanges\n",
      "Remove uncertainty data.\n",
      "Extracted 1 worksheets in 0.04 seconds\n",
      "Migrating to 3.8 first\n",
      "Applying strategy: migrate_datasets\n",
      "Applying strategy: migrate_exchanges\n",
      "Applying strategy: migrate_datasets\n",
      "Applying strategy: migrate_exchanges\n",
      "Applying strategy: migrate_datasets\n",
      "Applying strategy: migrate_exchanges\n",
      "Remove uncertainty data.\n",
      "Extracted 4 worksheets in 0.85 seconds\n",
      "Remove uncertainty data.\n",
      "Extracted 1 worksheets in 0.06 seconds\n",
      "Applying strategy: migrate_datasets\n",
      "Applying strategy: migrate_exchanges\n",
      "Remove uncertainty data.\n",
      "Extracted 7 worksheets in 0.16 seconds\n",
      "Applying strategy: migrate_datasets\n",
      "Applying strategy: migrate_exchanges\n",
      "Remove uncertainty data.\n",
      "Extracted 1 worksheets in 0.10 seconds\n",
      "Applying strategy: migrate_datasets\n",
      "Applying strategy: migrate_exchanges\n",
      "Remove uncertainty data.\n",
      "Extracted 1 worksheets in 0.04 seconds\n",
      "Applying strategy: migrate_datasets\n",
      "Applying strategy: migrate_exchanges\n",
      "Remove uncertainty data.\n",
      "Extracted 1 worksheets in 0.14 seconds\n",
      "Applying strategy: migrate_datasets\n",
      "Applying strategy: migrate_exchanges\n",
      "Remove uncertainty data.\n",
      "Extracted 1 worksheets in 0.15 seconds\n",
      "Applying strategy: migrate_datasets\n",
      "Applying strategy: migrate_exchanges\n",
      "Remove uncertainty data.\n",
      "Extracted 1 worksheets in 0.08 seconds\n",
      "Applying strategy: migrate_datasets\n",
      "Applying strategy: migrate_exchanges\n",
      "Remove uncertainty data.\n",
      "Extracted 1 worksheets in 0.16 seconds\n",
      "Applying strategy: migrate_datasets\n",
      "Applying strategy: migrate_exchanges\n",
      "Remove uncertainty data.\n",
      "Extracted 1 worksheets in 0.07 seconds\n",
      "Applying strategy: migrate_datasets\n",
      "Applying strategy: migrate_exchanges\n",
      "Remove uncertainty data.\n",
      "Extracted 1 worksheets in 0.07 seconds\n",
      "Applying strategy: migrate_datasets\n",
      "Applying strategy: migrate_exchanges\n",
      "Remove uncertainty data.\n",
      "Extracted 2 worksheets in 0.06 seconds\n",
      "Remove uncertainty data.\n",
      "Extracted 1 worksheets in 0.03 seconds\n",
      "Applying strategy: migrate_datasets\n",
      "Applying strategy: migrate_exchanges\n",
      "Remove uncertainty data.\n",
      "Extracted 1 worksheets in 1.25 seconds\n",
      "Migrating to 3.8 first\n",
      "Applying strategy: migrate_datasets\n",
      "Applying strategy: migrate_exchanges\n",
      "Applying strategy: migrate_datasets\n",
      "Applying strategy: migrate_exchanges\n",
      "Applying strategy: migrate_datasets\n",
      "Applying strategy: migrate_exchanges\n",
      "Remove uncertainty data.\n",
      "The following datasets to import already exist in the source database. They will not be imported\n",
      "+--------------------------------+--------------------------------+----------+-------------+\n",
      "|              Name              |       Reference product        | Location |     File    |\n",
      "+--------------------------------+--------------------------------+----------+-------------+\n",
      "| fluorspar production, 97% puri |     fluorspar, 97% purity      |   GLO    | lci-PV.xlsx |\n",
      "| metallization paste production | metallization paste, back side |   RER    | lci-PV.xlsx |\n",
      "| metallization paste production | metallization paste, back side |   RER    | lci-PV.xlsx |\n",
      "| metallization paste production | metallization paste, front sid |   RER    | lci-PV.xlsx |\n",
      "| photovoltaic module production | photovoltaic module, building- |   RER    | lci-PV.xlsx |\n",
      "| photovoltaic module production | photovoltaic module, building- |   RER    | lci-PV.xlsx |\n",
      "| photovoltaic mounting system p | photovoltaic mounting system,  |   RER    | lci-PV.xlsx |\n",
      "| photovoltaic mounting system p | photovoltaic mounting system,  |   RER    | lci-PV.xlsx |\n",
      "| photovoltaic mounting system p | photovoltaic mounting system,  |   RER    | lci-PV.xlsx |\n",
      "| photovoltaic panel factory con |   photovoltaic panel factory   |   GLO    | lci-PV.xlsx |\n",
      "|  polyvinylfluoride production  |       polyvinylfluoride        |    US    | lci-PV.xlsx |\n",
      "| polyvinylfluoride production,  | polyvinylfluoride, dispersion  |    US    | lci-PV.xlsx |\n",
      "| polyvinylfluoride, film produc |    polyvinylfluoride, film     |    US    | lci-PV.xlsx |\n",
      "| silicon production, metallurgi |  silicon, metallurgical grade  |    NO    | lci-PV.xlsx |\n",
      "|   vinyl fluoride production    |         vinyl fluoride         |    US    | lci-PV.xlsx |\n",
      "|   wafer factory construction   |         wafer factory          |    DE    | lci-PV.xlsx |\n",
      "+--------------------------------+--------------------------------+----------+-------------+\n",
      "Extracted 1 worksheets in 0.07 seconds\n",
      "Applying strategy: migrate_datasets\n",
      "Applying strategy: migrate_exchanges\n",
      "Remove uncertainty data.\n",
      "Extracted 1 worksheets in 0.20 seconds\n",
      "Applying strategy: migrate_datasets\n",
      "Applying strategy: migrate_exchanges\n",
      "Remove uncertainty data.\n",
      "Extracted 1 worksheets in 0.04 seconds\n",
      "Applying strategy: migrate_datasets\n",
      "Applying strategy: migrate_exchanges\n",
      "Remove uncertainty data.\n",
      "Extracted 1 worksheets in 0.08 seconds\n",
      "Applying strategy: migrate_datasets\n",
      "Applying strategy: migrate_exchanges\n",
      "Remove uncertainty data.\n",
      "Extracted 1 worksheets in 0.09 seconds\n",
      "Migrating to 3.8 first\n",
      "Applying strategy: migrate_datasets\n",
      "Applying strategy: migrate_exchanges\n",
      "Applying strategy: migrate_datasets\n",
      "Applying strategy: migrate_exchanges\n",
      "Applying strategy: migrate_datasets\n",
      "Applying strategy: migrate_exchanges\n",
      "Remove uncertainty data.\n",
      "Extracted 1 worksheets in 0.06 seconds\n",
      "Migrating to 3.8 first\n",
      "Applying strategy: migrate_datasets\n",
      "Applying strategy: migrate_exchanges\n",
      "Applying strategy: migrate_datasets\n",
      "Applying strategy: migrate_exchanges\n",
      "Applying strategy: migrate_datasets\n",
      "Applying strategy: migrate_exchanges\n",
      "Remove uncertainty data.\n",
      "The following datasets to import already exist in the source database. They will not be imported\n",
      "+--------------------------------+--------------------------------+----------+--------------------------------+\n",
      "|              Name              |       Reference product        | Location |              File              |\n",
      "+--------------------------------+--------------------------------+----------+--------------------------------+\n",
      "| carbon dioxide, captured at ce | carbon dioxide, captured and r |   RER    | lci-synfuels-from-methanol-fro |\n",
      "+--------------------------------+--------------------------------+----------+--------------------------------+\n",
      "Extracted 1 worksheets in 0.01 seconds\n",
      "Migrating to 3.8 first\n",
      "Applying strategy: migrate_datasets\n",
      "Applying strategy: migrate_exchanges\n",
      "Applying strategy: migrate_datasets\n",
      "Applying strategy: migrate_exchanges\n",
      "Applying strategy: migrate_datasets\n",
      "Applying strategy: migrate_exchanges\n",
      "Remove uncertainty data.\n",
      "The following datasets to import already exist in the source database. They will not be imported\n",
      "+--------------------------------+--------------------------------+----------+--------------------------------+\n",
      "|              Name              |       Reference product        | Location |              File              |\n",
      "+--------------------------------+--------------------------------+----------+--------------------------------+\n",
      "| hydrogen production, coal gasi | hydrogen, gaseous, low pressur |   RoW    | lci-hydrogen-coal-gasification |\n",
      "| methanol production, coal gasi |            methanol            |   RoW    | lci-hydrogen-coal-gasification |\n",
      "+--------------------------------+--------------------------------+----------+--------------------------------+\n",
      "Extracted 1 worksheets in 0.05 seconds\n",
      "Migrating to 3.8 first\n",
      "Applying strategy: migrate_datasets\n",
      "Applying strategy: migrate_exchanges\n",
      "Applying strategy: migrate_datasets\n",
      "Applying strategy: migrate_exchanges\n",
      "Applying strategy: migrate_datasets\n",
      "Applying strategy: migrate_exchanges\n",
      "Remove uncertainty data.\n",
      "Extracted 1 worksheets in 0.10 seconds\n",
      "Migrating to 3.8 first\n",
      "Applying strategy: migrate_datasets\n",
      "Applying strategy: migrate_exchanges\n",
      "Applying strategy: migrate_datasets\n",
      "Applying strategy: migrate_exchanges\n",
      "Applying strategy: migrate_datasets\n",
      "Applying strategy: migrate_exchanges\n",
      "Remove uncertainty data.\n",
      "Extracted 1 worksheets in 0.07 seconds\n",
      "Migrating to 3.8 first\n",
      "Applying strategy: migrate_datasets\n",
      "Applying strategy: migrate_exchanges\n",
      "Applying strategy: migrate_datasets\n",
      "Applying strategy: migrate_exchanges\n",
      "Applying strategy: migrate_datasets\n",
      "Applying strategy: migrate_exchanges\n",
      "Remove uncertainty data.\n",
      "Extracted 1 worksheets in 0.10 seconds\n",
      "Migrating to 3.8 first\n",
      "Applying strategy: migrate_datasets\n",
      "Applying strategy: migrate_exchanges\n",
      "Applying strategy: migrate_datasets\n",
      "Applying strategy: migrate_exchanges\n",
      "Applying strategy: migrate_datasets\n",
      "Applying strategy: migrate_exchanges\n",
      "Remove uncertainty data.\n",
      "Extracted 1 worksheets in 0.06 seconds\n",
      "Migrating to 3.8 first\n",
      "Applying strategy: migrate_datasets\n",
      "Applying strategy: migrate_exchanges\n",
      "Applying strategy: migrate_datasets\n",
      "Applying strategy: migrate_exchanges\n",
      "Applying strategy: migrate_datasets\n",
      "Applying strategy: migrate_exchanges\n",
      "Remove uncertainty data.\n",
      "Extracted 1 worksheets in 0.06 seconds\n",
      "Migrating to 3.8 first\n",
      "Applying strategy: migrate_datasets\n",
      "Applying strategy: migrate_exchanges\n",
      "Applying strategy: migrate_datasets\n",
      "Applying strategy: migrate_exchanges\n",
      "Applying strategy: migrate_datasets\n",
      "Applying strategy: migrate_exchanges\n",
      "Remove uncertainty data.\n",
      "The following datasets to import already exist in the source database. They will not be imported\n",
      "+--------------------------------+--------------------------------+----------+--------------------------------+\n",
      "|              Name              |       Reference product        | Location |              File              |\n",
      "+--------------------------------+--------------------------------+----------+--------------------------------+\n",
      "| hydrogen production, steam met | hydrogen, gaseous, low pressur |   RER    | lci-hydrogen-smr-atr-natgas.xl |\n",
      "+--------------------------------+--------------------------------+----------+--------------------------------+\n",
      "Extracted 1 worksheets in 0.05 seconds\n",
      "Migrating to 3.8 first\n",
      "Applying strategy: migrate_datasets\n",
      "Applying strategy: migrate_exchanges\n",
      "Applying strategy: migrate_datasets\n",
      "Applying strategy: migrate_exchanges\n",
      "Applying strategy: migrate_datasets\n",
      "Applying strategy: migrate_exchanges\n",
      "Remove uncertainty data.\n",
      "Extracted 1 worksheets in 0.01 seconds\n",
      "Applying strategy: migrate_datasets\n",
      "Applying strategy: migrate_exchanges\n",
      "Remove uncertainty data.\n",
      "Extracted 1 worksheets in 0.06 seconds\n",
      "Applying strategy: migrate_datasets\n",
      "Applying strategy: migrate_exchanges\n",
      "Remove uncertainty data.\n",
      "Extracted 1 worksheets in 0.06 seconds\n",
      "Migrating to 3.8 first\n",
      "Applying strategy: migrate_datasets\n",
      "Applying strategy: migrate_exchanges\n",
      "Applying strategy: migrate_datasets\n",
      "Applying strategy: migrate_exchanges\n",
      "Applying strategy: migrate_datasets\n",
      "Applying strategy: migrate_exchanges\n",
      "Remove uncertainty data.\n",
      "The following datasets to import already exist in the source database. They will not be imported\n",
      "+--------------------------------+--------------------------------+----------+--------------------------------+\n",
      "|              Name              |       Reference product        | Location |              File              |\n",
      "+--------------------------------+--------------------------------+----------+--------------------------------+\n",
      "| methanol production facility,  | methanol production facility,  |   RER    | lci-synfuels-from-methanol-fro |\n",
      "+--------------------------------+--------------------------------+----------+--------------------------------+\n",
      "Extracted 1 worksheets in 0.10 seconds\n",
      "Applying strategy: migrate_datasets\n",
      "Applying strategy: migrate_exchanges\n",
      "Remove uncertainty data.\n",
      "Extracted 1 worksheets in 0.02 seconds\n",
      "Migrating to 3.8 first\n",
      "Applying strategy: migrate_datasets\n",
      "Applying strategy: migrate_exchanges\n",
      "Applying strategy: migrate_datasets\n",
      "Applying strategy: migrate_exchanges\n",
      "Applying strategy: migrate_datasets\n",
      "Applying strategy: migrate_exchanges\n",
      "Remove uncertainty data.\n",
      "Extracted 5 worksheets in 0.56 seconds\n",
      "Migrating to 3.8 first\n",
      "Applying strategy: migrate_datasets\n",
      "Applying strategy: migrate_exchanges\n",
      "Applying strategy: migrate_datasets\n",
      "Applying strategy: migrate_exchanges\n",
      "Applying strategy: migrate_datasets\n",
      "Applying strategy: migrate_exchanges\n",
      "Remove uncertainty data.\n",
      "Extracted 1 worksheets in 0.08 seconds\n",
      "Migrating to 3.8 first\n",
      "Applying strategy: migrate_datasets\n",
      "Applying strategy: migrate_exchanges\n",
      "Applying strategy: migrate_datasets\n",
      "Applying strategy: migrate_exchanges\n",
      "Applying strategy: migrate_datasets\n",
      "Applying strategy: migrate_exchanges\n",
      "Remove uncertainty data.\n",
      "Extracted 1 worksheets in 0.07 seconds\n",
      "Migrating to 3.8 first\n",
      "Applying strategy: migrate_datasets\n",
      "Applying strategy: migrate_exchanges\n",
      "Applying strategy: migrate_datasets\n",
      "Applying strategy: migrate_exchanges\n",
      "Applying strategy: migrate_datasets\n",
      "Applying strategy: migrate_exchanges\n",
      "Remove uncertainty data.\n",
      "Extracted 1 worksheets in 0.04 seconds\n",
      "Migrating to 3.8 first\n",
      "Applying strategy: migrate_datasets\n",
      "Applying strategy: migrate_exchanges\n",
      "Applying strategy: migrate_datasets\n",
      "Applying strategy: migrate_exchanges\n",
      "Applying strategy: migrate_datasets\n",
      "Applying strategy: migrate_exchanges\n",
      "Remove uncertainty data.\n",
      "Extracted 1 worksheets in 0.05 seconds\n",
      "Migrating to 3.8 first\n",
      "Applying strategy: migrate_datasets\n",
      "Applying strategy: migrate_exchanges\n",
      "Applying strategy: migrate_datasets\n",
      "Applying strategy: migrate_exchanges\n",
      "Applying strategy: migrate_datasets\n",
      "Applying strategy: migrate_exchanges\n",
      "Remove uncertainty data.\n",
      "Extracted 1 worksheets in 0.07 seconds\n",
      "Migrating to 3.8 first\n",
      "Applying strategy: migrate_datasets\n",
      "Applying strategy: migrate_exchanges\n",
      "Applying strategy: migrate_datasets\n",
      "Applying strategy: migrate_exchanges\n",
      "Applying strategy: migrate_datasets\n",
      "Applying strategy: migrate_exchanges\n",
      "Remove uncertainty data.\n",
      "Extracted 1 worksheets in 0.04 seconds\n",
      "Migrating to 3.8 first\n",
      "Applying strategy: migrate_datasets\n",
      "Applying strategy: migrate_exchanges\n",
      "Applying strategy: migrate_datasets\n",
      "Applying strategy: migrate_exchanges\n",
      "Applying strategy: migrate_datasets\n",
      "Applying strategy: migrate_exchanges\n",
      "Remove uncertainty data.\n",
      "Extracted 1 worksheets in 0.13 seconds\n",
      "Migrating to 3.8 first\n",
      "Applying strategy: migrate_datasets\n",
      "Applying strategy: migrate_exchanges\n",
      "Applying strategy: migrate_datasets\n",
      "Applying strategy: migrate_exchanges\n",
      "Applying strategy: migrate_datasets\n",
      "Applying strategy: migrate_exchanges\n",
      "Remove uncertainty data.\n",
      "Extracted 1 worksheets in 0.04 seconds\n",
      "Applying strategy: migrate_datasets\n",
      "Applying strategy: migrate_exchanges\n",
      "Remove uncertainty data.\n",
      "Extracted 1 worksheets in 0.29 seconds\n",
      "Applying strategy: migrate_datasets\n",
      "Applying strategy: migrate_exchanges\n",
      "Remove uncertainty data.\n",
      "Extracted 1 worksheets in 0.01 seconds\n",
      "Applying strategy: migrate_datasets\n",
      "Applying strategy: migrate_exchanges\n",
      "Remove uncertainty data.\n",
      "Extracted 1 worksheets in 0.07 seconds\n",
      "Applying strategy: migrate_datasets\n",
      "Applying strategy: migrate_exchanges\n",
      "Remove uncertainty data.\n",
      "Extracted 1 worksheets in 0.10 seconds\n",
      "Remove uncertainty data.\n",
      "Extracted 1 worksheets in 0.02 seconds\n",
      "Applying strategy: migrate_datasets\n",
      "Applying strategy: migrate_exchanges\n",
      "Remove uncertainty data.\n",
      "Extracted 1 worksheets in 0.04 seconds\n",
      "Applying strategy: migrate_datasets\n",
      "Applying strategy: migrate_exchanges\n",
      "Remove uncertainty data.\n",
      "Extracted 1 worksheets in 0.06 seconds\n",
      "Applying strategy: migrate_datasets\n",
      "Applying strategy: migrate_exchanges\n",
      "Remove uncertainty data.\n",
      "Extracted 1 worksheets in 0.16 seconds\n",
      "Applying strategy: migrate_datasets\n",
      "Applying strategy: migrate_exchanges\n",
      "Remove uncertainty data.\n",
      "Extracted 1 worksheets in 0.06 seconds\n",
      "Applying strategy: migrate_datasets\n",
      "Applying strategy: migrate_exchanges\n",
      "Remove uncertainty data.\n",
      "Extracted 19 worksheets in 1.27 seconds\n",
      "Migrating to 3.8 first\n",
      "Applying strategy: migrate_datasets\n",
      "Applying strategy: migrate_exchanges\n",
      "Applying strategy: migrate_datasets\n",
      "Applying strategy: migrate_exchanges\n",
      "Applying strategy: migrate_datasets\n",
      "Applying strategy: migrate_exchanges\n",
      "Remove uncertainty data.\n",
      "Extracted 1 worksheets in 2.24 seconds\n",
      "Migrating to 3.8 first\n",
      "Applying strategy: migrate_datasets\n",
      "Applying strategy: migrate_exchanges\n",
      "Applying strategy: migrate_datasets\n",
      "Applying strategy: migrate_exchanges\n",
      "Applying strategy: migrate_datasets\n",
      "Applying strategy: migrate_exchanges\n",
      "Remove uncertainty data.\n",
      "Extracted 1 worksheets in 0.64 seconds\n",
      "Migrating to 3.8 first\n",
      "Applying strategy: migrate_datasets\n",
      "Applying strategy: migrate_exchanges\n",
      "Applying strategy: migrate_datasets\n",
      "Applying strategy: migrate_exchanges\n",
      "Applying strategy: migrate_datasets\n",
      "Applying strategy: migrate_exchanges\n",
      "Remove uncertainty data.\n",
      "Extracted 1 worksheets in 3.19 seconds\n",
      "Migrating to 3.8 first\n",
      "Applying strategy: migrate_datasets\n",
      "Applying strategy: migrate_exchanges\n",
      "Applying strategy: migrate_datasets\n",
      "Applying strategy: migrate_exchanges\n",
      "Applying strategy: migrate_datasets\n",
      "Applying strategy: migrate_exchanges\n",
      "Remove uncertainty data.\n",
      "Extracted 1 worksheets in 0.11 seconds\n",
      "Applying strategy: migrate_datasets\n",
      "Applying strategy: migrate_exchanges\n",
      "Remove uncertainty data.\n",
      "Extracted 1 worksheets in 0.09 seconds\n",
      "Remove uncertainty data.\n",
      "Extracted 1 worksheets in 0.12 seconds\n",
      "Remove uncertainty data.\n",
      "Extracted 1 worksheets in 0.02 seconds\n",
      "Remove uncertainty data.\n",
      "Extracted 1 worksheets in 0.05 seconds\n",
      "Remove uncertainty data.\n",
      "Extracted 1 worksheets in 0.02 seconds\n",
      "Remove uncertainty data.\n",
      "Data cached. It is advised to restart your workflow at this point.\n",
      "This allows premise to use the cached data instead, which results in\n",
      "a faster workflow.\n",
      "- Fetching IAM data\n",
      "Done!\n"
     ]
    }
   ],
   "execution_count": 5
  },
  {
   "metadata": {
    "ExecuteTime": {
     "end_time": "2025-01-31T21:44:44.744821Z",
     "start_time": "2025-01-31T21:30:29.236515Z"
    }
   },
   "cell_type": "code",
   "source": [
    "# Update the database with IAM data\n",
    "ndb.update()"
   ],
   "id": "7f6eb308bb944b9c",
   "outputs": [
    {
     "name": "stderr",
     "output_type": "stream",
     "text": [
      "Processing scenarios for all sectors: 100%|█| 2/2 [14:15<00:00, 427.74"
     ]
    },
    {
     "name": "stdout",
     "output_type": "stream",
     "text": [
      "Done!\n",
      "\n"
     ]
    },
    {
     "name": "stderr",
     "output_type": "stream",
     "text": [
      "\n"
     ]
    }
   ],
   "execution_count": 6
  },
  {
   "metadata": {
    "ExecuteTime": {
     "end_time": "2025-01-31T22:02:31.976530Z",
     "start_time": "2025-01-31T21:44:44.750597Z"
    }
   },
   "cell_type": "code",
   "source": [
    "# Write the database in your brightway project\n",
    "ndb.write_db_to_brightway(name=[f'ecoinvent_cutoff_{ei_version}_{model}_{pathway}_{year}' for year in years])"
   ],
   "id": "8eaa607538e81d37",
   "outputs": [
    {
     "name": "stdout",
     "output_type": "stream",
     "text": [
      "Write new database(s) to Brightway.\n",
      "Running all checks...\n",
      "Minor anomalies found: check the change report.\n"
     ]
    },
    {
     "name": "stderr",
     "output_type": "stream",
     "text": [
      "Writing activities to SQLite3 database:\n",
      "0% [##############################] 100% | ETA: 00:00:00\n",
      "Total time elapsed: 00:00:54\n"
     ]
    },
    {
     "name": "stdout",
     "output_type": "stream",
     "text": [
      "Title: Writing activities to SQLite3 database:\n",
      "  Started: 01/31/2025 16:46:05\n",
      "  Finished: 01/31/2025 16:46:59\n",
      "  Total time elapsed: 00:00:54\n",
      "  CPU %: 91.30\n",
      "  Memory %: 33.97\n",
      "Created database: ecoinvent_cutoff_3.10.1_image_SSP2-Base_2020\n",
      "Running all checks...\n",
      "Minor anomalies found: check the change report.\n"
     ]
    },
    {
     "name": "stderr",
     "output_type": "stream",
     "text": [
      "Writing activities to SQLite3 database:\n",
      "0% [##############################] 100% | ETA: 00:00:00\n",
      "Total time elapsed: 00:01:39\n"
     ]
    },
    {
     "name": "stdout",
     "output_type": "stream",
     "text": [
      "Title: Writing activities to SQLite3 database:\n",
      "  Started: 01/31/2025 16:54:19\n",
      "  Finished: 01/31/2025 16:55:59\n",
      "  Total time elapsed: 00:01:39\n",
      "  CPU %: 89.10\n",
      "  Memory %: 31.85\n",
      "Created database: ecoinvent_cutoff_3.10.1_image_SSP2-Base_2050\n",
      "Generate scenario report.\n",
      "Report saved under C:\\Users\\matth\\PycharmProjects\\energyscope-lca\\01_Notebooks\\export\\scenario_report.\n",
      "Generate change report.\n",
      "Report saved under C:\\Users\\matth\\PycharmProjects\\energyscope-lca\\01_Notebooks.\n"
     ]
    }
   ],
   "execution_count": 7
  },
  {
   "metadata": {},
   "cell_type": "markdown",
   "source": "## Minor corrections to premise databases using mescal ",
   "id": "f8ceb8e5cd590e18"
  },
  {
   "metadata": {
    "ExecuteTime": {
     "end_time": "2025-01-31T22:02:33.997696Z",
     "start_time": "2025-01-31T22:02:31.985311Z"
    }
   },
   "cell_type": "code",
   "source": [
    "for year in years:\n",
    "    remove_quebec_flow_in_global_heat_market(\n",
    "        db_name=f'ecoinvent_cutoff_{ei_version}_{model}_{pathway}_{year}',\n",
    "        activity_name='market group for heat, district or industrial, other than natural gas'\n",
    "    ) # Remove the Quebec heat flow in the global heat market activity"
   ],
   "id": "e36f56fa5b222f2d",
   "outputs": [],
   "execution_count": 8
  },
  {
   "metadata": {
    "ExecuteTime": {
     "end_time": "2025-01-31T22:02:50.812350Z",
     "start_time": "2025-01-31T22:02:34.001160Z"
    }
   },
   "cell_type": "code",
   "source": [
    "for year in years:\n",
    "    activity_name = 'farming and supply of corn'\n",
    "    activities_to_change = [i for i in bd.Database(f'ecoinvent_cutoff_{ei_version}_{model}_{pathway}_{year}').search(activity_name, limit=1000) if i['name'] == activity_name] # for all locations\n",
    "    flow_to_change = [i for i in bd.Database('biosphere3').search('Water, unspecified natural origin') if \n",
    "                      (i['name'] == 'Water, unspecified natural origin')\n",
    "                      & (i['categories'] == ('natural resource', 'in water'))\n",
    "                      ][0]\n",
    "    flow_to_change_code = flow_to_change['code']\n",
    "    for act in activities_to_change:\n",
    "        change_flow_value(\n",
    "            activity_code=act['code'],\n",
    "            flow_code=flow_to_change_code,\n",
    "            database_name=f'ecoinvent_cutoff_{ei_version}_{model}_{pathway}_{year}',\n",
    "            new_value=1.222,\n",
    "            flow_type='biosphere',\n",
    "        )"
   ],
   "id": "200138ff64455121",
   "outputs": [],
   "execution_count": 9
  },
  {
   "metadata": {},
   "cell_type": "markdown",
   "source": "## Import carculator_truck databases",
   "id": "8fb04832e79933fb"
  },
  {
   "metadata": {
    "ExecuteTime": {
     "end_time": "2025-01-31T22:02:50.855883Z",
     "start_time": "2025-01-31T22:02:50.840163Z"
    }
   },
   "cell_type": "code",
   "source": [
    "def create_truck_database(cycle, year):\n",
    "    tip = TruckInputParameters()\n",
    "    tip.static()\n",
    "    dcts, array = fill_xarray_from_input_parameters(tip, scope={\"year\":[year]})\n",
    "    tm = TruckModel(array, cycle=cycle)\n",
    "    tm.set_all()\n",
    "    ic = InventoryTruck(tm)\n",
    "    \n",
    "    i = ic.export_lci(\n",
    "        software=\"brightway2\",\n",
    "        ecoinvent_version=ei_version_premise,\n",
    "        format=\"bw2io\",\n",
    "        filename=cycle.lower(),\n",
    "    )\n",
    "    \n",
    "    i.apply_strategies()\n",
    "\n",
    "    i.match_database(fields=[\"name\", \"unit\", \"location\"])\n",
    "    i.match_database(ei_db_name,  fields=[\"reference product\", \"name\", \"unit\", \"location\"])\n",
    "    i.match_database('biosphere3',  fields=[\"name\", \"unit\", \"categories\"])\n",
    "\n",
    "    i.statistics()\n",
    "    \n",
    "    i.drop_unlinked(i_am_reckless=True)  # remove noise elementary flows (not characterized)\n",
    "\n",
    "    if cycle.lower() + f\"_truck_{datetime.now().strftime('%Y%m%d')}_{year}\" in bd.databases:\n",
    "        del bd.databases[cycle.lower() + f\"_truck_{datetime.now().strftime('%Y%m%d')}_{year}\"]\n",
    "    \n",
    "    i.write_database()"
   ],
   "id": "6fa594aed8bd3fb7",
   "outputs": [],
   "execution_count": 10
  },
  {
   "metadata": {
    "ExecuteTime": {
     "end_time": "2025-01-31T22:08:43.983502Z",
     "start_time": "2025-01-31T22:02:50.857891Z"
    }
   },
   "cell_type": "code",
   "source": [
    "for year in years:\n",
    "    create_truck_database(cycle='Urban delivery', year=year) # 150 km \n",
    "    create_truck_database(cycle='Regional delivery', year=year) # 400 km "
   ],
   "id": "10c4a0714f3d0274",
   "outputs": [
    {
     "name": "stdout",
     "output_type": "stream",
     "text": [
      "Finding solutions for trucks...\n",
      "Urban delivery driving cycle is selected. \n",
      "Vehicles will be designed to achieve a minimal range of 150 km.\n",
      "\n",
      "\n",
      "'-' vehicle with driving mass superior to the permissible gross weight.\n",
      "'/' vehicle not available for the specified year.\n",
      "+-------------------+-----+-----+------+-----+-----+------+------+\n",
      "| Payload (in tons) | 18t | 26t | 3.5t | 32t | 40t | 60t  | 7.5t |\n",
      "+-------------------+-----+-----+------+-----+-----+------+------+\n",
      "|     BEV, 2020     | 2.7 | 6.3 | 0.8  | 8.8 | 8.8 | 16.4 | 1.8  |\n",
      "|     FCEV, 2020    | 2.7 | 6.3 | 0.8  | 8.8 | 8.8 | 16.4 | 1.8  |\n",
      "|    HEV-d, 2020    | 2.7 | 6.3 | 0.8  | 8.8 | 8.8 | 16.4 | 1.8  |\n",
      "|    ICEV-d, 2020   | 2.7 | 6.3 | 0.8  | 8.8 | 8.8 | 16.4 | 1.8  |\n",
      "|    ICEV-g, 2020   | 2.7 | 6.3 | 0.8  | 8.8 | 8.8 | 16.4 | 1.8  |\n",
      "|    PHEV-d, 2020   | 2.7 | 6.3 | 0.8  | 8.8 | 8.8 | 16.4 | 1.8  |\n",
      "+-------------------+-----+-----+------+-----+-----+------+------+\n",
      "****************** IMPORTANT BACKGROUND PARAMETERS ******************\n",
      " * The functional unit is: vkm.\n",
      " * The background prospective scenario is: SSP2-NPi.\n",
      " * The country of use is: CH.\n",
      " * Power and energy batteries produced in CN using ['NMC-622'] chemistry/ies\n",
      "\t * between 2020 and 2030, % of non-hydro renew.: 13, hydro: 61, nuclear: 20.\n",
      "hydrogen - smr - natural gas is completed by hydrogen - electrolysis - PEM.\n",
      " \t * in 2020 _________________________________________ 1.0%\n",
      " * methane is completed by methane - biomethane - sewage sludge.\n",
      " \t * in 2020 _________________________________________ 22.0%\n",
      " * diesel is completed by diesel - biodiesel - cooking oil.\n",
      " \t * in 2020 _________________________________________ 5.0%\n",
      " * *********************************************************************\n"
     ]
    },
    {
     "name": "stderr",
     "output_type": "stream",
     "text": [
      "0% [##############################] 100% | ETA: 00:00:00 | Item ID: 1801\n",
      "Total time elapsed: 00:00:01\n"
     ]
    },
    {
     "name": "stdout",
     "output_type": "stream",
     "text": [
      "Applying strategy: normalize_units\n",
      "Applying strategy: drop_unspecified_subcategories\n",
      "Applying strategy: assign_only_product_as_production\n",
      "Applying strategy: strip_biosphere_exc_locations\n",
      "Applied 4 strategies in 0.01 seconds\n",
      "Applying strategy: link_iterable_by_fields\n",
      "Applying strategy: link_iterable_by_fields\n",
      "Applying strategy: link_iterable_by_fields\n",
      "537 datasets\n",
      "8651 exchanges\n",
      "1008 unlinked exchanges\n",
      "  Type biosphere: 24 unique unlinked exchanges\n",
      "Applying strategy: drop_unlinked\n",
      "Applied 1 strategies in 0.00 seconds\n"
     ]
    },
    {
     "name": "stderr",
     "output_type": "stream",
     "text": [
      "Writing activities to SQLite3 database:\n",
      "0% [##############################] 100% | ETA: 00:00:00\n",
      "Total time elapsed: 00:00:00\n"
     ]
    },
    {
     "name": "stdout",
     "output_type": "stream",
     "text": [
      "Title: Writing activities to SQLite3 database:\n",
      "  Started: 01/31/2025 17:03:27\n",
      "  Finished: 01/31/2025 17:03:28\n",
      "  Total time elapsed: 00:00:00\n",
      "  CPU %: 93.20\n",
      "  Memory %: 28.04\n",
      "Created database: urban delivery_truck_20250131_2020\n",
      "Finding solutions for trucks...\n",
      "Regional delivery driving cycle is selected. \n",
      "Vehicles will be designed to achieve a minimal range of 400 km.\n",
      "\n",
      "\n",
      "'-' vehicle with driving mass superior to the permissible gross weight.\n",
      "'/' vehicle not available for the specified year.\n",
      "+-------------------+-----+-----+------+------+------+------+------+\n",
      "| Payload (in tons) | 18t | 26t | 3.5t | 32t  | 40t  | 60t  | 7.5t |\n",
      "+-------------------+-----+-----+------+------+------+------+------+\n",
      "|     BEV, 2020     | 3.2 | 6.3 | 0.8  | 10.3 | 10.3 | 19.3 | 1.8  |\n",
      "|     FCEV, 2020    | 3.2 | 6.3 | 0.8  | 10.3 | 10.3 | 19.3 | 1.8  |\n",
      "|    HEV-d, 2020    | 3.2 | 6.3 | 0.8  | 10.3 | 10.3 | 19.3 | 1.8  |\n",
      "|    ICEV-d, 2020   | 3.2 | 6.3 | 0.8  | 10.3 | 10.3 | 19.3 | 1.8  |\n",
      "|    ICEV-g, 2020   | 3.2 | 6.3 | 0.8  | 10.3 | 10.3 | 19.3 | 1.8  |\n",
      "|    PHEV-d, 2020   | 3.2 | 6.3 | 0.8  | 10.3 | 10.3 | 19.3 | 1.8  |\n",
      "+-------------------+-----+-----+------+------+------+------+------+\n",
      "****************** IMPORTANT BACKGROUND PARAMETERS ******************\n",
      " * The functional unit is: vkm.\n",
      " * The background prospective scenario is: SSP2-NPi.\n",
      " * The country of use is: CH.\n",
      " * Power and energy batteries produced in CN using ['NMC-622'] chemistry/ies\n",
      "\t * between 2020 and 2029, % of non-hydro renew.: 12, hydro: 61, nuclear: 20.\n",
      "hydrogen - smr - natural gas is completed by hydrogen - electrolysis - PEM.\n",
      " \t * in 2020 _________________________________________ 1.0%\n",
      " * methane is completed by methane - biomethane - sewage sludge.\n",
      " \t * in 2020 _________________________________________ 22.0%\n",
      " * diesel is completed by diesel - biodiesel - cooking oil.\n",
      " \t * in 2020 _________________________________________ 5.0%\n",
      " * *********************************************************************\n"
     ]
    },
    {
     "name": "stderr",
     "output_type": "stream",
     "text": [
      "0% [##############################] 100% | ETA: 00:00:00 | Item ID: 1801\n",
      "Total time elapsed: 00:00:01\n"
     ]
    },
    {
     "name": "stdout",
     "output_type": "stream",
     "text": [
      "Applying strategy: normalize_units\n",
      "Applying strategy: drop_unspecified_subcategories\n",
      "Applying strategy: assign_only_product_as_production\n",
      "Applying strategy: strip_biosphere_exc_locations\n",
      "Applied 4 strategies in 0.00 seconds\n",
      "Applying strategy: link_iterable_by_fields\n",
      "Applying strategy: link_iterable_by_fields\n",
      "Applying strategy: link_iterable_by_fields\n",
      "537 datasets\n",
      "8651 exchanges\n",
      "1008 unlinked exchanges\n",
      "  Type biosphere: 24 unique unlinked exchanges\n",
      "Applying strategy: drop_unlinked\n",
      "Applied 1 strategies in 0.00 seconds\n"
     ]
    },
    {
     "name": "stderr",
     "output_type": "stream",
     "text": [
      "Writing activities to SQLite3 database:\n",
      "0% [##############################] 100% | ETA: 00:00:00\n",
      "Total time elapsed: 00:00:00\n"
     ]
    },
    {
     "name": "stdout",
     "output_type": "stream",
     "text": [
      "Title: Writing activities to SQLite3 database:\n",
      "  Started: 01/31/2025 17:04:51\n",
      "  Finished: 01/31/2025 17:04:52\n",
      "  Total time elapsed: 00:00:00\n",
      "  CPU %: 89.90\n",
      "  Memory %: 27.89\n",
      "Created database: regional delivery_truck_20250131_2020\n",
      "Finding solutions for trucks...\n",
      "Urban delivery driving cycle is selected. \n",
      "Vehicles will be designed to achieve a minimal range of 150 km.\n",
      "\n",
      "\n",
      "'-' vehicle with driving mass superior to the permissible gross weight.\n",
      "'/' vehicle not available for the specified year.\n",
      "+-------------------+-----+-----+------+-----+-----+------+------+\n",
      "| Payload (in tons) | 18t | 26t | 3.5t | 32t | 40t | 60t  | 7.5t |\n",
      "+-------------------+-----+-----+------+-----+-----+------+------+\n",
      "|     BEV, 2050     | 2.7 | 6.3 | 0.8  | 8.8 | 8.8 | 16.4 | 1.8  |\n",
      "|     FCEV, 2050    | 2.7 | 6.3 | 0.8  | 8.8 | 8.8 | 16.4 | 1.8  |\n",
      "|    HEV-d, 2050    | 2.7 | 6.3 | 0.8  | 8.8 | 8.8 | 16.4 | 1.8  |\n",
      "|    ICEV-d, 2050   | 2.7 | 6.3 | 0.8  | 8.8 | 8.8 | 16.4 | 1.8  |\n",
      "|    ICEV-g, 2050   | 2.7 | 6.3 | 0.8  | 8.8 | 8.8 | 16.4 | 1.8  |\n",
      "|    PHEV-d, 2050   | 2.7 | 6.3 | 0.8  | 8.8 | 8.8 | 16.4 | 1.8  |\n",
      "+-------------------+-----+-----+------+-----+-----+------+------+\n",
      "****************** IMPORTANT BACKGROUND PARAMETERS ******************\n",
      " * The functional unit is: vkm.\n",
      " * The background prospective scenario is: SSP2-NPi.\n",
      " * The country of use is: CH.\n",
      " * Power and energy batteries produced in CN using ['NMC-955'] chemistry/ies\n",
      "\t * between 2050 and 2060, % of non-hydro renew.: 33, hydro: 54, nuclear: 1.\n",
      "hydrogen - smr - natural gas is completed by hydrogen - electrolysis - PEM.\n",
      " \t * in 2050 _________________________________________ 1.0%\n",
      " * methane is completed by methane - biomethane - sewage sludge.\n",
      " \t * in 2050 _________________________________________ 22.0%\n",
      " * diesel is completed by diesel - biodiesel - cooking oil.\n",
      " \t * in 2050 _________________________________________ 5.0%\n",
      " * *********************************************************************\n"
     ]
    },
    {
     "name": "stderr",
     "output_type": "stream",
     "text": [
      "0% [##############################] 100% | ETA: 00:00:00 | Item ID: 1801\n",
      "Total time elapsed: 00:00:01\n"
     ]
    },
    {
     "name": "stdout",
     "output_type": "stream",
     "text": [
      "Applying strategy: normalize_units\n",
      "Applying strategy: drop_unspecified_subcategories\n",
      "Applying strategy: assign_only_product_as_production\n",
      "Applying strategy: strip_biosphere_exc_locations\n",
      "Applied 4 strategies in 0.00 seconds\n",
      "Applying strategy: link_iterable_by_fields\n",
      "Applying strategy: link_iterable_by_fields\n",
      "Applying strategy: link_iterable_by_fields\n",
      "537 datasets\n",
      "8590 exchanges\n",
      "1008 unlinked exchanges\n",
      "  Type biosphere: 24 unique unlinked exchanges\n",
      "Applying strategy: drop_unlinked\n",
      "Applied 1 strategies in 0.00 seconds\n"
     ]
    },
    {
     "name": "stderr",
     "output_type": "stream",
     "text": [
      "Writing activities to SQLite3 database:\n",
      "0% [##############################] 100% | ETA: 00:00:00\n",
      "Total time elapsed: 00:00:00\n"
     ]
    },
    {
     "name": "stdout",
     "output_type": "stream",
     "text": [
      "Title: Writing activities to SQLite3 database:\n",
      "  Started: 01/31/2025 17:06:34\n",
      "  Finished: 01/31/2025 17:06:35\n",
      "  Total time elapsed: 00:00:00\n",
      "  CPU %: 92.90\n",
      "  Memory %: 26.87\n",
      "Created database: urban delivery_truck_20250131_2050\n",
      "Finding solutions for trucks...\n",
      "Regional delivery driving cycle is selected. \n",
      "Vehicles will be designed to achieve a minimal range of 400 km.\n",
      "\n",
      "\n",
      "'-' vehicle with driving mass superior to the permissible gross weight.\n",
      "'/' vehicle not available for the specified year.\n",
      "+-------------------+-----+-----+------+------+------+------+------+\n",
      "| Payload (in tons) | 18t | 26t | 3.5t | 32t  | 40t  | 60t  | 7.5t |\n",
      "+-------------------+-----+-----+------+------+------+------+------+\n",
      "|     BEV, 2050     | 3.2 | 6.3 | 0.8  | 10.3 | 10.3 | 19.3 | 1.8  |\n",
      "|     FCEV, 2050    | 3.2 | 6.3 | 0.8  | 10.3 | 10.3 | 19.3 | 1.8  |\n",
      "|    HEV-d, 2050    | 3.2 | 6.3 | 0.8  | 10.3 | 10.3 | 19.3 | 1.8  |\n",
      "|    ICEV-d, 2050   | 3.2 | 6.3 | 0.8  | 10.3 | 10.3 | 19.3 | 1.8  |\n",
      "|    ICEV-g, 2050   | 3.2 | 6.3 | 0.8  | 10.3 | 10.3 | 19.3 | 1.8  |\n",
      "|    PHEV-d, 2050   | 3.2 | 6.3 | 0.8  | 10.3 | 10.3 | 19.3 | 1.7  |\n",
      "+-------------------+-----+-----+------+------+------+------+------+\n",
      "****************** IMPORTANT BACKGROUND PARAMETERS ******************\n",
      " * The functional unit is: vkm.\n",
      " * The background prospective scenario is: SSP2-NPi.\n",
      " * The country of use is: CH.\n",
      " * Power and energy batteries produced in CN using ['NMC-955'] chemistry/ies\n",
      "\t * between 2050 and 2059, % of non-hydro renew.: 33, hydro: 54, nuclear: 1.\n",
      "hydrogen - smr - natural gas is completed by hydrogen - electrolysis - PEM.\n",
      " \t * in 2050 _________________________________________ 1.0%\n",
      " * methane is completed by methane - biomethane - sewage sludge.\n",
      " \t * in 2050 _________________________________________ 22.0%\n",
      " * diesel is completed by diesel - biodiesel - cooking oil.\n",
      " \t * in 2050 _________________________________________ 5.0%\n",
      " * *********************************************************************\n"
     ]
    },
    {
     "name": "stderr",
     "output_type": "stream",
     "text": [
      "0% [##############################] 100% | ETA: 00:00:00 | Item ID: 1801\n",
      "Total time elapsed: 00:00:01\n"
     ]
    },
    {
     "name": "stdout",
     "output_type": "stream",
     "text": [
      "Applying strategy: normalize_units\n",
      "Applying strategy: drop_unspecified_subcategories\n",
      "Applying strategy: assign_only_product_as_production\n",
      "Applying strategy: strip_biosphere_exc_locations\n",
      "Applied 4 strategies in 0.01 seconds\n",
      "Applying strategy: link_iterable_by_fields\n",
      "Applying strategy: link_iterable_by_fields\n",
      "Applying strategy: link_iterable_by_fields\n",
      "537 datasets\n",
      "8590 exchanges\n",
      "1008 unlinked exchanges\n",
      "  Type biosphere: 24 unique unlinked exchanges\n",
      "Applying strategy: drop_unlinked\n",
      "Applied 1 strategies in 0.00 seconds\n"
     ]
    },
    {
     "name": "stderr",
     "output_type": "stream",
     "text": [
      "Writing activities to SQLite3 database:\n",
      "0% [##############################] 100% | ETA: 00:00:00\n",
      "Total time elapsed: 00:00:00\n"
     ]
    },
    {
     "name": "stdout",
     "output_type": "stream",
     "text": [
      "Title: Writing activities to SQLite3 database:\n",
      "  Started: 01/31/2025 17:07:57\n",
      "  Finished: 01/31/2025 17:07:58\n",
      "  Total time elapsed: 00:00:00\n",
      "  CPU %: 98.30\n",
      "  Memory %: 27.29\n",
      "Created database: regional delivery_truck_20250131_2050\n"
     ]
    }
   ],
   "execution_count": 11
  },
  {
   "metadata": {},
   "cell_type": "markdown",
   "source": "## Minor changes in naming to the carculator_truck databases",
   "id": "41c95740de392bd6"
  },
  {
   "metadata": {
    "ExecuteTime": {
     "end_time": "2025-01-31T22:08:44.017662Z",
     "start_time": "2025-01-31T22:08:43.983502Z"
    }
   },
   "cell_type": "code",
   "source": [
    "def rename_truck_activities(cycle, year):\n",
    "    db = bd.Database(f\"{cycle.lower()}_truck_{datetime.now().strftime('%Y%m%d')}_{year}\")\n",
    "    db_list = [a for a in db]\n",
    "    for act in db_list:\n",
    "        if act.as_dict()['name'].startswith('transport, truck') or act.as_dict()['name'].startswith('truck,'):\n",
    "            act.as_dict()['name'] += f', {cycle.lower()}'\n",
    "        act.save()"
   ],
   "id": "a6ccc1c78b248852",
   "outputs": [],
   "execution_count": 12
  },
  {
   "metadata": {
    "ExecuteTime": {
     "end_time": "2025-01-31T22:13:25.154369Z",
     "start_time": "2025-01-31T22:08:44.017662Z"
    }
   },
   "cell_type": "code",
   "source": [
    "for year in years:\n",
    "    rename_truck_activities(cycle='Regional delivery', year=year)\n",
    "    rename_truck_activities(cycle='Urban delivery', year=year)"
   ],
   "id": "578a7ee578512a5f",
   "outputs": [],
   "execution_count": 13
  },
  {
   "metadata": {},
   "cell_type": "markdown",
   "source": "## Merge the premise and carculator_truck databases into a single database",
   "id": "17983af62bb363f5"
  },
  {
   "metadata": {
    "ExecuteTime": {
     "end_time": "2025-01-31T22:53:48.904884Z",
     "start_time": "2025-01-31T22:13:25.172235Z"
    }
   },
   "cell_type": "code",
   "source": [
    "for year in years:\n",
    "    main_db = Database(f'ecoinvent_cutoff_{ei_version}_{model}_{pathway}_{year}')\n",
    "    carculator_truck_urban_db = Database(f\"urban delivery_truck_{datetime.now().strftime('%Y%m%d')}_{year}\")\n",
    "    carculator_truck_regional_db = Database(f\"regional delivery_truck_{datetime.now().strftime('%Y%m%d')}_{year}\")\n",
    "    \n",
    "    db = main_db + carculator_truck_urban_db + carculator_truck_regional_db  # concatenation of the database (the lists of dictionaries are simply added up)\n",
    "    \n",
    "    db.merge(\n",
    "        main_ecoinvent_db_name=f'ecoinvent_cutoff_{ei_version}_{model}_{pathway}_{year}',\n",
    "        old_main_db_names=[f'ecoinvent-{ei_version}-cutoff'],\n",
    "        new_db_name=f'ecoinvent_cutoff_{ei_version}_{model}_{pathway}_{year}+truck_carculator',\n",
    "        write=True,\n",
    "        check_duplicates=True,\n",
    "    )  # performs relinking of secondary databases towards the main database, as well as elimination of duplicates "
   ],
   "id": "2e59a67828f8fff5",
   "outputs": [
    {
     "name": "stdout",
     "output_type": "stream",
     "text": [
      "Getting activity data\n"
     ]
    },
    {
     "name": "stderr",
     "output_type": "stream",
     "text": [
      "100%|██████████| 34821/34821 [00:00<00:00, 80235.85it/s]\n"
     ]
    },
    {
     "name": "stdout",
     "output_type": "stream",
     "text": [
      "Adding exchange data to activities\n"
     ]
    },
    {
     "name": "stderr",
     "output_type": "stream",
     "text": [
      "100%|██████████| 1001263/1001263 [01:56<00:00, 8619.39it/s] \n"
     ]
    },
    {
     "name": "stdout",
     "output_type": "stream",
     "text": [
      "Filling out exchange data\n"
     ]
    },
    {
     "name": "stderr",
     "output_type": "stream",
     "text": [
      "100%|██████████| 34821/34821 [00:07<00:00, 4924.43it/s]\n"
     ]
    },
    {
     "name": "stdout",
     "output_type": "stream",
     "text": [
      "Loaded ecoinvent_cutoff_3.10.1_image_SSP2-Base_2020 from brightway!\n",
      "Getting activity data\n"
     ]
    },
    {
     "name": "stderr",
     "output_type": "stream",
     "text": [
      "100%|██████████| 537/537 [00:00<00:00, 127792.41it/s]\n"
     ]
    },
    {
     "name": "stdout",
     "output_type": "stream",
     "text": [
      "Adding exchange data to activities\n"
     ]
    },
    {
     "name": "stderr",
     "output_type": "stream",
     "text": [
      "100%|██████████| 7643/7643 [00:00<00:00, 9764.72it/s] \n"
     ]
    },
    {
     "name": "stdout",
     "output_type": "stream",
     "text": [
      "Filling out exchange data\n"
     ]
    },
    {
     "name": "stderr",
     "output_type": "stream",
     "text": [
      "100%|██████████| 537/537 [00:01<00:00, 297.42it/s]\n"
     ]
    },
    {
     "name": "stdout",
     "output_type": "stream",
     "text": [
      "Loaded urban delivery_truck_20250131_2020 from brightway!\n",
      "Getting activity data\n"
     ]
    },
    {
     "name": "stderr",
     "output_type": "stream",
     "text": [
      "100%|██████████| 537/537 [00:00<00:00, 64310.35it/s]\n"
     ]
    },
    {
     "name": "stdout",
     "output_type": "stream",
     "text": [
      "Adding exchange data to activities\n"
     ]
    },
    {
     "name": "stderr",
     "output_type": "stream",
     "text": [
      "100%|██████████| 7643/7643 [00:00<00:00, 14517.95it/s]\n"
     ]
    },
    {
     "name": "stdout",
     "output_type": "stream",
     "text": [
      "Filling out exchange data\n"
     ]
    },
    {
     "name": "stderr",
     "output_type": "stream",
     "text": [
      "100%|██████████| 537/537 [00:01<00:00, 327.27it/s]\n"
     ]
    },
    {
     "name": "stdout",
     "output_type": "stream",
     "text": [
      "Loaded regional delivery_truck_20250131_2020 from brightway!\n"
     ]
    },
    {
     "name": "stderr",
     "output_type": "stream",
     "text": [
      "Writing activities to SQLite3 database:\n",
      "0% [##############################] 100% | ETA: 00:00:00\n",
      "Total time elapsed: 00:02:36\n"
     ]
    },
    {
     "name": "stdout",
     "output_type": "stream",
     "text": [
      "Title: Writing activities to SQLite3 database:\n",
      "  Started: 01/31/2025 17:21:32\n",
      "  Finished: 01/31/2025 17:24:08\n",
      "  Total time elapsed: 00:02:36\n",
      "  CPU %: 81.30\n",
      "  Memory %: 35.59\n",
      "ecoinvent_cutoff_3.10.1_image_SSP2-Base_2020+truck_carculator written to Brightway!\n",
      "Getting activity data\n"
     ]
    },
    {
     "name": "stderr",
     "output_type": "stream",
     "text": [
      "100%|██████████| 34821/34821 [00:00<00:00, 57202.18it/s]\n"
     ]
    },
    {
     "name": "stdout",
     "output_type": "stream",
     "text": [
      "Adding exchange data to activities\n"
     ]
    },
    {
     "name": "stderr",
     "output_type": "stream",
     "text": [
      "100%|██████████| 1002716/1002716 [02:26<00:00, 6853.58it/s] \n"
     ]
    },
    {
     "name": "stdout",
     "output_type": "stream",
     "text": [
      "Filling out exchange data\n"
     ]
    },
    {
     "name": "stderr",
     "output_type": "stream",
     "text": [
      "100%|██████████| 34821/34821 [00:06<00:00, 5058.33it/s] \n"
     ]
    },
    {
     "name": "stdout",
     "output_type": "stream",
     "text": [
      "Loaded ecoinvent_cutoff_3.10.1_image_SSP2-Base_2050 from brightway!\n",
      "Getting activity data\n"
     ]
    },
    {
     "name": "stderr",
     "output_type": "stream",
     "text": [
      "100%|██████████| 537/537 [00:00<00:00, 121256.59it/s]\n"
     ]
    },
    {
     "name": "stdout",
     "output_type": "stream",
     "text": [
      "Adding exchange data to activities\n"
     ]
    },
    {
     "name": "stderr",
     "output_type": "stream",
     "text": [
      "100%|██████████| 7582/7582 [00:22<00:00, 343.15it/s]  \n"
     ]
    },
    {
     "name": "stdout",
     "output_type": "stream",
     "text": [
      "Filling out exchange data\n"
     ]
    },
    {
     "name": "stderr",
     "output_type": "stream",
     "text": [
      "100%|██████████| 537/537 [00:02<00:00, 251.98it/s]\n"
     ]
    },
    {
     "name": "stdout",
     "output_type": "stream",
     "text": [
      "Loaded urban delivery_truck_20250131_2050 from brightway!\n",
      "Getting activity data\n"
     ]
    },
    {
     "name": "stderr",
     "output_type": "stream",
     "text": [
      "100%|██████████| 537/537 [00:00<?, ?it/s]\n"
     ]
    },
    {
     "name": "stdout",
     "output_type": "stream",
     "text": [
      "Adding exchange data to activities\n"
     ]
    },
    {
     "name": "stderr",
     "output_type": "stream",
     "text": [
      "100%|██████████| 7582/7582 [00:00<00:00, 11434.03it/s]\n"
     ]
    },
    {
     "name": "stdout",
     "output_type": "stream",
     "text": [
      "Filling out exchange data\n"
     ]
    },
    {
     "name": "stderr",
     "output_type": "stream",
     "text": [
      "100%|██████████| 537/537 [00:01<00:00, 358.14it/s]\n"
     ]
    },
    {
     "name": "stdout",
     "output_type": "stream",
     "text": [
      "Loaded regional delivery_truck_20250131_2050 from brightway!\n"
     ]
    },
    {
     "name": "stderr",
     "output_type": "stream",
     "text": [
      "Writing activities to SQLite3 database:\n",
      "0% [##############################] 100% | ETA: 00:00:00\n",
      "Total time elapsed: 00:02:33\n"
     ]
    },
    {
     "name": "stdout",
     "output_type": "stream",
     "text": [
      "Title: Writing activities to SQLite3 database:\n",
      "  Started: 01/31/2025 17:42:51\n",
      "  Finished: 01/31/2025 17:45:25\n",
      "  Total time elapsed: 00:02:33\n",
      "  CPU %: 82.80\n",
      "  Memory %: 46.90\n",
      "ecoinvent_cutoff_3.10.1_image_SSP2-Base_2050+truck_carculator written to Brightway!\n"
     ]
    }
   ],
   "execution_count": 14
  },
  {
   "metadata": {},
   "cell_type": "markdown",
   "source": "## Regionalization of the database",
   "id": "2591caf2f5dd4f0c"
  },
  {
   "metadata": {},
   "cell_type": "markdown",
   "source": "To regionalize the database clone the [Regiopremise](https://github.com/matthieu-str/Regiopremise) repository and run the [demo.ipynb](https://github.com/matthieu-str/Regiopremise/blob/ei3.10/doc/demo.ipynb) notebook. ",
   "id": "1cc64140aad179c2"
  },
  {
   "metadata": {
    "ExecuteTime": {
     "end_time": "2025-01-31T22:53:48.966395Z",
     "start_time": "2025-01-31T22:53:48.943405Z"
    }
   },
   "cell_type": "code",
   "source": "",
   "id": "1d05b04cad82acbf",
   "outputs": [],
   "execution_count": 14
  }
 ],
 "metadata": {
  "kernelspec": {
   "display_name": "Python 3",
   "language": "python",
   "name": "python3"
  },
  "language_info": {
   "codemirror_mode": {
    "name": "ipython",
    "version": 2
   },
   "file_extension": ".py",
   "mimetype": "text/x-python",
   "name": "python",
   "nbconvert_exporter": "python",
   "pygments_lexer": "ipython2",
   "version": "2.7.6"
  }
 },
 "nbformat": 4,
 "nbformat_minor": 5
}
