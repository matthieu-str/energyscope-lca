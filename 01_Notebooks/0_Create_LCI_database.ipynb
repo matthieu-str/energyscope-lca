{
 "cells": [
  {
   "metadata": {},
   "cell_type": "markdown",
   "source": "# Create the main life-cycle inventory database in your brightway project",
   "id": "5ddc2c4becb2cf1b"
  },
  {
   "metadata": {
    "ExecuteTime": {
     "end_time": "2025-03-04T15:42:41.251992Z",
     "start_time": "2025-03-04T15:42:28.270330Z"
    }
   },
   "cell_type": "code",
   "source": [
    "import bw2data as bd\n",
    "import bw2io as bi\n",
    "from premise import *\n",
    "from mescal import *\n",
    "from carculator_truck import *\n",
    "from datetime import datetime"
   ],
   "id": "38a2b893c7e6ac12",
   "outputs": [],
   "execution_count": 1
  },
  {
   "metadata": {
    "ExecuteTime": {
     "end_time": "2025-03-04T15:44:58.015309Z",
     "start_time": "2025-03-04T15:44:57.947903Z"
    }
   },
   "cell_type": "code",
   "source": [
    "ei_version = '3.10.1' # version of the ecoinvent database. Careful: carculator_truck v0.5.0 is compatible with ecoinvent 3.10 only\n",
    "ei_db_name = f\"ecoinvent-{ei_version}-cutoff\" # name of the ecoinvent database in the brightway project\n",
    "bd.projects.set_current(f'ecoinvent{ei_version}') # set the current brightway project\n",
    "biosphere_name=f'ecoinvent-{ei_version}-biosphere' # name of the biosphere database in the brightway project\n",
    "model = 'image' # IAM used to create the database\n",
    "pathway = 'SSP2-Base' # SSP-RCP scenario used to create the database\n",
    "years = [2020, 2050] # years of the database"
   ],
   "id": "2a5b6581cff92b37",
   "outputs": [],
   "execution_count": 9
  },
  {
   "metadata": {},
   "cell_type": "markdown",
   "source": "## Import ecoinvent",
   "id": "a59bfee0508e9296"
  },
  {
   "metadata": {
    "ExecuteTime": {
     "end_time": "2025-03-04T14:58:44.735077Z",
     "start_time": "2025-03-04T14:39:45.641194Z"
    }
   },
   "cell_type": "code",
   "source": [
    "if f'ecoinvent-{ei_version}-cutoff' in bd.databases:\n",
    "    print(f'ecoinvent {ei_version} is already present in the project')\n",
    "else:\n",
    "    bi.import_ecoinvent_release(\n",
    "        version=ei_version,\n",
    "        system_model='cutoff', # can be cutoff / apos / consequential / EN15804\n",
    "        username='JohnDoe',\n",
    "        password='1234',\n",
    "        biosphere_name=biosphere_name,\n",
    "    )"
   ],
   "id": "27ffa793c8825359",
   "outputs": [
    {
     "name": "stderr",
     "output_type": "stream",
     "text": [
      "Writing activities to SQLite3 database:\n"
     ]
    },
    {
     "name": "stdout",
     "output_type": "stream",
     "text": [
      "Applying strategy: normalize_units\n",
      "Applying strategy: drop_unspecified_subcategories\n",
      "Applying strategy: ensure_categories_are_tuples\n",
      "Applied 3 strategies in 0.01 seconds\n",
      "4362 datasets\n",
      "0 exchanges\n",
      "0 unlinked exchanges\n",
      "  \n"
     ]
    },
    {
     "name": "stderr",
     "output_type": "stream",
     "text": [
      "0% [##############################] 100% | ETA: 00:00:00\n",
      "Total time elapsed: 00:00:00\n"
     ]
    },
    {
     "name": "stdout",
     "output_type": "stream",
     "text": [
      "Title: Writing activities to SQLite3 database:\n",
      "  Started: 03/04/2025 09:40:23\n",
      "  Finished: 03/04/2025 09:40:24\n",
      "  Total time elapsed: 00:00:00\n",
      "  CPU %: 102.70\n",
      "  Memory %: 1.85\n",
      "Created database: ecoinvent-3.10.1-biosphere\n"
     ]
    },
    {
     "name": "stderr",
     "output_type": "stream",
     "text": [
      "Extracting ecospold2 files:\n",
      "0% [##############################] 100% | ETA: 00:00:00 | Item ID: ffff6878-41e3-5\n",
      "Total time elapsed: 00:08:24\n"
     ]
    },
    {
     "name": "stdout",
     "output_type": "stream",
     "text": [
      "Title: Extracting ecospold2 files:\n",
      "  Started: 03/04/2025 09:41:01\n",
      "  Finished: 03/04/2025 09:49:25\n",
      "  Total time elapsed: 00:08:24\n",
      "  CPU %: 93.00\n",
      "  Memory %: 20.47\n",
      "Extracted 23523 datasets in 513.01 seconds\n",
      "Applying strategy: normalize_units\n",
      "Applying strategy: update_ecoinvent_locations\n",
      "Applying strategy: remove_zero_amount_coproducts\n",
      "Applying strategy: remove_zero_amount_inputs_with_no_activity\n",
      "Applying strategy: remove_unnamed_parameters\n",
      "Applying strategy: es2_assign_only_product_with_amount_as_reference_product\n",
      "Applying strategy: assign_single_product_as_activity\n",
      "Applying strategy: create_composite_code\n",
      "Applying strategy: drop_unspecified_subcategories\n",
      "Applying strategy: fix_ecoinvent_flows_pre35\n",
      "Applying strategy: drop_temporary_outdated_biosphere_flows\n",
      "Applying strategy: link_biosphere_by_flow_uuid\n",
      "Applying strategy: link_internal_technosphere_by_composite_code\n",
      "Applying strategy: delete_exchanges_missing_activity\n",
      "Applying strategy: delete_ghost_exchanges\n",
      "Applying strategy: remove_uncertainty_from_negative_loss_exchanges\n",
      "Applying strategy: fix_unreasonably_high_lognormal_uncertainties\n",
      "Applying strategy: convert_activity_parameters_to_list\n",
      "Applying strategy: add_cpc_classification_from_single_reference_product\n",
      "Applying strategy: delete_none_synonyms\n",
      "Applying strategy: update_social_flows_in_older_consequential\n",
      "Applying strategy: set_lognormal_loc_value\n",
      "Applied 22 strategies in 16.80 seconds\n"
     ]
    },
    {
     "name": "stderr",
     "output_type": "stream",
     "text": [
      "Writing activities to SQLite3 database:\n"
     ]
    },
    {
     "name": "stdout",
     "output_type": "stream",
     "text": [
      "23523 datasets\n",
      "743409 exchanges\n",
      "0 unlinked exchanges\n",
      "  \n"
     ]
    },
    {
     "name": "stderr",
     "output_type": "stream",
     "text": [
      "0% [##############################] 100% | ETA: 00:00:00\n",
      "Total time elapsed: 00:01:41\n"
     ]
    },
    {
     "name": "stdout",
     "output_type": "stream",
     "text": [
      "Title: Writing activities to SQLite3 database:\n",
      "  Started: 03/04/2025 09:49:43\n",
      "  Finished: 03/04/2025 09:51:24\n",
      "  Total time elapsed: 00:01:41\n",
      "  CPU %: 93.40\n",
      "  Memory %: 21.31\n",
      "Created database: ecoinvent-3.10.1-cutoff\n"
     ]
    }
   ],
   "execution_count": 9
  },
  {
   "metadata": {},
   "cell_type": "markdown",
   "source": "## Import premise databases",
   "id": "6783aa47df5c170a"
  },
  {
   "metadata": {
    "ExecuteTime": {
     "end_time": "2025-03-04T15:45:15.338691Z",
     "start_time": "2025-03-04T15:45:15.332845Z"
    }
   },
   "cell_type": "code",
   "source": [
    "if ei_version == '3.10.1':\n",
    "    ei_version_premise = '3.10'\n",
    "else:\n",
    "    ei_version_premise = ei_version"
   ],
   "id": "2f3769274b3a7b54",
   "outputs": [],
   "execution_count": 13
  },
  {
   "metadata": {
    "ExecuteTime": {
     "end_time": "2025-03-04T15:45:16.072091Z",
     "start_time": "2025-03-04T15:45:16.063228Z"
    }
   },
   "cell_type": "code",
   "source": [
    "# Clear cache is encouraged if updating premise or if encountering issues with inventories\n",
    "clear_cache()"
   ],
   "id": "d6e4f524d2c8952b",
   "outputs": [
    {
     "name": "stdout",
     "output_type": "stream",
     "text": [
      "Cache folder cleared!\n"
     ]
    }
   ],
   "execution_count": 14
  },
  {
   "metadata": {
    "ExecuteTime": {
     "end_time": "2025-03-04T15:47:30.947558Z",
     "start_time": "2025-03-04T15:45:17.241828Z"
    }
   },
   "cell_type": "code",
   "source": [
    "# Initialize the premise database\n",
    "ndb = NewDatabase(\n",
    "    scenarios=[{\"model\": model, \"pathway\": pathway, \"year\": year} for year in years],\n",
    "    source_db=ei_db_name,\n",
    "    source_version=ei_version_premise,\n",
    "    key='xxx', # ask a key to Romain Sacchi (romain.sacchi@psi.ch)\n",
    "    biosphere_name=biosphere_name,\n",
    ")"
   ],
   "id": "9b61e9d66b1e2344",
   "outputs": [
    {
     "name": "stdout",
     "output_type": "stream",
     "text": [
      "premise v.(2, 2, 6)\n",
      "+------------------------------------------------------------------+\n",
      "| Warning                                                          |\n",
      "+------------------------------------------------------------------+\n",
      "| Because some of the scenarios can yield LCI databases            |\n",
      "| containing net negative emission technologies (NET),             |\n",
      "| it is advised to account for biogenic CO2 flows when calculating |\n",
      "| Global Warming potential indicators.                             |\n",
      "| `premise_gwp` provides characterization factors for such flows.  |\n",
      "| It also provides factors for hydrogen emissions to air.          |\n",
      "|                                                                  |\n",
      "| Within your bw2 project:                                         |\n",
      "| from premise_gwp import add_premise_gwp                          |\n",
      "| add_premise_gwp()                                                |\n",
      "+------------------------------------------------------------------+\n",
      "+--------------------------------+----------------------------------+\n",
      "| Utils functions                | Description                      |\n",
      "+--------------------------------+----------------------------------+\n",
      "| clear_cache()                  | Clears the cache folder. Useful  |\n",
      "|                                | when updating `premise`or        |\n",
      "|                                | encountering issues with         |\n",
      "|                                | inventories.                     |\n",
      "+--------------------------------+----------------------------------+\n",
      "| get_regions_definition(model)  | Retrieves the list of countries  |\n",
      "|                                | for each region of the model.    |\n",
      "+--------------------------------+----------------------------------+\n",
      "| ndb.NewDatabase(...)           | Generates a summary of the most  |\n",
      "| ndb.generate_scenario_report() | important scenarios' variables.  |\n",
      "+--------------------------------+----------------------------------+\n",
      "Keep uncertainty data?\n",
      "NewDatabase(..., keep_source_db_uncertainty=True), keep_imports_uncertainty=True)\n",
      "\n",
      "Hide these messages?\n",
      "NewDatabase(..., quiet=True)\n",
      "- Extracting source database\n",
      "Cannot find cached database. Will create one now for next time...\n",
      "Getting activity data\n"
     ]
    },
    {
     "name": "stderr",
     "output_type": "stream",
     "text": [
      "100%|██████████| 23523/23523 [00:00<00:00, 41843.46it/s]\n"
     ]
    },
    {
     "name": "stdout",
     "output_type": "stream",
     "text": [
      "Adding exchange data to activities\n"
     ]
    },
    {
     "name": "stderr",
     "output_type": "stream",
     "text": [
      "100%|██████████| 743409/743409 [01:05<00:00, 11400.88it/s]\n"
     ]
    },
    {
     "name": "stdout",
     "output_type": "stream",
     "text": [
      "Filling out exchange data\n"
     ]
    },
    {
     "name": "stderr",
     "output_type": "stream",
     "text": [
      "100%|██████████| 23523/23523 [00:02<00:00, 10305.84it/s]\n"
     ]
    },
    {
     "name": "stdout",
     "output_type": "stream",
     "text": [
      "Set missing location of datasets to global scope.\n",
      "Set missing location of production exchanges to scope of dataset.\n",
      "Correct missing location of technosphere exchanges.\n",
      "Correct missing flow categories for biosphere exchanges\n",
      "Remove empty exchanges.\n",
      "Remove uncertainty data.\n",
      "- Extracting inventories\n",
      "Cannot find cached inventories. Will create them now for next time...\n",
      "Importing default inventories...\n",
      "\n",
      "Extracted 1 worksheets in 0.30 seconds\n",
      "Migrating to 3.8 first\n",
      "Applying strategy: migrate_datasets\n",
      "Applying strategy: migrate_exchanges\n",
      "Applying strategy: migrate_datasets\n",
      "Applying strategy: migrate_exchanges\n",
      "Applying strategy: migrate_datasets\n",
      "Applying strategy: migrate_exchanges\n",
      "Remove uncertainty data.\n",
      "Extracted 1 worksheets in 0.02 seconds\n",
      "Migrating to 3.8 first\n",
      "Applying strategy: migrate_datasets\n",
      "Applying strategy: migrate_exchanges\n",
      "Applying strategy: migrate_datasets\n",
      "Applying strategy: migrate_exchanges\n",
      "Applying strategy: migrate_datasets\n",
      "Applying strategy: migrate_exchanges\n",
      "Remove uncertainty data.\n",
      "Extracted 1 worksheets in 0.02 seconds\n",
      "Migrating to 3.8 first\n",
      "Applying strategy: migrate_datasets\n",
      "Applying strategy: migrate_exchanges\n",
      "Applying strategy: migrate_datasets\n",
      "Applying strategy: migrate_exchanges\n",
      "Applying strategy: migrate_datasets\n",
      "Applying strategy: migrate_exchanges\n",
      "Remove uncertainty data.\n",
      "Extracted 1 worksheets in 0.02 seconds\n",
      "Applying strategy: migrate_datasets\n",
      "Applying strategy: migrate_exchanges\n",
      "Remove uncertainty data.\n",
      "Extracted 1 worksheets in 0.00 seconds\n",
      "Migrating to 3.8 first\n",
      "Applying strategy: migrate_datasets\n",
      "Applying strategy: migrate_exchanges\n",
      "Applying strategy: migrate_datasets\n",
      "Applying strategy: migrate_exchanges\n",
      "Applying strategy: migrate_datasets\n",
      "Applying strategy: migrate_exchanges\n",
      "Remove uncertainty data.\n",
      "Extracted 4 worksheets in 0.32 seconds\n",
      "Remove uncertainty data.\n",
      "Extracted 1 worksheets in 0.03 seconds\n",
      "Applying strategy: migrate_datasets\n",
      "Applying strategy: migrate_exchanges\n",
      "Remove uncertainty data.\n",
      "Extracted 7 worksheets in 0.05 seconds\n",
      "Applying strategy: migrate_datasets\n",
      "Applying strategy: migrate_exchanges\n",
      "Remove uncertainty data.\n",
      "Extracted 1 worksheets in 0.04 seconds\n",
      "Applying strategy: migrate_datasets\n",
      "Applying strategy: migrate_exchanges\n",
      "Remove uncertainty data.\n",
      "Extracted 1 worksheets in 0.02 seconds\n",
      "Applying strategy: migrate_datasets\n",
      "Applying strategy: migrate_exchanges\n",
      "Remove uncertainty data.\n",
      "Extracted 1 worksheets in 0.05 seconds\n",
      "Applying strategy: migrate_datasets\n",
      "Applying strategy: migrate_exchanges\n",
      "Remove uncertainty data.\n",
      "Extracted 1 worksheets in 0.05 seconds\n",
      "Applying strategy: migrate_datasets\n",
      "Applying strategy: migrate_exchanges\n",
      "Remove uncertainty data.\n",
      "Extracted 1 worksheets in 0.03 seconds\n",
      "Applying strategy: migrate_datasets\n",
      "Applying strategy: migrate_exchanges\n",
      "Remove uncertainty data.\n",
      "Extracted 1 worksheets in 0.06 seconds\n",
      "Applying strategy: migrate_datasets\n",
      "Applying strategy: migrate_exchanges\n",
      "Remove uncertainty data.\n",
      "Extracted 1 worksheets in 0.03 seconds\n",
      "Applying strategy: migrate_datasets\n",
      "Applying strategy: migrate_exchanges\n",
      "Remove uncertainty data.\n",
      "Extracted 1 worksheets in 0.03 seconds\n",
      "Applying strategy: migrate_datasets\n",
      "Applying strategy: migrate_exchanges\n",
      "Remove uncertainty data.\n",
      "Extracted 2 worksheets in 0.03 seconds\n",
      "Remove uncertainty data.\n",
      "Extracted 1 worksheets in 0.01 seconds\n",
      "Applying strategy: migrate_datasets\n",
      "Applying strategy: migrate_exchanges\n",
      "Remove uncertainty data.\n",
      "Extracted 1 worksheets in 0.48 seconds\n",
      "Migrating to 3.8 first\n",
      "Applying strategy: migrate_datasets\n",
      "Applying strategy: migrate_exchanges\n",
      "Applying strategy: migrate_datasets\n",
      "Applying strategy: migrate_exchanges\n",
      "Applying strategy: migrate_datasets\n",
      "Applying strategy: migrate_exchanges\n",
      "Remove uncertainty data.\n",
      "The following datasets to import already exist in the source database. They will not be imported\n",
      "+--------------------------------+--------------------------------+----------+-------------+\n",
      "|              Name              |       Reference product        | Location |     File    |\n",
      "+--------------------------------+--------------------------------+----------+-------------+\n",
      "| fluorspar production, 97% puri |     fluorspar, 97% purity      |   GLO    | lci-PV.xlsx |\n",
      "| metallization paste production | metallization paste, back side |   RER    | lci-PV.xlsx |\n",
      "| metallization paste production | metallization paste, back side |   RER    | lci-PV.xlsx |\n",
      "| metallization paste production | metallization paste, front sid |   RER    | lci-PV.xlsx |\n",
      "| photovoltaic module production | photovoltaic module, building- |   RER    | lci-PV.xlsx |\n",
      "| photovoltaic module production | photovoltaic module, building- |   RER    | lci-PV.xlsx |\n",
      "| photovoltaic mounting system p | photovoltaic mounting system,  |   RER    | lci-PV.xlsx |\n",
      "| photovoltaic mounting system p | photovoltaic mounting system,  |   RER    | lci-PV.xlsx |\n",
      "| photovoltaic mounting system p | photovoltaic mounting system,  |   RER    | lci-PV.xlsx |\n",
      "| photovoltaic panel factory con |   photovoltaic panel factory   |   GLO    | lci-PV.xlsx |\n",
      "|  polyvinylfluoride production  |       polyvinylfluoride        |    US    | lci-PV.xlsx |\n",
      "| polyvinylfluoride production,  | polyvinylfluoride, dispersion  |    US    | lci-PV.xlsx |\n",
      "| polyvinylfluoride, film produc |    polyvinylfluoride, film     |    US    | lci-PV.xlsx |\n",
      "| silicon production, metallurgi |  silicon, metallurgical grade  |    NO    | lci-PV.xlsx |\n",
      "|   vinyl fluoride production    |         vinyl fluoride         |    US    | lci-PV.xlsx |\n",
      "|   wafer factory construction   |         wafer factory          |    DE    | lci-PV.xlsx |\n",
      "+--------------------------------+--------------------------------+----------+-------------+\n",
      "Extracted 1 worksheets in 0.02 seconds\n",
      "Applying strategy: migrate_datasets\n",
      "Applying strategy: migrate_exchanges\n",
      "Remove uncertainty data.\n",
      "Extracted 1 worksheets in 0.08 seconds\n",
      "Applying strategy: migrate_datasets\n",
      "Applying strategy: migrate_exchanges\n",
      "Remove uncertainty data.\n",
      "Extracted 1 worksheets in 0.02 seconds\n",
      "Applying strategy: migrate_datasets\n",
      "Applying strategy: migrate_exchanges\n",
      "Remove uncertainty data.\n",
      "Extracted 1 worksheets in 0.04 seconds\n",
      "Applying strategy: migrate_datasets\n",
      "Applying strategy: migrate_exchanges\n",
      "Remove uncertainty data.\n",
      "Extracted 1 worksheets in 0.02 seconds\n",
      "Migrating to 3.8 first\n",
      "Applying strategy: migrate_datasets\n",
      "Applying strategy: migrate_exchanges\n",
      "Applying strategy: migrate_datasets\n",
      "Applying strategy: migrate_exchanges\n",
      "Applying strategy: migrate_datasets\n",
      "Applying strategy: migrate_exchanges\n",
      "Remove uncertainty data.\n",
      "Extracted 1 worksheets in 0.02 seconds\n",
      "Migrating to 3.8 first\n",
      "Applying strategy: migrate_datasets\n",
      "Applying strategy: migrate_exchanges\n",
      "Applying strategy: migrate_datasets\n",
      "Applying strategy: migrate_exchanges\n",
      "Applying strategy: migrate_datasets\n",
      "Applying strategy: migrate_exchanges\n",
      "Remove uncertainty data.\n",
      "The following datasets to import already exist in the source database. They will not be imported\n",
      "+--------------------------------+--------------------------------+----------+--------------------------------+\n",
      "|              Name              |       Reference product        | Location |              File              |\n",
      "+--------------------------------+--------------------------------+----------+--------------------------------+\n",
      "| carbon dioxide, captured at ce | carbon dioxide, captured and r |   RER    | lci-synfuels-from-methanol-fro |\n",
      "+--------------------------------+--------------------------------+----------+--------------------------------+\n",
      "Extracted 1 worksheets in 0.02 seconds\n",
      "Migrating to 3.8 first\n",
      "Applying strategy: migrate_datasets\n",
      "Applying strategy: migrate_exchanges\n",
      "Applying strategy: migrate_datasets\n",
      "Applying strategy: migrate_exchanges\n",
      "Applying strategy: migrate_datasets\n",
      "Applying strategy: migrate_exchanges\n",
      "Remove uncertainty data.\n",
      "The following datasets to import already exist in the source database. They will not be imported\n",
      "+--------------------------------+--------------------------------+----------+--------------------------------+\n",
      "|              Name              |       Reference product        | Location |              File              |\n",
      "+--------------------------------+--------------------------------+----------+--------------------------------+\n",
      "| hydrogen production, coal gasi | hydrogen, gaseous, low pressur |   RoW    | lci-hydrogen-coal-gasification |\n",
      "| methanol production, coal gasi |            methanol            |   RoW    | lci-hydrogen-coal-gasification |\n",
      "+--------------------------------+--------------------------------+----------+--------------------------------+\n",
      "Extracted 1 worksheets in 0.01 seconds\n",
      "Migrating to 3.8 first\n",
      "Applying strategy: migrate_datasets\n",
      "Applying strategy: migrate_exchanges\n",
      "Applying strategy: migrate_datasets\n",
      "Applying strategy: migrate_exchanges\n",
      "Applying strategy: migrate_datasets\n",
      "Applying strategy: migrate_exchanges\n",
      "Remove uncertainty data.\n",
      "Extracted 1 worksheets in 0.03 seconds\n",
      "Migrating to 3.8 first\n",
      "Applying strategy: migrate_datasets\n",
      "Applying strategy: migrate_exchanges\n",
      "Applying strategy: migrate_datasets\n",
      "Applying strategy: migrate_exchanges\n",
      "Applying strategy: migrate_datasets\n",
      "Applying strategy: migrate_exchanges\n",
      "Remove uncertainty data.\n",
      "Extracted 1 worksheets in 0.02 seconds\n",
      "Migrating to 3.8 first\n",
      "Applying strategy: migrate_datasets\n",
      "Applying strategy: migrate_exchanges\n",
      "Applying strategy: migrate_datasets\n",
      "Applying strategy: migrate_exchanges\n",
      "Applying strategy: migrate_datasets\n",
      "Applying strategy: migrate_exchanges\n",
      "Remove uncertainty data.\n",
      "Extracted 1 worksheets in 0.03 seconds\n",
      "Migrating to 3.8 first\n",
      "Applying strategy: migrate_datasets\n",
      "Applying strategy: migrate_exchanges\n",
      "Applying strategy: migrate_datasets\n",
      "Applying strategy: migrate_exchanges\n",
      "Applying strategy: migrate_datasets\n",
      "Applying strategy: migrate_exchanges\n",
      "Remove uncertainty data.\n",
      "Extracted 1 worksheets in 0.02 seconds\n",
      "Migrating to 3.8 first\n",
      "Applying strategy: migrate_datasets\n",
      "Applying strategy: migrate_exchanges\n",
      "Applying strategy: migrate_datasets\n",
      "Applying strategy: migrate_exchanges\n",
      "Applying strategy: migrate_datasets\n",
      "Applying strategy: migrate_exchanges\n",
      "Remove uncertainty data.\n",
      "Extracted 1 worksheets in 0.02 seconds\n",
      "Migrating to 3.8 first\n",
      "Applying strategy: migrate_datasets\n",
      "Applying strategy: migrate_exchanges\n",
      "Applying strategy: migrate_datasets\n",
      "Applying strategy: migrate_exchanges\n",
      "Applying strategy: migrate_datasets\n",
      "Applying strategy: migrate_exchanges\n",
      "Remove uncertainty data.\n",
      "The following datasets to import already exist in the source database. They will not be imported\n",
      "+--------------------------------+--------------------------------+----------+--------------------------------+\n",
      "|              Name              |       Reference product        | Location |              File              |\n",
      "+--------------------------------+--------------------------------+----------+--------------------------------+\n",
      "| hydrogen production, steam met | hydrogen, gaseous, low pressur |   RER    | lci-hydrogen-smr-atr-natgas.xl |\n",
      "+--------------------------------+--------------------------------+----------+--------------------------------+\n",
      "Extracted 1 worksheets in 0.01 seconds\n",
      "Migrating to 3.8 first\n",
      "Applying strategy: migrate_datasets\n",
      "Applying strategy: migrate_exchanges\n",
      "Applying strategy: migrate_datasets\n",
      "Applying strategy: migrate_exchanges\n",
      "Applying strategy: migrate_datasets\n",
      "Applying strategy: migrate_exchanges\n",
      "Remove uncertainty data.\n",
      "Extracted 1 worksheets in 0.01 seconds\n",
      "Applying strategy: migrate_datasets\n",
      "Applying strategy: migrate_exchanges\n",
      "Remove uncertainty data.\n",
      "Extracted 1 worksheets in 0.03 seconds\n",
      "Applying strategy: migrate_datasets\n",
      "Applying strategy: migrate_exchanges\n",
      "Remove uncertainty data.\n",
      "Extracted 1 worksheets in 0.03 seconds\n",
      "Migrating to 3.8 first\n",
      "Applying strategy: migrate_datasets\n",
      "Applying strategy: migrate_exchanges\n",
      "Applying strategy: migrate_datasets\n",
      "Applying strategy: migrate_exchanges\n",
      "Applying strategy: migrate_datasets\n",
      "Applying strategy: migrate_exchanges\n",
      "Remove uncertainty data.\n",
      "The following datasets to import already exist in the source database. They will not be imported\n",
      "+--------------------------------+--------------------------------+----------+--------------------------------+\n",
      "|              Name              |       Reference product        | Location |              File              |\n",
      "+--------------------------------+--------------------------------+----------+--------------------------------+\n",
      "| methanol production facility,  | methanol production facility,  |   RER    | lci-synfuels-from-methanol-fro |\n",
      "+--------------------------------+--------------------------------+----------+--------------------------------+\n",
      "Extracted 1 worksheets in 0.03 seconds\n",
      "Applying strategy: migrate_datasets\n",
      "Applying strategy: migrate_exchanges\n",
      "Remove uncertainty data.\n",
      "Extracted 1 worksheets in 0.01 seconds\n",
      "Migrating to 3.8 first\n",
      "Applying strategy: migrate_datasets\n",
      "Applying strategy: migrate_exchanges\n",
      "Applying strategy: migrate_datasets\n",
      "Applying strategy: migrate_exchanges\n",
      "Applying strategy: migrate_datasets\n",
      "Applying strategy: migrate_exchanges\n",
      "Remove uncertainty data.\n",
      "Extracted 5 worksheets in 0.23 seconds\n",
      "Migrating to 3.8 first\n",
      "Applying strategy: migrate_datasets\n",
      "Applying strategy: migrate_exchanges\n",
      "Applying strategy: migrate_datasets\n",
      "Applying strategy: migrate_exchanges\n",
      "Applying strategy: migrate_datasets\n",
      "Applying strategy: migrate_exchanges\n",
      "Remove uncertainty data.\n",
      "Extracted 1 worksheets in 0.03 seconds\n",
      "Migrating to 3.8 first\n",
      "Applying strategy: migrate_datasets\n",
      "Applying strategy: migrate_exchanges\n",
      "Applying strategy: migrate_datasets\n",
      "Applying strategy: migrate_exchanges\n",
      "Applying strategy: migrate_datasets\n",
      "Applying strategy: migrate_exchanges\n",
      "Remove uncertainty data.\n",
      "Extracted 1 worksheets in 0.02 seconds\n",
      "Migrating to 3.8 first\n",
      "Applying strategy: migrate_datasets\n",
      "Applying strategy: migrate_exchanges\n",
      "Applying strategy: migrate_datasets\n",
      "Applying strategy: migrate_exchanges\n",
      "Applying strategy: migrate_datasets\n",
      "Applying strategy: migrate_exchanges\n",
      "Remove uncertainty data.\n",
      "Extracted 1 worksheets in 0.02 seconds\n",
      "Migrating to 3.8 first\n",
      "Applying strategy: migrate_datasets\n",
      "Applying strategy: migrate_exchanges\n",
      "Applying strategy: migrate_datasets\n",
      "Applying strategy: migrate_exchanges\n",
      "Applying strategy: migrate_datasets\n",
      "Applying strategy: migrate_exchanges\n",
      "Remove uncertainty data.\n",
      "Extracted 1 worksheets in 0.02 seconds\n",
      "Migrating to 3.8 first\n",
      "Applying strategy: migrate_datasets\n",
      "Applying strategy: migrate_exchanges\n",
      "Applying strategy: migrate_datasets\n",
      "Applying strategy: migrate_exchanges\n",
      "Applying strategy: migrate_datasets\n",
      "Applying strategy: migrate_exchanges\n",
      "Remove uncertainty data.\n",
      "Extracted 1 worksheets in 0.02 seconds\n",
      "Migrating to 3.8 first\n",
      "Applying strategy: migrate_datasets\n",
      "Applying strategy: migrate_exchanges\n",
      "Applying strategy: migrate_datasets\n",
      "Applying strategy: migrate_exchanges\n",
      "Applying strategy: migrate_datasets\n",
      "Applying strategy: migrate_exchanges\n",
      "Remove uncertainty data.\n",
      "Extracted 1 worksheets in 0.03 seconds\n",
      "Migrating to 3.8 first\n",
      "Applying strategy: migrate_datasets\n",
      "Applying strategy: migrate_exchanges\n",
      "Applying strategy: migrate_datasets\n",
      "Applying strategy: migrate_exchanges\n",
      "Applying strategy: migrate_datasets\n",
      "Applying strategy: migrate_exchanges\n",
      "Remove uncertainty data.\n",
      "Extracted 1 worksheets in 0.05 seconds\n",
      "Migrating to 3.8 first\n",
      "Applying strategy: migrate_datasets\n",
      "Applying strategy: migrate_exchanges\n",
      "Applying strategy: migrate_datasets\n",
      "Applying strategy: migrate_exchanges\n",
      "Applying strategy: migrate_datasets\n",
      "Applying strategy: migrate_exchanges\n",
      "Remove uncertainty data.\n",
      "Extracted 1 worksheets in 0.00 seconds\n",
      "Applying strategy: migrate_datasets\n",
      "Applying strategy: migrate_exchanges\n",
      "Remove uncertainty data.\n",
      "Extracted 1 worksheets in 0.12 seconds\n",
      "Applying strategy: migrate_datasets\n",
      "Applying strategy: migrate_exchanges\n",
      "Remove uncertainty data.\n",
      "Extracted 1 worksheets in 0.01 seconds\n",
      "Applying strategy: migrate_datasets\n",
      "Applying strategy: migrate_exchanges\n",
      "Remove uncertainty data.\n",
      "Extracted 1 worksheets in 0.02 seconds\n",
      "Applying strategy: migrate_datasets\n",
      "Applying strategy: migrate_exchanges\n",
      "Remove uncertainty data.\n",
      "Extracted 1 worksheets in 0.02 seconds\n",
      "Remove uncertainty data.\n",
      "Extracted 1 worksheets in 0.01 seconds\n",
      "Applying strategy: migrate_datasets\n",
      "Applying strategy: migrate_exchanges\n",
      "Remove uncertainty data.\n",
      "Extracted 1 worksheets in 0.02 seconds\n",
      "Applying strategy: migrate_datasets\n",
      "Applying strategy: migrate_exchanges\n",
      "Remove uncertainty data.\n",
      "Extracted 1 worksheets in 0.00 seconds\n",
      "Applying strategy: migrate_datasets\n",
      "Applying strategy: migrate_exchanges\n",
      "Remove uncertainty data.\n",
      "Extracted 1 worksheets in 0.07 seconds\n",
      "Applying strategy: migrate_datasets\n",
      "Applying strategy: migrate_exchanges\n",
      "Remove uncertainty data.\n",
      "Extracted 1 worksheets in 0.03 seconds\n",
      "Applying strategy: migrate_datasets\n",
      "Applying strategy: migrate_exchanges\n",
      "Remove uncertainty data.\n",
      "Extracted 19 worksheets in 0.53 seconds\n",
      "Migrating to 3.8 first\n",
      "Applying strategy: migrate_datasets\n",
      "Applying strategy: migrate_exchanges\n",
      "Applying strategy: migrate_datasets\n",
      "Applying strategy: migrate_exchanges\n",
      "Applying strategy: migrate_datasets\n",
      "Applying strategy: migrate_exchanges\n",
      "Remove uncertainty data.\n",
      "Extracted 1 worksheets in 0.35 seconds\n",
      "Migrating to 3.8 first\n",
      "Applying strategy: migrate_datasets\n",
      "Applying strategy: migrate_exchanges\n",
      "Applying strategy: migrate_datasets\n",
      "Applying strategy: migrate_exchanges\n",
      "Applying strategy: migrate_datasets\n",
      "Applying strategy: migrate_exchanges\n",
      "Remove uncertainty data.\n",
      "Extracted 1 worksheets in 0.27 seconds\n",
      "Migrating to 3.8 first\n",
      "Applying strategy: migrate_datasets\n",
      "Applying strategy: migrate_exchanges\n",
      "Applying strategy: migrate_datasets\n",
      "Applying strategy: migrate_exchanges\n",
      "Applying strategy: migrate_datasets\n",
      "Applying strategy: migrate_exchanges\n",
      "Remove uncertainty data.\n",
      "Extracted 1 worksheets in 1.44 seconds\n",
      "Migrating to 3.8 first\n",
      "Applying strategy: migrate_datasets\n",
      "Applying strategy: migrate_exchanges\n",
      "Applying strategy: migrate_datasets\n",
      "Applying strategy: migrate_exchanges\n",
      "Applying strategy: migrate_datasets\n",
      "Applying strategy: migrate_exchanges\n",
      "Remove uncertainty data.\n",
      "Extracted 1 worksheets in 0.05 seconds\n",
      "Applying strategy: migrate_datasets\n",
      "Applying strategy: migrate_exchanges\n",
      "Remove uncertainty data.\n",
      "Extracted 1 worksheets in 0.02 seconds\n",
      "Remove uncertainty data.\n",
      "Extracted 1 worksheets in 0.04 seconds\n",
      "Remove uncertainty data.\n",
      "Extracted 1 worksheets in 0.00 seconds\n",
      "Remove uncertainty data.\n",
      "Extracted 1 worksheets in 0.02 seconds\n",
      "Remove uncertainty data.\n",
      "Extracted 1 worksheets in 0.02 seconds\n",
      "Remove uncertainty data.\n",
      "Data cached. It is advised to restart your workflow at this point.\n",
      "This allows premise to use the cached data instead, which results in\n",
      "a faster workflow.\n",
      "- Fetching IAM data\n",
      "Done!\n"
     ]
    }
   ],
   "execution_count": 15
  },
  {
   "metadata": {
    "ExecuteTime": {
     "end_time": "2025-03-04T16:05:23.585803Z",
     "start_time": "2025-03-04T15:47:30.962310Z"
    }
   },
   "cell_type": "code",
   "source": [
    "# Update the database with IAM data\n",
    "ndb.update()"
   ],
   "id": "7f6eb308bb944b9c",
   "outputs": [
    {
     "name": "stderr",
     "output_type": "stream",
     "text": [
      "Processing scenarios for all sectors: 100%|█| 2/2 [17:52<00:00, 536.29"
     ]
    },
    {
     "name": "stdout",
     "output_type": "stream",
     "text": [
      "Done!\n",
      "\n"
     ]
    },
    {
     "name": "stderr",
     "output_type": "stream",
     "text": [
      "\n"
     ]
    }
   ],
   "execution_count": 16
  },
  {
   "metadata": {
    "ExecuteTime": {
     "end_time": "2025-03-04T16:24:33.131423Z",
     "start_time": "2025-03-04T16:05:23.590814Z"
    }
   },
   "cell_type": "code",
   "source": [
    "# Write the database in your brightway project\n",
    "ndb.write_db_to_brightway(name=[f'ecoinvent_cutoff_{ei_version}_{model}_{pathway}_{year}' for year in years])"
   ],
   "id": "8eaa607538e81d37",
   "outputs": [
    {
     "name": "stdout",
     "output_type": "stream",
     "text": [
      "Write new database(s) to Brightway.\n",
      "Running all checks...\n",
      "Minor anomalies found: check the change report.\n",
      "Database ecoinvent_cutoff_3.10.1_image_SSP2-Base_2020 already exists: it will be overwritten.\n",
      "Vacuuming database \n"
     ]
    },
    {
     "name": "stderr",
     "output_type": "stream",
     "text": [
      "Writing activities to SQLite3 database:\n",
      "0% [##############################] 100% | ETA: 00:00:00\n",
      "Total time elapsed: 00:02:20\n"
     ]
    },
    {
     "name": "stdout",
     "output_type": "stream",
     "text": [
      "Title: Writing activities to SQLite3 database:\n",
      "  Started: 03/04/2025 11:14:15\n",
      "  Finished: 03/04/2025 11:16:35\n",
      "  Total time elapsed: 00:02:20\n",
      "  CPU %: 81.70\n",
      "  Memory %: 30.97\n",
      "Created database: ecoinvent_cutoff_3.10.1_image_SSP2-Base_2020\n",
      "Running all checks...\n",
      "Minor anomalies found: check the change report.\n"
     ]
    },
    {
     "name": "stderr",
     "output_type": "stream",
     "text": [
      "Writing activities to SQLite3 database:\n",
      "0% [##############################] 100% | ETA: 00:00:00\n",
      "Total time elapsed: 00:00:47\n"
     ]
    },
    {
     "name": "stdout",
     "output_type": "stream",
     "text": [
      "Title: Writing activities to SQLite3 database:\n",
      "  Started: 03/04/2025 11:20:30\n",
      "  Finished: 03/04/2025 11:21:18\n",
      "  Total time elapsed: 00:00:47\n",
      "  CPU %: 97.70\n",
      "  Memory %: 32.86\n",
      "Created database: ecoinvent_cutoff_3.10.1_image_SSP2-Base_2050\n",
      "Generate scenario report.\n",
      "Report saved under C:\\Users\\matth\\PycharmProjects\\energyscope-lca\\01_Notebooks\\export\\scenario_report.\n",
      "Generate change report.\n",
      "Report saved under C:\\Users\\matth\\PycharmProjects\\energyscope-lca\\01_Notebooks.\n"
     ]
    }
   ],
   "execution_count": 17
  },
  {
   "metadata": {},
   "cell_type": "markdown",
   "source": "## Minor corrections to premise databases using mescal ",
   "id": "f8ceb8e5cd590e18"
  },
  {
   "metadata": {
    "ExecuteTime": {
     "end_time": "2025-03-04T16:24:34.078698Z",
     "start_time": "2025-03-04T16:24:33.132436Z"
    }
   },
   "cell_type": "code",
   "source": [
    "for year in years:\n",
    "    remove_quebec_flow_in_global_heat_market(\n",
    "        db_name=f'ecoinvent_cutoff_{ei_version}_{model}_{pathway}_{year}',\n",
    "        activity_name='market group for heat, district or industrial, other than natural gas'\n",
    "    ) # Remove the Quebec heat flow in the global heat market activity"
   ],
   "id": "e36f56fa5b222f2d",
   "outputs": [],
   "execution_count": 18
  },
  {
   "metadata": {
    "ExecuteTime": {
     "end_time": "2025-03-04T16:35:02.264199Z",
     "start_time": "2025-03-04T16:34:41.857466Z"
    }
   },
   "cell_type": "code",
   "source": [
    "for year in years:\n",
    "    activity_name = 'farming and supply of corn'\n",
    "    activities_to_change = [i for i in bd.Database(f'ecoinvent_cutoff_{ei_version}_{model}_{pathway}_{year}').search(activity_name, limit=1000) if i['name'] == activity_name] # for all locations\n",
    "    flow_to_change = [i for i in bd.Database(biosphere_name).search('Water, unspecified natural origin') if \n",
    "                      (i['name'] == 'Water, unspecified natural origin')\n",
    "                      & (i['categories'] == ('natural resource', 'in water'))\n",
    "                      ][0]\n",
    "    flow_to_change_code = flow_to_change['code']\n",
    "    for act in activities_to_change:\n",
    "        change_flow_value(\n",
    "            activity_code=act['code'],\n",
    "            flow_code=flow_to_change_code,\n",
    "            database_name=f'ecoinvent_cutoff_{ei_version}_{model}_{pathway}_{year}',\n",
    "            new_value=1.222,\n",
    "            flow_type='biosphere',\n",
    "        )"
   ],
   "id": "200138ff64455121",
   "outputs": [],
   "execution_count": 20
  },
  {
   "metadata": {},
   "cell_type": "markdown",
   "source": "## Import carculator_truck databases",
   "id": "8fb04832e79933fb"
  },
  {
   "metadata": {
    "ExecuteTime": {
     "end_time": "2025-03-04T16:40:12.584574Z",
     "start_time": "2025-03-04T16:40:12.568542Z"
    }
   },
   "cell_type": "code",
   "source": [
    "def create_truck_database(cycle, year):\n",
    "    tip = TruckInputParameters()\n",
    "    tip.static()\n",
    "    dcts, array = fill_xarray_from_input_parameters(tip, scope={\"year\":[year]})\n",
    "    tm = TruckModel(array, cycle=cycle)\n",
    "    tm.set_all()\n",
    "    ic = InventoryTruck(tm)\n",
    "    \n",
    "    i = ic.export_lci(\n",
    "        software=\"brightway2\",\n",
    "        ecoinvent_version=ei_version_premise,\n",
    "        format=\"bw2io\",\n",
    "        filename=cycle.lower(),\n",
    "    )\n",
    "    \n",
    "    i.apply_strategies()\n",
    "\n",
    "    i.match_database(fields=[\"name\", \"unit\", \"location\"])\n",
    "    i.match_database(ei_db_name,  fields=[\"reference product\", \"name\", \"unit\", \"location\"])\n",
    "    i.match_database(biosphere_name,  fields=[\"name\", \"unit\", \"categories\"])\n",
    "\n",
    "    i.statistics()\n",
    "    \n",
    "    i.drop_unlinked(i_am_reckless=True)  # remove noise elementary flows (not characterized)\n",
    "\n",
    "    if cycle.lower() + f\"_truck_{datetime.now().strftime('%Y%m%d')}_{year}\" in bd.databases:\n",
    "        del bd.databases[cycle.lower() + f\"_truck_{datetime.now().strftime('%Y%m%d')}_{year}\"]\n",
    "    \n",
    "    i.write_database()"
   ],
   "id": "6fa594aed8bd3fb7",
   "outputs": [],
   "execution_count": 23
  },
  {
   "metadata": {
    "ExecuteTime": {
     "end_time": "2025-03-04T16:46:42.785007Z",
     "start_time": "2025-03-04T16:40:13.684993Z"
    }
   },
   "cell_type": "code",
   "source": [
    "for year in years:\n",
    "    create_truck_database(cycle='Urban delivery', year=year) # 150 km \n",
    "    create_truck_database(cycle='Regional delivery', year=year) # 400 km "
   ],
   "id": "10c4a0714f3d0274",
   "outputs": [
    {
     "name": "stdout",
     "output_type": "stream",
     "text": [
      "Finding solutions for trucks...\n",
      "Urban delivery driving cycle is selected. \n",
      "Vehicles will be designed to achieve a minimal range of 150 km.\n",
      "\n",
      "\n",
      "'-' vehicle with driving mass superior to the permissible gross weight.\n",
      "'/' vehicle not available for the specified year.\n",
      "+-------------------+-----+-----+------+-----+-----+------+------+\n",
      "| Payload (in tons) | 18t | 26t | 3.5t | 32t | 40t | 60t  | 7.5t |\n",
      "+-------------------+-----+-----+------+-----+-----+------+------+\n",
      "|     BEV, 2020     | 2.7 | 6.3 | 0.8  | 8.8 | 8.8 | 16.4 | 1.8  |\n",
      "|     FCEV, 2020    | 2.7 | 6.3 | 0.8  | 8.8 | 8.8 | 16.4 | 1.8  |\n",
      "|    HEV-d, 2020    | 2.7 | 6.3 | 0.8  | 8.8 | 8.8 | 16.4 | 1.8  |\n",
      "|    ICEV-d, 2020   | 2.7 | 6.3 | 0.8  | 8.8 | 8.8 | 16.4 | 1.8  |\n",
      "|    ICEV-g, 2020   | 2.7 | 6.3 | 0.8  | 8.8 | 8.8 | 16.4 | 1.8  |\n",
      "|    PHEV-d, 2020   | 2.7 | 6.3 | 0.8  | 8.8 | 8.8 | 16.4 | 1.8  |\n",
      "+-------------------+-----+-----+------+-----+-----+------+------+\n",
      "****************** IMPORTANT BACKGROUND PARAMETERS ******************\n",
      " * The functional unit is: vkm.\n",
      " * The background prospective scenario is: SSP2-NPi.\n",
      " * The country of use is: CH.\n",
      " * Power and energy batteries produced in CN using ['NMC-622'] chemistry/ies\n",
      "\t * between 2020 and 2030, % of non-hydro renew.: 13, hydro: 61, nuclear: 20.\n",
      "hydrogen - smr - natural gas is completed by hydrogen - electrolysis - PEM.\n",
      " \t * in 2020 _________________________________________ 1.0%\n",
      " * methane is completed by methane - biomethane - sewage sludge.\n",
      " \t * in 2020 _________________________________________ 22.0%\n",
      " * diesel is completed by diesel - biodiesel - cooking oil.\n",
      " \t * in 2020 _________________________________________ 5.0%\n",
      " * *********************************************************************\n"
     ]
    },
    {
     "name": "stderr",
     "output_type": "stream",
     "text": [
      "0% [##############################] 100% | ETA: 00:00:00 | Item ID: 1801\n",
      "Total time elapsed: 00:00:01\n"
     ]
    },
    {
     "name": "stdout",
     "output_type": "stream",
     "text": [
      "Applying strategy: normalize_units\n",
      "Applying strategy: drop_unspecified_subcategories\n",
      "Applying strategy: assign_only_product_as_production\n",
      "Applying strategy: strip_biosphere_exc_locations\n",
      "Applied 4 strategies in 0.01 seconds\n",
      "Applying strategy: link_iterable_by_fields\n",
      "Applying strategy: link_iterable_by_fields\n",
      "Applying strategy: link_iterable_by_fields\n",
      "537 datasets\n",
      "8651 exchanges\n",
      "1008 unlinked exchanges\n",
      "  Type biosphere: 24 unique unlinked exchanges\n",
      "Applying strategy: drop_unlinked\n",
      "Applied 1 strategies in 0.00 seconds\n"
     ]
    },
    {
     "name": "stderr",
     "output_type": "stream",
     "text": [
      "Writing activities to SQLite3 database:\n",
      "0% [##############################] 100% | ETA: 00:00:00\n",
      "Total time elapsed: 00:00:00\n"
     ]
    },
    {
     "name": "stdout",
     "output_type": "stream",
     "text": [
      "Title: Writing activities to SQLite3 database:\n",
      "  Started: 03/04/2025 11:40:48\n",
      "  Finished: 03/04/2025 11:40:49\n",
      "  Total time elapsed: 00:00:00\n",
      "  CPU %: 96.70\n",
      "  Memory %: 4.54\n",
      "Created database: urban delivery_truck_20250304_2020\n",
      "Finding solutions for trucks...\n",
      "Regional delivery driving cycle is selected. \n",
      "Vehicles will be designed to achieve a minimal range of 400 km.\n",
      "\n",
      "\n",
      "'-' vehicle with driving mass superior to the permissible gross weight.\n",
      "'/' vehicle not available for the specified year.\n",
      "+-------------------+-----+-----+------+------+------+------+------+\n",
      "| Payload (in tons) | 18t | 26t | 3.5t | 32t  | 40t  | 60t  | 7.5t |\n",
      "+-------------------+-----+-----+------+------+------+------+------+\n",
      "|     BEV, 2020     | 3.2 | 6.3 | 0.8  | 10.3 | 10.3 | 19.3 | 1.8  |\n",
      "|     FCEV, 2020    | 3.2 | 6.3 | 0.8  | 10.3 | 10.3 | 19.3 | 1.8  |\n",
      "|    HEV-d, 2020    | 3.2 | 6.3 | 0.8  | 10.3 | 10.3 | 19.3 | 1.8  |\n",
      "|    ICEV-d, 2020   | 3.2 | 6.3 | 0.8  | 10.3 | 10.3 | 19.3 | 1.8  |\n",
      "|    ICEV-g, 2020   | 3.2 | 6.3 | 0.8  | 10.3 | 10.3 | 19.3 | 1.8  |\n",
      "|    PHEV-d, 2020   | 3.2 | 6.3 | 0.8  | 10.3 | 10.3 | 19.3 | 1.8  |\n",
      "+-------------------+-----+-----+------+------+------+------+------+\n",
      "****************** IMPORTANT BACKGROUND PARAMETERS ******************\n",
      " * The functional unit is: vkm.\n",
      " * The background prospective scenario is: SSP2-NPi.\n",
      " * The country of use is: CH.\n",
      " * Power and energy batteries produced in CN using ['NMC-622'] chemistry/ies\n",
      "\t * between 2020 and 2029, % of non-hydro renew.: 12, hydro: 61, nuclear: 20.\n",
      "hydrogen - smr - natural gas is completed by hydrogen - electrolysis - PEM.\n",
      " \t * in 2020 _________________________________________ 1.0%\n",
      " * methane is completed by methane - biomethane - sewage sludge.\n",
      " \t * in 2020 _________________________________________ 22.0%\n",
      " * diesel is completed by diesel - biodiesel - cooking oil.\n",
      " \t * in 2020 _________________________________________ 5.0%\n",
      " * *********************************************************************\n"
     ]
    },
    {
     "name": "stderr",
     "output_type": "stream",
     "text": [
      "0% [##############################] 100% | ETA: 00:00:00 | Item ID: 1801\n",
      "Total time elapsed: 00:00:01\n"
     ]
    },
    {
     "name": "stdout",
     "output_type": "stream",
     "text": [
      "Applying strategy: normalize_units\n",
      "Applying strategy: drop_unspecified_subcategories\n",
      "Applying strategy: assign_only_product_as_production\n",
      "Applying strategy: strip_biosphere_exc_locations\n",
      "Applied 4 strategies in 0.01 seconds\n",
      "Applying strategy: link_iterable_by_fields\n",
      "Applying strategy: link_iterable_by_fields\n",
      "Applying strategy: link_iterable_by_fields\n",
      "537 datasets\n",
      "8651 exchanges\n",
      "1008 unlinked exchanges\n",
      "  Type biosphere: 24 unique unlinked exchanges\n",
      "Applying strategy: drop_unlinked\n",
      "Applied 1 strategies in 0.00 seconds\n"
     ]
    },
    {
     "name": "stderr",
     "output_type": "stream",
     "text": [
      "Writing activities to SQLite3 database:\n",
      "0% [##############################] 100% | ETA: 00:00:00\n",
      "Total time elapsed: 00:00:00\n"
     ]
    },
    {
     "name": "stdout",
     "output_type": "stream",
     "text": [
      "Title: Writing activities to SQLite3 database:\n",
      "  Started: 03/04/2025 11:42:55\n",
      "  Finished: 03/04/2025 11:42:56\n",
      "  Total time elapsed: 00:00:00\n",
      "  CPU %: 91.70\n",
      "  Memory %: 27.23\n",
      "Created database: regional delivery_truck_20250304_2020\n",
      "Finding solutions for trucks...\n",
      "Urban delivery driving cycle is selected. \n",
      "Vehicles will be designed to achieve a minimal range of 150 km.\n",
      "\n",
      "\n",
      "'-' vehicle with driving mass superior to the permissible gross weight.\n",
      "'/' vehicle not available for the specified year.\n",
      "+-------------------+-----+-----+------+-----+-----+------+------+\n",
      "| Payload (in tons) | 18t | 26t | 3.5t | 32t | 40t | 60t  | 7.5t |\n",
      "+-------------------+-----+-----+------+-----+-----+------+------+\n",
      "|     BEV, 2050     | 2.7 | 6.3 | 0.8  | 8.8 | 8.8 | 16.4 | 1.8  |\n",
      "|     FCEV, 2050    | 2.7 | 6.3 | 0.8  | 8.8 | 8.8 | 16.4 | 1.8  |\n",
      "|    HEV-d, 2050    | 2.7 | 6.3 | 0.8  | 8.8 | 8.8 | 16.4 | 1.8  |\n",
      "|    ICEV-d, 2050   | 2.7 | 6.3 | 0.8  | 8.8 | 8.8 | 16.4 | 1.8  |\n",
      "|    ICEV-g, 2050   | 2.7 | 6.3 | 0.8  | 8.8 | 8.8 | 16.4 | 1.8  |\n",
      "|    PHEV-d, 2050   | 2.7 | 6.3 | 0.8  | 8.8 | 8.8 | 16.4 | 1.8  |\n",
      "+-------------------+-----+-----+------+-----+-----+------+------+\n",
      "****************** IMPORTANT BACKGROUND PARAMETERS ******************\n",
      " * The functional unit is: vkm.\n",
      " * The background prospective scenario is: SSP2-NPi.\n",
      " * The country of use is: CH.\n",
      " * Power and energy batteries produced in CN using ['NMC-955'] chemistry/ies\n",
      "\t * between 2050 and 2060, % of non-hydro renew.: 33, hydro: 54, nuclear: 1.\n",
      "hydrogen - smr - natural gas is completed by hydrogen - electrolysis - PEM.\n",
      " \t * in 2050 _________________________________________ 1.0%\n",
      " * methane is completed by methane - biomethane - sewage sludge.\n",
      " \t * in 2050 _________________________________________ 22.0%\n",
      " * diesel is completed by diesel - biodiesel - cooking oil.\n",
      " \t * in 2050 _________________________________________ 5.0%\n",
      " * *********************************************************************\n"
     ]
    },
    {
     "name": "stderr",
     "output_type": "stream",
     "text": [
      "0% [##############################] 100% | ETA: 00:00:00 | Item ID: 1801\n",
      "Total time elapsed: 00:00:01\n"
     ]
    },
    {
     "name": "stdout",
     "output_type": "stream",
     "text": [
      "Applying strategy: normalize_units\n",
      "Applying strategy: drop_unspecified_subcategories\n",
      "Applying strategy: assign_only_product_as_production\n",
      "Applying strategy: strip_biosphere_exc_locations\n",
      "Applied 4 strategies in 0.00 seconds\n",
      "Applying strategy: link_iterable_by_fields\n",
      "Applying strategy: link_iterable_by_fields\n",
      "Applying strategy: link_iterable_by_fields\n",
      "537 datasets\n",
      "8590 exchanges\n",
      "1008 unlinked exchanges\n",
      "  Type biosphere: 24 unique unlinked exchanges\n",
      "Applying strategy: drop_unlinked\n",
      "Applied 1 strategies in 0.00 seconds\n"
     ]
    },
    {
     "name": "stderr",
     "output_type": "stream",
     "text": [
      "Writing activities to SQLite3 database:\n",
      "0% [##############################] 100% | ETA: 00:00:00\n",
      "Total time elapsed: 00:00:00\n"
     ]
    },
    {
     "name": "stdout",
     "output_type": "stream",
     "text": [
      "Title: Writing activities to SQLite3 database:\n",
      "  Started: 03/04/2025 11:44:10\n",
      "  Finished: 03/04/2025 11:44:11\n",
      "  Total time elapsed: 00:00:00\n",
      "  CPU %: 81.90\n",
      "  Memory %: 27.70\n",
      "Created database: urban delivery_truck_20250304_2050\n",
      "Finding solutions for trucks...\n",
      "Regional delivery driving cycle is selected. \n",
      "Vehicles will be designed to achieve a minimal range of 400 km.\n",
      "\n",
      "\n",
      "'-' vehicle with driving mass superior to the permissible gross weight.\n",
      "'/' vehicle not available for the specified year.\n",
      "+-------------------+-----+-----+------+------+------+------+------+\n",
      "| Payload (in tons) | 18t | 26t | 3.5t | 32t  | 40t  | 60t  | 7.5t |\n",
      "+-------------------+-----+-----+------+------+------+------+------+\n",
      "|     BEV, 2050     | 3.2 | 6.3 | 0.8  | 10.3 | 10.3 | 19.3 | 1.8  |\n",
      "|     FCEV, 2050    | 3.2 | 6.3 | 0.8  | 10.3 | 10.3 | 19.3 | 1.8  |\n",
      "|    HEV-d, 2050    | 3.2 | 6.3 | 0.8  | 10.3 | 10.3 | 19.3 | 1.8  |\n",
      "|    ICEV-d, 2050   | 3.2 | 6.3 | 0.8  | 10.3 | 10.3 | 19.3 | 1.8  |\n",
      "|    ICEV-g, 2050   | 3.2 | 6.3 | 0.8  | 10.3 | 10.3 | 19.3 | 1.8  |\n",
      "|    PHEV-d, 2050   | 3.2 | 6.3 | 0.8  | 10.3 | 10.3 | 19.3 | 1.7  |\n",
      "+-------------------+-----+-----+------+------+------+------+------+\n",
      "****************** IMPORTANT BACKGROUND PARAMETERS ******************\n",
      " * The functional unit is: vkm.\n",
      " * The background prospective scenario is: SSP2-NPi.\n",
      " * The country of use is: CH.\n",
      " * Power and energy batteries produced in CN using ['NMC-955'] chemistry/ies\n",
      "\t * between 2050 and 2059, % of non-hydro renew.: 33, hydro: 54, nuclear: 1.\n",
      "hydrogen - smr - natural gas is completed by hydrogen - electrolysis - PEM.\n",
      " \t * in 2050 _________________________________________ 1.0%\n",
      " * methane is completed by methane - biomethane - sewage sludge.\n",
      " \t * in 2050 _________________________________________ 22.0%\n",
      " * diesel is completed by diesel - biodiesel - cooking oil.\n",
      " \t * in 2050 _________________________________________ 5.0%\n",
      " * *********************************************************************\n"
     ]
    },
    {
     "name": "stderr",
     "output_type": "stream",
     "text": [
      "0% [##############################] 100% | ETA: 00:00:00 | Item ID: 1801\n",
      "Total time elapsed: 00:00:02\n"
     ]
    },
    {
     "name": "stdout",
     "output_type": "stream",
     "text": [
      "Applying strategy: normalize_units\n",
      "Applying strategy: drop_unspecified_subcategories\n",
      "Applying strategy: assign_only_product_as_production\n",
      "Applying strategy: strip_biosphere_exc_locations\n",
      "Applied 4 strategies in 0.01 seconds\n",
      "Applying strategy: link_iterable_by_fields\n",
      "Applying strategy: link_iterable_by_fields\n",
      "Applying strategy: link_iterable_by_fields\n",
      "537 datasets\n",
      "8590 exchanges\n",
      "1008 unlinked exchanges\n",
      "  Type biosphere: 24 unique unlinked exchanges\n",
      "Applying strategy: drop_unlinked\n",
      "Applied 1 strategies in 0.00 seconds\n"
     ]
    },
    {
     "name": "stderr",
     "output_type": "stream",
     "text": [
      "Writing activities to SQLite3 database:\n",
      "0% [##############################] 100% | ETA: 00:00:00\n",
      "Total time elapsed: 00:00:00\n"
     ]
    },
    {
     "name": "stdout",
     "output_type": "stream",
     "text": [
      "Title: Writing activities to SQLite3 database:\n",
      "  Started: 03/04/2025 11:45:43\n",
      "  Finished: 03/04/2025 11:45:44\n",
      "  Total time elapsed: 00:00:00\n",
      "  CPU %: 91.80\n",
      "  Memory %: 24.36\n",
      "Created database: regional delivery_truck_20250304_2050\n"
     ]
    }
   ],
   "execution_count": 24
  },
  {
   "metadata": {},
   "cell_type": "markdown",
   "source": "## Minor changes in naming to the carculator_truck databases",
   "id": "41c95740de392bd6"
  },
  {
   "metadata": {
    "ExecuteTime": {
     "end_time": "2025-03-04T16:46:42.838089Z",
     "start_time": "2025-03-04T16:46:42.806741Z"
    }
   },
   "cell_type": "code",
   "source": [
    "def rename_truck_activities(cycle, year):\n",
    "    db = bd.Database(f\"{cycle.lower()}_truck_{datetime.now().strftime('%Y%m%d')}_{year}\")\n",
    "    db_list = [a for a in db]\n",
    "    for act in db_list:\n",
    "        if act.as_dict()['name'].startswith('transport, truck') or act.as_dict()['name'].startswith('truck,'):\n",
    "            act.as_dict()['name'] += f', {cycle.lower()}'\n",
    "        act.save()"
   ],
   "id": "a6ccc1c78b248852",
   "outputs": [],
   "execution_count": 25
  },
  {
   "metadata": {
    "ExecuteTime": {
     "end_time": "2025-03-04T16:51:56.913761Z",
     "start_time": "2025-03-04T16:46:42.840099Z"
    }
   },
   "cell_type": "code",
   "source": [
    "for year in years:\n",
    "    rename_truck_activities(cycle='Regional delivery', year=year)\n",
    "    rename_truck_activities(cycle='Urban delivery', year=year)"
   ],
   "id": "578a7ee578512a5f",
   "outputs": [],
   "execution_count": 26
  },
  {
   "metadata": {},
   "cell_type": "markdown",
   "source": "## Merge the premise and carculator_truck databases into a single database",
   "id": "17983af62bb363f5"
  },
  {
   "metadata": {
    "ExecuteTime": {
     "end_time": "2025-03-04T17:25:40.703878Z",
     "start_time": "2025-03-04T16:51:56.917246Z"
    }
   },
   "cell_type": "code",
   "source": [
    "for year in years:\n",
    "    main_db = Database(f'ecoinvent_cutoff_{ei_version}_{model}_{pathway}_{year}')\n",
    "    carculator_truck_urban_db = Database(f\"urban delivery_truck_{datetime.now().strftime('%Y%m%d')}_{year}\")\n",
    "    carculator_truck_regional_db = Database(f\"regional delivery_truck_{datetime.now().strftime('%Y%m%d')}_{year}\")\n",
    "    \n",
    "    db = main_db + carculator_truck_urban_db + carculator_truck_regional_db  # concatenation of the database (the lists of dictionaries are simply added up)\n",
    "    \n",
    "    db.merge(\n",
    "        main_ecoinvent_db_name=f'ecoinvent_cutoff_{ei_version}_{model}_{pathway}_{year}',\n",
    "        old_main_db_names=[f'ecoinvent-{ei_version}-cutoff'],\n",
    "        new_db_name=f'ecoinvent_cutoff_{ei_version}_{model}_{pathway}_{year}+truck_carculator',\n",
    "        write=True,\n",
    "        check_duplicates=True,\n",
    "    )  # performs relinking of secondary databases towards the main database, as well as elimination of duplicates "
   ],
   "id": "2e59a67828f8fff5",
   "outputs": [
    {
     "name": "stdout",
     "output_type": "stream",
     "text": [
      "Getting activity data\n"
     ]
    },
    {
     "name": "stderr",
     "output_type": "stream",
     "text": [
      "100%|██████████| 34821/34821 [00:00<00:00, 66764.03it/s]\n"
     ]
    },
    {
     "name": "stdout",
     "output_type": "stream",
     "text": [
      "Adding exchange data to activities\n"
     ]
    },
    {
     "name": "stderr",
     "output_type": "stream",
     "text": [
      "100%|██████████| 1001268/1001268 [01:49<00:00, 9140.94it/s] \n"
     ]
    },
    {
     "name": "stdout",
     "output_type": "stream",
     "text": [
      "Filling out exchange data\n"
     ]
    },
    {
     "name": "stderr",
     "output_type": "stream",
     "text": [
      "100%|██████████| 34821/34821 [00:07<00:00, 4631.49it/s]\n"
     ]
    },
    {
     "name": "stdout",
     "output_type": "stream",
     "text": [
      "Loaded ecoinvent_cutoff_3.10.1_image_SSP2-Base_2020 from brightway!\n",
      "Getting activity data\n"
     ]
    },
    {
     "name": "stderr",
     "output_type": "stream",
     "text": [
      "100%|██████████| 537/537 [00:00<00:00, 60499.64it/s]\n"
     ]
    },
    {
     "name": "stdout",
     "output_type": "stream",
     "text": [
      "Adding exchange data to activities\n"
     ]
    },
    {
     "name": "stderr",
     "output_type": "stream",
     "text": [
      "100%|██████████| 7643/7643 [00:00<00:00, 12671.15it/s]\n"
     ]
    },
    {
     "name": "stdout",
     "output_type": "stream",
     "text": [
      "Filling out exchange data\n"
     ]
    },
    {
     "name": "stderr",
     "output_type": "stream",
     "text": [
      "100%|██████████| 537/537 [00:01<00:00, 282.83it/s]\n"
     ]
    },
    {
     "name": "stdout",
     "output_type": "stream",
     "text": [
      "Loaded urban delivery_truck_20250304_2020 from brightway!\n",
      "Getting activity data\n"
     ]
    },
    {
     "name": "stderr",
     "output_type": "stream",
     "text": [
      "100%|██████████| 537/537 [00:00<00:00, 97117.16it/s]\n"
     ]
    },
    {
     "name": "stdout",
     "output_type": "stream",
     "text": [
      "Adding exchange data to activities\n"
     ]
    },
    {
     "name": "stderr",
     "output_type": "stream",
     "text": [
      "100%|██████████| 7643/7643 [00:00<00:00, 12860.04it/s]\n"
     ]
    },
    {
     "name": "stdout",
     "output_type": "stream",
     "text": [
      "Filling out exchange data\n"
     ]
    },
    {
     "name": "stderr",
     "output_type": "stream",
     "text": [
      "100%|██████████| 537/537 [00:01<00:00, 333.74it/s]\n"
     ]
    },
    {
     "name": "stdout",
     "output_type": "stream",
     "text": [
      "Loaded regional delivery_truck_20250304_2020 from brightway!\n"
     ]
    },
    {
     "name": "stderr",
     "output_type": "stream",
     "text": [
      "Writing activities to SQLite3 database:\n",
      "0% [##############################] 100% | ETA: 00:00:00\n",
      "Total time elapsed: 00:02:14\n"
     ]
    },
    {
     "name": "stdout",
     "output_type": "stream",
     "text": [
      "Title: Writing activities to SQLite3 database:\n",
      "  Started: 03/04/2025 12:00:50\n",
      "  Finished: 03/04/2025 12:03:05\n",
      "  Total time elapsed: 00:02:14\n",
      "  CPU %: 82.00\n",
      "  Memory %: 42.17\n",
      "ecoinvent_cutoff_3.10.1_image_SSP2-Base_2020+truck_carculator written to Brightway!\n",
      "Getting activity data\n"
     ]
    },
    {
     "name": "stderr",
     "output_type": "stream",
     "text": [
      "100%|██████████| 34821/34821 [00:00<00:00, 60945.50it/s]\n"
     ]
    },
    {
     "name": "stdout",
     "output_type": "stream",
     "text": [
      "Adding exchange data to activities\n"
     ]
    },
    {
     "name": "stderr",
     "output_type": "stream",
     "text": [
      "100%|██████████| 1002720/1002720 [02:36<00:00, 6408.98it/s] \n"
     ]
    },
    {
     "name": "stdout",
     "output_type": "stream",
     "text": [
      "Filling out exchange data\n"
     ]
    },
    {
     "name": "stderr",
     "output_type": "stream",
     "text": [
      "100%|██████████| 34821/34821 [00:07<00:00, 4546.33it/s]\n"
     ]
    },
    {
     "name": "stdout",
     "output_type": "stream",
     "text": [
      "Loaded ecoinvent_cutoff_3.10.1_image_SSP2-Base_2050 from brightway!\n",
      "Getting activity data\n"
     ]
    },
    {
     "name": "stderr",
     "output_type": "stream",
     "text": [
      "100%|██████████| 537/537 [00:00<00:00, 81553.38it/s]\n"
     ]
    },
    {
     "name": "stdout",
     "output_type": "stream",
     "text": [
      "Adding exchange data to activities\n"
     ]
    },
    {
     "name": "stderr",
     "output_type": "stream",
     "text": [
      "100%|██████████| 7582/7582 [00:18<00:00, 400.38it/s]\n"
     ]
    },
    {
     "name": "stdout",
     "output_type": "stream",
     "text": [
      "Filling out exchange data\n"
     ]
    },
    {
     "name": "stderr",
     "output_type": "stream",
     "text": [
      "100%|██████████| 537/537 [00:01<00:00, 321.66it/s]\n"
     ]
    },
    {
     "name": "stdout",
     "output_type": "stream",
     "text": [
      "Loaded urban delivery_truck_20250304_2050 from brightway!\n",
      "Getting activity data\n"
     ]
    },
    {
     "name": "stderr",
     "output_type": "stream",
     "text": [
      "100%|██████████| 537/537 [00:00<00:00, 33213.02it/s]\n"
     ]
    },
    {
     "name": "stdout",
     "output_type": "stream",
     "text": [
      "Adding exchange data to activities\n"
     ]
    },
    {
     "name": "stderr",
     "output_type": "stream",
     "text": [
      "100%|██████████| 7582/7582 [00:00<00:00, 15750.32it/s]\n"
     ]
    },
    {
     "name": "stdout",
     "output_type": "stream",
     "text": [
      "Filling out exchange data\n"
     ]
    },
    {
     "name": "stderr",
     "output_type": "stream",
     "text": [
      "100%|██████████| 537/537 [00:01<00:00, 401.88it/s]\n"
     ]
    },
    {
     "name": "stdout",
     "output_type": "stream",
     "text": [
      "Loaded regional delivery_truck_20250304_2050 from brightway!\n"
     ]
    },
    {
     "name": "stderr",
     "output_type": "stream",
     "text": [
      "Writing activities to SQLite3 database:\n",
      "0% [##############################] 100% | ETA: 00:00:00\n",
      "Total time elapsed: 00:01:28\n"
     ]
    },
    {
     "name": "stdout",
     "output_type": "stream",
     "text": [
      "Title: Writing activities to SQLite3 database:\n",
      "  Started: 03/04/2025 12:19:35\n",
      "  Finished: 03/04/2025 12:21:04\n",
      "  Total time elapsed: 00:01:28\n",
      "  CPU %: 80.70\n",
      "  Memory %: 47.80\n",
      "ecoinvent_cutoff_3.10.1_image_SSP2-Base_2050+truck_carculator written to Brightway!\n"
     ]
    }
   ],
   "execution_count": 27
  },
  {
   "metadata": {},
   "cell_type": "markdown",
   "source": "## Regionalization of the database",
   "id": "2591caf2f5dd4f0c"
  },
  {
   "metadata": {},
   "cell_type": "markdown",
   "source": "To regionalize the database clone the [Regiopremise](https://github.com/matthieu-str/Regiopremise) repository and run the [demo.ipynb](https://github.com/matthieu-str/Regiopremise/blob/ei3.10/doc/demo.ipynb) notebook. ",
   "id": "1cc64140aad179c2"
  }
 ],
 "metadata": {
  "kernelspec": {
   "display_name": "Python 3",
   "language": "python",
   "name": "python3"
  },
  "language_info": {
   "codemirror_mode": {
    "name": "ipython",
    "version": 2
   },
   "file_extension": ".py",
   "mimetype": "text/x-python",
   "name": "python",
   "nbconvert_exporter": "python",
   "pygments_lexer": "ipython2",
   "version": "2.7.6"
  }
 },
 "nbformat": 4,
 "nbformat_minor": 5
}
