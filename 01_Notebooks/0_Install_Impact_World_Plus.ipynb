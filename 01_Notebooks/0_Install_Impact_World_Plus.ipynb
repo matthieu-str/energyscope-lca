{
 "cells": [
  {
   "metadata": {},
   "cell_type": "markdown",
   "source": "# Download IMPACT World+ methods in your project",
   "id": "cb0ef9446d90c7e6"
  },
  {
   "metadata": {
    "ExecuteTime": {
     "end_time": "2025-03-05T18:24:59.865879Z",
     "start_time": "2025-03-05T18:24:42.850176Z"
    }
   },
   "cell_type": "code",
   "source": [
    "import bw2data as bd\n",
    "import bw2io as bi"
   ],
   "id": "2513ed7e392e151f",
   "outputs": [],
   "execution_count": 1
  },
  {
   "metadata": {
    "ExecuteTime": {
     "end_time": "2025-03-05T18:25:00.102623Z",
     "start_time": "2025-03-05T18:24:59.865879Z"
    }
   },
   "cell_type": "code",
   "source": [
    "# Set up your Brightway project\n",
    "ecoinvent_version = '3.10.1'\n",
    "bd.projects.set_current(f'ecoinvent{ecoinvent_version}') # put the name of your brightway project here\n",
    "regionalized = True"
   ],
   "id": "bb4302ea07ca6d0c",
   "outputs": [],
   "execution_count": 2
  },
  {
   "metadata": {},
   "cell_type": "markdown",
   "source": "## Expert version (midpoints + endpoints)",
   "id": "fdccce2d3a085630"
  },
  {
   "metadata": {
    "ExecuteTime": {
     "end_time": "2025-03-05T18:25:36.373234Z",
     "start_time": "2025-03-05T18:25:00.102623Z"
    }
   },
   "cell_type": "code",
   "source": [
    "if regionalized:\n",
    "    bi.BW2Package.import_file(\"Data/impact_world_plus_21_regionalized-for-ecoinvent-v310.0fffd5e3daa5f4cf11ef83e49c375827.bw2package\")\n",
    "else:\n",
    "    bi.BW2Package.import_file(\"Data/impact_world_plus_21_brightway2_expert_version_ei310.5535d12bedce3770ffef004e84229fd1.bw2package\") "
   ],
   "id": "bc81376de981c418",
   "outputs": [],
   "execution_count": 3
  },
  {
   "metadata": {},
   "cell_type": "markdown",
   "source": "## Footprint version",
   "id": "65e4ad068a141fc6"
  },
  {
   "metadata": {
    "ExecuteTime": {
     "end_time": "2025-03-05T18:25:36.379171Z",
     "start_time": "2025-03-05T18:25:36.373234Z"
    }
   },
   "cell_type": "code",
   "source": [
    "if not regionalized:\n",
    "    bi.BW2Package.import_file(\"Data/impact_world_plus_21_brightway2_footprint_version_ei310.a7763e0d1b0d9263f49a7021cab8ef03.bw2package\") "
   ],
   "id": "9639b49369dffab0",
   "outputs": [],
   "execution_count": 4
  },
  {
   "metadata": {},
   "cell_type": "markdown",
   "source": "## If your biosphere database is not named 'biosphere3'",
   "id": "c546279e7702cea8"
  },
  {
   "metadata": {
    "ExecuteTime": {
     "end_time": "2025-03-05T18:25:36.389986Z",
     "start_time": "2025-03-05T18:25:36.380333Z"
    }
   },
   "cell_type": "code",
   "source": "biosphere_db_name = f'ecoinvent-{ecoinvent_version}-biosphere'",
   "id": "629e59398b24cf0c",
   "outputs": [],
   "execution_count": 5
  },
  {
   "metadata": {
    "ExecuteTime": {
     "end_time": "2025-03-05T18:25:56.420998Z",
     "start_time": "2025-03-05T18:25:36.389986Z"
    }
   },
   "cell_type": "code",
   "source": [
    "iw_methods = [i for i in bd.methods if i[0] in [\n",
    "    'IMPACT World+ Damage 2.1_regionalized for ecoinvent v3.10', \n",
    "    'IMPACT World+ Midpoint 2.1_regionalized for ecoinvent v3.10',\n",
    "    'IMPACT World+ Damage 2.1 for ecoinvent v3.10', \n",
    "    'IMPACT World+ Midpoint 2.1 for ecoinvent v3.10',\n",
    "    'IMPACT World+ Footprint 2.1 for ecoinvent v3.10',\n",
    "]]\n",
    "for method in iw_methods:\n",
    "    method = bd.Method(method)\n",
    "    cf_list = method.load()\n",
    "    new_cf_list = []\n",
    "    for cf in cf_list:\n",
    "        new_cf = ((biosphere_db_name, cf[0][1]), cf[1])  # replace 'biosphere3' with the name of your biosphere database\n",
    "        new_cf_list.append(new_cf)\n",
    "    method.write(new_cf_list)  # overwrite the existing method"
   ],
   "id": "4a039d485c0cf53c",
   "outputs": [],
   "execution_count": 6
  }
 ],
 "metadata": {
  "kernelspec": {
   "display_name": "Python 3",
   "language": "python",
   "name": "python3"
  },
  "language_info": {
   "codemirror_mode": {
    "name": "ipython",
    "version": 2
   },
   "file_extension": ".py",
   "mimetype": "text/x-python",
   "name": "python",
   "nbconvert_exporter": "python",
   "pygments_lexer": "ipython2",
   "version": "2.7.6"
  }
 },
 "nbformat": 4,
 "nbformat_minor": 5
}
