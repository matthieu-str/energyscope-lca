{
 "cells": [
  {
   "cell_type": "markdown",
   "metadata": {},
   "source": "# Generation of LCA indicators and associated .mod and .dat files"
  },
  {
   "cell_type": "code",
   "metadata": {
    "ExecuteTime": {
     "end_time": "2025-02-26T15:54:36.256966Z",
     "start_time": "2025-02-26T15:54:24.393792Z"
    }
   },
   "source": [
    "import os\n",
    "import pandas as pd\n",
    "import bw2data as bd\n",
    "from mescal import *\n",
    "from energyscope.models import Model\n",
    "from energyscope.energyscope import Energyscope\n",
    "from energyscope.result import postprocessing"
   ],
   "outputs": [],
   "execution_count": 1
  },
  {
   "metadata": {
    "ExecuteTime": {
     "end_time": "2025-02-26T15:54:36.269342Z",
     "start_time": "2025-02-26T15:54:36.256966Z"
    }
   },
   "cell_type": "code",
   "source": [
    "ei_version = '3.10.1'\n",
    "year = 2020"
   ],
   "outputs": [],
   "execution_count": 2
  },
  {
   "cell_type": "code",
   "metadata": {
    "ExecuteTime": {
     "end_time": "2025-02-26T15:54:36.281345Z",
     "start_time": "2025-02-26T15:54:36.269342Z"
    }
   },
   "source": [
    "path_inputs = '../01_Notebooks/Data/'\n",
    "path_model = '../02_Model/'\n",
    "path_data = f'../02_Model/{year}/'\n",
    "path_results = f'../03_Results/LCA/{year}/'"
   ],
   "outputs": [],
   "execution_count": 3
  },
  {
   "metadata": {},
   "cell_type": "markdown",
   "source": "## Initialize the EnergyScope model"
  },
  {
   "metadata": {
    "ExecuteTime": {
     "end_time": "2025-02-26T15:54:36.297759Z",
     "start_time": "2025-02-26T15:54:36.285806Z"
    }
   },
   "cell_type": "code",
   "source": [
    "# AMPL licence \n",
    "path_to_ampl_licence = r'C:\\Users\\matth\\ampl' # Path to the AMPL licence file\n",
    "os.environ['PATH'] = path_to_ampl_licence+':'+os.environ['PATH']"
   ],
   "outputs": [],
   "execution_count": 4
  },
  {
   "metadata": {
    "ExecuteTime": {
     "end_time": "2025-02-26T15:54:36.311747Z",
     "start_time": "2025-02-26T15:54:36.300841Z"
    }
   },
   "cell_type": "code",
   "source": [
    "# Define the solver options\n",
    "solver_options = {\n",
    "    'solver': 'gurobi',\n",
    "    'solver_msg': 0,\n",
    "}"
   ],
   "outputs": [],
   "execution_count": 5
  },
  {
   "metadata": {
    "ExecuteTime": {
     "end_time": "2025-02-26T15:54:56.452948Z",
     "start_time": "2025-02-26T15:54:56.443943Z"
    }
   },
   "cell_type": "code",
   "source": [
    "with open(path_model + 'QC_objective_function.mod', 'w') as f:\n",
    "        f.write('minimize obj: TotalCost;')"
   ],
   "outputs": [],
   "execution_count": 6
  },
  {
   "metadata": {
    "ExecuteTime": {
     "end_time": "2025-02-26T15:54:57.382905Z",
     "start_time": "2025-02-26T15:54:57.374564Z"
    }
   },
   "cell_type": "code",
   "source": [
    "# Initialize the 2021 QC model with .mod and .dat files\n",
    "model = Model(\n",
    "    mod_files=[\n",
    "        path_model+'QC_es_main.mod',\n",
    "        path_model+'QC_objective_function.mod',\n",
    "    ],\n",
    "    dat_files=[\n",
    "        path_data+'QC_data.dat',\n",
    "        path_data+'QC_mob_techs_dist_B2D.dat',\n",
    "        path_data+'QC_techs_B2D.dat',\n",
    "        path_data+'QC_mob_params.dat',\n",
    "    ],\n",
    ")"
   ],
   "outputs": [],
   "execution_count": 7
  },
  {
   "metadata": {
    "ExecuteTime": {
     "end_time": "2025-02-26T15:54:58.280840Z",
     "start_time": "2025-02-26T15:54:58.261150Z"
    }
   },
   "cell_type": "code",
   "source": [
    "# Initialize the EnergyScope model\n",
    "es = Energyscope(model=model, solver_options=solver_options)"
   ],
   "outputs": [],
   "execution_count": 8
  },
  {
   "metadata": {
    "ExecuteTime": {
     "end_time": "2025-02-26T15:55:15.216183Z",
     "start_time": "2025-02-26T15:55:00.548278Z"
    }
   },
   "cell_type": "code",
   "source": [
    "# Solve the model and get results\n",
    "results = postprocessing(es.calc())"
   ],
   "outputs": [
    {
     "name": "stdout",
     "output_type": "stream",
     "text": [
      "Gurobi 12.0.0: "
     ]
    }
   ],
   "execution_count": 9
  },
  {
   "metadata": {},
   "cell_type": "markdown",
   "source": "# Generate the LCA indicators "
  },
  {
   "cell_type": "markdown",
   "metadata": {},
   "source": [
    "## Load data and initialize the ESM class"
   ]
  },
  {
   "cell_type": "code",
   "metadata": {
    "ExecuteTime": {
     "end_time": "2025-02-26T15:55:24.228291Z",
     "start_time": "2025-02-26T15:55:24.013819Z"
    }
   },
   "source": [
    "# Load the data\n",
    "mapping = pd.read_csv(path_inputs+f'mapping.csv')\n",
    "unit_conversion = pd.read_excel(path_inputs+'unit_conversion.xlsx')  # open file and press enter in one computation cell to avoid misreading\n",
    "techno_compositions = pd.read_csv(path_inputs+'technology_compositions.csv')\n",
    "tech_specifics = pd.read_csv(path_inputs+'technology_specifics.csv')\n",
    "efficiency = pd.read_csv(path_inputs+'efficiency.csv')\n",
    "lifetime = pd.read_csv(path_inputs+'lifetime.csv')\n",
    "mapping_es_flows_to_cpc = pd.read_csv(path_inputs+'mapping_esm_flows_to_CPC.csv')\n",
    "impact_abbrev = pd.read_csv(path_inputs+'impact_abbrev.csv')"
   ],
   "outputs": [],
   "execution_count": 10
  },
  {
   "cell_type": "code",
   "metadata": {
    "ExecuteTime": {
     "end_time": "2025-02-26T15:55:25.346467Z",
     "start_time": "2025-02-26T15:55:25.331558Z"
    }
   },
   "source": [
    "# Load the model from energyscope model\n",
    "model = results.parameters['layers_in_out'].reset_index().rename(columns={'index0':'Name', 'index1':'Flow', 'layers_in_out':'Amount'}).drop(columns=['Run'])\n",
    "model = model[model['Amount'] != 0]"
   ],
   "outputs": [],
   "execution_count": 11
  },
  {
   "cell_type": "code",
   "metadata": {
    "ExecuteTime": {
     "end_time": "2025-02-26T15:55:35.902357Z",
     "start_time": "2025-02-26T15:55:35.894959Z"
    }
   },
   "source": [
    "# Databases names \n",
    "name_main_database = f'ecoinvent_cutoff_{ei_version}_image_SSP2-Base_{year}+truck_carculator regionalized_wo_bg'\n",
    "name_spatialized_biosphere_db = 'biosphere3_spatialized_flows'\n",
    "name_es_database = f'EnergyScope_CA-QC_{year}'"
   ],
   "outputs": [],
   "execution_count": 13
  },
  {
   "cell_type": "code",
   "metadata": {
    "ExecuteTime": {
     "end_time": "2025-02-26T15:55:37.856458Z",
     "start_time": "2025-02-26T15:55:36.920941Z"
    }
   },
   "source": [
    "# Set up your Brightway project\n",
    "bd.projects.set_current(f'ecoinvent{ei_version}')"
   ],
   "outputs": [],
   "execution_count": 14
  },
  {
   "cell_type": "code",
   "metadata": {
    "ExecuteTime": {
     "end_time": "2025-02-26T15:59:38.427423Z",
     "start_time": "2025-02-26T15:55:39.199364Z"
    }
   },
   "source": "main_db = Database(name_main_database, create_pickle=True)",
   "outputs": [
    {
     "name": "stdout",
     "output_type": "stream",
     "text": [
      "Getting activity data\n"
     ]
    },
    {
     "name": "stderr",
     "output_type": "stream",
     "text": [
      "100%|██████████| 48916/48916 [00:00<00:00, 57721.76it/s]\n"
     ]
    },
    {
     "name": "stdout",
     "output_type": "stream",
     "text": [
      "Adding exchange data to activities\n"
     ]
    },
    {
     "name": "stderr",
     "output_type": "stream",
     "text": [
      "100%|██████████| 1431786/1431786 [02:48<00:00, 8498.01it/s] \n"
     ]
    },
    {
     "name": "stdout",
     "output_type": "stream",
     "text": [
      "Filling out exchange data\n"
     ]
    },
    {
     "name": "stderr",
     "output_type": "stream",
     "text": [
      "100%|██████████| 48916/48916 [00:35<00:00, 1385.15it/s]\n"
     ]
    },
    {
     "name": "stdout",
     "output_type": "stream",
     "text": [
      "Loaded ecoinvent_cutoff_3.10.1_image_SSP2-Base_2020+truck_carculator regionalized_wo_bg from brightway!\n",
      "ecoinvent_cutoff_3.10.1_image_SSP2-Base_2020+truck_carculator regionalized_wo_bg.pickle created!\n"
     ]
    }
   ],
   "execution_count": 15
  },
  {
   "cell_type": "code",
   "metadata": {
    "ExecuteTime": {
     "end_time": "2025-02-26T15:59:38.516121Z",
     "start_time": "2025-02-26T15:59:38.461092Z"
    }
   },
   "source": [
    "ranking_best_ecoinvent_locations_for_QC = [\n",
    "    'CA-QC', # Quebec\n",
    "    'CA', # Canada\n",
    "    'CAN', # Canada in IMAGE\n",
    "    'CAZ', # Canada - Australia - New Zealand in REMIND\n",
    "    'RNA', # North America\n",
    "    'US', # United States\n",
    "    'USA', # United States in REMIND and IMAGE\n",
    "    'GLO', # Global average \n",
    "    'RoW', # Rest of the world\n",
    "]"
   ],
   "outputs": [],
   "execution_count": 16
  },
  {
   "cell_type": "code",
   "metadata": {
    "ExecuteTime": {
     "end_time": "2025-02-26T15:59:40.547017Z",
     "start_time": "2025-02-26T15:59:38.516121Z"
    }
   },
   "source": [
    "# Add CPC categories to the main database\n",
    "main_db.add_CPC_categories()"
   ],
   "outputs": [],
   "execution_count": 17
  },
  {
   "cell_type": "code",
   "metadata": {
    "ExecuteTime": {
     "end_time": "2025-02-26T15:59:40.696939Z",
     "start_time": "2025-02-26T15:59:40.547017Z"
    }
   },
   "source": [
    "# Change the main database name if needed\n",
    "if mapping['Database'].iloc[0] != name_main_database:\n",
    "    mapping['Database'] = len(mapping) * [name_main_database]\n",
    "missing_flows = main_db.test_mapping_file(mapping)"
   ],
   "outputs": [
    {
     "name": "stdout",
     "output_type": "stream",
     "text": [
      "Mapping successfully linked to the database\n"
     ]
    }
   ],
   "execution_count": 18
  },
  {
   "metadata": {
    "ExecuteTime": {
     "end_time": "2025-02-26T15:59:48.279375Z",
     "start_time": "2025-02-26T15:59:40.698982Z"
    }
   },
   "cell_type": "code",
   "source": [
    "esm = ESM(\n",
    "    # Mandatory inputs\n",
    "    mapping=mapping,\n",
    "    unit_conversion=unit_conversion,\n",
    "    model=model,\n",
    "    mapping_esm_flows_to_CPC_cat=mapping_es_flows_to_cpc,\n",
    "    main_database=main_db,\n",
    "    esm_db_name=name_es_database,\n",
    "    \n",
    "    # Optional inputs\n",
    "    technology_compositions=techno_compositions,\n",
    "    tech_specifics=tech_specifics,\n",
    "    lifetime=lifetime,\n",
    "    efficiency=efficiency,\n",
    "    regionalize_foregrounds=True,\n",
    "    accepted_locations=['CA-QC', 'CA'],\n",
    "    locations_ranking=ranking_best_ecoinvent_locations_for_QC,\n",
    "    esm_location='CA-QC',\n",
    "    results_path_file=path_results,\n",
    "    \n",
    "    # If we want regionalized results \n",
    "    spatialized_biosphere_db=Database(name_spatialized_biosphere_db),\n",
    ")"
   ],
   "outputs": [
    {
     "name": "stdout",
     "output_type": "stream",
     "text": [
      "Getting activity data\n"
     ]
    },
    {
     "name": "stderr",
     "output_type": "stream",
     "text": [
      "100%|██████████| 110559/110559 [00:00<00:00, 191046.84it/s]\n"
     ]
    },
    {
     "name": "stdout",
     "output_type": "stream",
     "text": [
      "Adding exchange data to activities\n"
     ]
    },
    {
     "name": "stderr",
     "output_type": "stream",
     "text": [
      "0it [00:00, ?it/s]\n"
     ]
    },
    {
     "name": "stdout",
     "output_type": "stream",
     "text": [
      "Filling out exchange data\n"
     ]
    },
    {
     "name": "stderr",
     "output_type": "stream",
     "text": [
      "100%|██████████| 110559/110559 [00:00<00:00, 2229113.66it/s]\n"
     ]
    },
    {
     "name": "stdout",
     "output_type": "stream",
     "text": [
      "Loaded biosphere3_spatialized_flows from brightway!\n"
     ]
    }
   ],
   "execution_count": 19
  },
  {
   "metadata": {
    "ExecuteTime": {
     "end_time": "2025-02-26T15:59:48.949212Z",
     "start_time": "2025-02-26T15:59:48.281386Z"
    }
   },
   "cell_type": "code",
   "source": "esm.check_inputs()",
   "outputs": [
    {
     "name": "stdout",
     "output_type": "stream",
     "text": [
      "List of technologies or resources that are in the model file but not in the mapping file. Their impact scores will be set to the default value.\n",
      "\n",
      "--> ['CO2_E', 'DEC_RENOVATION', 'DHN_RENOVATION', 'DIESEL_S', 'ELEC_S', 'GASOLINE_S', 'HT_LT', 'LT_DEC_WH', 'LT_DHN_WH', 'NG_S', 'RES_GEO', 'RES_HYDRO', 'RES_SOLAR', 'RES_TIDAL', 'RES_WIND_OFFSHORE', 'RES_WIND_ONSHORE', 'STO_CO2', 'STO_DIE', 'STO_ELEC', 'STO_GASO', 'STO_H2', 'STO_NG']\n",
      "\n",
      "List of technologies or resources that are in the mapping file but not in the model file (this will not be a problem in the workflow).\n",
      "\n",
      "--> ['BATTERY', 'DEC_TH_STORAGE', 'DHN_TH_STORAGE', 'EHV_GRID', 'HV_GRID', 'LV_GRID', 'MV_GRID']\n",
      "\n",
      "List of technologies that are in the tech_specifics file but not in the mapping file (this will not be a problem in the workflow).\n",
      "\n",
      "--> ['AEC_OG', 'MOB_FREIGHT_ELD', 'MOB_FREIGHT_LD', 'MOB_FREIGHT_MD', 'MOB_FREIGHT_SD', 'MOB_PRIVATE_ELD', 'MOB_PRIVATE_LD', 'MOB_PRIVATE_MD', 'MOB_PRIVATE_SD', 'MOB_PUBLIC_ELD', 'MOB_PUBLIC_LD', 'MOB_PUBLIC_MD', 'MOB_PUBLIC_SD', 'PEMEC_OG', 'SOEC_OG']\n",
      "\n"
     ]
    }
   ],
   "execution_count": 20
  },
  {
   "metadata": {
    "ExecuteTime": {
     "end_time": "2025-02-26T16:00:41.878461Z",
     "start_time": "2025-02-26T16:00:37.305193Z"
    }
   },
   "cell_type": "code",
   "source": [
    "# Adapt mapping file to ESM location\n",
    "esm.change_location_mapping_file()\n",
    "esm.mapping.to_csv(path_inputs+f'mapping.csv', index=False)"
   ],
   "outputs": [],
   "execution_count": 21
  },
  {
   "metadata": {},
   "cell_type": "markdown",
   "source": "### Generate ESM database"
  },
  {
   "metadata": {
    "ExecuteTime": {
     "end_time": "2025-02-26T16:14:52.958535Z",
     "start_time": "2025-02-26T16:00:43.734794Z"
    }
   },
   "cell_type": "code",
   "source": [
    "# Foreground regionalization, double-counting removal, and efficiency harmonization\n",
    "esm.create_esm_database()"
   ],
   "outputs": [
    {
     "name": "stdout",
     "output_type": "stream",
     "text": [
      "### Starting to add construction and resource activities database ###\n",
      "No location found in your ranking for waste polystyrene - market group for waste polystyrene\n",
      "--> Have to keep the initial location: Europe without Switzerland\n",
      "No location found in your ranking for waste polyvinylchloride - market group for waste polyvinylchloride\n",
      "--> Have to keep the initial location: Europe without Switzerland\n",
      "No location found in your ranking for waste plastic, mixture - market group for waste plastic, mixture\n",
      "--> Have to keep the initial location: Europe without Switzerland\n",
      "No location found in your ranking for waste polyethylene - market group for waste polyethylene\n",
      "--> Have to keep the initial location: Europe without Switzerland\n",
      "No location found in your ranking for waste glass - market group for waste glass\n",
      "--> Have to keep the initial location: RER\n",
      "No location found in your ranking for iridium - platinum group metal, extraction and refinery operations\n",
      "--> Have to keep the initial location: ZA\n",
      "### Construction and resource activities added to the database ###\n",
      "--> Time: 89.0 seconds\n",
      "### Starting to remove double-counted flows ###\n",
      "No location found in your ranking for aluminium, primary, ingot - aluminium, ingot, primary, import from Rest of Europe\n",
      "--> Have to keep the initial location: IAI Area, EU27 & EFTA\n",
      "No location found in your ranking for waste packaging paper - market group for waste packaging paper\n",
      "--> Have to keep the initial location: RER\n",
      "No location found in your ranking for municipal solid waste - market group for municipal solid waste\n",
      "--> Have to keep the initial location: RER\n",
      "No location found in your ranking for waste paperboard - market group for waste paperboard\n",
      "--> Have to keep the initial location: RER\n",
      "### Double-counting removal done ###\n",
      "--> Time: 298.0 seconds\n",
      "### Starting to correct efficiency differences ###\n",
      "Warning: flow of type TRANSPORT_FUEL found for BUS_PROPANE_SD in efficiency file, but not in model file.\n",
      "Warning: flow of type TRANSPORT_FUEL found for CAR_PROPANE_ELD in efficiency file, but not in model file.\n",
      "Warning: flow of type TRANSPORT_FUEL found for CAR_PROPANE_LD in efficiency file, but not in model file.\n",
      "Warning: flow of type TRANSPORT_FUEL found for CAR_PROPANE_MD in efficiency file, but not in model file.\n",
      "Warning: flow of type TRANSPORT_FUEL found for CAR_PROPANE_SD in efficiency file, but not in model file.\n",
      "Warning: flow of type TRANSPORT_FUEL found for COACH_PROPANE_ELD in efficiency file, but not in model file.\n",
      "Warning: flow of type TRANSPORT_FUEL found for COACH_PROPANE_LD in efficiency file, but not in model file.\n",
      "Warning: flow of type TRANSPORT_FUEL found for COACH_PROPANE_MD in efficiency file, but not in model file.\n",
      "Warning: flow of type TRANSPORT_FUEL found for LCV_PROPANE_MD in efficiency file, but not in model file.\n",
      "Warning: flow of type TRANSPORT_FUEL found for LCV_PROPANE_SD in efficiency file, but not in model file.\n",
      "Warning: flow of type TRANSPORT_FUEL found for SCHOOLBUS_PROPANE_SD in efficiency file, but not in model file.\n",
      "Warning: flow of type TRANSPORT_FUEL found for SEMI_LH_PROPANE_ELD in efficiency file, but not in model file.\n",
      "Warning: flow of type TRANSPORT_FUEL found for SEMI_LH_PROPANE_LD in efficiency file, but not in model file.\n",
      "Warning: flow of type TRANSPORT_FUEL found for SEMI_SH_PROPANE_MD in efficiency file, but not in model file.\n",
      "Warning: flow of type TRANSPORT_FUEL found for SUV_PROPANE_ELD in efficiency file, but not in model file.\n",
      "Warning: flow of type TRANSPORT_FUEL found for SUV_PROPANE_LD in efficiency file, but not in model file.\n",
      "Warning: flow of type TRANSPORT_FUEL found for SUV_PROPANE_MD in efficiency file, but not in model file.\n",
      "Warning: flow of type TRANSPORT_FUEL found for SUV_PROPANE_SD in efficiency file, but not in model file.\n",
      "Warning: flow of type TRANSPORT_FUEL found for TRUCK_LH_PROPANE_LD in efficiency file, but not in model file.\n",
      "Warning: flow of type TRANSPORT_FUEL found for TRUCK_SH_PROPANE_MD in efficiency file, but not in model file.\n",
      "Warning: flow of type TRANSPORT_FUEL found for TRUCK_SH_PROPANE_SD in efficiency file, but not in model file.\n",
      "No flow found for type(s) ['WOOD'] in BIOGAS_ATR. The efficiency of this technology cannot be adjusted.\n",
      "No flow found for type(s) ['WOOD'] in BIOGAS_ATR_CCS. The efficiency of this technology cannot be adjusted.\n",
      "No flow found for type(s) ['WOOD'] in BIOGAS_SMR. The efficiency of this technology cannot be adjusted.\n",
      "No flow found for type(s) ['WOOD'] in BIOGAS_SMR_CCS. The efficiency of this technology cannot be adjusted.\n",
      "No flow found for type(s) ['WASTE'] in DHN_COGEN_WASTE. The efficiency of this technology cannot be adjusted.\n",
      "No flow found for type(s) ['WASTE'] in DHN_COGEN_WASTE_CC. The efficiency of this technology cannot be adjusted.\n",
      "No flow found for type(s) ['WASTE'] in IND_BOILER_WASTE. The efficiency of this technology cannot be adjusted.\n",
      "No flow found for type(s) ['WASTE'] in IND_BOILER_WASTE_CC. The efficiency of this technology cannot be adjusted.\n",
      "No flow found for type(s) ['WASTE'] in IND_COGEN_WASTE. The efficiency of this technology cannot be adjusted.\n",
      "No flow found for type(s) ['WASTE'] in IND_COGEN_WASTE_CC. The efficiency of this technology cannot be adjusted.\n",
      "No flow found for type(s) ['NG_HP'] in LCV_CNG_MD. The efficiency of this technology cannot be adjusted.\n",
      "No flow found for type(s) ['NG_HP'] in LCV_CNG_SD. The efficiency of this technology cannot be adjusted.\n",
      "No flow found for type(s) ['PROPANE', 'TRANSPORT_FUEL'] in LCV_PROPANE_MD. The efficiency of this technology cannot be adjusted.\n",
      "No flow found for type(s) ['PROPANE', 'TRANSPORT_FUEL'] in LCV_PROPANE_SD. The efficiency of this technology cannot be adjusted.\n",
      "No flow found for type(s) ['WOOD'] in PYROLYSIS. The efficiency of this technology cannot be adjusted.\n",
      "No flow found for type(s) ['NG_HP'] in SEMI_SH_CNG_MD. The efficiency of this technology cannot be adjusted.\n",
      "No flow found for type(s) ['PROPANE', 'TRANSPORT_FUEL'] in SEMI_SH_PROPANE_MD. The efficiency of this technology cannot be adjusted.\n",
      "No flow found for type(s) ['NG_HP'] in TRUCK_SH_CNG_MD. The efficiency of this technology cannot be adjusted.\n",
      "No flow found for type(s) ['NG_HP'] in TRUCK_SH_CNG_SD. The efficiency of this technology cannot be adjusted.\n",
      "No flow found for type(s) ['PROPANE', 'TRANSPORT_FUEL'] in TRUCK_SH_PROPANE_MD. The efficiency of this technology cannot be adjusted.\n",
      "No flow found for type(s) ['PROPANE', 'TRANSPORT_FUEL'] in TRUCK_SH_PROPANE_SD. The efficiency of this technology cannot be adjusted.\n",
      "Several names possible for the same type of flow in DEC_BOILER_WOOD: {'wood ash mixture', 'biomass'}. Kept the first one.\n",
      "Several names possible for the same type of flow in DEC_COGEN_WOOD: {'wood ash mixture', 'biomass'}. Kept the first one.\n",
      "Several names possible for the same type of flow in DHN_BOILER_WOOD: {'wood ash mixture', 'biomass'}. Kept the first one.\n",
      "Several names possible for the same type of flow in DHN_COGEN_WOOD: {'wood ash mixture', 'biomass'}. Kept the first one.\n",
      "Several names possible for the same type of flow in GASIFICATION_H2: {'wood ash mixture', 'wood chips'}. Kept the first one.\n",
      "Several names possible for the same type of flow in IND_BOILER_WOOD: {'wood ash mixture', 'biomass'}. Kept the first one.\n",
      "Several names possible for the same type of flow in IND_COGEN_WOOD: {'wood ash mixture', 'biomass'}. Kept the first one.\n",
      "No flow of type PROPANE has been removed in BUS_PROPANE_SD.\n",
      "No flow of type PROPANE has been removed in CAR_PROPANE_ELD.\n",
      "No flow of type PROPANE has been removed in CAR_PROPANE_LD.\n",
      "No flow of type PROPANE has been removed in CAR_PROPANE_MD.\n",
      "No flow of type PROPANE has been removed in CAR_PROPANE_SD.\n",
      "No flow of type PROPANE has been removed in COACH_PROPANE_ELD.\n",
      "No flow of type PROPANE has been removed in COACH_PROPANE_LD.\n",
      "No flow of type PROPANE has been removed in COACH_PROPANE_MD.\n",
      "No flow of type PROPANE has been removed in SCHOOLBUS_PROPANE_SD.\n",
      "No flow of type PROPANE has been removed in SEMI_LH_PROPANE_ELD.\n",
      "No flow of type PROPANE has been removed in SEMI_LH_PROPANE_LD.\n",
      "No flow of type PROPANE has been removed in SUV_PROPANE_ELD.\n",
      "No flow of type PROPANE has been removed in SUV_PROPANE_LD.\n",
      "No flow of type PROPANE has been removed in SUV_PROPANE_MD.\n",
      "No flow of type PROPANE has been removed in SUV_PROPANE_SD.\n",
      "No flow of type PROPANE has been removed in TRUCK_LH_PROPANE_LD.\n",
      "### Efficiency differences corrected ###\n",
      "--> Time: 14.0 seconds\n",
      "### Starting to write database ###\n"
     ]
    },
    {
     "name": "stderr",
     "output_type": "stream",
     "text": [
      "Writing activities to SQLite3 database:\n",
      "0% [##############################] 100% | ETA: 00:00:00\n",
      "Total time elapsed: 00:00:01\n"
     ]
    },
    {
     "name": "stdout",
     "output_type": "stream",
     "text": [
      "Title: Writing activities to SQLite3 database:\n",
      "  Started: 02/26/2025 11:10:42\n",
      "  Finished: 02/26/2025 11:10:44\n",
      "  Total time elapsed: 00:00:01\n",
      "  CPU %: 95.80\n",
      "  Memory %: 23.44\n",
      "EnergyScope_CA-QC_2020 written to Brightway!\n",
      "### Database written ###\n",
      "--> Time: 355.0 seconds\n"
     ]
    }
   ],
   "execution_count": 22
  },
  {
   "metadata": {
    "ExecuteTime": {
     "end_time": "2025-02-26T16:14:53.003856Z",
     "start_time": "2025-02-26T16:14:52.973615Z"
    }
   },
   "cell_type": "code",
   "source": [
    "# Save the mapping file with new codes for later use\n",
    "esm.mapping.to_csv(path_results+'mapping_with_new_codes.csv', index=False)"
   ],
   "outputs": [],
   "execution_count": 23
  },
  {
   "metadata": {},
   "cell_type": "markdown",
   "source": "## Generate LCA metrics "
  },
  {
   "metadata": {
    "ExecuteTime": {
     "end_time": "2025-02-26T16:14:53.010132Z",
     "start_time": "2025-02-26T16:14:53.005864Z"
    }
   },
   "cell_type": "code",
   "source": [
    "# If the ESM database is already created\n",
    "# esm.mapping = pd.read_csv(path_results+'mapping_with_new_codes.csv')"
   ],
   "outputs": [],
   "execution_count": 24
  },
  {
   "cell_type": "code",
   "metadata": {
    "ExecuteTime": {
     "end_time": "2025-02-26T16:14:53.020694Z",
     "start_time": "2025-02-26T16:14:53.014147Z"
    }
   },
   "source": "methods = ['IMPACT World+ Midpoint 2.1_regionalized for ecoinvent v3.10', 'IMPACT World+ Damage 2.1_regionalized for ecoinvent v3.10']",
   "outputs": [],
   "execution_count": 25
  },
  {
   "metadata": {},
   "cell_type": "markdown",
   "source": "### Life-cycle emissions"
  },
  {
   "cell_type": "code",
   "metadata": {
    "jupyter": {
     "is_executing": true
    },
    "ExecuteTime": {
     "start_time": "2025-02-26T16:14:53.022702Z"
    }
   },
   "source": [
    "# Lifetime harmonization\n",
    "R_long = esm.compute_impact_scores(methods=methods)"
   ],
   "outputs": [
    {
     "name": "stdout",
     "output_type": "stream",
     "text": [
      "Getting activity data\n"
     ]
    },
    {
     "name": "stderr",
     "output_type": "stream",
     "text": [
      "100%|██████████| 1335/1335 [00:00<?, ?it/s]\n"
     ]
    },
    {
     "name": "stdout",
     "output_type": "stream",
     "text": [
      "Adding exchange data to activities\n"
     ]
    },
    {
     "name": "stderr",
     "output_type": "stream",
     "text": [
      "100%|██████████| 33241/33241 [00:01<00:00, 19334.00it/s]\n"
     ]
    },
    {
     "name": "stdout",
     "output_type": "stream",
     "text": [
      "Filling out exchange data\n"
     ]
    },
    {
     "name": "stderr",
     "output_type": "stream",
     "text": [
      "100%|██████████| 1335/1335 [00:01<00:00, 898.85it/s] \n"
     ]
    },
    {
     "name": "stdout",
     "output_type": "stream",
     "text": [
      "Loaded EnergyScope_CA-QC_2020 from brightway!\n"
     ]
    }
   ],
   "execution_count": null
  },
  {
   "cell_type": "code",
   "metadata": {
    "jupyter": {
     "is_executing": true
    }
   },
   "source": "R_long.to_csv(f'{path_results}impact_scores.csv', index=False) # [impact / kW(h) or pkm(/h) or tkm(/h)]",
   "outputs": [],
   "execution_count": null
  },
  {
   "metadata": {},
   "cell_type": "markdown",
   "source": "### Territorial emissions"
  },
  {
   "metadata": {
    "jupyter": {
     "is_executing": true
    }
   },
   "cell_type": "code",
   "source": "activities_subject_to_double_counting = pd.read_csv(f'{path_results}activities_subject_to_double_counting.csv')",
   "outputs": [],
   "execution_count": null
  },
  {
   "metadata": {
    "jupyter": {
     "is_executing": true
    }
   },
   "cell_type": "code",
   "source": [
    "R_long_direct_emissions = esm.compute_impact_scores(\n",
    "    methods=methods,\n",
    "    assessment_type='direct emissions',\n",
    "    activities_subject_to_double_counting=activities_subject_to_double_counting,\n",
    ")"
   ],
   "outputs": [],
   "execution_count": null
  },
  {
   "metadata": {
    "jupyter": {
     "is_executing": true
    }
   },
   "cell_type": "code",
   "source": "R_long_direct_emissions.to_csv(f'{path_results}impact_scores_direct_emissions.csv', index=False) # [impact / kW(h) or pkm(/h) or tkm(/h)]",
   "outputs": [],
   "execution_count": null
  },
  {
   "cell_type": "markdown",
   "metadata": {},
   "source": [
    "## Create the .mod and .dat files"
   ]
  },
  {
   "cell_type": "code",
   "metadata": {
    "jupyter": {
     "is_executing": true
    }
   },
   "source": [
    "# To skip the impact assessment step\n",
    "# R_long = pd.read_csv(f'{path_results}impact_scores.csv')\n",
    "# R_long_direct_emissions = pd.read_csv(f'{path_results}impact_scores_direct_emissions.csv')"
   ],
   "outputs": [],
   "execution_count": null
  },
  {
   "cell_type": "code",
   "metadata": {
    "jupyter": {
     "is_executing": true
    }
   },
   "source": [
    "metadata = {\n",
    "    'ecoinvent_version': ei_version,\n",
    "    'year': year,\n",
    "    'iam': 'image',\n",
    "    'ssp_rcp': 'SSP2-Base',\n",
    "}"
   ],
   "outputs": [],
   "execution_count": null
  },
  {
   "cell_type": "code",
   "metadata": {
    "jupyter": {
     "is_executing": true
    }
   },
   "source": [
    "# Create .dat file\n",
    "esm.normalize_lca_metrics(\n",
    "    R=R_long,\n",
    "    mip_gap=1e-6,\n",
    "    lcia_methods=methods,\n",
    "    specific_lcia_abbrev=['TTHH', 'TTEQ', 'm_CCS'],\n",
    "    impact_abbrev=impact_abbrev,\n",
    "    path=path_data,\n",
    "    metadata=metadata,\n",
    "    file_name='QC_techs_lca',\n",
    ")"
   ],
   "outputs": [],
   "execution_count": null
  },
  {
   "metadata": {
    "jupyter": {
     "is_executing": true
    }
   },
   "cell_type": "code",
   "source": [
    "# Create .dat file for direct emissions only\n",
    "esm.normalize_lca_metrics(\n",
    "    assessment_type='direct emissions',\n",
    "    R=R_long_direct_emissions,\n",
    "    mip_gap=1e-6,\n",
    "    lcia_methods=methods,\n",
    "    specific_lcia_abbrev=['TTHH', 'TTEQ', 'm_CCS'],\n",
    "    impact_abbrev=impact_abbrev,\n",
    "    path=path_data,\n",
    "    metadata=metadata,\n",
    "    file_name='QC_techs_lca_direct',\n",
    ")"
   ],
   "outputs": [],
   "execution_count": null
  },
  {
   "cell_type": "code",
   "metadata": {
    "jupyter": {
     "is_executing": true
    }
   },
   "source": [
    "# Create the .mod file\n",
    "esm.generate_mod_file_ampl(\n",
    "    lcia_methods=methods,\n",
    "    impact_abbrev=impact_abbrev,\n",
    "    specific_lcia_abbrev=['TTHH', 'TTEQ', 'm_CCS'],\n",
    "    path=path_data,\n",
    "    metadata=metadata,\n",
    "    file_name='QC_objectives_lca',\n",
    ")"
   ],
   "outputs": [],
   "execution_count": null
  },
  {
   "metadata": {
    "jupyter": {
     "is_executing": true
    }
   },
   "cell_type": "code",
   "source": [
    "# Create the .mod file for direct emissions only\n",
    "esm.generate_mod_file_ampl(\n",
    "    assessment_type='direct emissions',\n",
    "    lcia_methods=methods,\n",
    "    impact_abbrev=impact_abbrev,\n",
    "    specific_lcia_abbrev=['TTHH', 'TTEQ', 'm_CCS'],\n",
    "    path=path_data,\n",
    "    metadata=metadata,\n",
    "    file_name='QC_objectives_lca_direct',\n",
    ")"
   ],
   "outputs": [],
   "execution_count": null
  }
 ],
 "metadata": {
  "kernelspec": {
   "display_name": ".venv",
   "language": "python",
   "name": "python3"
  },
  "language_info": {
   "codemirror_mode": {
    "name": "ipython",
    "version": 3
   },
   "file_extension": ".py",
   "mimetype": "text/x-python",
   "name": "python",
   "nbconvert_exporter": "python",
   "pygments_lexer": "ipython3",
   "version": "3.12.4"
  }
 },
 "nbformat": 4,
 "nbformat_minor": 2
}
