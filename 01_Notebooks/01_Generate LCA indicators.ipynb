{
 "cells": [
  {
   "cell_type": "markdown",
   "metadata": {},
   "source": "# Generation of LCA indicators and associated .mod and .dat files"
  },
  {
   "metadata": {
    "ExecuteTime": {
     "end_time": "2025-03-06T17:23:54.493287Z",
     "start_time": "2025-03-06T17:23:54.340740Z"
    }
   },
   "cell_type": "code",
   "source": [
    "%load_ext autoreload\n",
    "%autoreload 2"
   ],
   "outputs": [],
   "execution_count": 1
  },
  {
   "cell_type": "code",
   "metadata": {
    "ExecuteTime": {
     "end_time": "2025-03-06T17:24:36.782633Z",
     "start_time": "2025-03-06T17:23:54.496801Z"
    }
   },
   "source": [
    "import os\n",
    "import pandas as pd\n",
    "import bw2data as bd\n",
    "from mescal import *\n",
    "from energyscope.models import Model\n",
    "from energyscope.energyscope import Energyscope\n",
    "from energyscope.result import postprocessing"
   ],
   "outputs": [],
   "execution_count": 2
  },
  {
   "metadata": {
    "ExecuteTime": {
     "end_time": "2025-03-06T17:24:37.059279Z",
     "start_time": "2025-03-06T17:24:36.782633Z"
    }
   },
   "cell_type": "code",
   "source": [
    "ei_version = '3.10.1'\n",
    "year = 2020 # 2020 or 2050\n",
    "with_regioinvent = True"
   ],
   "outputs": [],
   "execution_count": 3
  },
  {
   "cell_type": "code",
   "metadata": {
    "ExecuteTime": {
     "end_time": "2025-03-06T17:24:37.362460Z",
     "start_time": "2025-03-06T17:24:37.063347Z"
    }
   },
   "source": [
    "path_inputs = '../01_Notebooks/Data/'\n",
    "path_model = '../02_Model/'\n",
    "path_data = f'../02_Model/{year}/'\n",
    "if with_regioinvent:\n",
    "    path_data_lca = path_data + 'with_regioinvent/'\n",
    "    path_results = f'../03_Results/LCA/{year}/with_regioinvent/'\n",
    "else:\n",
    "    path_data_lca = path_data + 'without_regioinvent/'\n",
    "    path_results = f'../03_Results/LCA/{year}/without_regioinvent/'"
   ],
   "outputs": [],
   "execution_count": 4
  },
  {
   "metadata": {},
   "cell_type": "markdown",
   "source": "## Initialize the EnergyScope model"
  },
  {
   "metadata": {
    "ExecuteTime": {
     "end_time": "2025-03-06T17:24:37.634142Z",
     "start_time": "2025-03-06T17:24:37.362460Z"
    }
   },
   "cell_type": "code",
   "source": [
    "# AMPL licence \n",
    "path_to_ampl_licence = r'C:\\Users\\matth\\ampl' # Path to the AMPL licence file\n",
    "os.environ['PATH'] = path_to_ampl_licence+':'+os.environ['PATH']"
   ],
   "outputs": [],
   "execution_count": 5
  },
  {
   "metadata": {
    "ExecuteTime": {
     "end_time": "2025-03-06T17:24:37.925081Z",
     "start_time": "2025-03-06T17:24:37.636895Z"
    }
   },
   "cell_type": "code",
   "source": [
    "# Define the solver options\n",
    "solver_options = {\n",
    "    'solver': 'gurobi',\n",
    "    'solver_msg': 0,\n",
    "}"
   ],
   "outputs": [],
   "execution_count": 6
  },
  {
   "metadata": {
    "ExecuteTime": {
     "end_time": "2025-03-06T17:24:38.272967Z",
     "start_time": "2025-03-06T17:24:37.927859Z"
    }
   },
   "cell_type": "code",
   "source": [
    "with open(path_model + 'QC_objective_function.mod', 'w') as f:\n",
    "        f.write('minimize obj: TotalCost;')"
   ],
   "outputs": [],
   "execution_count": 7
  },
  {
   "metadata": {
    "ExecuteTime": {
     "end_time": "2025-03-06T17:24:38.540916Z",
     "start_time": "2025-03-06T17:24:38.276786Z"
    }
   },
   "cell_type": "code",
   "source": [
    "# Initialize the 2021 QC model with .mod and .dat files\n",
    "model = Model(\n",
    "    mod_files=[\n",
    "        path_model+'QC_es_main.mod',\n",
    "        path_model+'QC_objective_function.mod',\n",
    "    ],\n",
    "    dat_files=[\n",
    "        path_data+'QC_data.dat',\n",
    "        path_data+'QC_mob_techs_dist_B2D.dat',\n",
    "        path_data+'QC_techs_B2D.dat',\n",
    "        path_data+'QC_mob_params.dat',\n",
    "    ],\n",
    ")"
   ],
   "outputs": [],
   "execution_count": 8
  },
  {
   "metadata": {
    "ExecuteTime": {
     "end_time": "2025-03-06T17:24:38.804Z",
     "start_time": "2025-03-06T17:24:38.542571Z"
    }
   },
   "cell_type": "code",
   "source": [
    "# Initialize the EnergyScope model\n",
    "es = Energyscope(model=model, solver_options=solver_options)"
   ],
   "outputs": [],
   "execution_count": 9
  },
  {
   "metadata": {
    "ExecuteTime": {
     "end_time": "2025-03-06T17:24:41.924506Z",
     "start_time": "2025-03-06T17:24:38.808925Z"
    }
   },
   "cell_type": "code",
   "source": [
    "# Solve the model and get results\n",
    "results = postprocessing(es.calc())"
   ],
   "outputs": [
    {
     "name": "stdout",
     "output_type": "stream",
     "text": [
      "Error:\n",
      "\t../02_Model/2020/QC_mob_techs_dist_B2D.dat\n",
      "\tline 464 offset 67311\n",
      "\t\tinvalid subscript layers_in_out['PLANE_FREIGHT_BIO_ELD','CO2_E']\n",
      "\n",
      "For support/feedback go to https://discuss.ampl.com or e-mail <support@ampl.com>\n",
      "\n"
     ]
    },
    {
     "ename": "AMPLException",
     "evalue": "../02_Model/2020/QC_mob_techs_dist_B2D.dat\nline 464 offset 67311\n\tinvalid subscript layers_in_out['PLANE_FREIGHT_BIO_ELD','CO2_E']",
     "output_type": "error",
     "traceback": [
      "\u001B[1;31m---------------------------------------------------------------------------\u001B[0m",
      "\u001B[1;31mAMPLException\u001B[0m                             Traceback (most recent call last)",
      "Cell \u001B[1;32mIn[10], line 2\u001B[0m\n\u001B[0;32m      1\u001B[0m \u001B[38;5;66;03m# Solve the model and get results\u001B[39;00m\n\u001B[1;32m----> 2\u001B[0m results \u001B[38;5;241m=\u001B[39m postprocessing(\u001B[43mes\u001B[49m\u001B[38;5;241;43m.\u001B[39;49m\u001B[43mcalc\u001B[49m\u001B[43m(\u001B[49m\u001B[43m)\u001B[49m)\n",
      "File \u001B[1;32m~\\PycharmProjects\\energyscope-lca\\.venv\\Lib\\site-packages\\energyscope\\energyscope.py:67\u001B[0m, in \u001B[0;36mEnergyscope.calc\u001B[1;34m(self, ds, parser)\u001B[0m\n\u001B[0;32m     63\u001B[0m \u001B[38;5;250m\u001B[39m\u001B[38;5;124;03m\"\"\"\u001B[39;00m\n\u001B[0;32m     64\u001B[0m \u001B[38;5;124;03mCalls AMPL with `df` as .dat and returns the parsed result.\u001B[39;00m\n\u001B[0;32m     65\u001B[0m \u001B[38;5;124;03m\"\"\"\u001B[39;00m\n\u001B[0;32m     66\u001B[0m \u001B[38;5;28;01mif\u001B[39;00m \u001B[38;5;28mself\u001B[39m\u001B[38;5;241m.\u001B[39mes_model\u001B[38;5;241m.\u001B[39mgetSets()\u001B[38;5;241m.\u001B[39m\u001B[38;5;21m__len__\u001B[39m() \u001B[38;5;241m==\u001B[39m \u001B[38;5;241m0\u001B[39m: \u001B[38;5;66;03m# Check if AMPL instance is empty\u001B[39;00m\n\u001B[1;32m---> 67\u001B[0m     \u001B[38;5;28;43mself\u001B[39;49m\u001B[38;5;241;43m.\u001B[39;49m\u001B[43m_initial_run\u001B[49m\u001B[43m(\u001B[49m\u001B[43mds\u001B[49m\u001B[38;5;241;43m=\u001B[39;49m\u001B[43mds\u001B[49m\u001B[43m)\u001B[49m\n\u001B[0;32m     69\u001B[0m \u001B[38;5;66;03m# Solve the model\u001B[39;00m\n\u001B[0;32m     70\u001B[0m \u001B[38;5;28mself\u001B[39m\u001B[38;5;241m.\u001B[39mes_model\u001B[38;5;241m.\u001B[39msolve()\n",
      "File \u001B[1;32m~\\PycharmProjects\\energyscope-lca\\.venv\\Lib\\site-packages\\energyscope\\energyscope.py:56\u001B[0m, in \u001B[0;36mEnergyscope._initial_run\u001B[1;34m(self, ds)\u001B[0m\n\u001B[0;32m     51\u001B[0m \u001B[38;5;250m\u001B[39m\u001B[38;5;124;03m\"\"\"\u001B[39;00m\n\u001B[0;32m     52\u001B[0m \u001B[38;5;124;03mCalls AMPL with `df` as .dat.\u001B[39;00m\n\u001B[0;32m     53\u001B[0m \u001B[38;5;124;03m\"\"\"\u001B[39;00m\n\u001B[0;32m     55\u001B[0m \u001B[38;5;66;03m# Load the model files\u001B[39;00m\n\u001B[1;32m---> 56\u001B[0m \u001B[38;5;28;43mself\u001B[39;49m\u001B[38;5;241;43m.\u001B[39;49m\u001B[43m_load_model_files\u001B[49m\u001B[43m(\u001B[49m\u001B[43mds\u001B[49m\u001B[38;5;241;43m=\u001B[39;49m\u001B[43mds\u001B[49m\u001B[43m)\u001B[49m\n\u001B[0;32m     58\u001B[0m \u001B[38;5;66;03m# Set solver options if provided\u001B[39;00m\n\u001B[0;32m     59\u001B[0m \u001B[38;5;28;01mfor\u001B[39;00m name, value \u001B[38;5;129;01min\u001B[39;00m \u001B[38;5;28mself\u001B[39m\u001B[38;5;241m.\u001B[39msolver_options\u001B[38;5;241m.\u001B[39mitems():\n",
      "File \u001B[1;32m~\\PycharmProjects\\energyscope-lca\\.venv\\Lib\\site-packages\\energyscope\\energyscope.py:42\u001B[0m, in \u001B[0;36mEnergyscope._load_model_files\u001B[1;34m(self, ds)\u001B[0m\n\u001B[0;32m     39\u001B[0m     \u001B[38;5;28mself\u001B[39m\u001B[38;5;241m.\u001B[39mes_model\u001B[38;5;241m.\u001B[39mread(mod_file)\n\u001B[0;32m     41\u001B[0m \u001B[38;5;28;01mfor\u001B[39;00m dat_file \u001B[38;5;129;01min\u001B[39;00m \u001B[38;5;28mself\u001B[39m\u001B[38;5;241m.\u001B[39mmodel\u001B[38;5;241m.\u001B[39mdat_files:\n\u001B[1;32m---> 42\u001B[0m     \u001B[38;5;28;43mself\u001B[39;49m\u001B[38;5;241;43m.\u001B[39;49m\u001B[43mes_model\u001B[49m\u001B[38;5;241;43m.\u001B[39;49m\u001B[43mread_data\u001B[49m\u001B[43m(\u001B[49m\u001B[43mdat_file\u001B[49m\u001B[43m)\u001B[49m\n\u001B[0;32m     44\u001B[0m \u001B[38;5;66;03m# Set dataset-specific data if provided\u001B[39;00m\n\u001B[0;32m     45\u001B[0m \u001B[38;5;28;01mif\u001B[39;00m ds:\n",
      "File \u001B[1;32m~\\PycharmProjects\\energyscope-lca\\.venv\\Lib\\site-packages\\amplpy\\ampl.py:443\u001B[0m, in \u001B[0;36mAMPL.read_data\u001B[1;34m(self, filename)\u001B[0m\n\u001B[0;32m    441\u001B[0m filename \u001B[38;5;241m=\u001B[39m \u001B[38;5;28mstr\u001B[39m(filename)\n\u001B[0;32m    442\u001B[0m \u001B[38;5;28mself\u001B[39m\u001B[38;5;241m.\u001B[39m_impl\u001B[38;5;241m.\u001B[39mreadData(filename)\n\u001B[1;32m--> 443\u001B[0m \u001B[38;5;28;43mself\u001B[39;49m\u001B[38;5;241;43m.\u001B[39;49m\u001B[43m_error_handler_wrapper\u001B[49m\u001B[38;5;241;43m.\u001B[39;49m\u001B[43mcheck\u001B[49m\u001B[43m(\u001B[49m\u001B[43m)\u001B[49m\n",
      "File \u001B[1;32m~\\PycharmProjects\\energyscope-lca\\.venv\\Lib\\site-packages\\amplpy\\ampl.py:575\u001B[0m, in \u001B[0;36mAMPL.set_error_handler.<locals>.ErrorHandlerWrapper.check\u001B[1;34m(self)\u001B[0m\n\u001B[0;32m    573\u001B[0m exp \u001B[38;5;241m=\u001B[39m \u001B[38;5;28mself\u001B[39m\u001B[38;5;241m.\u001B[39mlast_exception\n\u001B[0;32m    574\u001B[0m \u001B[38;5;28mself\u001B[39m\u001B[38;5;241m.\u001B[39mlast_exception \u001B[38;5;241m=\u001B[39m \u001B[38;5;28;01mNone\u001B[39;00m\n\u001B[1;32m--> 575\u001B[0m \u001B[38;5;28;01mraise\u001B[39;00m exp\n",
      "File \u001B[1;32m~\\PycharmProjects\\energyscope-lca\\.venv\\Lib\\site-packages\\amplpy\\ampl.py:559\u001B[0m, in \u001B[0;36mAMPL.set_error_handler.<locals>.ErrorHandlerWrapper.error\u001B[1;34m(self, exception)\u001B[0m\n\u001B[0;32m    557\u001B[0m     exception \u001B[38;5;241m=\u001B[39m exceptions\u001B[38;5;241m.\u001B[39mAMPLException(exception)\n\u001B[0;32m    558\u001B[0m \u001B[38;5;28;01mtry\u001B[39;00m:\n\u001B[1;32m--> 559\u001B[0m     \u001B[38;5;28;43mself\u001B[39;49m\u001B[38;5;241;43m.\u001B[39;49m\u001B[43merror_handler\u001B[49m\u001B[38;5;241;43m.\u001B[39;49m\u001B[43merror\u001B[49m\u001B[43m(\u001B[49m\u001B[43mexception\u001B[49m\u001B[43m)\u001B[49m\n\u001B[0;32m    560\u001B[0m \u001B[38;5;28;01mexcept\u001B[39;00m \u001B[38;5;167;01mException\u001B[39;00m \u001B[38;5;28;01mas\u001B[39;00m exp:\n\u001B[0;32m    561\u001B[0m     \u001B[38;5;28mself\u001B[39m\u001B[38;5;241m.\u001B[39mlast_exception \u001B[38;5;241m=\u001B[39m exp\n",
      "File \u001B[1;32m~\\PycharmProjects\\energyscope-lca\\.venv\\Lib\\site-packages\\amplpy\\errorhandler.py:31\u001B[0m, in \u001B[0;36mErrorHandler.error\u001B[1;34m(self, exception)\u001B[0m\n\u001B[0;32m     27\u001B[0m \u001B[38;5;250m\u001B[39m\u001B[38;5;124;03m\"\"\"\u001B[39;00m\n\u001B[0;32m     28\u001B[0m \u001B[38;5;124;03mReceives notification of an error.\u001B[39;00m\n\u001B[0;32m     29\u001B[0m \u001B[38;5;124;03m\"\"\"\u001B[39;00m\n\u001B[0;32m     30\u001B[0m display_error_message(exception)\n\u001B[1;32m---> 31\u001B[0m \u001B[38;5;28;01mraise\u001B[39;00m exception\n",
      "\u001B[1;31mAMPLException\u001B[0m: ../02_Model/2020/QC_mob_techs_dist_B2D.dat\nline 464 offset 67311\n\tinvalid subscript layers_in_out['PLANE_FREIGHT_BIO_ELD','CO2_E']"
     ]
    }
   ],
   "execution_count": 10
  },
  {
   "cell_type": "markdown",
   "metadata": {},
   "source": [
    "## Load data and initialize the ESM class"
   ]
  },
  {
   "cell_type": "code",
   "metadata": {
    "ExecuteTime": {
     "end_time": "2025-03-05T18:34:49.602429Z",
     "start_time": "2025-03-05T18:34:48.986119Z"
    }
   },
   "source": [
    "# Load the data\n",
    "mapping = pd.read_csv(path_inputs+f'mapping.csv')\n",
    "unit_conversion = pd.read_excel(path_inputs+'unit_conversion.xlsx')  # open file and press enter in one computation cell to avoid misreading\n",
    "techno_compositions = pd.read_csv(path_inputs+'technology_compositions.csv')\n",
    "tech_specifics = pd.read_csv(path_inputs+'technology_specifics.csv')\n",
    "efficiency = pd.read_csv(path_inputs+'efficiency.csv')\n",
    "lifetime = pd.read_csv(path_inputs+'lifetime.csv')\n",
    "mapping_es_flows_to_cpc = pd.read_csv(path_inputs+'mapping_esm_flows_to_CPC.csv')\n",
    "impact_abbrev = pd.read_csv(path_inputs+'impact_abbrev.csv')"
   ],
   "outputs": [],
   "execution_count": 11
  },
  {
   "cell_type": "code",
   "metadata": {
    "ExecuteTime": {
     "end_time": "2025-03-05T18:34:50.010501Z",
     "start_time": "2025-03-05T18:34:49.602429Z"
    }
   },
   "source": [
    "# Load the model from energyscope model\n",
    "model = results.parameters['layers_in_out'].reset_index().rename(columns={'index0':'Name', 'index1':'Flow', 'layers_in_out':'Amount'}).drop(columns=['Run'])\n",
    "model = model[model['Amount'] != 0]"
   ],
   "outputs": [],
   "execution_count": 12
  },
  {
   "cell_type": "code",
   "metadata": {
    "ExecuteTime": {
     "end_time": "2025-03-05T18:34:50.378577Z",
     "start_time": "2025-03-05T18:34:50.010501Z"
    }
   },
   "source": [
    "# Databases names\n",
    "name_main_database = f'ecoinvent_cutoff_{ei_version}_image_SSP2-Base_{year}+truck_carculator regionalized_75'\n",
    "name_regioinvent_db = f'regioinvent_cutoff_{ei_version}_image_SSP2-Base_{year}+truck_carculator_75'\n",
    "name_biosphere_db = f'ecoinvent-{ei_version}-biosphere'\n",
    "name_spatialized_biosphere_db = 'biosphere3_spatialized_flows'\n",
    "name_es_database = f'EnergyScope_CA-QC_{year}_75'\n",
    "\n",
    "if not with_regioinvent:\n",
    "    name_main_database += '_wo_regioinvent'\n",
    "    name_es_database += '_wo_regioinvent'"
   ],
   "outputs": [],
   "execution_count": 13
  },
  {
   "cell_type": "code",
   "metadata": {
    "ExecuteTime": {
     "end_time": "2025-03-05T18:34:51.382071Z",
     "start_time": "2025-03-05T18:34:50.378577Z"
    }
   },
   "source": [
    "# Set up your Brightway project\n",
    "bd.projects.set_current(f'ecoinvent{ei_version}')"
   ],
   "outputs": [],
   "execution_count": 14
  },
  {
   "cell_type": "code",
   "metadata": {
    "ExecuteTime": {
     "end_time": "2025-03-05T18:36:04.278175Z",
     "start_time": "2025-03-05T18:34:51.384281Z"
    }
   },
   "source": [
    "if with_regioinvent:\n",
    "    main_db = Database(db_names=[name_main_database, name_regioinvent_db], create_pickle=True)\n",
    "else:\n",
    "    main_db = Database(db_names=name_main_database, create_pickle=True)"
   ],
   "outputs": [
    {
     "name": "stdout",
     "output_type": "stream",
     "text": [
      "Loaded ecoinvent_cutoff_3.10.1_image_SSP2-Base_2020+truck_carculator regionalized from pickle!\n",
      "Loaded regioinvent_cutoff_3.10.1_image_SSP2-Base_2020+truck_carculator from pickle!\n"
     ]
    }
   ],
   "execution_count": 15
  },
  {
   "cell_type": "code",
   "metadata": {
    "ExecuteTime": {
     "end_time": "2025-03-05T18:36:05.346133Z",
     "start_time": "2025-03-05T18:36:04.278175Z"
    }
   },
   "source": [
    "ranking_best_ecoinvent_locations_for_QC = [\n",
    "    'CA-QC', # Quebec\n",
    "    'CA', # Canada\n",
    "    'CAN', # Canada in IMAGE\n",
    "    'CAZ', # Canada - Australia - New Zealand in REMIND\n",
    "    'RNA', # North America\n",
    "    'US', # United States\n",
    "    'USA', # United States in REMIND and IMAGE\n",
    "    'GLO', # Global average \n",
    "    'RoW', # Rest of the world\n",
    "]"
   ],
   "outputs": [],
   "execution_count": 16
  },
  {
   "cell_type": "code",
   "metadata": {
    "ExecuteTime": {
     "end_time": "2025-03-05T18:36:23.048002Z",
     "start_time": "2025-03-05T18:36:05.350721Z"
    }
   },
   "source": [
    "# Add CPC categories to the main database\n",
    "main_db.add_CPC_categories()"
   ],
   "outputs": [],
   "execution_count": 17
  },
  {
   "cell_type": "code",
   "metadata": {
    "ExecuteTime": {
     "end_time": "2025-03-05T18:36:23.993202Z",
     "start_time": "2025-03-05T18:36:23.048002Z"
    }
   },
   "source": [
    "# Change the main database name if needed\n",
    "if mapping['Database'].iloc[0] != name_main_database:\n",
    "    mapping['Database'] = len(mapping) * [name_main_database]\n",
    "missing_flows = main_db.test_mapping_file(mapping)"
   ],
   "outputs": [
    {
     "name": "stdout",
     "output_type": "stream",
     "text": [
      "Mapping successfully linked to the database\n"
     ]
    }
   ],
   "execution_count": 18
  },
  {
   "metadata": {
    "ExecuteTime": {
     "end_time": "2025-03-05T18:36:43.604574Z",
     "start_time": "2025-03-05T18:36:23.993202Z"
    }
   },
   "cell_type": "code",
   "source": [
    "esm = ESM(\n",
    "    # Mandatory inputs\n",
    "    mapping=mapping,\n",
    "    unit_conversion=unit_conversion,\n",
    "    model=model,\n",
    "    mapping_esm_flows_to_CPC_cat=mapping_es_flows_to_cpc,\n",
    "    main_database=main_db,\n",
    "    esm_db_name=name_es_database,\n",
    "    \n",
    "    # Optional inputs\n",
    "    technology_compositions=techno_compositions,\n",
    "    tech_specifics=tech_specifics,\n",
    "    lifetime=lifetime,\n",
    "    efficiency=efficiency,\n",
    "    regionalize_foregrounds=True,\n",
    "    accepted_locations=['CA-QC'],\n",
    "    locations_ranking=ranking_best_ecoinvent_locations_for_QC,\n",
    "    esm_location='CA-QC',\n",
    "    results_path_file=path_results,\n",
    "    biosphere_db_name=name_biosphere_db,\n",
    "    \n",
    "    # If we want regionalized results \n",
    "    spatialized_biosphere_db=Database(name_spatialized_biosphere_db),\n",
    ")"
   ],
   "outputs": [
    {
     "name": "stdout",
     "output_type": "stream",
     "text": [
      "Getting activity data\n"
     ]
    },
    {
     "name": "stderr",
     "output_type": "stream",
     "text": [
      "100%|██████████| 110559/110559 [00:01<00:00, 96702.45it/s]\n"
     ]
    },
    {
     "name": "stdout",
     "output_type": "stream",
     "text": [
      "Adding exchange data to activities\n"
     ]
    },
    {
     "name": "stderr",
     "output_type": "stream",
     "text": [
      "0it [00:00, ?it/s]\n"
     ]
    },
    {
     "name": "stdout",
     "output_type": "stream",
     "text": [
      "Filling out exchange data\n"
     ]
    },
    {
     "name": "stderr",
     "output_type": "stream",
     "text": [
      "100%|██████████| 110559/110559 [00:00<00:00, 1136864.80it/s]\n"
     ]
    },
    {
     "name": "stdout",
     "output_type": "stream",
     "text": [
      "Loaded biosphere3_spatialized_flows from brightway!\n"
     ]
    }
   ],
   "execution_count": 19
  },
  {
   "metadata": {
    "ExecuteTime": {
     "end_time": "2025-03-05T18:36:45.303136Z",
     "start_time": "2025-03-05T18:36:43.606583Z"
    }
   },
   "cell_type": "code",
   "source": "esm.check_inputs()",
   "outputs": [
    {
     "name": "stdout",
     "output_type": "stream",
     "text": [
      "List of technologies or resources that are in the model file but not in the mapping file. Their impact scores will be set to the default value.\n",
      "\n",
      "--> ['CO2_E', 'DEC_RENOVATION', 'DHN_RENOVATION', 'DIESEL_S', 'ELEC_S', 'GASOLINE_S', 'HT_LT', 'LT_DEC_WH', 'LT_DHN_WH', 'NG_S', 'RES_GEO', 'RES_HYDRO', 'RES_SOLAR', 'RES_TIDAL', 'RES_WIND_OFFSHORE', 'RES_WIND_ONSHORE', 'STO_CO2', 'STO_DIE', 'STO_ELEC', 'STO_GASO', 'STO_H2', 'STO_NG']\n",
      "\n",
      "List of technologies or resources that are in the mapping file but not in the model file (this will not be a problem in the workflow).\n",
      "\n",
      "--> ['BATTERY', 'DEC_TH_STORAGE', 'DHN_TH_STORAGE', 'EHV_GRID', 'HV_GRID', 'LV_GRID', 'MV_GRID']\n",
      "\n",
      "List of technologies that are in the tech_specifics file but not in the mapping file (this will not be a problem in the workflow).\n",
      "\n",
      "--> ['AEC_OG', 'MOB_FREIGHT_ELD', 'MOB_FREIGHT_LD', 'MOB_FREIGHT_MD', 'MOB_FREIGHT_SD', 'MOB_PRIVATE_ELD', 'MOB_PRIVATE_LD', 'MOB_PRIVATE_MD', 'MOB_PRIVATE_SD', 'MOB_PUBLIC_ELD', 'MOB_PUBLIC_LD', 'MOB_PUBLIC_MD', 'MOB_PUBLIC_SD', 'PEMEC_OG', 'SOEC_OG']\n",
      "\n"
     ]
    }
   ],
   "execution_count": 20
  },
  {
   "metadata": {
    "ExecuteTime": {
     "end_time": "2025-03-05T18:37:39.193080Z",
     "start_time": "2025-03-05T18:36:45.303136Z"
    }
   },
   "cell_type": "code",
   "source": [
    "# Adapt mapping file to ESM location\n",
    "esm.change_location_mapping_file()\n",
    "esm.mapping.to_csv(path_inputs+f'mapping.csv', index=False)"
   ],
   "outputs": [],
   "execution_count": 21
  },
  {
   "metadata": {
    "ExecuteTime": {
     "end_time": "2025-03-05T18:37:47.389752Z",
     "start_time": "2025-03-05T18:37:47.076202Z"
    }
   },
   "cell_type": "code",
   "source": "main_db = {}  # Free memory",
   "outputs": [],
   "execution_count": 24
  },
  {
   "metadata": {},
   "cell_type": "markdown",
   "source": "### Generate ESM database"
  },
  {
   "metadata": {
    "ExecuteTime": {
     "end_time": "2025-03-05T18:22:06.390719Z",
     "start_time": "2025-03-05T17:53:39.665058Z"
    }
   },
   "cell_type": "code",
   "source": [
    "# Foreground regionalization, double-counting removal, and efficiency harmonization\n",
    "esm.create_esm_database()"
   ],
   "outputs": [
    {
     "name": "stdout",
     "output_type": "stream",
     "text": [
      "### Starting to add construction and resource activities database ###\n",
      "No location found in your ranking for waste polystyrene - market group for waste polystyrene\n",
      "--> Have to keep the initial location: Europe without Switzerland\n",
      "No location found in your ranking for waste polyvinylchloride - market group for waste polyvinylchloride\n",
      "--> Have to keep the initial location: Europe without Switzerland\n",
      "No location found in your ranking for waste plastic, mixture - market group for waste plastic, mixture\n",
      "--> Have to keep the initial location: Europe without Switzerland\n",
      "No location found in your ranking for waste polyethylene - market group for waste polyethylene\n",
      "--> Have to keep the initial location: Europe without Switzerland\n",
      "No location found in your ranking for waste glass - market group for waste glass\n",
      "--> Have to keep the initial location: RER\n",
      "No location found in your ranking for iridium - platinum group metal, extraction and refinery operations\n",
      "--> Have to keep the initial location: ZA\n",
      "### Construction and resource activities added to the database ###\n",
      "--> Time: 366.0 seconds\n",
      "### Starting to remove double-counted flows ###\n",
      "No location found in your ranking for aluminium, primary, ingot - aluminium, ingot, primary, import from Rest of Europe\n",
      "--> Have to keep the initial location: IAI Area, EU27 & EFTA\n",
      "No location found in your ranking for waste packaging paper - market group for waste packaging paper\n",
      "--> Have to keep the initial location: RER\n",
      "No location found in your ranking for municipal solid waste - market group for municipal solid waste\n",
      "--> Have to keep the initial location: RER\n",
      "No location found in your ranking for waste paperboard - market group for waste paperboard\n",
      "--> Have to keep the initial location: RER\n",
      "### Double-counting removal done ###\n",
      "--> Time: 601.0 seconds\n",
      "### Starting to correct efficiency differences ###\n",
      "Warning: flow of type TRANSPORT_FUEL found for BUS_PROPANE_SD in efficiency file, but not in model file.\n",
      "Warning: flow of type TRANSPORT_FUEL found for CAR_PROPANE_ELD in efficiency file, but not in model file.\n",
      "Warning: flow of type TRANSPORT_FUEL found for CAR_PROPANE_LD in efficiency file, but not in model file.\n",
      "Warning: flow of type TRANSPORT_FUEL found for CAR_PROPANE_MD in efficiency file, but not in model file.\n",
      "Warning: flow of type TRANSPORT_FUEL found for CAR_PROPANE_SD in efficiency file, but not in model file.\n",
      "Warning: flow of type TRANSPORT_FUEL found for COACH_PROPANE_ELD in efficiency file, but not in model file.\n",
      "Warning: flow of type TRANSPORT_FUEL found for COACH_PROPANE_LD in efficiency file, but not in model file.\n",
      "Warning: flow of type TRANSPORT_FUEL found for COACH_PROPANE_MD in efficiency file, but not in model file.\n",
      "Warning: flow of type TRANSPORT_FUEL found for LCV_PROPANE_MD in efficiency file, but not in model file.\n",
      "Warning: flow of type TRANSPORT_FUEL found for LCV_PROPANE_SD in efficiency file, but not in model file.\n",
      "Warning: flow of type TRANSPORT_FUEL found for SCHOOLBUS_PROPANE_SD in efficiency file, but not in model file.\n",
      "Warning: flow of type TRANSPORT_FUEL found for SEMI_LH_PROPANE_ELD in efficiency file, but not in model file.\n",
      "Warning: flow of type TRANSPORT_FUEL found for SEMI_LH_PROPANE_LD in efficiency file, but not in model file.\n",
      "Warning: flow of type TRANSPORT_FUEL found for SEMI_SH_PROPANE_MD in efficiency file, but not in model file.\n",
      "Warning: flow of type TRANSPORT_FUEL found for SUV_PROPANE_ELD in efficiency file, but not in model file.\n",
      "Warning: flow of type TRANSPORT_FUEL found for SUV_PROPANE_LD in efficiency file, but not in model file.\n",
      "Warning: flow of type TRANSPORT_FUEL found for SUV_PROPANE_MD in efficiency file, but not in model file.\n",
      "Warning: flow of type TRANSPORT_FUEL found for SUV_PROPANE_SD in efficiency file, but not in model file.\n",
      "Warning: flow of type TRANSPORT_FUEL found for TRUCK_LH_PROPANE_LD in efficiency file, but not in model file.\n",
      "Warning: flow of type TRANSPORT_FUEL found for TRUCK_SH_PROPANE_MD in efficiency file, but not in model file.\n",
      "Warning: flow of type TRANSPORT_FUEL found for TRUCK_SH_PROPANE_SD in efficiency file, but not in model file.\n",
      "No flow found for type(s) ['WOOD'] in BIOGAS_ATR. The efficiency of this technology cannot be adjusted.\n",
      "No flow found for type(s) ['WOOD'] in BIOGAS_ATR_CCS. The efficiency of this technology cannot be adjusted.\n",
      "No flow found for type(s) ['WOOD'] in BIOGAS_SMR. The efficiency of this technology cannot be adjusted.\n",
      "No flow found for type(s) ['WOOD'] in BIOGAS_SMR_CCS. The efficiency of this technology cannot be adjusted.\n",
      "No flow found for type(s) ['NG_HP'] in CCGT_CC. The efficiency of this technology cannot be adjusted.\n",
      "No flow found for type(s) ['COAL'] in COAL_GAS_H2. The efficiency of this technology cannot be adjusted.\n",
      "No flow found for type(s) ['COAL'] in COAL_GAS_H2_ADV. The efficiency of this technology cannot be adjusted.\n",
      "No flow found for type(s) ['COAL'] in COAL_GAS_H2_ADV_CCS. The efficiency of this technology cannot be adjusted.\n",
      "No flow found for type(s) ['COAL'] in COAL_GAS_H2_CCS. The efficiency of this technology cannot be adjusted.\n",
      "No flow found for type(s) ['COAL'] in COAL_IGCC. The efficiency of this technology cannot be adjusted.\n",
      "No flow found for type(s) ['NG_LP'] in DEC_BOILER_GAS. The efficiency of this technology cannot be adjusted.\n",
      "No flow found for type(s) ['LFO'] in DEC_BOILER_OIL. The efficiency of this technology cannot be adjusted.\n",
      "No flow found for type(s) ['NG_LP'] in DEC_COGEN_GAS. The efficiency of this technology cannot be adjusted.\n",
      "No flow found for type(s) ['LFO'] in DEC_COGEN_OIL. The efficiency of this technology cannot be adjusted.\n",
      "No flow found for type(s) ['NG_LP'] in DEC_THHP_GAS. The efficiency of this technology cannot be adjusted.\n",
      "No flow found for type(s) ['NG_MP'] in DHN_BOILER_GAS. The efficiency of this technology cannot be adjusted.\n",
      "No flow found for type(s) ['LFO'] in DHN_BOILER_OIL. The efficiency of this technology cannot be adjusted.\n",
      "No flow found for type(s) ['NG_MP'] in DHN_COGEN_GAS. The efficiency of this technology cannot be adjusted.\n",
      "No flow found for type(s) ['WASTE'] in DHN_COGEN_WASTE. The efficiency of this technology cannot be adjusted.\n",
      "No flow found for type(s) ['WASTE'] in DHN_COGEN_WASTE_CC. The efficiency of this technology cannot be adjusted.\n",
      "No flow found for type(s) ['NG_MP'] in H2_NG_CCGT_CCS. The efficiency of this technology cannot be adjusted.\n",
      "No flow found for type(s) ['COAL'] in IND_BOILER_COAL. The efficiency of this technology cannot be adjusted.\n",
      "No flow found for type(s) ['NG_MP'] in IND_BOILER_GAS. The efficiency of this technology cannot be adjusted.\n",
      "No flow found for type(s) ['LFO'] in IND_BOILER_OIL. The efficiency of this technology cannot be adjusted.\n",
      "No flow found for type(s) ['WASTE'] in IND_BOILER_WASTE. The efficiency of this technology cannot be adjusted.\n",
      "No flow found for type(s) ['WASTE'] in IND_BOILER_WASTE_CC. The efficiency of this technology cannot be adjusted.\n",
      "No flow found for type(s) ['NG_MP'] in IND_COGEN_GAS. The efficiency of this technology cannot be adjusted.\n",
      "No flow found for type(s) ['WASTE'] in IND_COGEN_WASTE. The efficiency of this technology cannot be adjusted.\n",
      "No flow found for type(s) ['WASTE'] in IND_COGEN_WASTE_CC. The efficiency of this technology cannot be adjusted.\n",
      "No flow found for type(s) ['NG_HP'] in LCV_CNG_MD. The efficiency of this technology cannot be adjusted.\n",
      "No flow found for type(s) ['NG_HP'] in LCV_CNG_SD. The efficiency of this technology cannot be adjusted.\n",
      "No flow found for type(s) ['PROPANE', 'TRANSPORT_FUEL'] in LCV_PROPANE_MD. The efficiency of this technology cannot be adjusted.\n",
      "No flow found for type(s) ['PROPANE', 'TRANSPORT_FUEL'] in LCV_PROPANE_SD. The efficiency of this technology cannot be adjusted.\n",
      "No flow found for type(s) ['NG_MP'] in NG_PYROLYSIS_PLASMA. The efficiency of this technology cannot be adjusted.\n",
      "No flow found for type(s) ['NG_MP'] in NG_PYROLYSIS_THERMAL. The efficiency of this technology cannot be adjusted.\n",
      "No flow found for type(s) ['NG_MP'] in NG_REFORMING. The efficiency of this technology cannot be adjusted.\n",
      "No flow found for type(s) ['WOOD'] in PYROLYSIS. The efficiency of this technology cannot be adjusted.\n",
      "No flow found for type(s) ['NG_HP'] in SEMI_SH_CNG_MD. The efficiency of this technology cannot be adjusted.\n",
      "No flow found for type(s) ['PROPANE', 'TRANSPORT_FUEL'] in SEMI_SH_PROPANE_MD. The efficiency of this technology cannot be adjusted.\n",
      "No flow found for type(s) ['NG_HP'] in SMR. The efficiency of this technology cannot be adjusted.\n",
      "No flow found for type(s) ['NG_HP'] in SMR_CCS. The efficiency of this technology cannot be adjusted.\n",
      "No flow found for type(s) ['NG_HP'] in TRUCK_LH_CNG_LD. The efficiency of this technology cannot be adjusted.\n",
      "No flow found for type(s) ['PROPANE', 'TRANSPORT_FUEL'] in TRUCK_LH_PROPANE_LD. The efficiency of this technology cannot be adjusted.\n",
      "No flow found for type(s) ['NG_HP'] in TRUCK_SH_CNG_MD. The efficiency of this technology cannot be adjusted.\n",
      "No flow found for type(s) ['NG_HP'] in TRUCK_SH_CNG_SD. The efficiency of this technology cannot be adjusted.\n",
      "No flow found for type(s) ['PROPANE', 'TRANSPORT_FUEL'] in TRUCK_SH_PROPANE_MD. The efficiency of this technology cannot be adjusted.\n",
      "No flow found for type(s) ['PROPANE', 'TRANSPORT_FUEL'] in TRUCK_SH_PROPANE_SD. The efficiency of this technology cannot be adjusted.\n",
      "Several names possible for the same type of flow in DEC_BOILER_WOOD: {'wood ash mixture', 'biomass'}. Kept the first one.\n",
      "Several names possible for the same type of flow in DEC_COGEN_WOOD: {'wood ash mixture', 'biomass'}. Kept the first one.\n",
      "Several names possible for the same type of flow in DHN_BOILER_WOOD: {'wood ash mixture', 'biomass'}. Kept the first one.\n",
      "Several names possible for the same type of flow in DHN_COGEN_WOOD: {'wood ash mixture', 'biomass'}. Kept the first one.\n",
      "Several names possible for the same type of flow in GASIFICATION_H2: {'wood ash mixture', 'wood chips'}. Kept the first one.\n",
      "Several names possible for the same type of flow in IND_BOILER_WOOD: {'wood ash mixture', 'biomass'}. Kept the first one.\n",
      "Several names possible for the same type of flow in IND_COGEN_WOOD: {'wood ash mixture', 'biomass'}. Kept the first one.\n",
      "No flow of type PROPANE has been removed in BUS_PROPANE_SD.\n",
      "No flow of type PROPANE has been removed in CAR_PROPANE_ELD.\n",
      "No flow of type PROPANE has been removed in CAR_PROPANE_LD.\n",
      "No flow of type PROPANE has been removed in CAR_PROPANE_MD.\n",
      "No flow of type PROPANE has been removed in CAR_PROPANE_SD.\n",
      "No flow of type PROPANE has been removed in COACH_PROPANE_ELD.\n",
      "No flow of type PROPANE has been removed in COACH_PROPANE_LD.\n",
      "No flow of type PROPANE has been removed in COACH_PROPANE_MD.\n",
      "No flow of type PROPANE has been removed in SCHOOLBUS_PROPANE_SD.\n",
      "No flow of type PROPANE has been removed in SEMI_LH_PROPANE_ELD.\n",
      "No flow of type PROPANE has been removed in SEMI_LH_PROPANE_LD.\n",
      "No flow of type PROPANE has been removed in SUV_PROPANE_ELD.\n",
      "No flow of type PROPANE has been removed in SUV_PROPANE_LD.\n",
      "No flow of type PROPANE has been removed in SUV_PROPANE_MD.\n",
      "No flow of type PROPANE has been removed in SUV_PROPANE_SD.\n",
      "### Efficiency differences corrected ###\n",
      "--> Time: 68.0 seconds\n",
      "### Starting to write database ###\n"
     ]
    },
    {
     "name": "stderr",
     "output_type": "stream",
     "text": [
      "Writing activities to SQLite3 database:\n",
      "0% [##############################] 100% | ETA: 00:00:00\n",
      "Total time elapsed: 00:00:45\n"
     ]
    },
    {
     "name": "stdout",
     "output_type": "stream",
     "text": [
      "Title: Writing activities to SQLite3 database:\n",
      "  Started: 03/05/2025 13:17:20\n",
      "  Finished: 03/05/2025 13:18:06\n",
      "  Total time elapsed: 00:00:45\n",
      "  CPU %: 58.60\n",
      "  Memory %: 36.08\n",
      "EnergyScope_CA-QC_2020 written to Brightway!\n",
      "### Database written ###\n",
      "--> Time: 346.0 seconds\n"
     ]
    }
   ],
   "execution_count": 22
  },
  {
   "metadata": {
    "ExecuteTime": {
     "end_time": "2025-03-05T18:22:06.907160Z",
     "start_time": "2025-03-05T18:22:06.393767Z"
    }
   },
   "cell_type": "code",
   "source": [
    "# Save the mapping file with new codes for later use\n",
    "esm.mapping.to_csv(path_results+'mapping_with_new_codes.csv', index=False)"
   ],
   "outputs": [],
   "execution_count": 23
  },
  {
   "metadata": {},
   "cell_type": "markdown",
   "source": "## Generate LCA metrics "
  },
  {
   "metadata": {
    "ExecuteTime": {
     "end_time": "2025-03-05T18:37:39.618712Z",
     "start_time": "2025-03-05T18:37:39.199509Z"
    }
   },
   "cell_type": "code",
   "source": [
    "# If the ESM database is already created\n",
    "esm.mapping = pd.read_csv(path_results+'mapping_with_new_codes.csv')"
   ],
   "outputs": [],
   "execution_count": 22
  },
  {
   "cell_type": "code",
   "metadata": {
    "ExecuteTime": {
     "end_time": "2025-03-05T18:37:40.000496Z",
     "start_time": "2025-03-05T18:37:39.618712Z"
    }
   },
   "source": "methods = ['IMPACT World+ Midpoint 2.1_regionalized for ecoinvent v3.10', 'IMPACT World+ Damage 2.1_regionalized for ecoinvent v3.10']",
   "outputs": [],
   "execution_count": 23
  },
  {
   "metadata": {},
   "cell_type": "markdown",
   "source": "### Life-cycle emissions"
  },
  {
   "cell_type": "code",
   "metadata": {
    "ExecuteTime": {
     "start_time": "2025-03-05T18:38:19.219556Z"
    }
   },
   "source": [
    "# Lifetime harmonization\n",
    "R_long = esm.compute_impact_scores(\n",
    "    methods=methods,\n",
    "    specific_lcia_abbrev=['m_CCS', 'TTHH', 'TTEQ'],\n",
    "    impact_abbrev=impact_abbrev,\n",
    ")"
   ],
   "outputs": [
    {
     "name": "stdout",
     "output_type": "stream",
     "text": [
      "Getting activity data\n"
     ]
    },
    {
     "name": "stderr",
     "output_type": "stream",
     "text": [
      "100%|██████████| 1332/1332 [00:00<00:00, 86939.40it/s]\n"
     ]
    },
    {
     "name": "stdout",
     "output_type": "stream",
     "text": [
      "Adding exchange data to activities\n"
     ]
    },
    {
     "name": "stderr",
     "output_type": "stream",
     "text": [
      "100%|██████████| 33071/33071 [00:03<00:00, 9546.96it/s] \n"
     ]
    },
    {
     "name": "stdout",
     "output_type": "stream",
     "text": [
      "Filling out exchange data\n"
     ]
    },
    {
     "name": "stderr",
     "output_type": "stream",
     "text": [
      "100%|██████████| 1332/1332 [00:02<00:00, 462.18it/s]\n"
     ]
    },
    {
     "name": "stdout",
     "output_type": "stream",
     "text": [
      "Loaded EnergyScope_CA-QC_2020 from brightway!\n"
     ]
    }
   ],
   "execution_count": null
  },
  {
   "cell_type": "code",
   "metadata": {},
   "source": "R_long.to_csv(f'{path_results}impact_scores.csv', index=False) # [impact / kW(h) or pkm(/h) or tkm(/h)]",
   "outputs": [],
   "execution_count": null
  },
  {
   "metadata": {},
   "cell_type": "markdown",
   "source": "### Direct emissions"
  },
  {
   "metadata": {
    "ExecuteTime": {
     "end_time": "2025-02-27T17:00:40.161672Z",
     "start_time": "2025-02-27T17:00:39.804910Z"
    }
   },
   "cell_type": "code",
   "source": "activities_subject_to_double_counting = pd.read_csv(f'{path_results}activities_subject_to_double_counting.csv')",
   "outputs": [],
   "execution_count": 28
  },
  {
   "metadata": {
    "ExecuteTime": {
     "end_time": "2025-02-27T17:05:27.973475Z",
     "start_time": "2025-02-27T17:00:40.205239Z"
    }
   },
   "cell_type": "code",
   "source": [
    "R_long_direct_emissions = esm.compute_impact_scores(\n",
    "    methods=methods,\n",
    "    specific_lcia_abbrev=['m_CCS', 'TTHH', 'TTEQ'],\n",
    "    assessment_type='direct emissions',\n",
    "    impact_abbrev=impact_abbrev,\n",
    "    activities_subject_to_double_counting=activities_subject_to_double_counting,\n",
    "    overwrite=False,\n",
    ")"
   ],
   "outputs": [
    {
     "name": "stdout",
     "output_type": "stream",
     "text": [
      "Getting activity data\n"
     ]
    },
    {
     "name": "stderr",
     "output_type": "stream",
     "text": [
      "100%|██████████| 1335/1335 [00:00<00:00, 47519.36it/s]\n"
     ]
    },
    {
     "name": "stdout",
     "output_type": "stream",
     "text": [
      "Adding exchange data to activities\n"
     ]
    },
    {
     "name": "stderr",
     "output_type": "stream",
     "text": [
      "100%|██████████| 33420/33420 [00:03<00:00, 10811.11it/s]\n"
     ]
    },
    {
     "name": "stdout",
     "output_type": "stream",
     "text": [
      "Filling out exchange data\n"
     ]
    },
    {
     "name": "stderr",
     "output_type": "stream",
     "text": [
      "100%|██████████| 1335/1335 [00:02<00:00, 587.56it/s] \n"
     ]
    },
    {
     "name": "stdout",
     "output_type": "stream",
     "text": [
      "Loaded EnergyScope_CA-QC_2050 from brightway!\n"
     ]
    },
    {
     "name": "stderr",
     "output_type": "stream",
     "text": [
      "Writing activities to SQLite3 database:\n",
      "0% [##############################] 100% | ETA: 00:00:00\n",
      "Total time elapsed: 00:00:01\n"
     ]
    },
    {
     "name": "stdout",
     "output_type": "stream",
     "text": [
      "Title: Writing activities to SQLite3 database:\n",
      "  Started: 02/27/2025 12:02:14\n",
      "  Finished: 02/27/2025 12:02:16\n",
      "  Total time elapsed: 00:00:01\n",
      "  CPU %: 86.00\n",
      "  Memory %: 3.73\n",
      "EnergyScope_CA-QC_2050_direct_emissions written to Brightway!\n"
     ]
    }
   ],
   "execution_count": 29
  },
  {
   "metadata": {
    "ExecuteTime": {
     "end_time": "2025-02-27T17:05:28.255465Z",
     "start_time": "2025-02-27T17:05:27.975188Z"
    }
   },
   "cell_type": "code",
   "source": "R_long_direct_emissions.to_csv(f'{path_results}impact_scores_direct_emissions.csv', index=False) # [impact / kW(h) or pkm(/h) or tkm(/h)]",
   "outputs": [],
   "execution_count": 30
  },
  {
   "cell_type": "markdown",
   "metadata": {},
   "source": [
    "## Create the .mod and .dat files"
   ]
  },
  {
   "cell_type": "code",
   "metadata": {
    "ExecuteTime": {
     "end_time": "2025-02-27T17:05:28.526653Z",
     "start_time": "2025-02-27T17:05:28.258810Z"
    }
   },
   "source": [
    "# To skip the impact assessment step\n",
    "R_long = pd.read_csv(f'{path_results}impact_scores.csv')\n",
    "R_long_direct_emissions = pd.read_csv(f'{path_results}impact_scores_direct_emissions.csv')"
   ],
   "outputs": [],
   "execution_count": 31
  },
  {
   "cell_type": "code",
   "metadata": {
    "ExecuteTime": {
     "end_time": "2025-02-27T17:05:28.754037Z",
     "start_time": "2025-02-27T17:05:28.529067Z"
    }
   },
   "source": [
    "metadata = {\n",
    "    'ecoinvent_version': ei_version,\n",
    "    'year': year,\n",
    "    'iam': 'image',\n",
    "    'ssp_rcp': 'SSP2-Base',\n",
    "}"
   ],
   "outputs": [],
   "execution_count": 32
  },
  {
   "cell_type": "code",
   "metadata": {
    "ExecuteTime": {
     "end_time": "2025-02-27T17:05:29.257749Z",
     "start_time": "2025-02-27T17:05:28.758068Z"
    }
   },
   "source": [
    "# Create .dat file\n",
    "esm.normalize_lca_metrics(\n",
    "    R=R_long,\n",
    "    mip_gap=1e-6,\n",
    "    lcia_methods=methods,\n",
    "    specific_lcia_abbrev=['TTHH', 'TTEQ', 'm_CCS'],\n",
    "    impact_abbrev=impact_abbrev,\n",
    "    path=path_data_lca,\n",
    "    metadata=metadata,\n",
    "    file_name='QC_techs_lca',\n",
    ")"
   ],
   "outputs": [],
   "execution_count": 33
  },
  {
   "metadata": {
    "ExecuteTime": {
     "end_time": "2025-02-27T17:05:29.628488Z",
     "start_time": "2025-02-27T17:05:29.259761Z"
    }
   },
   "cell_type": "code",
   "source": [
    "# Create .dat file for direct emissions only\n",
    "esm.normalize_lca_metrics(\n",
    "    assessment_type='direct emissions',\n",
    "    R=R_long_direct_emissions,\n",
    "    max_per_cat=pd.read_csv(path_data_lca+'QC_techs_lca_max.csv'),\n",
    "    mip_gap=1e-6,\n",
    "    lcia_methods=methods,\n",
    "    specific_lcia_abbrev=['TTHH', 'TTEQ', 'm_CCS'],\n",
    "    impact_abbrev=impact_abbrev,\n",
    "    path=path_data_lca,\n",
    "    metadata=metadata,\n",
    "    file_name='QC_techs_lca_direct',\n",
    ")"
   ],
   "outputs": [],
   "execution_count": 34
  },
  {
   "cell_type": "code",
   "metadata": {
    "ExecuteTime": {
     "end_time": "2025-02-27T17:05:29.839961Z",
     "start_time": "2025-02-27T17:05:29.628488Z"
    }
   },
   "source": [
    "# Create the .mod file\n",
    "esm.generate_mod_file_ampl(\n",
    "    lcia_methods=methods,\n",
    "    impact_abbrev=impact_abbrev,\n",
    "    specific_lcia_abbrev=['TTHH', 'TTEQ', 'm_CCS'],\n",
    "    path=path_data_lca,\n",
    "    metadata=metadata,\n",
    "    file_name='QC_objectives_lca',\n",
    ")"
   ],
   "outputs": [],
   "execution_count": 35
  },
  {
   "metadata": {
    "ExecuteTime": {
     "end_time": "2025-02-27T17:05:30.033552Z",
     "start_time": "2025-02-27T17:05:29.839961Z"
    }
   },
   "cell_type": "code",
   "source": [
    "# Create the .mod file for direct emissions only\n",
    "esm.generate_mod_file_ampl(\n",
    "    assessment_type='direct emissions',\n",
    "    lcia_methods=methods,\n",
    "    impact_abbrev=impact_abbrev,\n",
    "    specific_lcia_abbrev=['TTHH', 'TTEQ', 'm_CCS'],\n",
    "    path=path_data_lca,\n",
    "    metadata=metadata,\n",
    "    file_name='QC_objectives_lca_direct',\n",
    ")"
   ],
   "outputs": [],
   "execution_count": 36
  }
 ],
 "metadata": {
  "kernelspec": {
   "display_name": ".venv",
   "language": "python",
   "name": "python3"
  },
  "language_info": {
   "codemirror_mode": {
    "name": "ipython",
    "version": 3
   },
   "file_extension": ".py",
   "mimetype": "text/x-python",
   "name": "python",
   "nbconvert_exporter": "python",
   "pygments_lexer": "ipython3",
   "version": "3.12.4"
  }
 },
 "nbformat": 4,
 "nbformat_minor": 2
}
