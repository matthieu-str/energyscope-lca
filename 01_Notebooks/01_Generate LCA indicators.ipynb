{
 "cells": [
  {
   "cell_type": "markdown",
   "metadata": {},
   "source": "# Generation of LCA indicators and associated .mod and .dat files"
  },
  {
   "metadata": {
    "ExecuteTime": {
     "end_time": "2024-12-12T18:13:21.256891Z",
     "start_time": "2024-12-12T18:13:21.200416Z"
    }
   },
   "cell_type": "code",
   "source": [
    "%load_ext autoreload\n",
    "%autoreload 2"
   ],
   "outputs": [],
   "execution_count": 1
  },
  {
   "cell_type": "code",
   "metadata": {
    "ExecuteTime": {
     "end_time": "2024-12-12T18:13:26.835315Z",
     "start_time": "2024-12-12T18:13:21.341972Z"
    }
   },
   "source": [
    "import os\n",
    "import pandas as pd\n",
    "import bw2data as bd\n",
    "from mescal import *\n",
    "from energyscope.models import Model\n",
    "from energyscope.energyscope import Energyscope\n",
    "from energyscope.result import postprocessing"
   ],
   "outputs": [],
   "execution_count": 2
  },
  {
   "metadata": {
    "ExecuteTime": {
     "end_time": "2024-12-12T18:13:26.937369Z",
     "start_time": "2024-12-12T18:13:26.836328Z"
    }
   },
   "cell_type": "code",
   "source": [
    "ei_version = '3.10.1'\n",
    "year = 2050"
   ],
   "outputs": [],
   "execution_count": 3
  },
  {
   "cell_type": "code",
   "metadata": {
    "ExecuteTime": {
     "end_time": "2024-12-12T18:13:27.034861Z",
     "start_time": "2024-12-12T18:13:26.937369Z"
    }
   },
   "source": [
    "path_inputs = '../01_Notebooks/Data/'\n",
    "path_model = '../02_Model/'\n",
    "path_results = f'../03_Results/LCA/{year}/'"
   ],
   "outputs": [],
   "execution_count": 4
  },
  {
   "metadata": {},
   "cell_type": "markdown",
   "source": "## Initialize the EnergyScope model"
  },
  {
   "metadata": {
    "ExecuteTime": {
     "end_time": "2024-12-12T18:13:27.131056Z",
     "start_time": "2024-12-12T18:13:27.034861Z"
    }
   },
   "cell_type": "code",
   "source": [
    "# AMPL licence \n",
    "path_to_ampl_licence = r'C:\\Users\\matth\\ampl' # Path to the AMPL licence file\n",
    "os.environ['PATH'] = path_to_ampl_licence+':'+os.environ['PATH']"
   ],
   "outputs": [],
   "execution_count": 5
  },
  {
   "metadata": {
    "ExecuteTime": {
     "end_time": "2024-12-12T18:13:27.223476Z",
     "start_time": "2024-12-12T18:13:27.131056Z"
    }
   },
   "cell_type": "code",
   "source": [
    "# Define the solver options\n",
    "solver_options = {\n",
    "    'solver': 'cplex',\n",
    "    'presolve_eps': 5e-9,\n",
    "    'presolve_fixeps': 7e-10,\n",
    "    'mipgap': 1e-10,\n",
    "    'display_eps': 1e-10,\n",
    "    'omit_zero_rows': 1,\n",
    "    'omit_zero_cols': 1,\n",
    "    'show_stats': 1,\n",
    "    'solver_msg': 1,\n",
    "    'cplex_options': 'integrality=5e-7'\n",
    "}"
   ],
   "outputs": [],
   "execution_count": 6
  },
  {
   "metadata": {
    "ExecuteTime": {
     "end_time": "2024-12-12T18:13:27.319313Z",
     "start_time": "2024-12-12T18:13:27.223476Z"
    }
   },
   "cell_type": "code",
   "source": [
    "# Initialize the QC model with .mod and .dat files\n",
    "model = Model(\n",
    "    mod_files=[\n",
    "        path_model+'QC_es_main.mod',\n",
    "    ],\n",
    "    dat_files=[\n",
    "        path_model+'QC_data_2020.dat',\n",
    "        path_model+'QC_mob_techs_dist_B2D_2020.dat',\n",
    "        path_model+'QC_techs_B2D_2020.dat',\n",
    "        path_model+'QC_mob_params_2020.dat',\n",
    "    ],\n",
    ")"
   ],
   "outputs": [],
   "execution_count": 7
  },
  {
   "metadata": {
    "ExecuteTime": {
     "end_time": "2024-12-12T18:13:27.412623Z",
     "start_time": "2024-12-12T18:13:27.319313Z"
    }
   },
   "cell_type": "code",
   "source": [
    "# Initialize the EnergyScope model\n",
    "es = Energyscope(model=model, solver_options=solver_options)"
   ],
   "outputs": [],
   "execution_count": 8
  },
  {
   "metadata": {
    "ExecuteTime": {
     "end_time": "2024-12-12T18:13:36.632697Z",
     "start_time": "2024-12-12T18:13:27.412623Z"
    }
   },
   "cell_type": "code",
   "source": [
    "# Solve the model and get results\n",
    "results = postprocessing(es.calc())"
   ],
   "outputs": [
    {
     "name": "stdout",
     "output_type": "stream",
     "text": [
      "\n",
      "Presolve eliminates 13754 constraints and 9960 variables.\n",
      "Adjusted problem:\n",
      "16805 variables:\n",
      "\t822 binary variables\n",
      "\t15983 linear variables\n",
      "22799 constraints, all linear; 113666 nonzeros\n",
      "\t10517 equality constraints\n",
      "\t12282 inequality constraints\n",
      "0 objectives.\n",
      "\n",
      "Setting $presolve_fixeps < 4.41e-10 or >= 5.54e-09\n",
      "could change presolve results.\n",
      "\n",
      "CPLEX 20.1.0.0: integrality=5e-7\r\n",
      "CPLEX solution status 5 with fixed integers:\r\n",
      "\toptimal with unscaled infeasibilities\r\n",
      "CPLEX 20.1.0.0: optimal integer solution; objective 0\n",
      "5325 MIP simplex iterations\n",
      "0 branch-and-bound nodes\n",
      "Objective = find a feasible point.\n"
     ]
    }
   ],
   "execution_count": 9
  },
  {
   "metadata": {},
   "cell_type": "markdown",
   "source": "# Generate the LCA indicators "
  },
  {
   "cell_type": "markdown",
   "metadata": {},
   "source": [
    "## Load data and initialize the ESM class"
   ]
  },
  {
   "cell_type": "code",
   "metadata": {
    "ExecuteTime": {
     "end_time": "2024-12-12T18:13:36.812299Z",
     "start_time": "2024-12-12T18:13:36.632697Z"
    }
   },
   "source": [
    "# Load the data\n",
    "mapping = pd.read_csv(path_inputs+f'mapping.csv')\n",
    "unit_conversion = pd.read_excel(path_inputs+'unit_conversion.xlsx')  # open file and press enter in one computation cell to avoid misreading\n",
    "techno_compositions = pd.read_csv(path_inputs+'technology_compositions.csv')\n",
    "tech_specifics = pd.read_csv(path_inputs+'technology_specifics.csv')\n",
    "efficiency = pd.read_csv(path_inputs+'efficiency.csv')\n",
    "lifetime = pd.read_csv(path_inputs+'lifetime.csv')\n",
    "mapping_es_flows_to_cpc = pd.read_csv(path_inputs+'mapping_esm_flows_to_CPC.csv')\n",
    "impact_abbrev = pd.read_csv(path_inputs+'impact_abbrev.csv')"
   ],
   "outputs": [],
   "execution_count": 10
  },
  {
   "cell_type": "code",
   "metadata": {
    "ExecuteTime": {
     "end_time": "2024-12-12T18:13:36.928696Z",
     "start_time": "2024-12-12T18:13:36.812299Z"
    }
   },
   "source": [
    "# Load the model from energyscope model\n",
    "model = results.parameters['layers_in_out'].reset_index().rename(columns={'index0':'Name', 'index1':'Flow', 'layers_in_out':'Amount'}).drop(columns=['Run'])\n",
    "model = model[model['Amount'] != 0]"
   ],
   "outputs": [],
   "execution_count": 11
  },
  {
   "cell_type": "code",
   "metadata": {
    "ExecuteTime": {
     "end_time": "2024-12-12T18:13:37.027005Z",
     "start_time": "2024-12-12T18:13:36.928696Z"
    }
   },
   "source": [
    "# Databases names \n",
    "name_main_database = f'ecoinvent_cutoff_{ei_version}_image_SSP2-Base_{year}+truck_carculator regionalized'\n",
    "name_spatialized_biosphere_db = 'biosphere3_spatialized_flows'\n",
    "name_es_database = f'EnergyScope_CA-QC_{year}'"
   ],
   "outputs": [],
   "execution_count": 12
  },
  {
   "cell_type": "code",
   "metadata": {
    "ExecuteTime": {
     "end_time": "2024-12-12T18:13:37.262632Z",
     "start_time": "2024-12-12T18:13:37.027005Z"
    }
   },
   "source": [
    "# Set up your Brightway project\n",
    "bd.projects.set_current(f'ecoinvent{ei_version}')"
   ],
   "outputs": [],
   "execution_count": 13
  },
  {
   "cell_type": "code",
   "metadata": {
    "ExecuteTime": {
     "end_time": "2024-12-12T18:15:11.980497Z",
     "start_time": "2024-12-12T18:13:37.264639Z"
    }
   },
   "source": "main_db = Database(name_main_database, create_pickle=True)",
   "outputs": [
    {
     "name": "stdout",
     "output_type": "stream",
     "text": [
      "Getting activity data\n"
     ]
    },
    {
     "name": "stderr",
     "output_type": "stream",
     "text": [
      "100%|██████████| 42727/42727 [00:00<00:00, 117450.62it/s]\n"
     ]
    },
    {
     "name": "stdout",
     "output_type": "stream",
     "text": [
      "Adding exchange data to activities\n"
     ]
    },
    {
     "name": "stderr",
     "output_type": "stream",
     "text": [
      "100%|██████████| 1245149/1245149 [01:08<00:00, 18142.04it/s]\n"
     ]
    },
    {
     "name": "stdout",
     "output_type": "stream",
     "text": [
      "Filling out exchange data\n"
     ]
    },
    {
     "name": "stderr",
     "output_type": "stream",
     "text": [
      "100%|██████████| 42727/42727 [00:09<00:00, 4374.41it/s] \n"
     ]
    },
    {
     "name": "stdout",
     "output_type": "stream",
     "text": [
      "Loaded ecoinvent_cutoff_3.10.1_image_SSP2-Base_2050+truck_carculator regionalized from brightway!\n",
      "ecoinvent_cutoff_3.10.1_image_SSP2-Base_2050+truck_carculator regionalized.pickle created!\n"
     ]
    }
   ],
   "execution_count": 14
  },
  {
   "cell_type": "code",
   "metadata": {
    "ExecuteTime": {
     "end_time": "2024-12-12T18:15:12.277745Z",
     "start_time": "2024-12-12T18:15:11.980497Z"
    }
   },
   "source": [
    "ranking_best_ecoinvent_locations_for_QC = [\n",
    "    'CA-QC', # Quebec\n",
    "    'CA', # Canada\n",
    "    'CAN', # Canada in IMAGE\n",
    "    'CAZ', # Canada - Australia - New Zealand in REMIND\n",
    "    'RNA', # North America\n",
    "    'US', # United States\n",
    "    'USA', # United States in REMIND and IMAGE\n",
    "    'GLO', # Global average \n",
    "    'RoW', # Rest of the world\n",
    "]"
   ],
   "outputs": [],
   "execution_count": 15
  },
  {
   "cell_type": "code",
   "metadata": {
    "ExecuteTime": {
     "end_time": "2024-12-12T18:15:13.691643Z",
     "start_time": "2024-12-12T18:15:12.277745Z"
    }
   },
   "source": [
    "# Add CPC categories to the main database\n",
    "main_db.add_CPC_categories()"
   ],
   "outputs": [],
   "execution_count": 16
  },
  {
   "cell_type": "code",
   "metadata": {
    "ExecuteTime": {
     "end_time": "2024-12-12T18:15:13.867383Z",
     "start_time": "2024-12-12T18:15:13.691643Z"
    }
   },
   "source": [
    "# Change the main database name if needed\n",
    "if mapping['Database'].iloc[0] != name_main_database:\n",
    "    mapping['Database'] = len(mapping) * [name_main_database]\n",
    "missing_flows = main_db.test_mapping_file(mapping)"
   ],
   "outputs": [
    {
     "name": "stdout",
     "output_type": "stream",
     "text": [
      "Mapping successfully linked to the database\n"
     ]
    }
   ],
   "execution_count": 17
  },
  {
   "metadata": {
    "ExecuteTime": {
     "end_time": "2024-12-12T18:15:17.859698Z",
     "start_time": "2024-12-12T18:15:13.867383Z"
    }
   },
   "cell_type": "code",
   "source": [
    "esm = ESM(\n",
    "    # Mandatory inputs\n",
    "    mapping=mapping,\n",
    "    unit_conversion=unit_conversion,\n",
    "    model=model,\n",
    "    mapping_esm_flows_to_CPC_cat=mapping_es_flows_to_cpc,\n",
    "    main_database=main_db,\n",
    "    esm_db_name=name_es_database,\n",
    "    \n",
    "    # Optional inputs\n",
    "    technology_compositions=techno_compositions,\n",
    "    tech_specifics=tech_specifics,\n",
    "    lifetime=lifetime,\n",
    "    efficiency=efficiency,\n",
    "    regionalize_foregrounds=True,\n",
    "    accepted_locations=['CA-QC', 'CA'],\n",
    "    locations_ranking=ranking_best_ecoinvent_locations_for_QC,\n",
    "    esm_location='CA-QC',\n",
    "    results_path_file=path_results,\n",
    "    \n",
    "    # If we want regionalized results \n",
    "    spatialized_biosphere_db=Database(name_spatialized_biosphere_db),\n",
    ")"
   ],
   "outputs": [
    {
     "name": "stdout",
     "output_type": "stream",
     "text": [
      "Getting activity data\n"
     ]
    },
    {
     "name": "stderr",
     "output_type": "stream",
     "text": [
      "100%|██████████| 88770/88770 [00:00<00:00, 279185.83it/s]\n"
     ]
    },
    {
     "name": "stdout",
     "output_type": "stream",
     "text": [
      "Adding exchange data to activities\n"
     ]
    },
    {
     "name": "stderr",
     "output_type": "stream",
     "text": [
      "0it [00:00, ?it/s]\n"
     ]
    },
    {
     "name": "stdout",
     "output_type": "stream",
     "text": [
      "Filling out exchange data\n"
     ]
    },
    {
     "name": "stderr",
     "output_type": "stream",
     "text": [
      "100%|██████████| 88770/88770 [00:00<00:00, 2840488.30it/s]\n"
     ]
    },
    {
     "name": "stdout",
     "output_type": "stream",
     "text": [
      "Loaded biosphere3_spatialized_flows from brightway!\n"
     ]
    }
   ],
   "execution_count": 18
  },
  {
   "metadata": {
    "ExecuteTime": {
     "end_time": "2024-12-12T18:15:18.348002Z",
     "start_time": "2024-12-12T18:15:17.859698Z"
    }
   },
   "cell_type": "code",
   "source": "esm.check_inputs()",
   "outputs": [
    {
     "name": "stdout",
     "output_type": "stream",
     "text": [
      "List of technologies or resources that are in the model file but not in the mapping file. Their impact scores will be set to the default value.\n",
      "\n",
      "--> ['CO2_E', 'DEC_RENOVATION', 'DHN_RENOVATION', 'DIESEL_S', 'ELEC_S', 'GASOLINE_S', 'HT_LT', 'LT_DEC_WH', 'LT_DHN_WH', 'NG_S', 'RES_GEO', 'RES_HYDRO', 'RES_SOLAR', 'RES_TIDAL', 'RES_WIND_OFFSHORE', 'RES_WIND_ONSHORE', 'STO_CO2', 'STO_DIE', 'STO_ELEC', 'STO_GASO', 'STO_H2', 'STO_NG']\n",
      "\n",
      "List of technologies or resources that are in the mapping file but not in the model file (this will not be a problem in the workflow).\n",
      "\n",
      "--> ['BATTERY', 'DEC_TH_STORAGE', 'DHN_TH_STORAGE', 'EHV_GRID', 'HV_GRID', 'LV_GRID', 'MV_GRID']\n",
      "\n",
      "List of technologies that are in the tech_specifics file but not in the mapping file (this will not be a problem in the workflow).\n",
      "\n",
      "--> ['AEC_OG', 'MOB_FREIGHT_ELD', 'MOB_FREIGHT_LD', 'MOB_FREIGHT_MD', 'MOB_FREIGHT_SD', 'MOB_PRIVATE_ELD', 'MOB_PRIVATE_LD', 'MOB_PRIVATE_MD', 'MOB_PRIVATE_SD', 'MOB_PUBLIC_ELD', 'MOB_PUBLIC_LD', 'MOB_PUBLIC_MD', 'MOB_PUBLIC_SD', 'PEMEC_OG', 'SOEC_OG']\n",
      "\n"
     ]
    }
   ],
   "execution_count": 19
  },
  {
   "metadata": {
    "ExecuteTime": {
     "end_time": "2024-12-12T18:15:21.576321Z",
     "start_time": "2024-12-12T18:15:18.348002Z"
    }
   },
   "cell_type": "code",
   "source": [
    "# Adapt mapping file to ESM location\n",
    "esm.change_location_mapping_file()\n",
    "esm.mapping.to_csv(path_inputs+f'mapping.csv', index=False)"
   ],
   "outputs": [],
   "execution_count": 20
  },
  {
   "metadata": {},
   "cell_type": "markdown",
   "source": "### Generate ESM database"
  },
  {
   "metadata": {
    "ExecuteTime": {
     "end_time": "2024-12-12T18:24:00.991084Z",
     "start_time": "2024-12-12T18:15:21.576321Z"
    }
   },
   "cell_type": "code",
   "source": [
    "# Foreground regionalization, double-counting removal, and efficiency harmonization\n",
    "esm.create_esm_database()"
   ],
   "outputs": [
    {
     "name": "stdout",
     "output_type": "stream",
     "text": [
      "### Starting to add construction and resource activities database ###\n",
      "No location found in your ranking for waste polystyrene - market group for waste polystyrene\n",
      "--> Have to keep the initial location: Europe without Switzerland\n",
      "No location found in your ranking for waste polyvinylchloride - market group for waste polyvinylchloride\n",
      "--> Have to keep the initial location: Europe without Switzerland\n",
      "No location found in your ranking for waste plastic, mixture - market group for waste plastic, mixture\n",
      "--> Have to keep the initial location: Europe without Switzerland\n",
      "No location found in your ranking for waste polyethylene - market group for waste polyethylene\n",
      "--> Have to keep the initial location: Europe without Switzerland\n",
      "No location found in your ranking for waste glass - market group for waste glass\n",
      "--> Have to keep the initial location: RER\n",
      "No location found in your ranking for iridium - platinum group metal, extraction and refinery operations\n",
      "--> Have to keep the initial location: ZA\n",
      "### Construction and resource activities added to the database ###\n",
      "--> Time: 52.0 seconds\n",
      "### Starting to remove double-counted flows ###\n",
      "No location found in your ranking for aluminium, primary, ingot - aluminium, ingot, primary, import from Rest of Europe\n",
      "--> Have to keep the initial location: IAI Area, EU27 & EFTA\n",
      "No location found in your ranking for waste packaging paper - market group for waste packaging paper\n",
      "--> Have to keep the initial location: RER\n",
      "No location found in your ranking for municipal solid waste - market group for municipal solid waste\n",
      "--> Have to keep the initial location: RER\n",
      "No location found in your ranking for waste paperboard - market group for waste paperboard\n",
      "--> Have to keep the initial location: RER\n",
      "### Double-counting removal done ###\n",
      "--> Time: 192.0 seconds\n",
      "### Starting to correct efficiency differences ###\n",
      "Warning: flow of type TRANSPORT_FUEL found for BUS_PROPANE_SD in efficiency file, but not in model file.\n",
      "Warning: flow of type TRANSPORT_FUEL found for CAR_PROPANE_ELD in efficiency file, but not in model file.\n",
      "Warning: flow of type TRANSPORT_FUEL found for CAR_PROPANE_LD in efficiency file, but not in model file.\n",
      "Warning: flow of type TRANSPORT_FUEL found for CAR_PROPANE_MD in efficiency file, but not in model file.\n",
      "Warning: flow of type TRANSPORT_FUEL found for CAR_PROPANE_SD in efficiency file, but not in model file.\n",
      "Warning: flow of type TRANSPORT_FUEL found for COACH_PROPANE_ELD in efficiency file, but not in model file.\n",
      "Warning: flow of type TRANSPORT_FUEL found for COACH_PROPANE_LD in efficiency file, but not in model file.\n",
      "Warning: flow of type TRANSPORT_FUEL found for COACH_PROPANE_MD in efficiency file, but not in model file.\n",
      "Warning: flow of type TRANSPORT_FUEL found for LCV_PROPANE_MD in efficiency file, but not in model file.\n",
      "Warning: flow of type TRANSPORT_FUEL found for LCV_PROPANE_SD in efficiency file, but not in model file.\n",
      "Warning: flow of type TRANSPORT_FUEL found for SCHOOLBUS_PROPANE_SD in efficiency file, but not in model file.\n",
      "Warning: flow of type TRANSPORT_FUEL found for SEMI_LH_PROPANE_ELD in efficiency file, but not in model file.\n",
      "Warning: flow of type TRANSPORT_FUEL found for SEMI_LH_PROPANE_LD in efficiency file, but not in model file.\n",
      "Warning: flow of type TRANSPORT_FUEL found for SEMI_SH_PROPANE_MD in efficiency file, but not in model file.\n",
      "Warning: flow of type TRANSPORT_FUEL found for SUV_PROPANE_ELD in efficiency file, but not in model file.\n",
      "Warning: flow of type TRANSPORT_FUEL found for SUV_PROPANE_LD in efficiency file, but not in model file.\n",
      "Warning: flow of type TRANSPORT_FUEL found for SUV_PROPANE_MD in efficiency file, but not in model file.\n",
      "Warning: flow of type TRANSPORT_FUEL found for SUV_PROPANE_SD in efficiency file, but not in model file.\n",
      "Warning: flow of type TRANSPORT_FUEL found for TRUCK_LH_PROPANE_LD in efficiency file, but not in model file.\n",
      "Warning: flow of type TRANSPORT_FUEL found for TRUCK_SH_PROPANE_MD in efficiency file, but not in model file.\n",
      "Warning: flow of type TRANSPORT_FUEL found for TRUCK_SH_PROPANE_SD in efficiency file, but not in model file.\n",
      "No flow found for type(s) ['WOOD'] in BIOGAS_ATR. The efficiency of this technology cannot be adjusted.\n",
      "No flow found for type(s) ['WOOD'] in BIOGAS_ATR_CCS. The efficiency of this technology cannot be adjusted.\n",
      "No flow found for type(s) ['WOOD'] in BIOGAS_SMR. The efficiency of this technology cannot be adjusted.\n",
      "No flow found for type(s) ['WOOD'] in BIOGAS_SMR_CCS. The efficiency of this technology cannot be adjusted.\n",
      "No flow found for type(s) ['WASTE'] in DHN_COGEN_WASTE. The efficiency of this technology cannot be adjusted.\n",
      "No flow found for type(s) ['WASTE'] in DHN_COGEN_WASTE_CC. The efficiency of this technology cannot be adjusted.\n",
      "No flow found for type(s) ['WASTE'] in IND_BOILER_WASTE. The efficiency of this technology cannot be adjusted.\n",
      "No flow found for type(s) ['WASTE'] in IND_BOILER_WASTE_CC. The efficiency of this technology cannot be adjusted.\n",
      "No flow found for type(s) ['WASTE'] in IND_COGEN_WASTE. The efficiency of this technology cannot be adjusted.\n",
      "No flow found for type(s) ['WASTE'] in IND_COGEN_WASTE_CC. The efficiency of this technology cannot be adjusted.\n",
      "No flow found for type(s) ['NG_HP'] in LCV_CNG_MD. The efficiency of this technology cannot be adjusted.\n",
      "No flow found for type(s) ['NG_HP'] in LCV_CNG_SD. The efficiency of this technology cannot be adjusted.\n",
      "No flow found for type(s) ['PROPANE', 'TRANSPORT_FUEL'] in LCV_PROPANE_MD. The efficiency of this technology cannot be adjusted.\n",
      "No flow found for type(s) ['PROPANE', 'TRANSPORT_FUEL'] in LCV_PROPANE_SD. The efficiency of this technology cannot be adjusted.\n",
      "No flow found for type(s) ['WOOD'] in PYROLYSIS. The efficiency of this technology cannot be adjusted.\n",
      "No flow found for type(s) ['NG_HP'] in SEMI_SH_CNG_MD. The efficiency of this technology cannot be adjusted.\n",
      "No flow found for type(s) ['PROPANE', 'TRANSPORT_FUEL'] in SEMI_SH_PROPANE_MD. The efficiency of this technology cannot be adjusted.\n",
      "No flow found for type(s) ['NG_HP'] in TRUCK_SH_CNG_MD. The efficiency of this technology cannot be adjusted.\n",
      "No flow found for type(s) ['NG_HP'] in TRUCK_SH_CNG_SD. The efficiency of this technology cannot be adjusted.\n",
      "No flow found for type(s) ['PROPANE', 'TRANSPORT_FUEL'] in TRUCK_SH_PROPANE_MD. The efficiency of this technology cannot be adjusted.\n",
      "No flow found for type(s) ['PROPANE', 'TRANSPORT_FUEL'] in TRUCK_SH_PROPANE_SD. The efficiency of this technology cannot be adjusted.\n",
      "Several names possible for the same type of flow in DEC_BOILER_WOOD: {'wood ash mixture', 'biomass'}. Kept the first one.\n",
      "Several names possible for the same type of flow in DEC_COGEN_WOOD: {'wood ash mixture', 'biomass'}. Kept the first one.\n",
      "Several names possible for the same type of flow in DHN_BOILER_WOOD: {'wood ash mixture', 'biomass'}. Kept the first one.\n",
      "Several names possible for the same type of flow in DHN_COGEN_WOOD: {'wood ash mixture', 'biomass'}. Kept the first one.\n",
      "Several names possible for the same type of flow in GASIFICATION_H2: {'wood ash mixture', 'wood chips'}. Kept the first one.\n",
      "Several names possible for the same type of flow in IND_BOILER_WOOD: {'wood ash mixture', 'biomass'}. Kept the first one.\n",
      "Several names possible for the same type of flow in IND_COGEN_WOOD: {'wood ash mixture', 'biomass'}. Kept the first one.\n",
      "No flow of type PROPANE has been removed in BUS_PROPANE_SD.\n",
      "No flow of type PROPANE has been removed in CAR_PROPANE_ELD.\n",
      "No flow of type PROPANE has been removed in CAR_PROPANE_LD.\n",
      "No flow of type PROPANE has been removed in CAR_PROPANE_MD.\n",
      "No flow of type PROPANE has been removed in CAR_PROPANE_SD.\n",
      "No flow of type PROPANE has been removed in COACH_PROPANE_ELD.\n",
      "No flow of type PROPANE has been removed in COACH_PROPANE_LD.\n",
      "No flow of type PROPANE has been removed in COACH_PROPANE_MD.\n",
      "No flow of type PROPANE has been removed in SCHOOLBUS_PROPANE_SD.\n",
      "No flow of type PROPANE has been removed in SEMI_LH_PROPANE_ELD.\n",
      "No flow of type PROPANE has been removed in SEMI_LH_PROPANE_LD.\n",
      "No flow of type PROPANE has been removed in SUV_PROPANE_ELD.\n",
      "No flow of type PROPANE has been removed in SUV_PROPANE_LD.\n",
      "No flow of type PROPANE has been removed in SUV_PROPANE_MD.\n",
      "No flow of type PROPANE has been removed in SUV_PROPANE_SD.\n",
      "No flow of type PROPANE has been removed in TRUCK_LH_PROPANE_LD.\n",
      "### Efficiency differences corrected ###\n",
      "--> Time: 9.0 seconds\n",
      "### Starting to write database ###\n"
     ]
    },
    {
     "name": "stderr",
     "output_type": "stream",
     "text": [
      "Writing activities to SQLite3 database:\n",
      "0% [##############################] 100% | ETA: 00:00:00\n",
      "Total time elapsed: 00:00:01\n"
     ]
    },
    {
     "name": "stdout",
     "output_type": "stream",
     "text": [
      "Title: Writing activities to SQLite3 database:\n",
      "  Started: 12/12/2024 19:21:38\n",
      "  Finished: 12/12/2024 19:21:40\n",
      "  Total time elapsed: 00:00:01\n",
      "  CPU %: 50.00\n",
      "  Memory %: 27.23\n",
      "EnergyScope_CA-QC_2050 written to Brightway!\n",
      "### Database written ###\n",
      "--> Time: 209.0 seconds\n"
     ]
    }
   ],
   "execution_count": 21
  },
  {
   "metadata": {
    "ExecuteTime": {
     "end_time": "2024-12-12T18:24:01.177664Z",
     "start_time": "2024-12-12T18:24:01.002769Z"
    }
   },
   "cell_type": "code",
   "source": [
    "# Save the mapping file with new codes for later use\n",
    "esm.mapping.to_csv(path_results+'mapping_with_new_codes.csv', index=False)"
   ],
   "outputs": [],
   "execution_count": 22
  },
  {
   "metadata": {},
   "cell_type": "markdown",
   "source": "## Generate LCA metrics "
  },
  {
   "metadata": {
    "ExecuteTime": {
     "end_time": "2024-12-12T18:24:01.316783Z",
     "start_time": "2024-12-12T18:24:01.178757Z"
    }
   },
   "cell_type": "code",
   "source": [
    "# If the ESM database is already created\n",
    "# esm.mapping = pd.read_csv(path_results+'mapping_with_new_codes.csv')"
   ],
   "outputs": [],
   "execution_count": 23
  },
  {
   "cell_type": "code",
   "metadata": {
    "ExecuteTime": {
     "end_time": "2024-12-12T18:24:01.442608Z",
     "start_time": "2024-12-12T18:24:01.318842Z"
    }
   },
   "source": "methods = ['IMPACT World+ Midpoint 2.1_regionalized for ecoinvent v3.10', 'IMPACT World+ Damage 2.1_regionalized for ecoinvent v3.10']",
   "outputs": [],
   "execution_count": 24
  },
  {
   "metadata": {},
   "cell_type": "markdown",
   "source": "### Life-cycle emissions"
  },
  {
   "cell_type": "code",
   "metadata": {
    "ExecuteTime": {
     "end_time": "2024-12-12T18:52:19.096601Z",
     "start_time": "2024-12-12T18:24:01.445622Z"
    }
   },
   "source": [
    "# Lifetime harmonization\n",
    "R_long = esm.compute_impact_scores(methods=methods)"
   ],
   "outputs": [
    {
     "name": "stdout",
     "output_type": "stream",
     "text": [
      "Getting activity data\n"
     ]
    },
    {
     "name": "stderr",
     "output_type": "stream",
     "text": [
      "100%|██████████| 1335/1335 [00:00<00:00, 88966.85it/s]\n"
     ]
    },
    {
     "name": "stdout",
     "output_type": "stream",
     "text": [
      "Adding exchange data to activities\n"
     ]
    },
    {
     "name": "stderr",
     "output_type": "stream",
     "text": [
      "100%|██████████| 34428/34428 [00:01<00:00, 25126.90it/s]\n"
     ]
    },
    {
     "name": "stdout",
     "output_type": "stream",
     "text": [
      "Filling out exchange data\n"
     ]
    },
    {
     "name": "stderr",
     "output_type": "stream",
     "text": [
      "100%|██████████| 1335/1335 [00:01<00:00, 1277.09it/s]\n"
     ]
    },
    {
     "name": "stdout",
     "output_type": "stream",
     "text": [
      "Loaded EnergyScope_CA-QC_2050 from brightway!\n"
     ]
    }
   ],
   "execution_count": 25
  },
  {
   "cell_type": "code",
   "metadata": {
    "ExecuteTime": {
     "end_time": "2024-12-12T18:52:20.668263Z",
     "start_time": "2024-12-12T18:52:19.096601Z"
    }
   },
   "source": "R_long.to_csv(f'{path_results}impact_scores.csv', index=False) # [impact / kW(h) or pkm(/h) or tkm(/h)]",
   "outputs": [],
   "execution_count": 26
  },
  {
   "metadata": {},
   "cell_type": "markdown",
   "source": "### Territorial emissions"
  },
  {
   "metadata": {
    "ExecuteTime": {
     "end_time": "2024-12-12T18:52:20.943358Z",
     "start_time": "2024-12-12T18:52:20.691727Z"
    }
   },
   "cell_type": "code",
   "source": "activities_subject_to_double_counting = pd.read_csv(f'{path_results}activities_subject_to_double_counting.csv')",
   "outputs": [],
   "execution_count": 27
  },
  {
   "metadata": {
    "ExecuteTime": {
     "end_time": "2024-12-12T18:58:28.977017Z",
     "start_time": "2024-12-12T18:52:20.948033Z"
    }
   },
   "cell_type": "code",
   "source": [
    "R_long_direct_emissions = esm.compute_impact_scores(\n",
    "    methods=methods,\n",
    "    assessment_type='direct emissions',\n",
    "    activities_subject_to_double_counting=activities_subject_to_double_counting,\n",
    ")"
   ],
   "outputs": [
    {
     "name": "stdout",
     "output_type": "stream",
     "text": [
      "Getting activity data\n"
     ]
    },
    {
     "name": "stderr",
     "output_type": "stream",
     "text": [
      "100%|██████████| 1335/1335 [00:38<00:00, 34.82it/s]\n"
     ]
    },
    {
     "name": "stdout",
     "output_type": "stream",
     "text": [
      "Adding exchange data to activities\n"
     ]
    },
    {
     "name": "stderr",
     "output_type": "stream",
     "text": [
      "100%|██████████| 34428/34428 [00:02<00:00, 12799.15it/s]\n"
     ]
    },
    {
     "name": "stdout",
     "output_type": "stream",
     "text": [
      "Filling out exchange data\n"
     ]
    },
    {
     "name": "stderr",
     "output_type": "stream",
     "text": [
      "100%|██████████| 1335/1335 [00:02<00:00, 662.71it/s] \n"
     ]
    },
    {
     "name": "stdout",
     "output_type": "stream",
     "text": [
      "Loaded EnergyScope_CA-QC_2050 from brightway!\n"
     ]
    },
    {
     "name": "stderr",
     "output_type": "stream",
     "text": [
      "Writing activities to SQLite3 database:\n",
      "0% [##############################] 100% | ETA: 00:00:00\n",
      "Total time elapsed: 00:00:02\n"
     ]
    },
    {
     "name": "stdout",
     "output_type": "stream",
     "text": [
      "Title: Writing activities to SQLite3 database:\n",
      "  Started: 12/12/2024 19:54:55\n",
      "  Finished: 12/12/2024 19:54:58\n",
      "  Total time elapsed: 00:00:02\n",
      "  CPU %: 54.50\n",
      "  Memory %: 25.42\n",
      "EnergyScope_CA-QC_2050_direct_emissions written to Brightway!\n"
     ]
    }
   ],
   "execution_count": 28
  },
  {
   "metadata": {
    "ExecuteTime": {
     "end_time": "2024-12-12T18:58:30.369522Z",
     "start_time": "2024-12-12T18:58:28.997963Z"
    }
   },
   "cell_type": "code",
   "source": "R_long_direct_emissions.to_csv(f'{path_results}impact_scores_direct_emissions.csv', index=False) # [impact / kW(h) or pkm(/h) or tkm(/h)]",
   "outputs": [],
   "execution_count": 29
  },
  {
   "cell_type": "markdown",
   "metadata": {},
   "source": [
    "## Create the .mod and .dat files"
   ]
  },
  {
   "cell_type": "code",
   "metadata": {
    "ExecuteTime": {
     "end_time": "2024-12-12T18:58:30.595572Z",
     "start_time": "2024-12-12T18:58:30.369522Z"
    }
   },
   "source": [
    "# To skip the impact assessment step\n",
    "# R_long = pd.read_csv(f'{path_results}impact_scores.csv')\n",
    "# R_long_direct_emissions = pd.read_csv(f'{path_results}impact_scores_direct_emissions.csv')"
   ],
   "outputs": [],
   "execution_count": 30
  },
  {
   "cell_type": "code",
   "metadata": {
    "ExecuteTime": {
     "end_time": "2024-12-12T18:58:30.841423Z",
     "start_time": "2024-12-12T18:58:30.598104Z"
    }
   },
   "source": [
    "metadata = {\n",
    "    'ecoinvent_version': ei_version,\n",
    "    'year': year,\n",
    "    'iam': 'image',\n",
    "    'ssp_rcp': 'SSP2-Base',\n",
    "}"
   ],
   "outputs": [],
   "execution_count": 31
  },
  {
   "cell_type": "code",
   "metadata": {
    "ExecuteTime": {
     "end_time": "2024-12-12T18:58:31.409004Z",
     "start_time": "2024-12-12T18:58:30.844883Z"
    }
   },
   "source": [
    "# Create .dat file\n",
    "esm.normalize_lca_metrics(\n",
    "    R=R_long,\n",
    "    mip_gap=1e-6,\n",
    "    lcia_methods=methods,\n",
    "    specific_lcia_abbrev=['TTHH', 'TTEQ', 'm_CCS'],\n",
    "    impact_abbrev=impact_abbrev,\n",
    "    path=path_model,\n",
    "    metadata=metadata,\n",
    "    file_name=f'QC_techs_lca_{year}',\n",
    ")"
   ],
   "outputs": [],
   "execution_count": 32
  },
  {
   "metadata": {
    "ExecuteTime": {
     "end_time": "2024-12-12T18:58:31.807899Z",
     "start_time": "2024-12-12T18:58:31.409004Z"
    }
   },
   "cell_type": "code",
   "source": [
    "# Create .dat file for direct emissions only\n",
    "esm.normalize_lca_metrics(\n",
    "    assessment_type='direct emissions',\n",
    "    R=R_long_direct_emissions,\n",
    "    mip_gap=1e-6,\n",
    "    lcia_methods=methods,\n",
    "    specific_lcia_abbrev=['TTHH', 'TTEQ', 'm_CCS'],\n",
    "    impact_abbrev=impact_abbrev,\n",
    "    path=path_model,\n",
    "    metadata=metadata,\n",
    "    file_name=f'QC_techs_lca_{year}_direct',\n",
    ")"
   ],
   "outputs": [],
   "execution_count": 33
  },
  {
   "cell_type": "code",
   "metadata": {
    "ExecuteTime": {
     "end_time": "2024-12-12T18:58:32.046058Z",
     "start_time": "2024-12-12T18:58:31.807899Z"
    }
   },
   "source": [
    "# Create the .mod file\n",
    "esm.generate_mod_file_ampl(\n",
    "    lcia_methods=methods,\n",
    "    impact_abbrev=impact_abbrev,\n",
    "    specific_lcia_abbrev=['TTHH', 'TTEQ', 'm_CCS'],\n",
    "    path=path_model,\n",
    "    metadata=metadata,\n",
    "    file_name=f'QC_objectives_lca_{year}',\n",
    ")"
   ],
   "outputs": [],
   "execution_count": 34
  },
  {
   "metadata": {
    "ExecuteTime": {
     "end_time": "2024-12-12T18:58:32.296758Z",
     "start_time": "2024-12-12T18:58:32.046058Z"
    }
   },
   "cell_type": "code",
   "source": [
    "# Create the .mod file for direct emissions only\n",
    "esm.generate_mod_file_ampl(\n",
    "    assessment_type='direct emissions',\n",
    "    lcia_methods=methods,\n",
    "    impact_abbrev=impact_abbrev,\n",
    "    specific_lcia_abbrev=['TTHH', 'TTEQ', 'm_CCS'],\n",
    "    path=path_model,\n",
    "    metadata=metadata,\n",
    "    file_name=f'QC_objectives_lca_{year}_direct',\n",
    ")"
   ],
   "outputs": [],
   "execution_count": 35
  },
  {
   "metadata": {
    "ExecuteTime": {
     "end_time": "2024-12-12T18:58:32.307384Z",
     "start_time": "2024-12-12T18:58:32.296758Z"
    }
   },
   "cell_type": "code",
   "source": "",
   "outputs": [],
   "execution_count": 35
  }
 ],
 "metadata": {
  "kernelspec": {
   "display_name": ".venv",
   "language": "python",
   "name": "python3"
  },
  "language_info": {
   "codemirror_mode": {
    "name": "ipython",
    "version": 3
   },
   "file_extension": ".py",
   "mimetype": "text/x-python",
   "name": "python",
   "nbconvert_exporter": "python",
   "pygments_lexer": "ipython3",
   "version": "3.12.4"
  }
 },
 "nbformat": 4,
 "nbformat_minor": 2
}
